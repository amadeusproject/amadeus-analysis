{
 "cells": [
  {
   "cell_type": "markdown",
   "metadata": {},
   "source": [
    "O objetivo deste notebook é criar o dataset final para teste e treinamento da classificação entre sucesso ou insucesso do aluno (sucesso = passar por média, acima ou igual à 7,0).\n",
    "\n",
    "As features deste modelo são baseadas em notificações e a quantidade pendências apenas"
   ]
  },
  {
   "cell_type": "code",
   "execution_count": 1,
   "metadata": {},
   "outputs": [],
   "source": [
    "import pandas as pd\n",
    "from pandas.io.json import json_normalize\n",
    "%matplotlib inline\n",
    "from datetime import datetime, timedelta"
   ]
  },
  {
   "cell_type": "markdown",
   "metadata": {},
   "source": [
    "# Load de dados"
   ]
  },
  {
   "cell_type": "code",
   "execution_count": 2,
   "metadata": {},
   "outputs": [],
   "source": [
    "df = pd.read_json(\"../../../data/raw_data/base_22012019.json\")\n",
    "grades_df = pd.read_excel(\"../../../data/raw_data/nota_provas.xls\")"
   ]
  },
  {
   "cell_type": "code",
   "execution_count": 13,
   "metadata": {},
   "outputs": [],
   "source": [
    "date_v1 = datetime(day=10, year=2018, month=12)\n",
    "date_v2 = datetime(day=11, month=2, year=2019)\n",
    "date_v3 = datetime(day=18, month=3, year=2019)"
   ]
  },
  {
   "cell_type": "markdown",
   "metadata": {},
   "source": [
    "# Definição de datasets principais"
   ]
  },
  {
   "cell_type": "code",
   "execution_count": 3,
   "metadata": {},
   "outputs": [],
   "source": [
    "notifications_df = df[df[\"model\"] == \"notifications.notification\"]\n",
    "resources_df = df[df[\"model\"] == \"topics.resource\"]\n",
    "pendencies_df = df[df[\"model\"] == \"pendencies.pendencies\"]"
   ]
  },
  {
   "cell_type": "code",
   "execution_count": 4,
   "metadata": {},
   "outputs": [],
   "source": [
    "def extract_flatten_dataframe(df, column, meta_list):\n",
    "    df_fields = json_normalize(data=df[column], meta=meta_list)\n",
    "    df_fields.index = df.index\n",
    "    return df_fields.join(df, how=\"outer\")"
   ]
  },
  {
   "cell_type": "markdown",
   "metadata": {},
   "source": [
    "# Limpeza dos dados"
   ]
  },
  {
   "cell_type": "code",
   "execution_count": 5,
   "metadata": {},
   "outputs": [],
   "source": [
    "def clean_notifications_df(dirty_notifications_df):\n",
    "    notification_fields = json_normalize(data=dirty_notifications_df[\"fields\"], meta=[\"meta\", \"task\", \"user\", \"level\", \"viewed\", \"creation_date\"] )\n",
    "    notification_fields.index = dirty_notifications_df.index\n",
    "    notification_fields = notification_fields.astype({\"level\": pd.CategoricalDtype()})\n",
    "    notification_fields[\"creation_date\"] = pd.to_datetime(notification_fields[\"creation_date\"])\n",
    "    notification_df_flatted = notification_fields.join(dirty_notifications_df, how=\"outer\")\n",
    "    return notification_df_flatted"
   ]
  },
  {
   "cell_type": "code",
   "execution_count": 6,
   "metadata": {},
   "outputs": [],
   "source": [
    "def clean_resources_df(dirty_resources_df):\n",
    "    resource_meta_list = [\"_my_subclass\", \"visible\", \"students\", \"groups\", \"tags\", \"all_students\", \"order\", \"topic\", \n",
    "             \"show_window\", \"brief_description\", \"slug\", \"name\"]\n",
    "    resources_flatten_df = extract_flatten_dataframe(dirty_resources_df, \"fields\", resource_meta_list).drop(\"fields\", axis=1)\n",
    "    return resources_flatten_df"
   ]
  },
  {
   "cell_type": "code",
   "execution_count": 7,
   "metadata": {},
   "outputs": [],
   "source": [
    "def clean_pendencies_df(dirty_pendencies_df):\n",
    "    pendencies_meta_list = [\"action\", \"begin_date\", \"end_date\", \"limit_date\", \"resource\"]\n",
    "    flattned_dirty_pendencies_df = extract_flatten_dataframe(dirty_pendencies_df, \"fields\", pendencies_meta_list)\n",
    "    date_columns = [\"begin_date\", \"end_date\", \"limit_date\"]\n",
    "    for column in date_columns:\n",
    "        flattned_dirty_pendencies_df[column] = pd.to_datetime(flattned_dirty_pendencies_df[column])\n",
    "        flattned_dirty_pendencies_df[column] = flattned_dirty_pendencies_df[column].apply(lambda timestamp: timestamp.replace(tzinfo=None))\n",
    "    flattned_dirty_pendencies_df[\"action\"] = flattned_dirty_pendencies_df[\"action\"].astype(\"category\")\n",
    "    return flattned_dirty_pendencies_df"
   ]
  },
  {
   "cell_type": "code",
   "execution_count": 9,
   "metadata": {},
   "outputs": [],
   "source": [
    "cleaned_notification_df = clean_notifications_df(notifications_df)\n",
    "cleaned_pendencies_df = clean_pendencies_df(pendencies_df)\n",
    "cleaned_resources_df = clean_resources_df(resources_df)"
   ]
  },
  {
   "cell_type": "markdown",
   "metadata": {},
   "source": [
    "# Junções para os datasets"
   ]
  },
  {
   "cell_type": "code",
   "execution_count": 18,
   "metadata": {},
   "outputs": [],
   "source": [
    "notifications_with_user_grades_df = pd.merge(cleaned_notification_df, grades_df, left_on=[\"user\"], right_on=[\"id_estudante\"])\n",
    "pendencies_with_resources = pd.merge(cleaned_pendencies_df, cleaned_resources_df, left_on=[\"resource\"], right_on=[\"pk\"])\n",
    "notications_with_resources_pendencies = pd.merge(notifications_with_user_grades_df, pendencies_with_resources, left_on=[\"task\"], right_on=[\"pk_x\"])\n",
    "v1_notifications = notications_with_resources_pendencies[notications_with_resources_pendencies[\"end_date\"] <= date_v1]\\\n",
    ".drop(columns=[\"v2\"])\n",
    "v1_notifications.index = v1_notifications[\"creation_date\"]"
   ]
  },
  {
   "cell_type": "code",
   "execution_count": 26,
   "metadata": {},
   "outputs": [],
   "source": [
    "train_columns = [\"user\", \"v1\", \"creation_date\", \"viewed\"]\n",
    "train_dataset = v1_notifications[train_columns]"
   ]
  },
  {
   "cell_type": "markdown",
   "metadata": {},
   "source": [
    "# Adicionar Features no dataset"
   ]
  },
  {
   "cell_type": "code",
   "execution_count": 34,
   "metadata": {},
   "outputs": [],
   "source": [
    "def set_weeks_apart(df, date, date_column, week_diff_column):\n",
    "    \"\"\"\n",
    "        Create a new column week_diff_column that contains the amount of weeks between the dates on the date_column\n",
    "        of a given df to a related date\n",
    "    \"\"\"\n",
    "    return df[date_column].apply(lambda dt: (date - dt).days//7)\n",
    "\n",
    "def create_user_notification_count_features(dirty_v1_notifications_df, v1_date):\n",
    "    v1_notifications_viewed_date = v1_notifications.groupby([\"user\", pd.Grouper(freq=\"W\")])\\\n",
    "    .agg({\"viewed\": [\"mean\", \"sum\"]}).reset_index()\n",
    "    viewed_df = v1_notifications_viewed_date[[\"user\", \"creation_date\"]]\n",
    "    viewed_df[\"mean\"] = v1_notifications_viewed_date[\"viewed\"][\"mean\"]\n",
    "    viewed_df[\"count\"] = v1_notifications_viewed_date[\"viewed\"][\"sum\"]\n",
    "    viewed_df[\"amount_of_weeks_prior_v1\"] = set_weeks_apart(viewed_df, v1_date, \"creation_date\", \"test\")\n",
    "    viewed_df = viewed_df.rename(columns={\"count\": \"notifications_viewed\", \"mean\": \"average_amount_viewed\"})\n",
    "    return viewed_df"
   ]
  },
  {
   "cell_type": "code",
   "execution_count": 32,
   "metadata": {},
   "outputs": [
    {
     "name": "stderr",
     "output_type": "stream",
     "text": [
      "/home/bormann/anaconda3/envs/amadeus-analysis/lib/python3.7/site-packages/ipykernel_launcher.py:12: SettingWithCopyWarning: \n",
      "A value is trying to be set on a copy of a slice from a DataFrame.\n",
      "Try using .loc[row_indexer,col_indexer] = value instead\n",
      "\n",
      "See the caveats in the documentation: http://pandas.pydata.org/pandas-docs/stable/indexing.html#indexing-view-versus-copy\n",
      "  if sys.path[0] == '':\n"
     ]
    }
   ],
   "source": [
    "temp_features_df = create_user_notification_count_features(train_dataset, date_v1)"
   ]
  },
  {
   "cell_type": "code",
   "execution_count": 33,
   "metadata": {},
   "outputs": [
    {
     "data": {
      "text/html": [
       "<div>\n",
       "<style scoped>\n",
       "    .dataframe tbody tr th:only-of-type {\n",
       "        vertical-align: middle;\n",
       "    }\n",
       "\n",
       "    .dataframe tbody tr th {\n",
       "        vertical-align: top;\n",
       "    }\n",
       "\n",
       "    .dataframe thead tr th {\n",
       "        text-align: left;\n",
       "    }\n",
       "</style>\n",
       "<table border=\"1\" class=\"dataframe\">\n",
       "  <thead>\n",
       "    <tr>\n",
       "      <th></th>\n",
       "      <th>user</th>\n",
       "      <th>creation_date</th>\n",
       "      <th>average_amount_viewed</th>\n",
       "      <th>notifications_viewed</th>\n",
       "      <th>week_count_v1</th>\n",
       "    </tr>\n",
       "    <tr>\n",
       "      <th></th>\n",
       "      <th></th>\n",
       "      <th></th>\n",
       "      <th></th>\n",
       "      <th></th>\n",
       "      <th></th>\n",
       "    </tr>\n",
       "  </thead>\n",
       "  <tbody>\n",
       "    <tr>\n",
       "      <th>0</th>\n",
       "      <td>11</td>\n",
       "      <td>2018-11-11</td>\n",
       "      <td>0.000000</td>\n",
       "      <td>0.0</td>\n",
       "      <td>-5</td>\n",
       "    </tr>\n",
       "    <tr>\n",
       "      <th>1</th>\n",
       "      <td>11</td>\n",
       "      <td>2018-11-18</td>\n",
       "      <td>0.000000</td>\n",
       "      <td>0.0</td>\n",
       "      <td>-4</td>\n",
       "    </tr>\n",
       "    <tr>\n",
       "      <th>2</th>\n",
       "      <td>11</td>\n",
       "      <td>2018-11-25</td>\n",
       "      <td>0.147541</td>\n",
       "      <td>9.0</td>\n",
       "      <td>-3</td>\n",
       "    </tr>\n",
       "    <tr>\n",
       "      <th>3</th>\n",
       "      <td>11</td>\n",
       "      <td>2018-12-02</td>\n",
       "      <td>0.000000</td>\n",
       "      <td>0.0</td>\n",
       "      <td>-2</td>\n",
       "    </tr>\n",
       "    <tr>\n",
       "      <th>4</th>\n",
       "      <td>11</td>\n",
       "      <td>2018-12-09</td>\n",
       "      <td>0.157895</td>\n",
       "      <td>9.0</td>\n",
       "      <td>-1</td>\n",
       "    </tr>\n",
       "    <tr>\n",
       "      <th>5</th>\n",
       "      <td>11</td>\n",
       "      <td>2018-12-16</td>\n",
       "      <td>0.000000</td>\n",
       "      <td>0.0</td>\n",
       "      <td>0</td>\n",
       "    </tr>\n",
       "    <tr>\n",
       "      <th>6</th>\n",
       "      <td>11</td>\n",
       "      <td>2018-12-23</td>\n",
       "      <td>0.000000</td>\n",
       "      <td>0.0</td>\n",
       "      <td>1</td>\n",
       "    </tr>\n",
       "    <tr>\n",
       "      <th>7</th>\n",
       "      <td>11</td>\n",
       "      <td>2019-01-06</td>\n",
       "      <td>0.000000</td>\n",
       "      <td>0.0</td>\n",
       "      <td>3</td>\n",
       "    </tr>\n",
       "    <tr>\n",
       "      <th>8</th>\n",
       "      <td>11</td>\n",
       "      <td>2019-01-13</td>\n",
       "      <td>0.000000</td>\n",
       "      <td>0.0</td>\n",
       "      <td>4</td>\n",
       "    </tr>\n",
       "    <tr>\n",
       "      <th>9</th>\n",
       "      <td>11</td>\n",
       "      <td>2019-01-20</td>\n",
       "      <td>0.000000</td>\n",
       "      <td>0.0</td>\n",
       "      <td>5</td>\n",
       "    </tr>\n",
       "  </tbody>\n",
       "</table>\n",
       "</div>"
      ],
      "text/plain": [
       "  user creation_date average_amount_viewed notifications_viewed week_count_v1\n",
       "                                                                             \n",
       "0   11    2018-11-11              0.000000                  0.0            -5\n",
       "1   11    2018-11-18              0.000000                  0.0            -4\n",
       "2   11    2018-11-25              0.147541                  9.0            -3\n",
       "3   11    2018-12-02              0.000000                  0.0            -2\n",
       "4   11    2018-12-09              0.157895                  9.0            -1\n",
       "5   11    2018-12-16              0.000000                  0.0             0\n",
       "6   11    2018-12-23              0.000000                  0.0             1\n",
       "7   11    2019-01-06              0.000000                  0.0             3\n",
       "8   11    2019-01-13              0.000000                  0.0             4\n",
       "9   11    2019-01-20              0.000000                  0.0             5"
      ]
     },
     "execution_count": 33,
     "metadata": {},
     "output_type": "execute_result"
    }
   ],
   "source": [
    "temp_features_df.head(10)"
   ]
  },
  {
   "cell_type": "code",
   "execution_count": null,
   "metadata": {},
   "outputs": [],
   "source": []
  }
 ],
 "metadata": {
  "kernelspec": {
   "display_name": "Python 3",
   "language": "python",
   "name": "python3"
  },
  "language_info": {
   "codemirror_mode": {
    "name": "ipython",
    "version": 3
   },
   "file_extension": ".py",
   "mimetype": "text/x-python",
   "name": "python",
   "nbconvert_exporter": "python",
   "pygments_lexer": "ipython3",
   "version": "3.7.1"
  }
 },
 "nbformat": 4,
 "nbformat_minor": 2
}
