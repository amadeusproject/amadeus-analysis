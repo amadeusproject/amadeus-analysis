{
 "cells": [
  {
   "cell_type": "code",
   "execution_count": 4,
   "metadata": {},
   "outputs": [],
   "source": [
    "import pandas as pd\n",
    "import sklearn"
   ]
  },
  {
   "cell_type": "code",
   "execution_count": 5,
   "metadata": {},
   "outputs": [],
   "source": [
    "training_dataset = pd.read_csv(\"../features/data/train_dataset.csv\")"
   ]
  },
  {
   "cell_type": "code",
   "execution_count": 6,
   "metadata": {},
   "outputs": [
    {
     "data": {
      "text/plain": [
       "(78, 11)"
      ]
     },
     "execution_count": 6,
     "metadata": {},
     "output_type": "execute_result"
    }
   ],
   "source": [
    "training_dataset.shape"
   ]
  },
  {
   "cell_type": "code",
   "execution_count": 4,
   "metadata": {
    "scrolled": true
   },
   "outputs": [
    {
     "data": {
      "text/html": [
       "<div>\n",
       "<style scoped>\n",
       "    .dataframe tbody tr th:only-of-type {\n",
       "        vertical-align: middle;\n",
       "    }\n",
       "\n",
       "    .dataframe tbody tr th {\n",
       "        vertical-align: top;\n",
       "    }\n",
       "\n",
       "    .dataframe thead th {\n",
       "        text-align: right;\n",
       "    }\n",
       "</style>\n",
       "<table border=\"1\" class=\"dataframe\">\n",
       "  <thead>\n",
       "    <tr style=\"text-align: right;\">\n",
       "      <th></th>\n",
       "      <th>Unnamed: 0</th>\n",
       "      <th>user</th>\n",
       "      <th>notifications_viewed_three_weeks_ago</th>\n",
       "      <th>notifications_viewed_four_weeks_ago</th>\n",
       "      <th>notifications_viewed_two_weeks_ago</th>\n",
       "      <th>notifications_viewed_one_week_ago</th>\n",
       "      <th>notifications_viewed_zero_weeks_ago</th>\n",
       "      <th>v1</th>\n",
       "      <th>simulado_delayed_amount</th>\n",
       "      <th>simulado_incompleted_amount</th>\n",
       "      <th>notes_delayed_amount</th>\n",
       "    </tr>\n",
       "  </thead>\n",
       "  <tbody>\n",
       "    <tr>\n",
       "      <th>0</th>\n",
       "      <td>0</td>\n",
       "      <td>11</td>\n",
       "      <td>0</td>\n",
       "      <td>0</td>\n",
       "      <td>9</td>\n",
       "      <td>0</td>\n",
       "      <td>9</td>\n",
       "      <td>0.0</td>\n",
       "      <td>4.0</td>\n",
       "      <td>52.0</td>\n",
       "      <td>152.0</td>\n",
       "    </tr>\n",
       "    <tr>\n",
       "      <th>1</th>\n",
       "      <td>1</td>\n",
       "      <td>12</td>\n",
       "      <td>5</td>\n",
       "      <td>5</td>\n",
       "      <td>1</td>\n",
       "      <td>1</td>\n",
       "      <td>0</td>\n",
       "      <td>4.0</td>\n",
       "      <td>0.0</td>\n",
       "      <td>0.0</td>\n",
       "      <td>1.0</td>\n",
       "    </tr>\n",
       "    <tr>\n",
       "      <th>2</th>\n",
       "      <td>2</td>\n",
       "      <td>13</td>\n",
       "      <td>9</td>\n",
       "      <td>4</td>\n",
       "      <td>2</td>\n",
       "      <td>6</td>\n",
       "      <td>1</td>\n",
       "      <td>6.5</td>\n",
       "      <td>0.0</td>\n",
       "      <td>0.0</td>\n",
       "      <td>10.0</td>\n",
       "    </tr>\n",
       "    <tr>\n",
       "      <th>3</th>\n",
       "      <td>3</td>\n",
       "      <td>14</td>\n",
       "      <td>6</td>\n",
       "      <td>3</td>\n",
       "      <td>6</td>\n",
       "      <td>1</td>\n",
       "      <td>3</td>\n",
       "      <td>6.5</td>\n",
       "      <td>0.0</td>\n",
       "      <td>0.0</td>\n",
       "      <td>0.0</td>\n",
       "    </tr>\n",
       "    <tr>\n",
       "      <th>4</th>\n",
       "      <td>4</td>\n",
       "      <td>15</td>\n",
       "      <td>7</td>\n",
       "      <td>0</td>\n",
       "      <td>12</td>\n",
       "      <td>3</td>\n",
       "      <td>1</td>\n",
       "      <td>6.0</td>\n",
       "      <td>0.0</td>\n",
       "      <td>0.0</td>\n",
       "      <td>38.0</td>\n",
       "    </tr>\n",
       "  </tbody>\n",
       "</table>\n",
       "</div>"
      ],
      "text/plain": [
       "   Unnamed: 0  user  notifications_viewed_three_weeks_ago  \\\n",
       "0           0    11                                     0   \n",
       "1           1    12                                     5   \n",
       "2           2    13                                     9   \n",
       "3           3    14                                     6   \n",
       "4           4    15                                     7   \n",
       "\n",
       "   notifications_viewed_four_weeks_ago  notifications_viewed_two_weeks_ago  \\\n",
       "0                                    0                                   9   \n",
       "1                                    5                                   1   \n",
       "2                                    4                                   2   \n",
       "3                                    3                                   6   \n",
       "4                                    0                                  12   \n",
       "\n",
       "   notifications_viewed_one_week_ago  notifications_viewed_zero_weeks_ago  \\\n",
       "0                                  0                                    9   \n",
       "1                                  1                                    0   \n",
       "2                                  6                                    1   \n",
       "3                                  1                                    3   \n",
       "4                                  3                                    1   \n",
       "\n",
       "    v1  simulado_delayed_amount  simulado_incompleted_amount  \\\n",
       "0  0.0                      4.0                         52.0   \n",
       "1  4.0                      0.0                          0.0   \n",
       "2  6.5                      0.0                          0.0   \n",
       "3  6.5                      0.0                          0.0   \n",
       "4  6.0                      0.0                          0.0   \n",
       "\n",
       "   notes_delayed_amount  \n",
       "0                 152.0  \n",
       "1                   1.0  \n",
       "2                  10.0  \n",
       "3                   0.0  \n",
       "4                  38.0  "
      ]
     },
     "execution_count": 4,
     "metadata": {},
     "output_type": "execute_result"
    }
   ],
   "source": [
    "training_dataset.head(5)"
   ]
  },
  {
   "cell_type": "markdown",
   "metadata": {},
   "source": [
    "# Cleaning data for classification"
   ]
  },
  {
   "cell_type": "code",
   "execution_count": 7,
   "metadata": {},
   "outputs": [],
   "source": [
    "training_dataset[\"passed\"] = (training_dataset[\"v1\"] >= 7.0) * 1"
   ]
  },
  {
   "cell_type": "markdown",
   "metadata": {},
   "source": [
    "# Analysis by label"
   ]
  },
  {
   "cell_type": "code",
   "execution_count": 22,
   "metadata": {
    "scrolled": false
   },
   "outputs": [
    {
     "data": {
      "text/plain": [
       "0    49\n",
       "1    29\n",
       "Name: passed, dtype: int64"
      ]
     },
     "execution_count": 22,
     "metadata": {},
     "output_type": "execute_result"
    }
   ],
   "source": [
    "training_dataset.passed.value_counts()"
   ]
  },
  {
   "cell_type": "markdown",
   "metadata": {},
   "source": [
    "# First model - Logistic regression\n",
    "It is the simplest of the models we might use and can provide great performance given the nature of numerical variables\n",
    "available. "
   ]
  },
  {
   "cell_type": "code",
   "execution_count": 51,
   "metadata": {},
   "outputs": [],
   "source": [
    "from sklearn.model_selection import KFold\n",
    "from sklearn.linear_model import LogisticRegression\n",
    "from sklearn.tree import DecisionTreeClassifier\n",
    "from sklearn.metrics import confusion_matrix"
   ]
  },
  {
   "cell_type": "code",
   "execution_count": 9,
   "metadata": {},
   "outputs": [],
   "source": [
    "feature_columns = [\"simulado_delayed_amount\", \"simulado_incompleted_amount\", \"notes_delayed_amount\",\\\n",
    "                   \"notifications_viewed_one_week_ago\", \"notifications_viewed_zero_weeks_ago\",\\\n",
    "                  \"notifications_viewed_two_weeks_ago\", \"notifications_viewed_three_weeks_ago\", \"notifications_viewed_four_weeks_ago\"]\n",
    "label_column = [\"passed\"]\n"
   ]
  },
  {
   "cell_type": "code",
   "execution_count": 10,
   "metadata": {},
   "outputs": [],
   "source": [
    "kf = KFold(n_splits=5)"
   ]
  },
  {
   "cell_type": "code",
   "execution_count": 19,
   "metadata": {},
   "outputs": [],
   "source": [
    "lr = LogisticRegression(solver = 'lbfgs')\n",
    "dt = DecisionTreeClassifier()"
   ]
  },
  {
   "cell_type": "code",
   "execution_count": 28,
   "metadata": {},
   "outputs": [],
   "source": [
    "def apply_k_fold_and_return_classification_results(model, training_dataset, feature_columns, label_column):\n",
    "    classification_results = []\n",
    "    X = training_dataset[feature_columns].values\n",
    "    Y = training_dataset[label_column].values\n",
    "    for train_index, test_index in kf.split(training_dataset):\n",
    "        #print(\"TRAIN:\", train_index, \"TEST:\", test_index)\n",
    "        X_train, X_test = X[train_index], X[test_index]\n",
    "        y_train, y_test = Y[train_index], Y[test_index]\n",
    "        clf = model.fit(X_train, y_train.ravel())\n",
    "        classification_results.append(clf.score(X_test, y_test.ravel()))\n",
    "    return classification_results"
   ]
  },
  {
   "cell_type": "code",
   "execution_count": 32,
   "metadata": {
    "scrolled": true
   },
   "outputs": [
    {
     "name": "stdout",
     "output_type": "stream",
     "text": [
      "logistic regression: \n",
      "[0.5, 0.5625, 0.5, 0.6, 0.4]\n",
      "decision tree:\n",
      "[0.5625, 0.75, 0.625, 0.4666666666666667, 0.2]\n"
     ]
    }
   ],
   "source": [
    "feature_columns = [\"simulado_delayed_amount\", \"simulado_incompleted_amount\", \"notes_delayed_amount\",]\n",
    "print(\"logistic regression: \")\n",
    "print(apply_k_fold_and_return_classification_results(lr, training_dataset, feature_columns, label_column))\n",
    "print(\"decision tree:\")\n",
    "print(apply_k_fold_and_return_classification_results(dt, training_dataset, feature_columns, label_column))"
   ]
  },
  {
   "cell_type": "code",
   "execution_count": 33,
   "metadata": {
    "scrolled": true
   },
   "outputs": [
    {
     "name": "stdout",
     "output_type": "stream",
     "text": [
      "logistic regression: \n",
      "[0.5625, 0.6875, 0.6875, 0.8666666666666667, 0.3333333333333333]\n",
      "decision tree:\n",
      "[0.4375, 0.375, 0.6875, 0.4, 0.5333333333333333]\n"
     ]
    }
   ],
   "source": [
    "feature_columns = [\"simulado_delayed_amount\", \"simulado_incompleted_amount\", \"notes_delayed_amount\",\\\n",
    "                  \"notifications_viewed_one_week_ago\", \"notifications_viewed_zero_weeks_ago\",]\n",
    "print(\"logistic regression: \")\n",
    "print(apply_k_fold_and_return_classification_results(lr, training_dataset, feature_columns, label_column))\n",
    "print(\"decision tree:\")\n",
    "print(apply_k_fold_and_return_classification_results(dt, training_dataset, feature_columns, label_column))"
   ]
  },
  {
   "cell_type": "code",
   "execution_count": 36,
   "metadata": {
    "scrolled": true
   },
   "outputs": [
    {
     "name": "stdout",
     "output_type": "stream",
     "text": [
      "logistic regression: \n",
      "[0.5625, 0.625, 0.6875, 0.8, 0.6]\n",
      "decision tree:\n",
      "[0.4375, 0.625, 0.625, 0.4, 0.6]\n"
     ]
    }
   ],
   "source": [
    "feature_columns = [\"simulado_delayed_amount\", \"simulado_incompleted_amount\", \"notes_delayed_amount\",\\\n",
    "                  \"notifications_viewed_one_week_ago\"]\n",
    "print(\"logistic regression: \")\n",
    "print(apply_k_fold_and_return_classification_results(lr, training_dataset, feature_columns, label_column))\n",
    "print(\"decision tree:\")\n",
    "print(apply_k_fold_and_return_classification_results(dt, training_dataset, feature_columns, label_column))"
   ]
  },
  {
   "cell_type": "code",
   "execution_count": 39,
   "metadata": {
    "scrolled": false
   },
   "outputs": [
    {
     "name": "stdout",
     "output_type": "stream",
     "text": [
      "logistic regression: \n",
      "[0.5, 0.5625, 0.5, 0.5333333333333333, 0.26666666666666666]\n",
      "decision tree:\n",
      "[0.5, 0.5, 0.625, 0.26666666666666666, 0.4666666666666667]\n"
     ]
    }
   ],
   "source": [
    "feature_columns = [\"simulado_delayed_amount\", \"simulado_incompleted_amount\", \"notes_delayed_amount\",\\\n",
    "                  \"notifications_viewed_zero_weeks_ago\"]\n",
    "print(\"logistic regression: \")\n",
    "print(apply_k_fold_and_return_classification_results(lr, training_dataset, feature_columns, label_column))\n",
    "print(\"decision tree:\")\n",
    "print(apply_k_fold_and_return_classification_results(dt, training_dataset, feature_columns, label_column))"
   ]
  },
  {
   "cell_type": "code",
   "execution_count": 40,
   "metadata": {
    "scrolled": false
   },
   "outputs": [
    {
     "name": "stdout",
     "output_type": "stream",
     "text": [
      "logistic regression: \n",
      "[0.5625, 0.625, 0.6875, 0.8, 0.6]\n",
      "decision tree:\n",
      "[0.4375, 0.625, 0.625, 0.4666666666666667, 0.6]\n"
     ]
    }
   ],
   "source": [
    "feature_columns = [\"simulado_delayed_amount\", \"simulado_incompleted_amount\", \"notes_delayed_amount\",\\\n",
    "                  \"notifications_viewed_one_week_ago\"]\n",
    "print(\"logistic regression: \")\n",
    "print(apply_k_fold_and_return_classification_results(lr, training_dataset, feature_columns, label_column))\n",
    "print(\"decision tree:\")\n",
    "print(apply_k_fold_and_return_classification_results(dt, training_dataset, feature_columns, label_column))"
   ]
  },
  {
   "cell_type": "code",
   "execution_count": 50,
   "metadata": {
    "scrolled": true
   },
   "outputs": [
    {
     "name": "stdout",
     "output_type": "stream",
     "text": [
      "logistic regression: \n",
      "[0.5625, 0.6875, 0.6875, 0.8666666666666667, 0.3333333333333333]\n",
      "decision tree:\n",
      "[0.4375, 0.375, 0.6875, 0.4, 0.5333333333333333]\n"
     ]
    }
   ],
   "source": [
    "feature_columns = [\"simulado_delayed_amount\", \"simulado_incompleted_amount\", \"notes_delayed_amount\",\\\n",
    "                  \"notifications_viewed_zero_weeks_ago\", \"notifications_viewed_one_week_ago\"]\n",
    "print(\"logistic regression: \")\n",
    "print(apply_k_fold_and_return_classification_results(lr, training_dataset, feature_columns, label_column))\n",
    "print(\"decision tree:\")\n",
    "print(apply_k_fold_and_return_classification_results(dt, training_dataset, feature_columns, label_column))"
   ]
  },
  {
   "cell_type": "code",
   "execution_count": null,
   "metadata": {},
   "outputs": [],
   "source": []
  }
 ],
 "metadata": {
  "kernelspec": {
   "display_name": "Python 3",
   "language": "python",
   "name": "python3"
  },
  "language_info": {
   "codemirror_mode": {
    "name": "ipython",
    "version": 3
   },
   "file_extension": ".py",
   "mimetype": "text/x-python",
   "name": "python",
   "nbconvert_exporter": "python",
   "pygments_lexer": "ipython3",
   "version": "3.7.1"
  }
 },
 "nbformat": 4,
 "nbformat_minor": 2
}
