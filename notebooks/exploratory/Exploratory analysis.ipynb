{
 "cells": [
  {
   "cell_type": "code",
   "execution_count": 1,
   "metadata": {},
   "outputs": [],
   "source": [
    "import pandas as pd\n",
    "from pandas.io.json import json_normalize\n"
   ]
  },
  {
   "cell_type": "markdown",
   "metadata": {},
   "source": [
    "# Descrição do Dataset\n",
    "Este dataset foi extraído de uma instância do amadeus LMS (https://github.com/amadeusproject/amadeuslms) que está rodando na Univasf, ele foi extraí no dia 22/01 de 2019."
   ]
  },
  {
   "cell_type": "code",
   "execution_count": 2,
   "metadata": {},
   "outputs": [],
   "source": [
    "df = pd.read_json(\"../data/base_22012019.json\")"
   ]
  },
  {
   "cell_type": "code",
   "execution_count": 3,
   "metadata": {
    "scrolled": false
   },
   "outputs": [
    {
     "data": {
      "text/html": [
       "<div>\n",
       "<style scoped>\n",
       "    .dataframe tbody tr th:only-of-type {\n",
       "        vertical-align: middle;\n",
       "    }\n",
       "\n",
       "    .dataframe tbody tr th {\n",
       "        vertical-align: top;\n",
       "    }\n",
       "\n",
       "    .dataframe thead th {\n",
       "        text-align: right;\n",
       "    }\n",
       "</style>\n",
       "<table border=\"1\" class=\"dataframe\">\n",
       "  <thead>\n",
       "    <tr style=\"text-align: right;\">\n",
       "      <th></th>\n",
       "      <th>fields</th>\n",
       "      <th>model</th>\n",
       "      <th>pk</th>\n",
       "    </tr>\n",
       "  </thead>\n",
       "  <tbody>\n",
       "    <tr>\n",
       "      <th>0</th>\n",
       "      <td>{'session_data': 'NDUwZDY5ZDY2MTI2ZDljNmQzZTEz...</td>\n",
       "      <td>sessions.session</td>\n",
       "      <td>01acefqzuoih0ffwjnlkdprxwmszpwya</td>\n",
       "    </tr>\n",
       "    <tr>\n",
       "      <th>1</th>\n",
       "      <td>{'session_data': 'MmZhMThjNDlkOGE5NTliMTZmODVj...</td>\n",
       "      <td>sessions.session</td>\n",
       "      <td>01aqu1ff7fqw3sly9gef5pg567du1jnk</td>\n",
       "    </tr>\n",
       "    <tr>\n",
       "      <th>2</th>\n",
       "      <td>{'session_data': 'MWRjMTliNjEzNTk1ZjQxNjgyYTY3...</td>\n",
       "      <td>sessions.session</td>\n",
       "      <td>01ghekd3woy1zukqyno4qma74jhxfz7s</td>\n",
       "    </tr>\n",
       "    <tr>\n",
       "      <th>3</th>\n",
       "      <td>{'session_data': 'ZGJkOGIyZWFiODdmMDAwYzFlZjIy...</td>\n",
       "      <td>sessions.session</td>\n",
       "      <td>01v96c7hjhg95x9w6unytuur1ednz7zx</td>\n",
       "    </tr>\n",
       "    <tr>\n",
       "      <th>4</th>\n",
       "      <td>{'session_data': 'MWNhMGU2YmUxMzZmYzJkNjlkMTUw...</td>\n",
       "      <td>sessions.session</td>\n",
       "      <td>01w0z6e7qh6ib3xqi1jct0swyj32xrlp</td>\n",
       "    </tr>\n",
       "    <tr>\n",
       "      <th>5</th>\n",
       "      <td>{'session_data': 'YjIyYTQwYTM0MDBjYWRiYTRlNTlk...</td>\n",
       "      <td>sessions.session</td>\n",
       "      <td>022n7ovcuudvnjct7q7fxi86sl12v9bk</td>\n",
       "    </tr>\n",
       "    <tr>\n",
       "      <th>6</th>\n",
       "      <td>{'session_data': 'MDYyNTA0YjAzMmEzY2I1YTY0YTg2...</td>\n",
       "      <td>sessions.session</td>\n",
       "      <td>02rlpd38zoa7k1ugdcefxlq6yb5ebwtu</td>\n",
       "    </tr>\n",
       "    <tr>\n",
       "      <th>7</th>\n",
       "      <td>{'session_data': 'N2ZkOGU1YTZmZjM5ZmEwMzUwOTZl...</td>\n",
       "      <td>sessions.session</td>\n",
       "      <td>0493kyqcb4c0k7lussqs9y7ekgh9ai3q</td>\n",
       "    </tr>\n",
       "    <tr>\n",
       "      <th>8</th>\n",
       "      <td>{'session_data': 'YTM4MDUxMDExMWJhNDYyODVlMGE0...</td>\n",
       "      <td>sessions.session</td>\n",
       "      <td>05u6wc0krvuem6v3zu6210byfq7m8leo</td>\n",
       "    </tr>\n",
       "    <tr>\n",
       "      <th>9</th>\n",
       "      <td>{'session_data': 'MWFmNzIyNWQ5YjcxOTEyNzM1Zjg3...</td>\n",
       "      <td>sessions.session</td>\n",
       "      <td>06t778xyukgq6nvobtxyrzluh3obviz2</td>\n",
       "    </tr>\n",
       "  </tbody>\n",
       "</table>\n",
       "</div>"
      ],
      "text/plain": [
       "                                              fields             model  \\\n",
       "0  {'session_data': 'NDUwZDY5ZDY2MTI2ZDljNmQzZTEz...  sessions.session   \n",
       "1  {'session_data': 'MmZhMThjNDlkOGE5NTliMTZmODVj...  sessions.session   \n",
       "2  {'session_data': 'MWRjMTliNjEzNTk1ZjQxNjgyYTY3...  sessions.session   \n",
       "3  {'session_data': 'ZGJkOGIyZWFiODdmMDAwYzFlZjIy...  sessions.session   \n",
       "4  {'session_data': 'MWNhMGU2YmUxMzZmYzJkNjlkMTUw...  sessions.session   \n",
       "5  {'session_data': 'YjIyYTQwYTM0MDBjYWRiYTRlNTlk...  sessions.session   \n",
       "6  {'session_data': 'MDYyNTA0YjAzMmEzY2I1YTY0YTg2...  sessions.session   \n",
       "7  {'session_data': 'N2ZkOGU1YTZmZjM5ZmEwMzUwOTZl...  sessions.session   \n",
       "8  {'session_data': 'YTM4MDUxMDExMWJhNDYyODVlMGE0...  sessions.session   \n",
       "9  {'session_data': 'MWFmNzIyNWQ5YjcxOTEyNzM1Zjg3...  sessions.session   \n",
       "\n",
       "                                 pk  \n",
       "0  01acefqzuoih0ffwjnlkdprxwmszpwya  \n",
       "1  01aqu1ff7fqw3sly9gef5pg567du1jnk  \n",
       "2  01ghekd3woy1zukqyno4qma74jhxfz7s  \n",
       "3  01v96c7hjhg95x9w6unytuur1ednz7zx  \n",
       "4  01w0z6e7qh6ib3xqi1jct0swyj32xrlp  \n",
       "5  022n7ovcuudvnjct7q7fxi86sl12v9bk  \n",
       "6  02rlpd38zoa7k1ugdcefxlq6yb5ebwtu  \n",
       "7  0493kyqcb4c0k7lussqs9y7ekgh9ai3q  \n",
       "8  05u6wc0krvuem6v3zu6210byfq7m8leo  \n",
       "9  06t778xyukgq6nvobtxyrzluh3obviz2  "
      ]
     },
     "execution_count": 3,
     "metadata": {},
     "output_type": "execute_result"
    }
   ],
   "source": [
    "df.head(10)"
   ]
  },
  {
   "cell_type": "markdown",
   "metadata": {},
   "source": [
    "# Descrição - Campos"
   ]
  },
  {
   "cell_type": "markdown",
   "metadata": {},
   "source": [
    "## PK \n",
    "Este campo indica o usuário ou objeto que realizou/sofreu aquela ação. O que torna algumas análises um pouco mais complexas. "
   ]
  },
  {
   "cell_type": "code",
   "execution_count": 35,
   "metadata": {},
   "outputs": [
    {
     "data": {
      "text/plain": [
       "0    01acefqzuoih0ffwjnlkdprxwmszpwya\n",
       "1    01aqu1ff7fqw3sly9gef5pg567du1jnk\n",
       "2    01ghekd3woy1zukqyno4qma74jhxfz7s\n",
       "3    01v96c7hjhg95x9w6unytuur1ednz7zx\n",
       "4    01w0z6e7qh6ib3xqi1jct0swyj32xrlp\n",
       "Name: pk, dtype: object"
      ]
     },
     "execution_count": 35,
     "metadata": {},
     "output_type": "execute_result"
    }
   ],
   "source": [
    "df[\"pk\"].head(5)"
   ]
  },
  {
   "cell_type": "markdown",
   "metadata": {},
   "source": [
    "## Model\n",
    "Este campo é relacionado ao dataset do amadeus, ele é composto por valores organizados da seguinte maneira:\n",
    "    {nome_do_app_django.nome_do_model}, para quem não conhece o framework django, ele é dividido em *apps* e para cada tabela no banco, ele cria um *model*"
   ]
  },
  {
   "cell_type": "code",
   "execution_count": 38,
   "metadata": {},
   "outputs": [
    {
     "data": {
      "text/plain": [
       "log.log                       72464\n",
       "sessions.session              34450\n",
       "notifications.notification    13219\n",
       "mural.muralvisualizations      2464\n",
       "questionary.useranswer         2132\n",
       "Name: model, dtype: int64"
      ]
     },
     "execution_count": 38,
     "metadata": {},
     "output_type": "execute_result"
    }
   ],
   "source": [
    "df[\"model\"].value_counts()[:5]"
   ]
  },
  {
   "cell_type": "markdown",
   "metadata": {},
   "source": [
    "# Descrição do Dataset "
   ]
  },
  {
   "cell_type": "markdown",
   "metadata": {},
   "source": [
    "O dataset possui a quantidade  records abaixo:"
   ]
  },
  {
   "cell_type": "code",
   "execution_count": 39,
   "metadata": {},
   "outputs": [
    {
     "data": {
      "text/plain": [
       "131837"
      ]
     },
     "execution_count": 39,
     "metadata": {},
     "output_type": "execute_result"
    }
   ],
   "source": [
    "df.shape[0]"
   ]
  },
  {
   "cell_type": "code",
   "execution_count": null,
   "metadata": {},
   "outputs": [],
   "source": []
  }
 ],
 "metadata": {
  "kernelspec": {
   "display_name": "Python 3",
   "language": "python",
   "name": "python3"
  },
  "language_info": {
   "codemirror_mode": {
    "name": "ipython",
    "version": 3
   },
   "file_extension": ".py",
   "mimetype": "text/x-python",
   "name": "python",
   "nbconvert_exporter": "python",
   "pygments_lexer": "ipython3",
   "version": "3.7.1"
  }
 },
 "nbformat": 4,
 "nbformat_minor": 2
}
