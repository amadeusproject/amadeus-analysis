{
 "cells": [
  {
   "cell_type": "markdown",
   "metadata": {},
   "source": [
    "Here I'm going to explore the notification moduel and how they work. First, I need to understand their fields"
   ]
  },
  {
   "cell_type": "code",
   "execution_count": 1,
   "metadata": {},
   "outputs": [],
   "source": [
    "import pandas as pd\n",
    "from pandas.io.json import json_normalize\n",
    "%matplotlib inline\n",
    "from datetime import datetime, timedelta"
   ]
  },
  {
   "cell_type": "markdown",
   "metadata": {},
   "source": [
    "# LOAD DOS DADOS"
   ]
  },
  {
   "cell_type": "code",
   "execution_count": 2,
   "metadata": {},
   "outputs": [],
   "source": [
    "df = pd.read_json(\"../../data/raw_data/base_22012019.json\")"
   ]
  },
  {
   "cell_type": "code",
   "execution_count": 3,
   "metadata": {},
   "outputs": [],
   "source": [
    "grades_df = pd.read_excel(\"../../data/raw_data/nota_provas.xls\")"
   ]
  },
  {
   "cell_type": "markdown",
   "metadata": {},
   "source": [
    "Estas são as datas onde as avaliação dos alunos que compõe a base ocorreram."
   ]
  },
  {
   "cell_type": "code",
   "execution_count": 4,
   "metadata": {},
   "outputs": [],
   "source": [
    "date_v1 = datetime(day=10, year=2018, month=12)\n",
    "date_v2 = datetime(day=11, month=2, year=2019)\n",
    "date_v3 = datetime(day=18, month=3, year=2019)"
   ]
  },
  {
   "cell_type": "markdown",
   "metadata": {},
   "source": [
    "# EXPLORAÇÃO inicial"
   ]
  },
  {
   "cell_type": "code",
   "execution_count": 5,
   "metadata": {},
   "outputs": [],
   "source": [
    "notifications_df = df[df[\"model\"] == \"notifications.notification\"]"
   ]
  },
  {
   "cell_type": "code",
   "execution_count": 6,
   "metadata": {
    "scrolled": true
   },
   "outputs": [
    {
     "data": {
      "text/plain": [
       "(13219, 3)"
      ]
     },
     "execution_count": 6,
     "metadata": {},
     "output_type": "execute_result"
    }
   ],
   "source": [
    "notifications_df.shape"
   ]
  },
  {
   "cell_type": "code",
   "execution_count": 7,
   "metadata": {},
   "outputs": [
    {
     "data": {
      "text/plain": [
       "{'meta': None,\n",
       " 'task': 1,\n",
       " 'user': 8,\n",
       " 'level': 3,\n",
       " 'viewed': False,\n",
       " 'creation_date': '2018-10-28'}"
      ]
     },
     "execution_count": 7,
     "metadata": {},
     "output_type": "execute_result"
    }
   ],
   "source": [
    "notifications_df[\"fields\"].head(10)[34636]"
   ]
  },
  {
   "cell_type": "markdown",
   "metadata": {},
   "source": [
    "Uma notificação possui os seguintes campos no log:\n",
    "1. meta: \n",
    "2. user: que coleta o id do user para qual a notificação foi enviada\n",
    "3. Level: O nível da notificação está relacionado à tarefa que ela notifica sobre, este campo possui 4 valores mas somente 3 significados\n",
    "    \n",
    "    3.1 1,2: Significam que a tarefa está em dia \n",
    "    \n",
    "    3.2 3: Significa que a tarefa está atrasada\n",
    "    \n",
    "    3.3 4: Significa que o prazo para realizar a tarefa já acabou\n",
    "4. viewed: que possui valor de verdadeiro ou falso indicando se a notifcação foi vista ou não pelo usuário\n",
    "5. creation_date: A data de criação daquela notificação\n",
    "6. task: id da task que aquela notificação está associada"
   ]
  },
  {
   "cell_type": "markdown",
   "metadata": {},
   "source": [
    "# Limpeza dos dados"
   ]
  },
  {
   "cell_type": "markdown",
   "metadata": {},
   "source": [
    "é preciso extrair as colunas existentes dentro da coluna \"fields\", para isso, eu vou utilizar a função json_normalize, nativa do pandas."
   ]
  },
  {
   "cell_type": "code",
   "execution_count": 8,
   "metadata": {},
   "outputs": [],
   "source": [
    "def extract_flatten_dataframe(df, column, meta_list):\n",
    "    df_fields = json_normalize(data=df[column], meta=meta_list)\n",
    "    df_fields.index = df.index\n",
    "    return df_fields.join(df, how=\"outer\")"
   ]
  },
  {
   "cell_type": "code",
   "execution_count": 9,
   "metadata": {},
   "outputs": [],
   "source": [
    "notification_fields = json_normalize(data=notifications_df[\"fields\"], meta=[\"meta\", \"task\", \"user\", \"level\", \"viewed\", \"creation_date\"] )\n",
    "notification_fields.index = notifications_df.index\n",
    "notification_fields = notification_fields.astype({\"level\": pd.CategoricalDtype()})\n",
    "notification_fields[\"creation_date\"] = pd.to_datetime(notification_fields[\"creation_date\"])\n",
    "notification_df_flatted = notification_fields.join(notifications_df, how=\"outer\")"
   ]
  },
  {
   "cell_type": "code",
   "execution_count": 10,
   "metadata": {},
   "outputs": [
    {
     "data": {
      "text/plain": [
       "creation_date    datetime64[ns]\n",
       "level                  category\n",
       "meta                     object\n",
       "task                      int64\n",
       "user                      int64\n",
       "viewed                     bool\n",
       "fields                   object\n",
       "model                    object\n",
       "pk                       object\n",
       "dtype: object"
      ]
     },
     "execution_count": 10,
     "metadata": {},
     "output_type": "execute_result"
    }
   ],
   "source": [
    "notification_df_flatted.dtypes"
   ]
  },
  {
   "cell_type": "code",
   "execution_count": 11,
   "metadata": {},
   "outputs": [
    {
     "data": {
      "text/html": [
       "<div>\n",
       "<style scoped>\n",
       "    .dataframe tbody tr th:only-of-type {\n",
       "        vertical-align: middle;\n",
       "    }\n",
       "\n",
       "    .dataframe tbody tr th {\n",
       "        vertical-align: top;\n",
       "    }\n",
       "\n",
       "    .dataframe thead th {\n",
       "        text-align: right;\n",
       "    }\n",
       "</style>\n",
       "<table border=\"1\" class=\"dataframe\">\n",
       "  <thead>\n",
       "    <tr style=\"text-align: right;\">\n",
       "      <th></th>\n",
       "      <th>creation_date</th>\n",
       "      <th>level</th>\n",
       "      <th>meta</th>\n",
       "      <th>task</th>\n",
       "      <th>user</th>\n",
       "      <th>viewed</th>\n",
       "      <th>fields</th>\n",
       "      <th>model</th>\n",
       "      <th>pk</th>\n",
       "    </tr>\n",
       "  </thead>\n",
       "  <tbody>\n",
       "    <tr>\n",
       "      <th>41971</th>\n",
       "      <td>2018-12-06</td>\n",
       "      <td>4</td>\n",
       "      <td>None</td>\n",
       "      <td>8</td>\n",
       "      <td>82</td>\n",
       "      <td>False</td>\n",
       "      <td>{'meta': None, 'task': 8, 'user': 82, 'level':...</td>\n",
       "      <td>notifications.notification</td>\n",
       "      <td>7528</td>\n",
       "    </tr>\n",
       "    <tr>\n",
       "      <th>36401</th>\n",
       "      <td>2018-11-14</td>\n",
       "      <td>3</td>\n",
       "      <td>None</td>\n",
       "      <td>12</td>\n",
       "      <td>10</td>\n",
       "      <td>True</td>\n",
       "      <td>{'meta': None, 'task': 12, 'user': 10, 'level'...</td>\n",
       "      <td>notifications.notification</td>\n",
       "      <td>1768</td>\n",
       "    </tr>\n",
       "    <tr>\n",
       "      <th>37448</th>\n",
       "      <td>2018-11-19</td>\n",
       "      <td>1</td>\n",
       "      <td>None</td>\n",
       "      <td>15</td>\n",
       "      <td>74</td>\n",
       "      <td>True</td>\n",
       "      <td>{'meta': None, 'task': 15, 'user': 74, 'level'...</td>\n",
       "      <td>notifications.notification</td>\n",
       "      <td>2835</td>\n",
       "    </tr>\n",
       "    <tr>\n",
       "      <th>46334</th>\n",
       "      <td>2019-01-19</td>\n",
       "      <td>1</td>\n",
       "      <td>None</td>\n",
       "      <td>20</td>\n",
       "      <td>47</td>\n",
       "      <td>True</td>\n",
       "      <td>{'meta': None, 'task': 20, 'user': 47, 'level'...</td>\n",
       "      <td>notifications.notification</td>\n",
       "      <td>11981</td>\n",
       "    </tr>\n",
       "    <tr>\n",
       "      <th>41377</th>\n",
       "      <td>2018-12-03</td>\n",
       "      <td>4</td>\n",
       "      <td>None</td>\n",
       "      <td>8</td>\n",
       "      <td>69</td>\n",
       "      <td>False</td>\n",
       "      <td>{'meta': None, 'task': 8, 'user': 69, 'level':...</td>\n",
       "      <td>notifications.notification</td>\n",
       "      <td>6904</td>\n",
       "    </tr>\n",
       "    <tr>\n",
       "      <th>35656</th>\n",
       "      <td>2018-11-09</td>\n",
       "      <td>1</td>\n",
       "      <td>None</td>\n",
       "      <td>11</td>\n",
       "      <td>46</td>\n",
       "      <td>False</td>\n",
       "      <td>{'meta': None, 'task': 11, 'user': 46, 'level'...</td>\n",
       "      <td>notifications.notification</td>\n",
       "      <td>1023</td>\n",
       "    </tr>\n",
       "    <tr>\n",
       "      <th>43410</th>\n",
       "      <td>2018-12-16</td>\n",
       "      <td>1</td>\n",
       "      <td>None</td>\n",
       "      <td>42</td>\n",
       "      <td>82</td>\n",
       "      <td>False</td>\n",
       "      <td>{'meta': None, 'task': 42, 'user': 82, 'level'...</td>\n",
       "      <td>notifications.notification</td>\n",
       "      <td>9047</td>\n",
       "    </tr>\n",
       "    <tr>\n",
       "      <th>35444</th>\n",
       "      <td>2018-11-08</td>\n",
       "      <td>1</td>\n",
       "      <td>None</td>\n",
       "      <td>11</td>\n",
       "      <td>74</td>\n",
       "      <td>False</td>\n",
       "      <td>{'meta': None, 'task': 11, 'user': 74, 'level'...</td>\n",
       "      <td>notifications.notification</td>\n",
       "      <td>811</td>\n",
       "    </tr>\n",
       "    <tr>\n",
       "      <th>40930</th>\n",
       "      <td>2018-12-02</td>\n",
       "      <td>3</td>\n",
       "      <td>None</td>\n",
       "      <td>9</td>\n",
       "      <td>78</td>\n",
       "      <td>False</td>\n",
       "      <td>{'meta': None, 'task': 9, 'user': 78, 'level':...</td>\n",
       "      <td>notifications.notification</td>\n",
       "      <td>6437</td>\n",
       "    </tr>\n",
       "    <tr>\n",
       "      <th>36496</th>\n",
       "      <td>2018-11-14</td>\n",
       "      <td>3</td>\n",
       "      <td>None</td>\n",
       "      <td>36</td>\n",
       "      <td>11</td>\n",
       "      <td>False</td>\n",
       "      <td>{'meta': None, 'task': 36, 'user': 11, 'level'...</td>\n",
       "      <td>notifications.notification</td>\n",
       "      <td>1863</td>\n",
       "    </tr>\n",
       "  </tbody>\n",
       "</table>\n",
       "</div>"
      ],
      "text/plain": [
       "      creation_date level  meta  task  user  viewed  \\\n",
       "41971    2018-12-06     4  None     8    82   False   \n",
       "36401    2018-11-14     3  None    12    10    True   \n",
       "37448    2018-11-19     1  None    15    74    True   \n",
       "46334    2019-01-19     1  None    20    47    True   \n",
       "41377    2018-12-03     4  None     8    69   False   \n",
       "35656    2018-11-09     1  None    11    46   False   \n",
       "43410    2018-12-16     1  None    42    82   False   \n",
       "35444    2018-11-08     1  None    11    74   False   \n",
       "40930    2018-12-02     3  None     9    78   False   \n",
       "36496    2018-11-14     3  None    36    11   False   \n",
       "\n",
       "                                                  fields  \\\n",
       "41971  {'meta': None, 'task': 8, 'user': 82, 'level':...   \n",
       "36401  {'meta': None, 'task': 12, 'user': 10, 'level'...   \n",
       "37448  {'meta': None, 'task': 15, 'user': 74, 'level'...   \n",
       "46334  {'meta': None, 'task': 20, 'user': 47, 'level'...   \n",
       "41377  {'meta': None, 'task': 8, 'user': 69, 'level':...   \n",
       "35656  {'meta': None, 'task': 11, 'user': 46, 'level'...   \n",
       "43410  {'meta': None, 'task': 42, 'user': 82, 'level'...   \n",
       "35444  {'meta': None, 'task': 11, 'user': 74, 'level'...   \n",
       "40930  {'meta': None, 'task': 9, 'user': 78, 'level':...   \n",
       "36496  {'meta': None, 'task': 36, 'user': 11, 'level'...   \n",
       "\n",
       "                            model     pk  \n",
       "41971  notifications.notification   7528  \n",
       "36401  notifications.notification   1768  \n",
       "37448  notifications.notification   2835  \n",
       "46334  notifications.notification  11981  \n",
       "41377  notifications.notification   6904  \n",
       "35656  notifications.notification   1023  \n",
       "43410  notifications.notification   9047  \n",
       "35444  notifications.notification    811  \n",
       "40930  notifications.notification   6437  \n",
       "36496  notifications.notification   1863  "
      ]
     },
     "execution_count": 11,
     "metadata": {},
     "output_type": "execute_result"
    }
   ],
   "source": [
    "notification_df_flatted.sample(10)"
   ]
  },
  {
   "cell_type": "code",
   "execution_count": 12,
   "metadata": {},
   "outputs": [
    {
     "data": {
      "text/plain": [
       "creation_date    datetime64[ns]\n",
       "level                  category\n",
       "meta                     object\n",
       "task                      int64\n",
       "user                      int64\n",
       "viewed                     bool\n",
       "dtype: object"
      ]
     },
     "execution_count": 12,
     "metadata": {},
     "output_type": "execute_result"
    }
   ],
   "source": [
    "notification_fields.dtypes"
   ]
  },
  {
   "cell_type": "markdown",
   "metadata": {},
   "source": [
    "Como dá pra ver o pandas não consegue inferir muito bem os data types das colunas, vou utilizar meu conhecimento sobre elas para colocar valores mais baratos e que correspondem melhor aos seus valores.m"
   ]
  },
  {
   "cell_type": "markdown",
   "metadata": {},
   "source": [
    "# Resources"
   ]
  },
  {
   "cell_type": "code",
   "execution_count": 13,
   "metadata": {},
   "outputs": [],
   "source": [
    "resources_df = df[df[\"model\"] == \"topics.resource\"]"
   ]
  },
  {
   "cell_type": "code",
   "execution_count": 14,
   "metadata": {},
   "outputs": [
    {
     "data": {
      "text/plain": [
       "{'_my_subclass': 'webpage',\n",
       " 'name': 'Avaliação Diagnóstica',\n",
       " 'slug': 'avaliacao-diagnostica',\n",
       " 'brief_description': '<div>\\r\\n  <small>Valor: 0,25 ponto (<font color=\"#ff0000\"><i>extra</i></font>)</small>\\r\\n</div>\\r\\n<div>\\r\\n  <small>Início: 05/11/2018</small>&nbsp;<small style=\"margin-left: 10px\">Final: 11/11/2018</small>\\r\\n</div>',\n",
       " 'show_window': False,\n",
       " 'all_students': True,\n",
       " 'visible': True,\n",
       " 'order': 1,\n",
       " 'topic': 5,\n",
       " 'create_date': '2018-10-23T03:36:54.806Z',\n",
       " 'last_update': '2018-11-05T12:08:57.125Z',\n",
       " 'students': [],\n",
       " 'groups': [],\n",
       " 'tags': [62, 63]}"
      ]
     },
     "execution_count": 14,
     "metadata": {},
     "output_type": "execute_result"
    }
   ],
   "source": [
    "df[df[\"model\"] == \"topics.resource\"][\"fields\"][120546]"
   ]
  },
  {
   "cell_type": "code",
   "execution_count": 15,
   "metadata": {},
   "outputs": [],
   "source": [
    "resource_meta_list = [\"_my_subclass\", \"visible\", \"students\", \"groups\", \"tags\", \"all_students\", \"order\", \"topic\", \n",
    "             \"show_window\", \"brief_description\", \"slug\", \"name\"]"
   ]
  },
  {
   "cell_type": "code",
   "execution_count": 16,
   "metadata": {},
   "outputs": [
    {
     "data": {
      "text/html": [
       "<div>\n",
       "<style scoped>\n",
       "    .dataframe tbody tr th:only-of-type {\n",
       "        vertical-align: middle;\n",
       "    }\n",
       "\n",
       "    .dataframe tbody tr th {\n",
       "        vertical-align: top;\n",
       "    }\n",
       "\n",
       "    .dataframe thead th {\n",
       "        text-align: right;\n",
       "    }\n",
       "</style>\n",
       "<table border=\"1\" class=\"dataframe\">\n",
       "  <thead>\n",
       "    <tr style=\"text-align: right;\">\n",
       "      <th></th>\n",
       "      <th>_my_subclass</th>\n",
       "      <th>all_students</th>\n",
       "      <th>brief_description</th>\n",
       "      <th>create_date</th>\n",
       "      <th>groups</th>\n",
       "      <th>last_update</th>\n",
       "      <th>name</th>\n",
       "      <th>order</th>\n",
       "      <th>show_window</th>\n",
       "      <th>slug</th>\n",
       "      <th>students</th>\n",
       "      <th>tags</th>\n",
       "      <th>topic</th>\n",
       "      <th>visible</th>\n",
       "      <th>model</th>\n",
       "      <th>pk</th>\n",
       "    </tr>\n",
       "  </thead>\n",
       "  <tbody>\n",
       "    <tr>\n",
       "      <th>120546</th>\n",
       "      <td>webpage</td>\n",
       "      <td>True</td>\n",
       "      <td>&lt;div&gt;\\r\\n  &lt;small&gt;Valor: 0,25 ponto (&lt;font col...</td>\n",
       "      <td>2018-10-23T03:36:54.806Z</td>\n",
       "      <td>[]</td>\n",
       "      <td>2018-11-05T12:08:57.125Z</td>\n",
       "      <td>Avaliação Diagnóstica</td>\n",
       "      <td>1</td>\n",
       "      <td>False</td>\n",
       "      <td>avaliacao-diagnostica</td>\n",
       "      <td>[]</td>\n",
       "      <td>[62, 63]</td>\n",
       "      <td>5</td>\n",
       "      <td>True</td>\n",
       "      <td>topics.resource</td>\n",
       "      <td>9</td>\n",
       "    </tr>\n",
       "    <tr>\n",
       "      <th>120547</th>\n",
       "      <td>pdffile</td>\n",
       "      <td>True</td>\n",
       "      <td></td>\n",
       "      <td>2018-10-23T19:05:01.720Z</td>\n",
       "      <td>[]</td>\n",
       "      <td>2018-12-17T15:06:52.038Z</td>\n",
       "      <td>Prova anterior (prova 01, 2007.2, turma E6)</td>\n",
       "      <td>37</td>\n",
       "      <td>True</td>\n",
       "      <td>prova-anterior-prova-01-20072-turma-e6</td>\n",
       "      <td>[]</td>\n",
       "      <td>[10, 11, 12, 13, 14, 15, 16, 17]</td>\n",
       "      <td>6</td>\n",
       "      <td>True</td>\n",
       "      <td>topics.resource</td>\n",
       "      <td>10</td>\n",
       "    </tr>\n",
       "    <tr>\n",
       "      <th>120548</th>\n",
       "      <td>pdffile</td>\n",
       "      <td>True</td>\n",
       "      <td></td>\n",
       "      <td>2018-10-23T19:06:18.936Z</td>\n",
       "      <td>[]</td>\n",
       "      <td>2018-12-17T15:06:52.052Z</td>\n",
       "      <td>Prova anterior (prova 01, 2008.1, turma 52)</td>\n",
       "      <td>38</td>\n",
       "      <td>True</td>\n",
       "      <td>prova-anterior-prova-01-20081-turma-52</td>\n",
       "      <td>[]</td>\n",
       "      <td>[10, 11, 12, 13, 14, 15, 16, 17]</td>\n",
       "      <td>6</td>\n",
       "      <td>True</td>\n",
       "      <td>topics.resource</td>\n",
       "      <td>11</td>\n",
       "    </tr>\n",
       "    <tr>\n",
       "      <th>120549</th>\n",
       "      <td>pdffile</td>\n",
       "      <td>True</td>\n",
       "      <td></td>\n",
       "      <td>2018-10-23T19:07:09.839Z</td>\n",
       "      <td>[]</td>\n",
       "      <td>2018-12-17T15:06:52.063Z</td>\n",
       "      <td>Prova anterior (prova 01, 2008.2, turma A5)</td>\n",
       "      <td>39</td>\n",
       "      <td>True</td>\n",
       "      <td>prova-anterior-prova-01-20082-turma-a5</td>\n",
       "      <td>[]</td>\n",
       "      <td>[10, 11, 12, 13, 14, 15, 16, 17]</td>\n",
       "      <td>6</td>\n",
       "      <td>True</td>\n",
       "      <td>topics.resource</td>\n",
       "      <td>12</td>\n",
       "    </tr>\n",
       "    <tr>\n",
       "      <th>120550</th>\n",
       "      <td>pdffile</td>\n",
       "      <td>True</td>\n",
       "      <td></td>\n",
       "      <td>2018-10-23T19:07:53.570Z</td>\n",
       "      <td>[]</td>\n",
       "      <td>2018-12-17T15:06:52.078Z</td>\n",
       "      <td>Prova anterior (prova 01, 2009.2, turma A5)</td>\n",
       "      <td>40</td>\n",
       "      <td>True</td>\n",
       "      <td>prova-anterior-prova-01-20092-turma-a5</td>\n",
       "      <td>[]</td>\n",
       "      <td>[10, 11, 12, 13, 14, 15, 16, 17]</td>\n",
       "      <td>6</td>\n",
       "      <td>True</td>\n",
       "      <td>topics.resource</td>\n",
       "      <td>13</td>\n",
       "    </tr>\n",
       "  </tbody>\n",
       "</table>\n",
       "</div>"
      ],
      "text/plain": [
       "       _my_subclass  all_students  \\\n",
       "120546      webpage          True   \n",
       "120547      pdffile          True   \n",
       "120548      pdffile          True   \n",
       "120549      pdffile          True   \n",
       "120550      pdffile          True   \n",
       "\n",
       "                                        brief_description  \\\n",
       "120546  <div>\\r\\n  <small>Valor: 0,25 ponto (<font col...   \n",
       "120547                                                      \n",
       "120548                                                      \n",
       "120549                                                      \n",
       "120550                                                      \n",
       "\n",
       "                     create_date groups               last_update  \\\n",
       "120546  2018-10-23T03:36:54.806Z     []  2018-11-05T12:08:57.125Z   \n",
       "120547  2018-10-23T19:05:01.720Z     []  2018-12-17T15:06:52.038Z   \n",
       "120548  2018-10-23T19:06:18.936Z     []  2018-12-17T15:06:52.052Z   \n",
       "120549  2018-10-23T19:07:09.839Z     []  2018-12-17T15:06:52.063Z   \n",
       "120550  2018-10-23T19:07:53.570Z     []  2018-12-17T15:06:52.078Z   \n",
       "\n",
       "                                               name  order  show_window  \\\n",
       "120546                        Avaliação Diagnóstica      1        False   \n",
       "120547  Prova anterior (prova 01, 2007.2, turma E6)     37         True   \n",
       "120548  Prova anterior (prova 01, 2008.1, turma 52)     38         True   \n",
       "120549  Prova anterior (prova 01, 2008.2, turma A5)     39         True   \n",
       "120550  Prova anterior (prova 01, 2009.2, turma A5)     40         True   \n",
       "\n",
       "                                          slug students  \\\n",
       "120546                   avaliacao-diagnostica       []   \n",
       "120547  prova-anterior-prova-01-20072-turma-e6       []   \n",
       "120548  prova-anterior-prova-01-20081-turma-52       []   \n",
       "120549  prova-anterior-prova-01-20082-turma-a5       []   \n",
       "120550  prova-anterior-prova-01-20092-turma-a5       []   \n",
       "\n",
       "                                    tags  topic  visible            model  pk  \n",
       "120546                          [62, 63]      5     True  topics.resource   9  \n",
       "120547  [10, 11, 12, 13, 14, 15, 16, 17]      6     True  topics.resource  10  \n",
       "120548  [10, 11, 12, 13, 14, 15, 16, 17]      6     True  topics.resource  11  \n",
       "120549  [10, 11, 12, 13, 14, 15, 16, 17]      6     True  topics.resource  12  \n",
       "120550  [10, 11, 12, 13, 14, 15, 16, 17]      6     True  topics.resource  13  "
      ]
     },
     "execution_count": 16,
     "metadata": {},
     "output_type": "execute_result"
    }
   ],
   "source": [
    "resources_flatten_df = extract_flatten_dataframe(resources_df, \"fields\", resource_meta_list).drop(\"fields\", axis=1)\n",
    "resources_flatten_df.head(5)"
   ]
  },
  {
   "cell_type": "markdown",
   "metadata": {},
   "source": [
    "# Pendências"
   ]
  },
  {
   "cell_type": "code",
   "execution_count": 17,
   "metadata": {},
   "outputs": [
    {
     "data": {
      "text/plain": [
       "{'action': 'view',\n",
       " 'begin_date': '2018-10-28T02:53:00Z',\n",
       " 'end_date': '2018-10-28T02:55:00Z',\n",
       " 'limit_date': None,\n",
       " 'resource': 163}"
      ]
     },
     "execution_count": 17,
     "metadata": {},
     "output_type": "execute_result"
    }
   ],
   "source": [
    "df[df[\"model\"] == \"pendencies.pendencies\"][\"fields\"][120708]"
   ]
  },
  {
   "cell_type": "code",
   "execution_count": 18,
   "metadata": {},
   "outputs": [],
   "source": [
    "pendencies_meta_list = [\"action\", \"begin_date\", \"end_date\", \"limit_date\", \"resource\"]\n",
    "pendencies_df = extract_flatten_dataframe(df[df[\"model\"] == \"pendencies.pendencies\"], \"fields\", pendencies_meta_list)"
   ]
  },
  {
   "cell_type": "code",
   "execution_count": 19,
   "metadata": {},
   "outputs": [
    {
     "data": {
      "text/plain": [
       "action        object\n",
       "begin_date    object\n",
       "end_date      object\n",
       "limit_date    object\n",
       "resource       int64\n",
       "fields        object\n",
       "model         object\n",
       "pk            object\n",
       "dtype: object"
      ]
     },
     "execution_count": 19,
     "metadata": {},
     "output_type": "execute_result"
    }
   ],
   "source": [
    "pendencies_df.dtypes"
   ]
  },
  {
   "cell_type": "code",
   "execution_count": 20,
   "metadata": {},
   "outputs": [
    {
     "data": {
      "text/html": [
       "<div>\n",
       "<style scoped>\n",
       "    .dataframe tbody tr th:only-of-type {\n",
       "        vertical-align: middle;\n",
       "    }\n",
       "\n",
       "    .dataframe tbody tr th {\n",
       "        vertical-align: top;\n",
       "    }\n",
       "\n",
       "    .dataframe thead th {\n",
       "        text-align: right;\n",
       "    }\n",
       "</style>\n",
       "<table border=\"1\" class=\"dataframe\">\n",
       "  <thead>\n",
       "    <tr style=\"text-align: right;\">\n",
       "      <th></th>\n",
       "      <th>action</th>\n",
       "      <th>begin_date</th>\n",
       "      <th>end_date</th>\n",
       "      <th>limit_date</th>\n",
       "      <th>resource</th>\n",
       "      <th>fields</th>\n",
       "      <th>model</th>\n",
       "      <th>pk</th>\n",
       "    </tr>\n",
       "  </thead>\n",
       "  <tbody>\n",
       "    <tr>\n",
       "      <th>120708</th>\n",
       "      <td>view</td>\n",
       "      <td>2018-10-28T02:53:00Z</td>\n",
       "      <td>2018-10-28T02:55:00Z</td>\n",
       "      <td>None</td>\n",
       "      <td>163</td>\n",
       "      <td>{'action': 'view', 'begin_date': '2018-10-28T0...</td>\n",
       "      <td>pendencies.pendencies</td>\n",
       "      <td>1</td>\n",
       "    </tr>\n",
       "    <tr>\n",
       "      <th>120709</th>\n",
       "      <td>view</td>\n",
       "      <td>2018-10-28T02:54:00Z</td>\n",
       "      <td>2018-10-31T02:54:00Z</td>\n",
       "      <td>None</td>\n",
       "      <td>164</td>\n",
       "      <td>{'action': 'view', 'begin_date': '2018-10-28T0...</td>\n",
       "      <td>pendencies.pendencies</td>\n",
       "      <td>2</td>\n",
       "    </tr>\n",
       "  </tbody>\n",
       "</table>\n",
       "</div>"
      ],
      "text/plain": [
       "       action            begin_date              end_date limit_date  \\\n",
       "120708   view  2018-10-28T02:53:00Z  2018-10-28T02:55:00Z       None   \n",
       "120709   view  2018-10-28T02:54:00Z  2018-10-31T02:54:00Z       None   \n",
       "\n",
       "        resource                                             fields  \\\n",
       "120708       163  {'action': 'view', 'begin_date': '2018-10-28T0...   \n",
       "120709       164  {'action': 'view', 'begin_date': '2018-10-28T0...   \n",
       "\n",
       "                        model pk  \n",
       "120708  pendencies.pendencies  1  \n",
       "120709  pendencies.pendencies  2  "
      ]
     },
     "execution_count": 20,
     "metadata": {},
     "output_type": "execute_result"
    }
   ],
   "source": [
    "pendencies_df.head(2)"
   ]
  },
  {
   "cell_type": "code",
   "execution_count": 21,
   "metadata": {},
   "outputs": [],
   "source": [
    "# change pendencies data type to make easier to manipulate data and analyze as well\n",
    "date_columns = [\"begin_date\", \"end_date\", \"limit_date\"]\n",
    "for column in date_columns:\n",
    "    #pendencies_df[column] = pendencies_df[column].apply(lambda date: pd.Timestamp(date, tz=None))\n",
    "    pendencies_df[column] = pd.to_datetime(pendencies_df[column])\n",
    "    pendencies_df[column] = pendencies_df[column].apply(lambda timestamp: timestamp.replace(tzinfo=None))\n",
    "\n",
    "\n",
    "#pendencies_df[date_columns] = pd.to_datetime(pendencies_df[date_columns])\n",
    "#pendencies_df[date_columns] = pd.Timestamp(pendencies_df[date_columns])"
   ]
  },
  {
   "cell_type": "code",
   "execution_count": 22,
   "metadata": {},
   "outputs": [],
   "source": [
    "pendencies_df[\"action\"] = pendencies_df[\"action\"].astype(\"category\")"
   ]
  },
  {
   "cell_type": "code",
   "execution_count": 23,
   "metadata": {},
   "outputs": [
    {
     "data": {
      "text/plain": [
       "action              category\n",
       "begin_date    datetime64[ns]\n",
       "end_date      datetime64[ns]\n",
       "limit_date    datetime64[ns]\n",
       "resource               int64\n",
       "fields                object\n",
       "model                 object\n",
       "pk                    object\n",
       "dtype: object"
      ]
     },
     "execution_count": 23,
     "metadata": {},
     "output_type": "execute_result"
    }
   ],
   "source": [
    "pendencies_df.dtypes"
   ]
  },
  {
   "cell_type": "code",
   "execution_count": 24,
   "metadata": {},
   "outputs": [
    {
     "data": {
      "text/html": [
       "<div>\n",
       "<style scoped>\n",
       "    .dataframe tbody tr th:only-of-type {\n",
       "        vertical-align: middle;\n",
       "    }\n",
       "\n",
       "    .dataframe tbody tr th {\n",
       "        vertical-align: top;\n",
       "    }\n",
       "\n",
       "    .dataframe thead th {\n",
       "        text-align: right;\n",
       "    }\n",
       "</style>\n",
       "<table border=\"1\" class=\"dataframe\">\n",
       "  <thead>\n",
       "    <tr style=\"text-align: right;\">\n",
       "      <th></th>\n",
       "      <th>action</th>\n",
       "      <th>begin_date</th>\n",
       "      <th>end_date</th>\n",
       "      <th>limit_date</th>\n",
       "      <th>resource</th>\n",
       "      <th>fields</th>\n",
       "      <th>model</th>\n",
       "      <th>pk</th>\n",
       "    </tr>\n",
       "  </thead>\n",
       "  <tbody>\n",
       "    <tr>\n",
       "      <th>120708</th>\n",
       "      <td>view</td>\n",
       "      <td>2018-10-28 02:53:00</td>\n",
       "      <td>2018-10-28 02:55:00</td>\n",
       "      <td>NaT</td>\n",
       "      <td>163</td>\n",
       "      <td>{'action': 'view', 'begin_date': '2018-10-28T0...</td>\n",
       "      <td>pendencies.pendencies</td>\n",
       "      <td>1</td>\n",
       "    </tr>\n",
       "    <tr>\n",
       "      <th>120709</th>\n",
       "      <td>view</td>\n",
       "      <td>2018-10-28 02:54:00</td>\n",
       "      <td>2018-10-31 02:54:00</td>\n",
       "      <td>NaT</td>\n",
       "      <td>164</td>\n",
       "      <td>{'action': 'view', 'begin_date': '2018-10-28T0...</td>\n",
       "      <td>pendencies.pendencies</td>\n",
       "      <td>2</td>\n",
       "    </tr>\n",
       "  </tbody>\n",
       "</table>\n",
       "</div>"
      ],
      "text/plain": [
       "       action          begin_date            end_date limit_date  resource  \\\n",
       "120708   view 2018-10-28 02:53:00 2018-10-28 02:55:00        NaT       163   \n",
       "120709   view 2018-10-28 02:54:00 2018-10-31 02:54:00        NaT       164   \n",
       "\n",
       "                                                   fields  \\\n",
       "120708  {'action': 'view', 'begin_date': '2018-10-28T0...   \n",
       "120709  {'action': 'view', 'begin_date': '2018-10-28T0...   \n",
       "\n",
       "                        model pk  \n",
       "120708  pendencies.pendencies  1  \n",
       "120709  pendencies.pendencies  2  "
      ]
     },
     "execution_count": 24,
     "metadata": {},
     "output_type": "execute_result"
    }
   ],
   "source": [
    "pendencies_df.head(2)"
   ]
  },
  {
   "cell_type": "markdown",
   "metadata": {},
   "source": [
    "# Users Data\n",
    "Como os usuários são o principal objeto de pesquisa deste relatório, eu preciso coletar os IDs deles para juntar as notificações e \"dar à um responsável\"."
   ]
  },
  {
   "cell_type": "code",
   "execution_count": 25,
   "metadata": {
    "scrolled": true
   },
   "outputs": [
    {
     "data": {
      "text/html": [
       "<div>\n",
       "<style scoped>\n",
       "    .dataframe tbody tr th:only-of-type {\n",
       "        vertical-align: middle;\n",
       "    }\n",
       "\n",
       "    .dataframe tbody tr th {\n",
       "        vertical-align: top;\n",
       "    }\n",
       "\n",
       "    .dataframe thead th {\n",
       "        text-align: right;\n",
       "    }\n",
       "</style>\n",
       "<table border=\"1\" class=\"dataframe\">\n",
       "  <thead>\n",
       "    <tr style=\"text-align: right;\">\n",
       "      <th></th>\n",
       "      <th>fields</th>\n",
       "      <th>model</th>\n",
       "      <th>pk</th>\n",
       "    </tr>\n",
       "  </thead>\n",
       "  <tbody>\n",
       "    <tr>\n",
       "      <th>34528</th>\n",
       "      <td>{'password': 'pbkdf2_sha256$30000$5DROf4Pf3BPR...</td>\n",
       "      <td>users.user</td>\n",
       "      <td>1</td>\n",
       "    </tr>\n",
       "    <tr>\n",
       "      <th>34529</th>\n",
       "      <td>{'password': 'pbkdf2_sha256$30000$u3Lg5la328P5...</td>\n",
       "      <td>users.user</td>\n",
       "      <td>2</td>\n",
       "    </tr>\n",
       "  </tbody>\n",
       "</table>\n",
       "</div>"
      ],
      "text/plain": [
       "                                                  fields       model pk\n",
       "34528  {'password': 'pbkdf2_sha256$30000$5DROf4Pf3BPR...  users.user  1\n",
       "34529  {'password': 'pbkdf2_sha256$30000$u3Lg5la328P5...  users.user  2"
      ]
     },
     "execution_count": 25,
     "metadata": {},
     "output_type": "execute_result"
    }
   ],
   "source": [
    "users_df = df[df[\"model\"] == \"users.user\"]\n",
    "users_df.head(2)"
   ]
  },
  {
   "cell_type": "code",
   "execution_count": 26,
   "metadata": {
    "scrolled": true
   },
   "outputs": [
    {
     "data": {
      "text/plain": [
       "{'password': 'pbkdf2_sha256$30000$5DROf4Pf3BPR$tPd1JbDlLqrUzoY/JcUSfparBrp7n0ERZKWgpfnbG/Y=',\n",
       " 'last_login': '2019-01-22T12:36:36.447Z',\n",
       " 'is_superuser': True,\n",
       " 'email': 'admin@amadeus.br',\n",
       " 'username': 'Administrador',\n",
       " 'last_name': 'Geral',\n",
       " 'social_name': None,\n",
       " 'description': '',\n",
       " 'image': '',\n",
       " 'date_created': '2018-10-19T16:55:27.084Z',\n",
       " 'last_update': '2018-11-04T03:31:13.036Z',\n",
       " 'show_email': 1,\n",
       " 'is_staff': True,\n",
       " 'is_active': True,\n",
       " 'groups': [],\n",
       " 'user_permissions': []}"
      ]
     },
     "execution_count": 26,
     "metadata": {},
     "output_type": "execute_result"
    }
   ],
   "source": [
    "users_df[\"fields\"][34528]"
   ]
  },
  {
   "cell_type": "markdown",
   "metadata": {},
   "source": [
    "# Dicionário dos dados\n",
    "1. Password: Senha criptografada\n",
    "2. Last_Login: a última vez que o usuário logou no sistema\n",
    "3. is_superuser: Significa que o usuário é um super usuário, tem privilégios ou admin.\n",
    "4. email: e-mail pertecente ao usuário \n",
    "5. username: nome que o usuário quer que outros usuários o vejam\n",
    "6. last_name: Sobrenome do usuário\n",
    "7. social_name: Nome social que o usuário quer escolher para ser demonstrado \n",
    "8. description: ?\n",
    "9. image: Caminho para a imagem do usuário\n",
    "10. date_created: Data em que o usuário foi criado\n",
    "11. last_update: a última vez que os dados do usuário foram modificados\n",
    "12. show_email: Uma booleana que informa se o e-mail é visiível para outros usuários\n",
    "13. is_staff: se ele é do tipo admin\n",
    "14. is_active: Se o usuário está ativo, caso sim, ele pode entrar no sistema, senão, é impossível\n",
    "15. groups: Grupos de permissão ao qual esse usuário pertence (\"professor\", \"estudante\"...)\n",
    "16. user_permissions = permissões individuais que ele possui (\"criar tópico\" , \"deletar tópico\", \"editar tópico\")"
   ]
  },
  {
   "cell_type": "code",
   "execution_count": 27,
   "metadata": {},
   "outputs": [],
   "source": [
    "# fields:  \n",
    "user_fields = [\"password\", \"last_login\", \"is_superuser\", \"email\", \"username\", \"last_name\", \"social_name\", \"description\", \n",
    "               \"imagem\", \"date_created\", \"last_update\", \"show_email\", \"is_staff\", \"is_active\", \"groups\", \"user_permissions\"]"
   ]
  },
  {
   "cell_type": "code",
   "execution_count": 28,
   "metadata": {},
   "outputs": [],
   "source": [
    "user_df_flatten = extract_flatten_dataframe(users_df, column=\"fields\",meta_list=user_fields).astype({\"pk\": \"int64\"})"
   ]
  },
  {
   "cell_type": "code",
   "execution_count": 29,
   "metadata": {},
   "outputs": [
    {
     "data": {
      "text/plain": [
       "date_created        object\n",
       "description         object\n",
       "email               object\n",
       "groups              object\n",
       "image               object\n",
       "is_active             bool\n",
       "is_staff              bool\n",
       "is_superuser          bool\n",
       "last_login          object\n",
       "last_name           object\n",
       "last_update         object\n",
       "password            object\n",
       "show_email           int64\n",
       "social_name         object\n",
       "user_permissions    object\n",
       "username            object\n",
       "fields              object\n",
       "model               object\n",
       "pk                   int64\n",
       "dtype: object"
      ]
     },
     "execution_count": 29,
     "metadata": {},
     "output_type": "execute_result"
    }
   ],
   "source": [
    "user_df_flatten.dtypes"
   ]
  },
  {
   "cell_type": "markdown",
   "metadata": {},
   "source": [
    "# Notas dos alunos"
   ]
  },
  {
   "cell_type": "code",
   "execution_count": 30,
   "metadata": {},
   "outputs": [
    {
     "data": {
      "text/plain": [
       "id_estudante      int64\n",
       "v1              float64\n",
       "v2              float64\n",
       "dtype: object"
      ]
     },
     "execution_count": 30,
     "metadata": {},
     "output_type": "execute_result"
    }
   ],
   "source": [
    "grades_df.dtypes"
   ]
  },
  {
   "cell_type": "code",
   "execution_count": 31,
   "metadata": {},
   "outputs": [
    {
     "data": {
      "text/html": [
       "<div>\n",
       "<style scoped>\n",
       "    .dataframe tbody tr th:only-of-type {\n",
       "        vertical-align: middle;\n",
       "    }\n",
       "\n",
       "    .dataframe tbody tr th {\n",
       "        vertical-align: top;\n",
       "    }\n",
       "\n",
       "    .dataframe thead th {\n",
       "        text-align: right;\n",
       "    }\n",
       "</style>\n",
       "<table border=\"1\" class=\"dataframe\">\n",
       "  <thead>\n",
       "    <tr style=\"text-align: right;\">\n",
       "      <th></th>\n",
       "      <th>id_estudante</th>\n",
       "      <th>v1</th>\n",
       "      <th>v2</th>\n",
       "    </tr>\n",
       "  </thead>\n",
       "  <tbody>\n",
       "    <tr>\n",
       "      <th>0</th>\n",
       "      <td>11</td>\n",
       "      <td>0.0</td>\n",
       "      <td>0.00</td>\n",
       "    </tr>\n",
       "    <tr>\n",
       "      <th>1</th>\n",
       "      <td>12</td>\n",
       "      <td>4.0</td>\n",
       "      <td>7.00</td>\n",
       "    </tr>\n",
       "    <tr>\n",
       "      <th>2</th>\n",
       "      <td>13</td>\n",
       "      <td>6.5</td>\n",
       "      <td>7.50</td>\n",
       "    </tr>\n",
       "    <tr>\n",
       "      <th>3</th>\n",
       "      <td>14</td>\n",
       "      <td>6.5</td>\n",
       "      <td>10.00</td>\n",
       "    </tr>\n",
       "    <tr>\n",
       "      <th>4</th>\n",
       "      <td>15</td>\n",
       "      <td>6.0</td>\n",
       "      <td>8.50</td>\n",
       "    </tr>\n",
       "    <tr>\n",
       "      <th>5</th>\n",
       "      <td>16</td>\n",
       "      <td>6.0</td>\n",
       "      <td>3.50</td>\n",
       "    </tr>\n",
       "    <tr>\n",
       "      <th>6</th>\n",
       "      <td>17</td>\n",
       "      <td>0.5</td>\n",
       "      <td>4.00</td>\n",
       "    </tr>\n",
       "    <tr>\n",
       "      <th>7</th>\n",
       "      <td>18</td>\n",
       "      <td>1.5</td>\n",
       "      <td>7.25</td>\n",
       "    </tr>\n",
       "    <tr>\n",
       "      <th>8</th>\n",
       "      <td>19</td>\n",
       "      <td>7.5</td>\n",
       "      <td>8.50</td>\n",
       "    </tr>\n",
       "    <tr>\n",
       "      <th>9</th>\n",
       "      <td>20</td>\n",
       "      <td>2.0</td>\n",
       "      <td>9.75</td>\n",
       "    </tr>\n",
       "  </tbody>\n",
       "</table>\n",
       "</div>"
      ],
      "text/plain": [
       "   id_estudante   v1     v2\n",
       "0            11  0.0   0.00\n",
       "1            12  4.0   7.00\n",
       "2            13  6.5   7.50\n",
       "3            14  6.5  10.00\n",
       "4            15  6.0   8.50\n",
       "5            16  6.0   3.50\n",
       "6            17  0.5   4.00\n",
       "7            18  1.5   7.25\n",
       "8            19  7.5   8.50\n",
       "9            20  2.0   9.75"
      ]
     },
     "execution_count": 31,
     "metadata": {},
     "output_type": "execute_result"
    }
   ],
   "source": [
    "grades_df.head(10)"
   ]
  },
  {
   "cell_type": "markdown",
   "metadata": {},
   "source": [
    "# Vou remover as seguintes colunas:\n",
    "1. Groups, pois não possui nenhum valor diferente de vazio (ou nulo)."
   ]
  },
  {
   "cell_type": "code",
   "execution_count": 32,
   "metadata": {},
   "outputs": [
    {
     "data": {
      "text/plain": [
       "[]    106\n",
       "Name: groups, dtype: int64"
      ]
     },
     "execution_count": 32,
     "metadata": {},
     "output_type": "execute_result"
    }
   ],
   "source": [
    "user_df_flatten[\"groups\"].value_counts()"
   ]
  },
  {
   "cell_type": "code",
   "execution_count": 33,
   "metadata": {},
   "outputs": [],
   "source": [
    "user_df_flatten_clean = user_df_flatten.drop([\"groups\", \"fields\", \"password\"], axis=1)"
   ]
  },
  {
   "cell_type": "markdown",
   "metadata": {},
   "source": [
    "# Junção entre os datasets\n",
    "Para otimizar, irei coletar somente o username dos usuários durante o join com as notificações, depois eu irei buscar mais informações sobre eles.m"
   ]
  },
  {
   "cell_type": "code",
   "execution_count": 34,
   "metadata": {},
   "outputs": [],
   "source": [
    "notifications_with_user_grades_df = pd.merge(notification_df_flatted, grades_df, left_on=[\"user\"], right_on=[\"id_estudante\"])"
   ]
  },
  {
   "cell_type": "code",
   "execution_count": 35,
   "metadata": {},
   "outputs": [
    {
     "data": {
      "text/html": [
       "<div>\n",
       "<style scoped>\n",
       "    .dataframe tbody tr th:only-of-type {\n",
       "        vertical-align: middle;\n",
       "    }\n",
       "\n",
       "    .dataframe tbody tr th {\n",
       "        vertical-align: top;\n",
       "    }\n",
       "\n",
       "    .dataframe thead th {\n",
       "        text-align: right;\n",
       "    }\n",
       "</style>\n",
       "<table border=\"1\" class=\"dataframe\">\n",
       "  <thead>\n",
       "    <tr style=\"text-align: right;\">\n",
       "      <th></th>\n",
       "      <th>creation_date</th>\n",
       "      <th>level</th>\n",
       "      <th>meta</th>\n",
       "      <th>task</th>\n",
       "      <th>user</th>\n",
       "      <th>viewed</th>\n",
       "      <th>fields</th>\n",
       "      <th>model</th>\n",
       "      <th>pk</th>\n",
       "      <th>id_estudante</th>\n",
       "      <th>v1</th>\n",
       "      <th>v2</th>\n",
       "    </tr>\n",
       "  </thead>\n",
       "  <tbody>\n",
       "    <tr>\n",
       "      <th>0</th>\n",
       "      <td>2018-11-05</td>\n",
       "      <td>1</td>\n",
       "      <td>None</td>\n",
       "      <td>9</td>\n",
       "      <td>11</td>\n",
       "      <td>False</td>\n",
       "      <td>{'meta': None, 'task': 9, 'user': 11, 'level':...</td>\n",
       "      <td>notifications.notification</td>\n",
       "      <td>105</td>\n",
       "      <td>11</td>\n",
       "      <td>0.0</td>\n",
       "      <td>0.0</td>\n",
       "    </tr>\n",
       "    <tr>\n",
       "      <th>1</th>\n",
       "      <td>2018-11-06</td>\n",
       "      <td>1</td>\n",
       "      <td>None</td>\n",
       "      <td>9</td>\n",
       "      <td>11</td>\n",
       "      <td>False</td>\n",
       "      <td>{'meta': None, 'task': 9, 'user': 11, 'level':...</td>\n",
       "      <td>notifications.notification</td>\n",
       "      <td>195</td>\n",
       "      <td>11</td>\n",
       "      <td>0.0</td>\n",
       "      <td>0.0</td>\n",
       "    </tr>\n",
       "    <tr>\n",
       "      <th>2</th>\n",
       "      <td>2018-11-06</td>\n",
       "      <td>1</td>\n",
       "      <td>None</td>\n",
       "      <td>10</td>\n",
       "      <td>11</td>\n",
       "      <td>False</td>\n",
       "      <td>{'meta': None, 'task': 10, 'user': 11, 'level'...</td>\n",
       "      <td>notifications.notification</td>\n",
       "      <td>261</td>\n",
       "      <td>11</td>\n",
       "      <td>0.0</td>\n",
       "      <td>0.0</td>\n",
       "    </tr>\n",
       "    <tr>\n",
       "      <th>3</th>\n",
       "      <td>2018-11-06</td>\n",
       "      <td>1</td>\n",
       "      <td>None</td>\n",
       "      <td>7</td>\n",
       "      <td>11</td>\n",
       "      <td>False</td>\n",
       "      <td>{'meta': None, 'task': 7, 'user': 11, 'level':...</td>\n",
       "      <td>notifications.notification</td>\n",
       "      <td>338</td>\n",
       "      <td>11</td>\n",
       "      <td>0.0</td>\n",
       "      <td>0.0</td>\n",
       "    </tr>\n",
       "    <tr>\n",
       "      <th>4</th>\n",
       "      <td>2018-11-07</td>\n",
       "      <td>1</td>\n",
       "      <td>None</td>\n",
       "      <td>10</td>\n",
       "      <td>11</td>\n",
       "      <td>False</td>\n",
       "      <td>{'meta': None, 'task': 10, 'user': 11, 'level'...</td>\n",
       "      <td>notifications.notification</td>\n",
       "      <td>463</td>\n",
       "      <td>11</td>\n",
       "      <td>0.0</td>\n",
       "      <td>0.0</td>\n",
       "    </tr>\n",
       "    <tr>\n",
       "      <th>5</th>\n",
       "      <td>2018-11-07</td>\n",
       "      <td>1</td>\n",
       "      <td>None</td>\n",
       "      <td>8</td>\n",
       "      <td>11</td>\n",
       "      <td>False</td>\n",
       "      <td>{'meta': None, 'task': 8, 'user': 11, 'level':...</td>\n",
       "      <td>notifications.notification</td>\n",
       "      <td>574</td>\n",
       "      <td>11</td>\n",
       "      <td>0.0</td>\n",
       "      <td>0.0</td>\n",
       "    </tr>\n",
       "    <tr>\n",
       "      <th>6</th>\n",
       "      <td>2018-11-08</td>\n",
       "      <td>1</td>\n",
       "      <td>None</td>\n",
       "      <td>10</td>\n",
       "      <td>11</td>\n",
       "      <td>False</td>\n",
       "      <td>{'meta': None, 'task': 10, 'user': 11, 'level'...</td>\n",
       "      <td>notifications.notification</td>\n",
       "      <td>682</td>\n",
       "      <td>11</td>\n",
       "      <td>0.0</td>\n",
       "      <td>0.0</td>\n",
       "    </tr>\n",
       "    <tr>\n",
       "      <th>7</th>\n",
       "      <td>2018-11-08</td>\n",
       "      <td>1</td>\n",
       "      <td>None</td>\n",
       "      <td>11</td>\n",
       "      <td>11</td>\n",
       "      <td>False</td>\n",
       "      <td>{'meta': None, 'task': 11, 'user': 11, 'level'...</td>\n",
       "      <td>notifications.notification</td>\n",
       "      <td>756</td>\n",
       "      <td>11</td>\n",
       "      <td>0.0</td>\n",
       "      <td>0.0</td>\n",
       "    </tr>\n",
       "    <tr>\n",
       "      <th>8</th>\n",
       "      <td>2018-11-08</td>\n",
       "      <td>1</td>\n",
       "      <td>None</td>\n",
       "      <td>8</td>\n",
       "      <td>11</td>\n",
       "      <td>False</td>\n",
       "      <td>{'meta': None, 'task': 8, 'user': 11, 'level':...</td>\n",
       "      <td>notifications.notification</td>\n",
       "      <td>844</td>\n",
       "      <td>11</td>\n",
       "      <td>0.0</td>\n",
       "      <td>0.0</td>\n",
       "    </tr>\n",
       "    <tr>\n",
       "      <th>9</th>\n",
       "      <td>2018-11-09</td>\n",
       "      <td>3</td>\n",
       "      <td>None</td>\n",
       "      <td>10</td>\n",
       "      <td>11</td>\n",
       "      <td>False</td>\n",
       "      <td>{'meta': None, 'task': 10, 'user': 11, 'level'...</td>\n",
       "      <td>notifications.notification</td>\n",
       "      <td>927</td>\n",
       "      <td>11</td>\n",
       "      <td>0.0</td>\n",
       "      <td>0.0</td>\n",
       "    </tr>\n",
       "  </tbody>\n",
       "</table>\n",
       "</div>"
      ],
      "text/plain": [
       "  creation_date level  meta  task  user  viewed  \\\n",
       "0    2018-11-05     1  None     9    11   False   \n",
       "1    2018-11-06     1  None     9    11   False   \n",
       "2    2018-11-06     1  None    10    11   False   \n",
       "3    2018-11-06     1  None     7    11   False   \n",
       "4    2018-11-07     1  None    10    11   False   \n",
       "5    2018-11-07     1  None     8    11   False   \n",
       "6    2018-11-08     1  None    10    11   False   \n",
       "7    2018-11-08     1  None    11    11   False   \n",
       "8    2018-11-08     1  None     8    11   False   \n",
       "9    2018-11-09     3  None    10    11   False   \n",
       "\n",
       "                                              fields  \\\n",
       "0  {'meta': None, 'task': 9, 'user': 11, 'level':...   \n",
       "1  {'meta': None, 'task': 9, 'user': 11, 'level':...   \n",
       "2  {'meta': None, 'task': 10, 'user': 11, 'level'...   \n",
       "3  {'meta': None, 'task': 7, 'user': 11, 'level':...   \n",
       "4  {'meta': None, 'task': 10, 'user': 11, 'level'...   \n",
       "5  {'meta': None, 'task': 8, 'user': 11, 'level':...   \n",
       "6  {'meta': None, 'task': 10, 'user': 11, 'level'...   \n",
       "7  {'meta': None, 'task': 11, 'user': 11, 'level'...   \n",
       "8  {'meta': None, 'task': 8, 'user': 11, 'level':...   \n",
       "9  {'meta': None, 'task': 10, 'user': 11, 'level'...   \n",
       "\n",
       "                        model   pk  id_estudante   v1   v2  \n",
       "0  notifications.notification  105            11  0.0  0.0  \n",
       "1  notifications.notification  195            11  0.0  0.0  \n",
       "2  notifications.notification  261            11  0.0  0.0  \n",
       "3  notifications.notification  338            11  0.0  0.0  \n",
       "4  notifications.notification  463            11  0.0  0.0  \n",
       "5  notifications.notification  574            11  0.0  0.0  \n",
       "6  notifications.notification  682            11  0.0  0.0  \n",
       "7  notifications.notification  756            11  0.0  0.0  \n",
       "8  notifications.notification  844            11  0.0  0.0  \n",
       "9  notifications.notification  927            11  0.0  0.0  "
      ]
     },
     "execution_count": 35,
     "metadata": {},
     "output_type": "execute_result"
    }
   ],
   "source": [
    "notifications_with_user_grades_df.head(10)"
   ]
  },
  {
   "cell_type": "markdown",
   "metadata": {},
   "source": [
    "# Análise\n",
    "Primeiro eu vou explorar um pouco sobre a distribuição na quantiadde de notificações por usuário."
   ]
  },
  {
   "cell_type": "code",
   "execution_count": 36,
   "metadata": {},
   "outputs": [],
   "source": [
    "students_not_count_series = notifications_with_user_grades_df.groupby(\"user\").size()"
   ]
  },
  {
   "cell_type": "markdown",
   "metadata": {},
   "source": [
    "Com o grupo  de usuários que mais recebeu notificação e o grupo de usuários que menos recebeu notificações, eu vou tentar analisar qual a diferença disso e o rendimento comparado entre eles, irei colocar o 25% de cada. \n",
    "\n",
    "Existe um \"lixo\" nos dados que são os estudantes criados pelos adm, geralmente seu nomes são compostos por \"Estudante X\""
   ]
  },
  {
   "cell_type": "code",
   "execution_count": 37,
   "metadata": {},
   "outputs": [
    {
     "data": {
      "text/plain": [
       "<matplotlib.axes._subplots.AxesSubplot at 0x7f0af8a72710>"
      ]
     },
     "execution_count": 37,
     "metadata": {},
     "output_type": "execute_result"
    },
    {
     "data": {
      "image/png": "[encoded data removed]",
      "text/plain": [
       "<Figure size 432x288 with 1 Axes>"
      ]
     },
     "metadata": {
      "needs_background": "light"
     },
     "output_type": "display_data"
    }
   ],
   "source": [
    "students_not_count_series.sort_values(ascending=False).hist(bins=15)"
   ]
  },
  {
   "cell_type": "code",
   "execution_count": 38,
   "metadata": {},
   "outputs": [
    {
     "data": {
      "text/plain": [
       "0.10     38.00\n",
       "0.25     62.50\n",
       "0.50    104.00\n",
       "0.75    197.25\n",
       "0.90    321.10\n",
       "dtype: float64"
      ]
     },
     "execution_count": 38,
     "metadata": {},
     "output_type": "execute_result"
    }
   ],
   "source": [
    "students_not_count_series.quantile([.1,.25, .5, .75, .9])"
   ]
  },
  {
   "cell_type": "markdown",
   "metadata": {},
   "source": [
    "Como da pra ver a distância é bem grande entre o 1ª quartil (.25) e o menores 10% assim como a distância é ainda mais grotesca com entre o 3ª quartil e o top 10%, quase o dobro de notificações recebidas."
   ]
  },
  {
   "cell_type": "markdown",
   "metadata": {},
   "source": [
    "## distribuição por nível de pendência\n",
    "Os níveis de pendência variam entre 4 valores, sendo que o valor 1 e 2 representam o mesmo dado,\n",
    "1. O valor 1 e 2 representam tarefas que ainda estão no prazo\n",
    "2. O valor 3 representa tarefas que estão atrasadas\n",
    "3. O valor 4 representa tarefas que não podem mais ser completadas/perdidas"
   ]
  },
  {
   "cell_type": "code",
   "execution_count": 39,
   "metadata": {},
   "outputs": [
    {
     "data": {
      "text/html": [
       "<div>\n",
       "<style scoped>\n",
       "    .dataframe tbody tr th:only-of-type {\n",
       "        vertical-align: middle;\n",
       "    }\n",
       "\n",
       "    .dataframe tbody tr th {\n",
       "        vertical-align: top;\n",
       "    }\n",
       "\n",
       "    .dataframe thead th {\n",
       "        text-align: right;\n",
       "    }\n",
       "</style>\n",
       "<table border=\"1\" class=\"dataframe\">\n",
       "  <thead>\n",
       "    <tr style=\"text-align: right;\">\n",
       "      <th></th>\n",
       "      <th>v1</th>\n",
       "      <th>v2</th>\n",
       "    </tr>\n",
       "  </thead>\n",
       "  <tbody>\n",
       "    <tr>\n",
       "      <th>532</th>\n",
       "      <td>6.5</td>\n",
       "      <td>10.0</td>\n",
       "    </tr>\n",
       "  </tbody>\n",
       "</table>\n",
       "</div>"
      ],
      "text/plain": [
       "      v1    v2\n",
       "532  6.5  10.0"
      ]
     },
     "execution_count": 39,
     "metadata": {},
     "output_type": "execute_result"
    }
   ],
   "source": [
    "notifications_with_user_grades_df.loc[notifications_with_user_grades_df[\"user\"] == 14, [\"v1\", \"v2\"]].head(1)"
   ]
  },
  {
   "cell_type": "code",
   "execution_count": 40,
   "metadata": {},
   "outputs": [],
   "source": [
    "count_notification_level_by_user = notifications_with_user_grades_df.groupby([\"user\", \"level\"]).size()"
   ]
  },
  {
   "cell_type": "code",
   "execution_count": 41,
   "metadata": {},
   "outputs": [
    {
     "data": {
      "text/html": [
       "<div>\n",
       "<style scoped>\n",
       "    .dataframe tbody tr th:only-of-type {\n",
       "        vertical-align: middle;\n",
       "    }\n",
       "\n",
       "    .dataframe tbody tr th {\n",
       "        vertical-align: top;\n",
       "    }\n",
       "\n",
       "    .dataframe thead th {\n",
       "        text-align: right;\n",
       "    }\n",
       "</style>\n",
       "<table border=\"1\" class=\"dataframe\">\n",
       "  <thead>\n",
       "    <tr style=\"text-align: right;\">\n",
       "      <th>level</th>\n",
       "      <th>1</th>\n",
       "      <th>2</th>\n",
       "      <th>3</th>\n",
       "      <th>4</th>\n",
       "    </tr>\n",
       "    <tr>\n",
       "      <th>user</th>\n",
       "      <th></th>\n",
       "      <th></th>\n",
       "      <th></th>\n",
       "      <th></th>\n",
       "    </tr>\n",
       "  </thead>\n",
       "  <tbody>\n",
       "    <tr>\n",
       "      <th>11</th>\n",
       "      <td>71.0</td>\n",
       "      <td>NaN</td>\n",
       "      <td>179.0</td>\n",
       "      <td>95.0</td>\n",
       "    </tr>\n",
       "    <tr>\n",
       "      <th>12</th>\n",
       "      <td>45.0</td>\n",
       "      <td>NaN</td>\n",
       "      <td>2.0</td>\n",
       "      <td>NaN</td>\n",
       "    </tr>\n",
       "    <tr>\n",
       "      <th>13</th>\n",
       "      <td>58.0</td>\n",
       "      <td>NaN</td>\n",
       "      <td>39.0</td>\n",
       "      <td>43.0</td>\n",
       "    </tr>\n",
       "    <tr>\n",
       "      <th>14</th>\n",
       "      <td>23.0</td>\n",
       "      <td>NaN</td>\n",
       "      <td>7.0</td>\n",
       "      <td>43.0</td>\n",
       "    </tr>\n",
       "    <tr>\n",
       "      <th>15</th>\n",
       "      <td>64.0</td>\n",
       "      <td>NaN</td>\n",
       "      <td>76.0</td>\n",
       "      <td>43.0</td>\n",
       "    </tr>\n",
       "  </tbody>\n",
       "</table>\n",
       "</div>"
      ],
      "text/plain": [
       "level     1   2      3     4\n",
       "user                        \n",
       "11     71.0 NaN  179.0  95.0\n",
       "12     45.0 NaN    2.0   NaN\n",
       "13     58.0 NaN   39.0  43.0\n",
       "14     23.0 NaN    7.0  43.0\n",
       "15     64.0 NaN   76.0  43.0"
      ]
     },
     "execution_count": 41,
     "metadata": {},
     "output_type": "execute_result"
    }
   ],
   "source": [
    "count_notification_level_by_user.reset_index().pivot(index=\"user\", columns=\"level\", values=0).head(5)"
   ]
  },
  {
   "cell_type": "markdown",
   "metadata": {},
   "source": [
    "# Indexando as notificações por tempo, análise temporal"
   ]
  },
  {
   "cell_type": "code",
   "execution_count": 42,
   "metadata": {},
   "outputs": [
    {
     "data": {
      "text/plain": [
       "Index(['creation_date', 'level', 'meta', 'task', 'user', 'viewed', 'fields',\n",
       "       'model', 'pk', 'id_estudante', 'v1', 'v2'],\n",
       "      dtype='object')"
      ]
     },
     "execution_count": 42,
     "metadata": {},
     "output_type": "execute_result"
    }
   ],
   "source": [
    "notifications_with_user_grades_df.columns"
   ]
  },
  {
   "cell_type": "code",
   "execution_count": 43,
   "metadata": {},
   "outputs": [],
   "source": [
    "notifications_with_user_grades_df.index = notifications_with_user_grades_df[\"creation_date\"]"
   ]
  },
  {
   "cell_type": "code",
   "execution_count": 44,
   "metadata": {},
   "outputs": [
    {
     "data": {
      "text/plain": [
       "DatetimeIndex(['2018-11-05', '2018-11-06', '2018-11-06', '2018-11-06',\n",
       "               '2018-11-07', '2018-11-07', '2018-11-08', '2018-11-08',\n",
       "               '2018-11-08', '2018-11-09',\n",
       "               ...\n",
       "               '2019-01-04', '2019-01-13', '2019-01-14', '2019-01-16',\n",
       "               '2019-01-17', '2019-01-18', '2019-01-19', '2019-01-20',\n",
       "               '2019-01-21', '2019-01-22'],\n",
       "              dtype='datetime64[ns]', name='creation_date', length=11404, freq=None)"
      ]
     },
     "execution_count": 44,
     "metadata": {},
     "output_type": "execute_result"
    }
   ],
   "source": [
    "notifications_with_user_grades_df.index"
   ]
  },
  {
   "cell_type": "code",
   "execution_count": 45,
   "metadata": {},
   "outputs": [
    {
     "data": {
      "text/html": [
       "<div>\n",
       "<style scoped>\n",
       "    .dataframe tbody tr th:only-of-type {\n",
       "        vertical-align: middle;\n",
       "    }\n",
       "\n",
       "    .dataframe tbody tr th {\n",
       "        vertical-align: top;\n",
       "    }\n",
       "\n",
       "    .dataframe thead th {\n",
       "        text-align: right;\n",
       "    }\n",
       "</style>\n",
       "<table border=\"1\" class=\"dataframe\">\n",
       "  <thead>\n",
       "    <tr style=\"text-align: right;\">\n",
       "      <th></th>\n",
       "      <th>v1</th>\n",
       "      <th>v2</th>\n",
       "    </tr>\n",
       "    <tr>\n",
       "      <th>creation_date</th>\n",
       "      <th></th>\n",
       "      <th></th>\n",
       "    </tr>\n",
       "  </thead>\n",
       "  <tbody>\n",
       "    <tr>\n",
       "      <th>2018-11-30</th>\n",
       "      <td>4.025120</td>\n",
       "      <td>4.690423</td>\n",
       "    </tr>\n",
       "    <tr>\n",
       "      <th>2018-12-31</th>\n",
       "      <td>3.089561</td>\n",
       "      <td>3.603879</td>\n",
       "    </tr>\n",
       "    <tr>\n",
       "      <th>2019-01-31</th>\n",
       "      <td>4.214038</td>\n",
       "      <td>4.814518</td>\n",
       "    </tr>\n",
       "  </tbody>\n",
       "</table>\n",
       "</div>"
      ],
      "text/plain": [
       "                     v1        v2\n",
       "creation_date                    \n",
       "2018-11-30     4.025120  4.690423\n",
       "2018-12-31     3.089561  3.603879\n",
       "2019-01-31     4.214038  4.814518"
      ]
     },
     "execution_count": 45,
     "metadata": {},
     "output_type": "execute_result"
    }
   ],
   "source": [
    "notifications_with_user_grades_df.resample('M').agg({\"v1\": \"mean\", \"v2\": \"mean\"})"
   ]
  },
  {
   "cell_type": "markdown",
   "metadata": {},
   "source": [
    "Dado muito bom: a média de notificações visualizadas e quantidade de notificações visualizadas por semana de cada usuário"
   ]
  },
  {
   "cell_type": "code",
   "execution_count": 46,
   "metadata": {},
   "outputs": [
    {
     "data": {
      "text/html": [
       "<div>\n",
       "<style scoped>\n",
       "    .dataframe tbody tr th:only-of-type {\n",
       "        vertical-align: middle;\n",
       "    }\n",
       "\n",
       "    .dataframe tbody tr th {\n",
       "        vertical-align: top;\n",
       "    }\n",
       "\n",
       "    .dataframe thead tr th {\n",
       "        text-align: left;\n",
       "    }\n",
       "</style>\n",
       "<table border=\"1\" class=\"dataframe\">\n",
       "  <thead>\n",
       "    <tr>\n",
       "      <th></th>\n",
       "      <th>user</th>\n",
       "      <th>creation_date</th>\n",
       "      <th colspan=\"2\" halign=\"left\">viewed</th>\n",
       "    </tr>\n",
       "    <tr>\n",
       "      <th></th>\n",
       "      <th></th>\n",
       "      <th></th>\n",
       "      <th>mean</th>\n",
       "      <th>sum</th>\n",
       "    </tr>\n",
       "  </thead>\n",
       "  <tbody>\n",
       "    <tr>\n",
       "      <th>0</th>\n",
       "      <td>11</td>\n",
       "      <td>2018-11-11</td>\n",
       "      <td>0.0</td>\n",
       "      <td>0.0</td>\n",
       "    </tr>\n",
       "    <tr>\n",
       "      <th>1</th>\n",
       "      <td>11</td>\n",
       "      <td>2018-11-18</td>\n",
       "      <td>0.0</td>\n",
       "      <td>0.0</td>\n",
       "    </tr>\n",
       "  </tbody>\n",
       "</table>\n",
       "</div>"
      ],
      "text/plain": [
       "  user creation_date viewed     \n",
       "                       mean  sum\n",
       "0   11    2018-11-11    0.0  0.0\n",
       "1   11    2018-11-18    0.0  0.0"
      ]
     },
     "execution_count": 46,
     "metadata": {},
     "output_type": "execute_result"
    }
   ],
   "source": [
    "notifications_with_user_grades_df.groupby([\"user\", pd.Grouper(freq=\"W\")])\\\n",
    ".agg({\"viewed\": [\"mean\", \"sum\"]}).reset_index().head(2)"
   ]
  },
  {
   "cell_type": "code",
   "execution_count": 47,
   "metadata": {},
   "outputs": [
    {
     "data": {
      "text/html": [
       "<div>\n",
       "<style scoped>\n",
       "    .dataframe tbody tr th:only-of-type {\n",
       "        vertical-align: middle;\n",
       "    }\n",
       "\n",
       "    .dataframe tbody tr th {\n",
       "        vertical-align: top;\n",
       "    }\n",
       "\n",
       "    .dataframe thead tr th {\n",
       "        text-align: left;\n",
       "    }\n",
       "</style>\n",
       "<table border=\"1\" class=\"dataframe\">\n",
       "  <thead>\n",
       "    <tr>\n",
       "      <th></th>\n",
       "      <th>user</th>\n",
       "      <th>creation_date</th>\n",
       "      <th colspan=\"2\" halign=\"left\">viewed</th>\n",
       "    </tr>\n",
       "    <tr>\n",
       "      <th></th>\n",
       "      <th></th>\n",
       "      <th></th>\n",
       "      <th>mean</th>\n",
       "      <th>sum</th>\n",
       "    </tr>\n",
       "  </thead>\n",
       "  <tbody>\n",
       "    <tr>\n",
       "      <th>0</th>\n",
       "      <td>11</td>\n",
       "      <td>2018-11-30</td>\n",
       "      <td>0.058824</td>\n",
       "      <td>9.0</td>\n",
       "    </tr>\n",
       "    <tr>\n",
       "      <th>1</th>\n",
       "      <td>11</td>\n",
       "      <td>2018-12-31</td>\n",
       "      <td>0.073770</td>\n",
       "      <td>9.0</td>\n",
       "    </tr>\n",
       "  </tbody>\n",
       "</table>\n",
       "</div>"
      ],
      "text/plain": [
       "  user creation_date    viewed     \n",
       "                          mean  sum\n",
       "0   11    2018-11-30  0.058824  9.0\n",
       "1   11    2018-12-31  0.073770  9.0"
      ]
     },
     "execution_count": 47,
     "metadata": {},
     "output_type": "execute_result"
    }
   ],
   "source": [
    "notifications_with_user_grades_df.groupby([\"user\", pd.Grouper(freq=\"M\")])\\\n",
    ".agg({\"viewed\": [\"mean\", \"sum\"]}).reset_index().head(2)"
   ]
  },
  {
   "cell_type": "markdown",
   "metadata": {},
   "source": [
    "# Associar recurso à pendência"
   ]
  },
  {
   "cell_type": "code",
   "execution_count": 48,
   "metadata": {},
   "outputs": [
    {
     "data": {
      "text/plain": [
       "Index(['action', 'begin_date', 'end_date', 'limit_date', 'resource', 'fields',\n",
       "       'model', 'pk'],\n",
       "      dtype='object')"
      ]
     },
     "execution_count": 48,
     "metadata": {},
     "output_type": "execute_result"
    }
   ],
   "source": [
    "pendencies_df.columns"
   ]
  },
  {
   "cell_type": "code",
   "execution_count": 49,
   "metadata": {},
   "outputs": [
    {
     "data": {
      "text/plain": [
       "Index(['_my_subclass', 'all_students', 'brief_description', 'create_date',\n",
       "       'groups', 'last_update', 'name', 'order', 'show_window', 'slug',\n",
       "       'students', 'tags', 'topic', 'visible', 'model', 'pk'],\n",
       "      dtype='object')"
      ]
     },
     "execution_count": 49,
     "metadata": {},
     "output_type": "execute_result"
    }
   ],
   "source": [
    "resources_flatten_df.columns"
   ]
  },
  {
   "cell_type": "code",
   "execution_count": 50,
   "metadata": {},
   "outputs": [
    {
     "data": {
      "text/plain": [
       "Index(['creation_date', 'level', 'meta', 'task', 'user', 'viewed', 'fields',\n",
       "       'model', 'pk', 'id_estudante', 'v1', 'v2'],\n",
       "      dtype='object')"
      ]
     },
     "execution_count": 50,
     "metadata": {},
     "output_type": "execute_result"
    }
   ],
   "source": [
    "notifications_with_user_grades_df.columns"
   ]
  },
  {
   "cell_type": "code",
   "execution_count": 51,
   "metadata": {},
   "outputs": [],
   "source": [
    "pendencies_with_resources = pd.merge(pendencies_df, resources_flatten_df, left_on=[\"resource\"], right_on=[\"pk\"])"
   ]
  },
  {
   "cell_type": "code",
   "execution_count": 52,
   "metadata": {},
   "outputs": [
    {
     "data": {
      "text/plain": [
       "Index(['action', 'begin_date', 'end_date', 'limit_date', 'resource', 'fields',\n",
       "       'model_x', 'pk_x', '_my_subclass', 'all_students', 'brief_description',\n",
       "       'create_date', 'groups', 'last_update', 'name', 'order', 'show_window',\n",
       "       'slug', 'students', 'tags', 'topic', 'visible', 'model_y', 'pk_y'],\n",
       "      dtype='object')"
      ]
     },
     "execution_count": 52,
     "metadata": {},
     "output_type": "execute_result"
    }
   ],
   "source": [
    "pendencies_with_resources.columns"
   ]
  },
  {
   "cell_type": "code",
   "execution_count": 53,
   "metadata": {},
   "outputs": [],
   "source": [
    "notications_with_resources_pendencies = pd.merge(notifications_with_user_grades_df, pendencies_with_resources, left_on=[\"task\"], right_on=[\"pk_x\"])"
   ]
  },
  {
   "cell_type": "code",
   "execution_count": 54,
   "metadata": {},
   "outputs": [
    {
     "data": {
      "text/plain": [
       "(11404, 36)"
      ]
     },
     "execution_count": 54,
     "metadata": {},
     "output_type": "execute_result"
    }
   ],
   "source": [
    "notications_with_resources_pendencies.shape"
   ]
  },
  {
   "cell_type": "code",
   "execution_count": 55,
   "metadata": {},
   "outputs": [
    {
     "data": {
      "text/plain": [
       "creation_date        datetime64[ns]\n",
       "level                      category\n",
       "meta                         object\n",
       "task                         object\n",
       "user                          int64\n",
       "viewed                         bool\n",
       "fields_x                     object\n",
       "model                        object\n",
       "pk                           object\n",
       "id_estudante                  int64\n",
       "v1                          float64\n",
       "v2                          float64\n",
       "action                     category\n",
       "begin_date           datetime64[ns]\n",
       "end_date             datetime64[ns]\n",
       "limit_date           datetime64[ns]\n",
       "resource                     object\n",
       "fields_y                     object\n",
       "model_x                      object\n",
       "pk_x                         object\n",
       "_my_subclass                 object\n",
       "all_students                   bool\n",
       "brief_description            object\n",
       "create_date                  object\n",
       "groups                       object\n",
       "last_update                  object\n",
       "name                         object\n",
       "order                         int64\n",
       "show_window                    bool\n",
       "slug                         object\n",
       "students                     object\n",
       "tags                         object\n",
       "topic                         int64\n",
       "visible                        bool\n",
       "model_y                      object\n",
       "pk_y                         object\n",
       "dtype: object"
      ]
     },
     "execution_count": 55,
     "metadata": {},
     "output_type": "execute_result"
    }
   ],
   "source": [
    "notications_with_resources_pendencies.dtypes"
   ]
  },
  {
   "cell_type": "markdown",
   "metadata": {},
   "source": [
    "# Influência da notificação na V1"
   ]
  },
  {
   "cell_type": "markdown",
   "metadata": {},
   "source": [
    "Para isto, só vou coletar notificações com pendências onde a data limite foi antes da data da v1"
   ]
  },
  {
   "cell_type": "code",
   "execution_count": 56,
   "metadata": {},
   "outputs": [],
   "source": [
    "v1_notifications = notications_with_resources_pendencies[notications_with_resources_pendencies[\"end_date\"] <= date_v1]\\\n",
    ".drop(columns=[\"v2\"])\n",
    "v1_notifications.index = v1_notifications[\"creation_date\"]"
   ]
  },
  {
   "cell_type": "code",
   "execution_count": 57,
   "metadata": {},
   "outputs": [
    {
     "data": {
      "text/plain": [
       "(8408, 35)"
      ]
     },
     "execution_count": 57,
     "metadata": {},
     "output_type": "execute_result"
    }
   ],
   "source": [
    "v1_notifications.shape"
   ]
  },
  {
   "cell_type": "markdown",
   "metadata": {},
   "source": [
    "Segundo a informação abaixo, pelo menos 75% possuem no mínimo 30 notificaçoes de pendências, e 50% possuem 71 notificações de pendências ou mais"
   ]
  },
  {
   "cell_type": "code",
   "execution_count": 58,
   "metadata": {},
   "outputs": [
    {
     "data": {
      "text/plain": [
       "0.10     18.00\n",
       "0.25     30.25\n",
       "0.50     71.00\n",
       "0.75    139.25\n",
       "0.90    266.60\n",
       "dtype: float64"
      ]
     },
     "execution_count": 58,
     "metadata": {},
     "output_type": "execute_result"
    }
   ],
   "source": [
    "v1_notifications.groupby(\"user\").size().quantile([.1,.25, .5, .75, .9])"
   ]
  },
  {
   "cell_type": "code",
   "execution_count": 59,
   "metadata": {},
   "outputs": [
    {
     "data": {
      "text/html": [
       "<div>\n",
       "<style scoped>\n",
       "    .dataframe tbody tr th:only-of-type {\n",
       "        vertical-align: middle;\n",
       "    }\n",
       "\n",
       "    .dataframe tbody tr th {\n",
       "        vertical-align: top;\n",
       "    }\n",
       "\n",
       "    .dataframe thead tr th {\n",
       "        text-align: left;\n",
       "    }\n",
       "</style>\n",
       "<table border=\"1\" class=\"dataframe\">\n",
       "  <thead>\n",
       "    <tr>\n",
       "      <th></th>\n",
       "      <th>user</th>\n",
       "      <th>creation_date</th>\n",
       "      <th colspan=\"2\" halign=\"left\">viewed</th>\n",
       "    </tr>\n",
       "    <tr>\n",
       "      <th></th>\n",
       "      <th></th>\n",
       "      <th></th>\n",
       "      <th>mean</th>\n",
       "      <th>sum</th>\n",
       "    </tr>\n",
       "  </thead>\n",
       "  <tbody>\n",
       "    <tr>\n",
       "      <th>0</th>\n",
       "      <td>11</td>\n",
       "      <td>2018-11-30</td>\n",
       "      <td>0.058824</td>\n",
       "      <td>9.0</td>\n",
       "    </tr>\n",
       "    <tr>\n",
       "      <th>1</th>\n",
       "      <td>11</td>\n",
       "      <td>2018-12-31</td>\n",
       "      <td>0.076923</td>\n",
       "      <td>9.0</td>\n",
       "    </tr>\n",
       "  </tbody>\n",
       "</table>\n",
       "</div>"
      ],
      "text/plain": [
       "  user creation_date    viewed     \n",
       "                          mean  sum\n",
       "0   11    2018-11-30  0.058824  9.0\n",
       "1   11    2018-12-31  0.076923  9.0"
      ]
     },
     "execution_count": 59,
     "metadata": {},
     "output_type": "execute_result"
    }
   ],
   "source": [
    "v1_notifications.groupby([\"user\", pd.Grouper(freq=\"M\")])\\\n",
    ".agg({\"viewed\": [\"mean\", \"sum\"]}).reset_index().head(2)"
   ]
  },
  {
   "cell_type": "code",
   "execution_count": 60,
   "metadata": {},
   "outputs": [],
   "source": [
    "test_df = v1_notifications.groupby([\"user\", pd.Grouper(freq=\"W\")])\\\n",
    ".agg({\"viewed\": [\"mean\", \"sum\"]}).reset_index().head(10)"
   ]
  },
  {
   "cell_type": "code",
   "execution_count": 61,
   "metadata": {},
   "outputs": [],
   "source": [
    "v1_notifications_viewed_date = v1_notifications.groupby([\"user\", pd.Grouper(freq=\"W\")])\\\n",
    ".agg({\"viewed\": [\"mean\", \"sum\"]}).reset_index()"
   ]
  },
  {
   "cell_type": "code",
   "execution_count": 62,
   "metadata": {
    "scrolled": true
   },
   "outputs": [
    {
     "name": "stderr",
     "output_type": "stream",
     "text": [
      "/home/bormann/anaconda3/envs/amadeus-analysis/lib/python3.7/site-packages/ipykernel_launcher.py:2: SettingWithCopyWarning: \n",
      "A value is trying to be set on a copy of a slice from a DataFrame.\n",
      "Try using .loc[row_indexer,col_indexer] = value instead\n",
      "\n",
      "See the caveats in the documentation: http://pandas.pydata.org/pandas-docs/stable/indexing.html#indexing-view-versus-copy\n",
      "  \n"
     ]
    }
   ],
   "source": [
    "viewed_df = v1_notifications_viewed_date[[\"user\", \"creation_date\"]]\n",
    "viewed_df[\"mean\"] = v1_notifications_viewed_date[\"viewed\"][\"mean\"]\n",
    "viewed_df[\"count\"] = v1_notifications_viewed_date[\"viewed\"][\"sum\"]"
   ]
  },
  {
   "cell_type": "code",
   "execution_count": 63,
   "metadata": {},
   "outputs": [],
   "source": [
    "def set_weeks_apart(df, date, date_column, week_diff_column):\n",
    "    \"\"\"\n",
    "        Create a new column week_diff_column that contains the amount of weeks between the dates on the date_column\n",
    "        of a given df to a related date\n",
    "    \"\"\"\n",
    "    return df[date_column].apply(lambda dt: (dt - date).days//7)"
   ]
  },
  {
   "cell_type": "code",
   "execution_count": 64,
   "metadata": {},
   "outputs": [
    {
     "data": {
      "text/plain": [
       "0     -5\n",
       "1     -4\n",
       "2     -3\n",
       "3     -2\n",
       "4     -1\n",
       "5      0\n",
       "6      1\n",
       "7      3\n",
       "8      4\n",
       "9      5\n",
       "10     6\n",
       "11    -5\n",
       "12    -4\n",
       "13    -3\n",
       "14    -2\n",
       "15    -5\n",
       "16    -4\n",
       "17    -3\n",
       "18    -2\n",
       "19    -1\n",
       "20     0\n",
       "21     1\n",
       "22     3\n",
       "23     4\n",
       "24     5\n",
       "25     6\n",
       "26    -5\n",
       "27    -4\n",
       "28    -3\n",
       "29    -2\n",
       "      ..\n",
       "549   -5\n",
       "550   -4\n",
       "551   -3\n",
       "552   -2\n",
       "553   -1\n",
       "554    0\n",
       "555    1\n",
       "556    3\n",
       "557    4\n",
       "558    5\n",
       "559    6\n",
       "560   -5\n",
       "561   -4\n",
       "562   -3\n",
       "563   -2\n",
       "564   -1\n",
       "565    0\n",
       "566    1\n",
       "567    3\n",
       "568    4\n",
       "569    5\n",
       "570    6\n",
       "571   -5\n",
       "572   -4\n",
       "573   -5\n",
       "574   -4\n",
       "575   -3\n",
       "576   -2\n",
       "577   -5\n",
       "578   -4\n",
       "Name: creation_date, Length: 579, dtype: int64"
      ]
     },
     "execution_count": 64,
     "metadata": {},
     "output_type": "execute_result"
    }
   ],
   "source": [
    "set_weeks_apart(viewed_df, date_v1, \"creation_date\", \"test\")"
   ]
  },
  {
   "cell_type": "code",
   "execution_count": 65,
   "metadata": {},
   "outputs": [
    {
     "data": {
      "text/html": [
       "<div>\n",
       "<style scoped>\n",
       "    .dataframe tbody tr th:only-of-type {\n",
       "        vertical-align: middle;\n",
       "    }\n",
       "\n",
       "    .dataframe tbody tr th {\n",
       "        vertical-align: top;\n",
       "    }\n",
       "\n",
       "    .dataframe thead tr th {\n",
       "        text-align: left;\n",
       "    }\n",
       "</style>\n",
       "<table border=\"1\" class=\"dataframe\">\n",
       "  <thead>\n",
       "    <tr>\n",
       "      <th></th>\n",
       "      <th>user</th>\n",
       "      <th>creation_date</th>\n",
       "      <th>mean</th>\n",
       "      <th>count</th>\n",
       "    </tr>\n",
       "    <tr>\n",
       "      <th></th>\n",
       "      <th></th>\n",
       "      <th></th>\n",
       "      <th></th>\n",
       "      <th></th>\n",
       "    </tr>\n",
       "  </thead>\n",
       "  <tbody>\n",
       "    <tr>\n",
       "      <th>0</th>\n",
       "      <td>11</td>\n",
       "      <td>2018-11-11</td>\n",
       "      <td>0.000000</td>\n",
       "      <td>0.0</td>\n",
       "    </tr>\n",
       "    <tr>\n",
       "      <th>1</th>\n",
       "      <td>11</td>\n",
       "      <td>2018-11-18</td>\n",
       "      <td>0.000000</td>\n",
       "      <td>0.0</td>\n",
       "    </tr>\n",
       "    <tr>\n",
       "      <th>2</th>\n",
       "      <td>11</td>\n",
       "      <td>2018-11-25</td>\n",
       "      <td>0.147541</td>\n",
       "      <td>9.0</td>\n",
       "    </tr>\n",
       "    <tr>\n",
       "      <th>3</th>\n",
       "      <td>11</td>\n",
       "      <td>2018-12-02</td>\n",
       "      <td>0.000000</td>\n",
       "      <td>0.0</td>\n",
       "    </tr>\n",
       "    <tr>\n",
       "      <th>4</th>\n",
       "      <td>11</td>\n",
       "      <td>2018-12-09</td>\n",
       "      <td>0.157895</td>\n",
       "      <td>9.0</td>\n",
       "    </tr>\n",
       "    <tr>\n",
       "      <th>5</th>\n",
       "      <td>11</td>\n",
       "      <td>2018-12-16</td>\n",
       "      <td>0.000000</td>\n",
       "      <td>0.0</td>\n",
       "    </tr>\n",
       "    <tr>\n",
       "      <th>6</th>\n",
       "      <td>11</td>\n",
       "      <td>2018-12-23</td>\n",
       "      <td>0.000000</td>\n",
       "      <td>0.0</td>\n",
       "    </tr>\n",
       "    <tr>\n",
       "      <th>7</th>\n",
       "      <td>11</td>\n",
       "      <td>2019-01-06</td>\n",
       "      <td>0.000000</td>\n",
       "      <td>0.0</td>\n",
       "    </tr>\n",
       "    <tr>\n",
       "      <th>8</th>\n",
       "      <td>11</td>\n",
       "      <td>2019-01-13</td>\n",
       "      <td>0.000000</td>\n",
       "      <td>0.0</td>\n",
       "    </tr>\n",
       "    <tr>\n",
       "      <th>9</th>\n",
       "      <td>11</td>\n",
       "      <td>2019-01-20</td>\n",
       "      <td>0.000000</td>\n",
       "      <td>0.0</td>\n",
       "    </tr>\n",
       "  </tbody>\n",
       "</table>\n",
       "</div>"
      ],
      "text/plain": [
       "  user creation_date      mean count\n",
       "                                    \n",
       "0   11    2018-11-11  0.000000   0.0\n",
       "1   11    2018-11-18  0.000000   0.0\n",
       "2   11    2018-11-25  0.147541   9.0\n",
       "3   11    2018-12-02  0.000000   0.0\n",
       "4   11    2018-12-09  0.157895   9.0\n",
       "5   11    2018-12-16  0.000000   0.0\n",
       "6   11    2018-12-23  0.000000   0.0\n",
       "7   11    2019-01-06  0.000000   0.0\n",
       "8   11    2019-01-13  0.000000   0.0\n",
       "9   11    2019-01-20  0.000000   0.0"
      ]
     },
     "execution_count": 65,
     "metadata": {},
     "output_type": "execute_result"
    }
   ],
   "source": [
    "viewed_df.head(10)"
   ]
  },
  {
   "cell_type": "code",
   "execution_count": 66,
   "metadata": {},
   "outputs": [
    {
     "data": {
      "text/plain": [
       "0      0.000000\n",
       "1      0.000000\n",
       "2      0.147541\n",
       "3      0.000000\n",
       "4      0.157895\n",
       "5      0.000000\n",
       "6      0.000000\n",
       "7      0.000000\n",
       "8      0.000000\n",
       "9      0.000000\n",
       "10     0.000000\n",
       "11     0.625000\n",
       "12     0.714286\n",
       "13     0.142857\n",
       "14     0.200000\n",
       "15     0.444444\n",
       "16     0.562500\n",
       "17     0.083333\n",
       "18     0.545455\n",
       "19     0.142857\n",
       "20     0.000000\n",
       "21     0.000000\n",
       "22     0.000000\n",
       "23     0.000000\n",
       "24     0.000000\n",
       "25     0.500000\n",
       "26     0.333333\n",
       "27     0.666667\n",
       "28     0.600000\n",
       "29     0.142857\n",
       "         ...   \n",
       "549    0.000000\n",
       "550    0.000000\n",
       "551    0.230769\n",
       "552    0.000000\n",
       "553    0.000000\n",
       "554    0.000000\n",
       "555    0.000000\n",
       "556    0.000000\n",
       "557    0.000000\n",
       "558    0.000000\n",
       "559    0.000000\n",
       "560    0.285714\n",
       "561    0.666667\n",
       "562    0.571429\n",
       "563    0.285714\n",
       "564    0.428571\n",
       "565    0.000000\n",
       "566    1.000000\n",
       "567    0.000000\n",
       "568    0.000000\n",
       "569    0.428571\n",
       "570    0.000000\n",
       "571    0.100000\n",
       "572    0.625000\n",
       "573    0.357143\n",
       "574    0.687500\n",
       "575    0.043478\n",
       "576    0.266667\n",
       "577    0.875000\n",
       "578    0.333333\n",
       "Name: (viewed, mean), Length: 579, dtype: float64"
      ]
     },
     "execution_count": 66,
     "metadata": {},
     "output_type": "execute_result"
    }
   ],
   "source": [
    "v1_notifications_viewed_date[[\"user\", \"viewed\"]][\"viewed\", \"mean\"]"
   ]
  },
  {
   "cell_type": "code",
   "execution_count": 67,
   "metadata": {
    "scrolled": false
   },
   "outputs": [
    {
     "data": {
      "text/plain": [
       "MultiIndex(levels=[['viewed', 'creation_date', 'user'], ['mean', 'sum', '']],\n",
       "           codes=[[2, 1, 0, 0], [2, 2, 0, 1]])"
      ]
     },
     "execution_count": 67,
     "metadata": {},
     "output_type": "execute_result"
    }
   ],
   "source": [
    "v1_notifications_viewed_date.columns"
   ]
  },
  {
   "cell_type": "code",
   "execution_count": 68,
   "metadata": {},
   "outputs": [
    {
     "data": {
      "text/plain": [
       "Index(['', '', 'mean', 'sum'], dtype='object')"
      ]
     },
     "execution_count": 68,
     "metadata": {},
     "output_type": "execute_result"
    }
   ],
   "source": [
    "v1_notifications_viewed_date.columns.get_level_values(1)"
   ]
  },
  {
   "cell_type": "code",
   "execution_count": 69,
   "metadata": {},
   "outputs": [
    {
     "data": {
      "text/plain": [
       "Definição de metas da 1ª Etapa    1624\n",
       "Aula 09 (Resumo)                   901\n",
       "Aula 07 (Resumo)                   756\n",
       "Aula 08 (Resumo)                   655\n",
       "Simulado 02                        612\n",
       "Aula 03                            594\n",
       "Aula 06                            591\n",
       "Aula 02                            577\n",
       "Aula 05 (Resumo)                   517\n",
       "Aula 04 (Resumo)                   493\n",
       "Aula 01                            443\n",
       "Simulado 01                        350\n",
       "Avaliação Diagnóstica              295\n",
       "Name: name, dtype: int64"
      ]
     },
     "execution_count": 69,
     "metadata": {},
     "output_type": "execute_result"
    }
   ],
   "source": [
    "v1_notifications[\"name\"].value_counts()"
   ]
  },
  {
   "cell_type": "code",
   "execution_count": 70,
   "metadata": {},
   "outputs": [
    {
     "data": {
      "text/plain": [
       "(877, 35)"
      ]
     },
     "execution_count": 70,
     "metadata": {},
     "output_type": "execute_result"
    }
   ],
   "source": [
    "v1_notifications[v1_notifications[\"name\"].str.contains(\"Aula\") & v1_notifications[\"viewed\"]].shape"
   ]
  },
  {
   "cell_type": "code",
   "execution_count": 71,
   "metadata": {},
   "outputs": [
    {
     "data": {
      "text/plain": [
       "(962, 35)"
      ]
     },
     "execution_count": 71,
     "metadata": {},
     "output_type": "execute_result"
    }
   ],
   "source": [
    "v1_notifications[v1_notifications[\"name\"].str.contains(\"Simulado\")].shape"
   ]
  },
  {
   "cell_type": "code",
   "execution_count": 72,
   "metadata": {
    "scrolled": true
   },
   "outputs": [
    {
     "data": {
      "text/plain": [
       "3    4183\n",
       "1    2472\n",
       "4    1747\n",
       "2       6\n",
       "Name: level, dtype: int64"
      ]
     },
     "execution_count": 72,
     "metadata": {},
     "output_type": "execute_result"
    }
   ],
   "source": [
    "v1_notifications[\"level\"].value_counts()"
   ]
  },
  {
   "cell_type": "code",
   "execution_count": 97,
   "metadata": {},
   "outputs": [],
   "source": [
    "v1_notifications[\"simulado_delayed\"] = v1_notifications[\"name\"].str.contains(\"Simulado\") & (v1_notifications[\"level\"] == 3)\n",
    "v1_notifications[\"simulado_incompleted\"] = v1_notifications[\"name\"].str.contains(\"Simulado\") & (v1_notifications[\"level\"] == 4)\n",
    "v1_notifications[\"notes_delayed\"] = v1_notifications[\"name\"].str.contains(\"Aula\") & (v1_notifications[\"level\"] == 3)"
   ]
  },
  {
   "cell_type": "code",
   "execution_count": null,
   "metadata": {},
   "outputs": [],
   "source": [
    "v1_notifications.groupby(\"user\")"
   ]
  },
  {
   "cell_type": "code",
   "execution_count": 73,
   "metadata": {},
   "outputs": [
    {
     "data": {
      "text/plain": [
       "(63, 35)"
      ]
     },
     "execution_count": 73,
     "metadata": {},
     "output_type": "execute_result"
    }
   ],
   "source": [
    "v1_notifications[v1_notifications[\"name\"].str.contains(\"Simulado\") & (v1_notifications[\"level\"] == 3)].shape"
   ]
  },
  {
   "cell_type": "code",
   "execution_count": 74,
   "metadata": {},
   "outputs": [
    {
     "data": {
      "text/plain": [
       "(328, 35)"
      ]
     },
     "execution_count": 74,
     "metadata": {},
     "output_type": "execute_result"
    }
   ],
   "source": [
    "v1_notifications[v1_notifications[\"name\"].str.contains(\"Simulado\") & (v1_notifications[\"level\"] == 4)].shape"
   ]
  },
  {
   "cell_type": "code",
   "execution_count": 75,
   "metadata": {},
   "outputs": [
    {
     "data": {
      "text/plain": [
       "(568, 35)"
      ]
     },
     "execution_count": 75,
     "metadata": {},
     "output_type": "execute_result"
    }
   ],
   "source": [
    "v1_notifications[v1_notifications[\"name\"].str.contains(\"Simulado\") & (v1_notifications[\"level\"] == 1)].shape"
   ]
  },
  {
   "cell_type": "code",
   "execution_count": 76,
   "metadata": {
    "scrolled": true
   },
   "outputs": [
    {
     "data": {
      "text/plain": [
       "(3964, 35)"
      ]
     },
     "execution_count": 76,
     "metadata": {},
     "output_type": "execute_result"
    }
   ],
   "source": [
    "v1_notifications[v1_notifications[\"name\"].str.contains(\"Aula\") & (v1_notifications[\"level\"] == 3)].shape"
   ]
  },
  {
   "cell_type": "code",
   "execution_count": 96,
   "metadata": {
    "scrolled": true
   },
   "outputs": [
    {
     "data": {
      "text/plain": [
       "(1560, 37)"
      ]
     },
     "execution_count": 96,
     "metadata": {},
     "output_type": "execute_result"
    }
   ],
   "source": [
    "v1_notifications[v1_notifications[\"name\"].str.contains(\"Aula\") & (v1_notifications[\"level\"] == 1)].shape"
   ]
  },
  {
   "cell_type": "code",
   "execution_count": null,
   "metadata": {},
   "outputs": [],
   "source": []
  }
 ],
 "metadata": {
  "kernelspec": {
   "display_name": "Python 3",
   "language": "python",
   "name": "python3"
  },
  "language_info": {
   "codemirror_mode": {
    "name": "ipython",
    "version": 3
   },
   "file_extension": ".py",
   "mimetype": "text/x-python",
   "name": "python",
   "nbconvert_exporter": "python",
   "pygments_lexer": "ipython3",
   "version": "3.7.1"
  }
 },
 "nbformat": 4,
 "nbformat_minor": 2
}
