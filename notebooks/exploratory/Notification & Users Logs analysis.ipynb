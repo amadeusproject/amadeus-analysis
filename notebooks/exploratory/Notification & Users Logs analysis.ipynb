{
 "cells": [
  {
   "cell_type": "markdown",
   "metadata": {},
   "source": [
    "Here I'm going to explore the notification moduel and how they work. First, I need to understand their fields"
   ]
  },
  {
   "cell_type": "code",
   "execution_count": 52,
   "metadata": {},
   "outputs": [],
   "source": [
    "import pandas as pd\n",
    "from pandas.io.json import json_normalize\n",
    "%matplotlib inline\n",
    "from datetime import datetime, timedelta"
   ]
  },
  {
   "cell_type": "markdown",
   "metadata": {},
   "source": [
    "# LOAD DOS DADOS"
   ]
  },
  {
   "cell_type": "code",
   "execution_count": 2,
   "metadata": {},
   "outputs": [],
   "source": [
    "df = pd.read_json(\"../../data/raw_data/base_22012019.json\")"
   ]
  },
  {
   "cell_type": "code",
   "execution_count": 3,
   "metadata": {},
   "outputs": [],
   "source": [
    "grades_df = pd.read_excel(\"../../data/raw_data/nota_provas.xls\")"
   ]
  },
  {
   "cell_type": "markdown",
   "metadata": {},
   "source": [
    "Estas são as datas onde as avaliação dos alunos que compõe a base ocorreram."
   ]
  },
  {
   "cell_type": "code",
   "execution_count": 55,
   "metadata": {},
   "outputs": [],
   "source": [
    "date_v1 = datetime(day=10, year=2018, month=12)\n",
    "date_v2 = datetime(day=11, month=2, year=2019)\n",
    "date_v3 = datetime(day=18, month=3, year=2019)"
   ]
  },
  {
   "cell_type": "markdown",
   "metadata": {},
   "source": [
    "# EXPLORAÇÃO inicial"
   ]
  },
  {
   "cell_type": "code",
   "execution_count": 4,
   "metadata": {},
   "outputs": [],
   "source": [
    "notifications_df = df[df[\"model\"] == \"notifications.notification\"]"
   ]
  },
  {
   "cell_type": "code",
   "execution_count": 56,
   "metadata": {
    "scrolled": true
   },
   "outputs": [
    {
     "data": {
      "text/plain": [
       "(13219, 3)"
      ]
     },
     "execution_count": 56,
     "metadata": {},
     "output_type": "execute_result"
    }
   ],
   "source": [
    "notifications_df.shape"
   ]
  },
  {
   "cell_type": "code",
   "execution_count": 6,
   "metadata": {},
   "outputs": [
    {
     "data": {
      "text/plain": [
       "{'meta': None,\n",
       " 'task': 1,\n",
       " 'user': 8,\n",
       " 'level': 3,\n",
       " 'viewed': False,\n",
       " 'creation_date': '2018-10-28'}"
      ]
     },
     "execution_count": 6,
     "metadata": {},
     "output_type": "execute_result"
    }
   ],
   "source": [
    "notifications_df[\"fields\"].head(10)[34636]"
   ]
  },
  {
   "cell_type": "markdown",
   "metadata": {},
   "source": [
    "Uma notificação possui os seguintes campos no log:\n",
    "1. meta: \n",
    "2. user: que coleta o id do user para qual a notificação foi enviada\n",
    "3. Level: O nível da notificação está relacionado à tarefa que ela notifica sobre, este campo possui 4 valores mas somente 3 significados\n",
    "    \n",
    "    3.1 1,2: Significam que a tarefa está em dia \n",
    "    \n",
    "    3.2 3: Significa que a tarefa está atrasada\n",
    "    \n",
    "    3.3 4: Significa que o prazo para realizar a tarefa já acabou\n",
    "4. viewed: que possui valor de verdadeiro ou falso indicando se a notifcação foi vista ou não pelo usuário\n",
    "5. creation_date: A data de criação daquela notificação\n",
    "6. task: id da task que aquela notificação está associada"
   ]
  },
  {
   "cell_type": "markdown",
   "metadata": {},
   "source": [
    "# Limpeza dos dados"
   ]
  },
  {
   "cell_type": "markdown",
   "metadata": {},
   "source": [
    "é preciso extrair as colunas existentes dentro da coluna \"fields\", para isso, eu vou utilizar a função json_normalize, nativa do pandas."
   ]
  },
  {
   "cell_type": "code",
   "execution_count": 7,
   "metadata": {},
   "outputs": [],
   "source": [
    "def extract_flatten_dataframe(df, column, meta_list):\n",
    "    df_fields = json_normalize(data=df[column], meta=meta_list)\n",
    "    df_fields.index = df.index\n",
    "    return df_fields.join(df, how=\"outer\")"
   ]
  },
  {
   "cell_type": "code",
   "execution_count": 8,
   "metadata": {},
   "outputs": [],
   "source": [
    "notification_fields = json_normalize(data=notifications_df[\"fields\"], meta=[\"meta\", \"task\", \"user\", \"level\", \"viewed\", \"creation_date\"] )\n",
    "notification_fields.index = notifications_df.index\n",
    "notification_fields = notification_fields.astype({\"level\": pd.CategoricalDtype()})\n",
    "notification_fields[\"creation_date\"] = pd.to_datetime(notification_fields[\"creation_date\"])\n",
    "notification_df_flatted = notification_fields.join(notifications_df, how=\"outer\")"
   ]
  },
  {
   "cell_type": "code",
   "execution_count": 9,
   "metadata": {},
   "outputs": [
    {
     "data": {
      "text/plain": [
       "creation_date    datetime64[ns]\n",
       "level                  category\n",
       "meta                     object\n",
       "task                      int64\n",
       "user                      int64\n",
       "viewed                     bool\n",
       "fields                   object\n",
       "model                    object\n",
       "pk                       object\n",
       "dtype: object"
      ]
     },
     "execution_count": 9,
     "metadata": {},
     "output_type": "execute_result"
    }
   ],
   "source": [
    "notification_df_flatted.dtypes"
   ]
  },
  {
   "cell_type": "code",
   "execution_count": 10,
   "metadata": {},
   "outputs": [
    {
     "data": {
      "text/html": [
       "<div>\n",
       "<style scoped>\n",
       "    .dataframe tbody tr th:only-of-type {\n",
       "        vertical-align: middle;\n",
       "    }\n",
       "\n",
       "    .dataframe tbody tr th {\n",
       "        vertical-align: top;\n",
       "    }\n",
       "\n",
       "    .dataframe thead th {\n",
       "        text-align: right;\n",
       "    }\n",
       "</style>\n",
       "<table border=\"1\" class=\"dataframe\">\n",
       "  <thead>\n",
       "    <tr style=\"text-align: right;\">\n",
       "      <th></th>\n",
       "      <th>creation_date</th>\n",
       "      <th>level</th>\n",
       "      <th>meta</th>\n",
       "      <th>task</th>\n",
       "      <th>user</th>\n",
       "      <th>viewed</th>\n",
       "      <th>fields</th>\n",
       "      <th>model</th>\n",
       "      <th>pk</th>\n",
       "    </tr>\n",
       "  </thead>\n",
       "  <tbody>\n",
       "    <tr>\n",
       "      <th>44082</th>\n",
       "      <td>2019-01-13</td>\n",
       "      <td>4</td>\n",
       "      <td>None</td>\n",
       "      <td>8</td>\n",
       "      <td>56</td>\n",
       "      <td>False</td>\n",
       "      <td>{'meta': None, 'task': 8, 'user': 56, 'level':...</td>\n",
       "      <td>notifications.notification</td>\n",
       "      <td>9729</td>\n",
       "    </tr>\n",
       "    <tr>\n",
       "      <th>39651</th>\n",
       "      <td>2018-11-26</td>\n",
       "      <td>4</td>\n",
       "      <td>None</td>\n",
       "      <td>8</td>\n",
       "      <td>22</td>\n",
       "      <td>False</td>\n",
       "      <td>{'meta': None, 'task': 8, 'user': 22, 'level':...</td>\n",
       "      <td>notifications.notification</td>\n",
       "      <td>5108</td>\n",
       "    </tr>\n",
       "    <tr>\n",
       "      <th>36718</th>\n",
       "      <td>2018-11-16</td>\n",
       "      <td>3</td>\n",
       "      <td>None</td>\n",
       "      <td>36</td>\n",
       "      <td>11</td>\n",
       "      <td>False</td>\n",
       "      <td>{'meta': None, 'task': 36, 'user': 11, 'level'...</td>\n",
       "      <td>notifications.notification</td>\n",
       "      <td>2085</td>\n",
       "    </tr>\n",
       "    <tr>\n",
       "      <th>37342</th>\n",
       "      <td>2018-11-19</td>\n",
       "      <td>3</td>\n",
       "      <td>None</td>\n",
       "      <td>12</td>\n",
       "      <td>56</td>\n",
       "      <td>False</td>\n",
       "      <td>{'meta': None, 'task': 12, 'user': 56, 'level'...</td>\n",
       "      <td>notifications.notification</td>\n",
       "      <td>2729</td>\n",
       "    </tr>\n",
       "    <tr>\n",
       "      <th>46319</th>\n",
       "      <td>2019-01-19</td>\n",
       "      <td>1</td>\n",
       "      <td>None</td>\n",
       "      <td>20</td>\n",
       "      <td>45</td>\n",
       "      <td>False</td>\n",
       "      <td>{'meta': None, 'task': 20, 'user': 45, 'level'...</td>\n",
       "      <td>notifications.notification</td>\n",
       "      <td>11966</td>\n",
       "    </tr>\n",
       "    <tr>\n",
       "      <th>42621</th>\n",
       "      <td>2018-12-10</td>\n",
       "      <td>3</td>\n",
       "      <td>None</td>\n",
       "      <td>1</td>\n",
       "      <td>7</td>\n",
       "      <td>False</td>\n",
       "      <td>{'meta': None, 'task': 1, 'user': 7, 'level': ...</td>\n",
       "      <td>notifications.notification</td>\n",
       "      <td>8218</td>\n",
       "    </tr>\n",
       "    <tr>\n",
       "      <th>39328</th>\n",
       "      <td>2018-11-25</td>\n",
       "      <td>1</td>\n",
       "      <td>None</td>\n",
       "      <td>37</td>\n",
       "      <td>28</td>\n",
       "      <td>False</td>\n",
       "      <td>{'meta': None, 'task': 37, 'user': 28, 'level'...</td>\n",
       "      <td>notifications.notification</td>\n",
       "      <td>4775</td>\n",
       "    </tr>\n",
       "    <tr>\n",
       "      <th>44508</th>\n",
       "      <td>2019-01-15</td>\n",
       "      <td>3</td>\n",
       "      <td>None</td>\n",
       "      <td>42</td>\n",
       "      <td>27</td>\n",
       "      <td>False</td>\n",
       "      <td>{'meta': None, 'task': 42, 'user': 27, 'level'...</td>\n",
       "      <td>notifications.notification</td>\n",
       "      <td>10155</td>\n",
       "    </tr>\n",
       "    <tr>\n",
       "      <th>47064</th>\n",
       "      <td>2019-01-21</td>\n",
       "      <td>3</td>\n",
       "      <td>None</td>\n",
       "      <td>42</td>\n",
       "      <td>16</td>\n",
       "      <td>False</td>\n",
       "      <td>{'meta': None, 'task': 42, 'user': 16, 'level'...</td>\n",
       "      <td>notifications.notification</td>\n",
       "      <td>12711</td>\n",
       "    </tr>\n",
       "    <tr>\n",
       "      <th>35318</th>\n",
       "      <td>2018-11-08</td>\n",
       "      <td>1</td>\n",
       "      <td>None</td>\n",
       "      <td>10</td>\n",
       "      <td>18</td>\n",
       "      <td>False</td>\n",
       "      <td>{'meta': None, 'task': 10, 'user': 18, 'level'...</td>\n",
       "      <td>notifications.notification</td>\n",
       "      <td>685</td>\n",
       "    </tr>\n",
       "  </tbody>\n",
       "</table>\n",
       "</div>"
      ],
      "text/plain": [
       "      creation_date level  meta  task  user  viewed  \\\n",
       "44082    2019-01-13     4  None     8    56   False   \n",
       "39651    2018-11-26     4  None     8    22   False   \n",
       "36718    2018-11-16     3  None    36    11   False   \n",
       "37342    2018-11-19     3  None    12    56   False   \n",
       "46319    2019-01-19     1  None    20    45   False   \n",
       "42621    2018-12-10     3  None     1     7   False   \n",
       "39328    2018-11-25     1  None    37    28   False   \n",
       "44508    2019-01-15     3  None    42    27   False   \n",
       "47064    2019-01-21     3  None    42    16   False   \n",
       "35318    2018-11-08     1  None    10    18   False   \n",
       "\n",
       "                                                  fields  \\\n",
       "44082  {'meta': None, 'task': 8, 'user': 56, 'level':...   \n",
       "39651  {'meta': None, 'task': 8, 'user': 22, 'level':...   \n",
       "36718  {'meta': None, 'task': 36, 'user': 11, 'level'...   \n",
       "37342  {'meta': None, 'task': 12, 'user': 56, 'level'...   \n",
       "46319  {'meta': None, 'task': 20, 'user': 45, 'level'...   \n",
       "42621  {'meta': None, 'task': 1, 'user': 7, 'level': ...   \n",
       "39328  {'meta': None, 'task': 37, 'user': 28, 'level'...   \n",
       "44508  {'meta': None, 'task': 42, 'user': 27, 'level'...   \n",
       "47064  {'meta': None, 'task': 42, 'user': 16, 'level'...   \n",
       "35318  {'meta': None, 'task': 10, 'user': 18, 'level'...   \n",
       "\n",
       "                            model     pk  \n",
       "44082  notifications.notification   9729  \n",
       "39651  notifications.notification   5108  \n",
       "36718  notifications.notification   2085  \n",
       "37342  notifications.notification   2729  \n",
       "46319  notifications.notification  11966  \n",
       "42621  notifications.notification   8218  \n",
       "39328  notifications.notification   4775  \n",
       "44508  notifications.notification  10155  \n",
       "47064  notifications.notification  12711  \n",
       "35318  notifications.notification    685  "
      ]
     },
     "execution_count": 10,
     "metadata": {},
     "output_type": "execute_result"
    }
   ],
   "source": [
    "notification_df_flatted.sample(10)"
   ]
  },
  {
   "cell_type": "code",
   "execution_count": 11,
   "metadata": {},
   "outputs": [
    {
     "data": {
      "text/plain": [
       "creation_date    datetime64[ns]\n",
       "level                  category\n",
       "meta                     object\n",
       "task                      int64\n",
       "user                      int64\n",
       "viewed                     bool\n",
       "dtype: object"
      ]
     },
     "execution_count": 11,
     "metadata": {},
     "output_type": "execute_result"
    }
   ],
   "source": [
    "notification_fields.dtypes"
   ]
  },
  {
   "cell_type": "markdown",
   "metadata": {},
   "source": [
    "Como dá pra ver o pandas não consegue inferir muito bem os data types das colunas, vou utilizar meu conhecimento sobre elas para colocar valores mais baratos e que correspondem melhor aos seus valores.m"
   ]
  },
  {
   "cell_type": "markdown",
   "metadata": {},
   "source": [
    "# Resources"
   ]
  },
  {
   "cell_type": "code",
   "execution_count": 12,
   "metadata": {},
   "outputs": [],
   "source": [
    "resources_df = df[df[\"model\"] == \"topics.resource\"]"
   ]
  },
  {
   "cell_type": "code",
   "execution_count": 13,
   "metadata": {},
   "outputs": [
    {
     "data": {
      "text/plain": [
       "{'_my_subclass': 'webpage',\n",
       " 'name': 'Avaliação Diagnóstica',\n",
       " 'slug': 'avaliacao-diagnostica',\n",
       " 'brief_description': '<div>\\r\\n  <small>Valor: 0,25 ponto (<font color=\"#ff0000\"><i>extra</i></font>)</small>\\r\\n</div>\\r\\n<div>\\r\\n  <small>Início: 05/11/2018</small>&nbsp;<small style=\"margin-left: 10px\">Final: 11/11/2018</small>\\r\\n</div>',\n",
       " 'show_window': False,\n",
       " 'all_students': True,\n",
       " 'visible': True,\n",
       " 'order': 1,\n",
       " 'topic': 5,\n",
       " 'create_date': '2018-10-23T03:36:54.806Z',\n",
       " 'last_update': '2018-11-05T12:08:57.125Z',\n",
       " 'students': [],\n",
       " 'groups': [],\n",
       " 'tags': [62, 63]}"
      ]
     },
     "execution_count": 13,
     "metadata": {},
     "output_type": "execute_result"
    }
   ],
   "source": [
    "df[df[\"model\"] == \"topics.resource\"][\"fields\"][120546]"
   ]
  },
  {
   "cell_type": "code",
   "execution_count": 14,
   "metadata": {},
   "outputs": [],
   "source": [
    "resource_meta_list = [\"_my_subclass\", \"visible\", \"students\", \"groups\", \"tags\", \"all_students\", \"order\", \"topic\", \n",
    "             \"show_window\", \"brief_description\", \"slug\", \"name\"]"
   ]
  },
  {
   "cell_type": "code",
   "execution_count": 15,
   "metadata": {},
   "outputs": [
    {
     "data": {
      "text/html": [
       "<div>\n",
       "<style scoped>\n",
       "    .dataframe tbody tr th:only-of-type {\n",
       "        vertical-align: middle;\n",
       "    }\n",
       "\n",
       "    .dataframe tbody tr th {\n",
       "        vertical-align: top;\n",
       "    }\n",
       "\n",
       "    .dataframe thead th {\n",
       "        text-align: right;\n",
       "    }\n",
       "</style>\n",
       "<table border=\"1\" class=\"dataframe\">\n",
       "  <thead>\n",
       "    <tr style=\"text-align: right;\">\n",
       "      <th></th>\n",
       "      <th>_my_subclass</th>\n",
       "      <th>all_students</th>\n",
       "      <th>brief_description</th>\n",
       "      <th>create_date</th>\n",
       "      <th>groups</th>\n",
       "      <th>last_update</th>\n",
       "      <th>name</th>\n",
       "      <th>order</th>\n",
       "      <th>show_window</th>\n",
       "      <th>slug</th>\n",
       "      <th>students</th>\n",
       "      <th>tags</th>\n",
       "      <th>topic</th>\n",
       "      <th>visible</th>\n",
       "      <th>model</th>\n",
       "      <th>pk</th>\n",
       "    </tr>\n",
       "  </thead>\n",
       "  <tbody>\n",
       "    <tr>\n",
       "      <th>120546</th>\n",
       "      <td>webpage</td>\n",
       "      <td>True</td>\n",
       "      <td>&lt;div&gt;\\r\\n  &lt;small&gt;Valor: 0,25 ponto (&lt;font col...</td>\n",
       "      <td>2018-10-23T03:36:54.806Z</td>\n",
       "      <td>[]</td>\n",
       "      <td>2018-11-05T12:08:57.125Z</td>\n",
       "      <td>Avaliação Diagnóstica</td>\n",
       "      <td>1</td>\n",
       "      <td>False</td>\n",
       "      <td>avaliacao-diagnostica</td>\n",
       "      <td>[]</td>\n",
       "      <td>[62, 63]</td>\n",
       "      <td>5</td>\n",
       "      <td>True</td>\n",
       "      <td>topics.resource</td>\n",
       "      <td>9</td>\n",
       "    </tr>\n",
       "    <tr>\n",
       "      <th>120547</th>\n",
       "      <td>pdffile</td>\n",
       "      <td>True</td>\n",
       "      <td></td>\n",
       "      <td>2018-10-23T19:05:01.720Z</td>\n",
       "      <td>[]</td>\n",
       "      <td>2018-12-17T15:06:52.038Z</td>\n",
       "      <td>Prova anterior (prova 01, 2007.2, turma E6)</td>\n",
       "      <td>37</td>\n",
       "      <td>True</td>\n",
       "      <td>prova-anterior-prova-01-20072-turma-e6</td>\n",
       "      <td>[]</td>\n",
       "      <td>[10, 11, 12, 13, 14, 15, 16, 17]</td>\n",
       "      <td>6</td>\n",
       "      <td>True</td>\n",
       "      <td>topics.resource</td>\n",
       "      <td>10</td>\n",
       "    </tr>\n",
       "    <tr>\n",
       "      <th>120548</th>\n",
       "      <td>pdffile</td>\n",
       "      <td>True</td>\n",
       "      <td></td>\n",
       "      <td>2018-10-23T19:06:18.936Z</td>\n",
       "      <td>[]</td>\n",
       "      <td>2018-12-17T15:06:52.052Z</td>\n",
       "      <td>Prova anterior (prova 01, 2008.1, turma 52)</td>\n",
       "      <td>38</td>\n",
       "      <td>True</td>\n",
       "      <td>prova-anterior-prova-01-20081-turma-52</td>\n",
       "      <td>[]</td>\n",
       "      <td>[10, 11, 12, 13, 14, 15, 16, 17]</td>\n",
       "      <td>6</td>\n",
       "      <td>True</td>\n",
       "      <td>topics.resource</td>\n",
       "      <td>11</td>\n",
       "    </tr>\n",
       "    <tr>\n",
       "      <th>120549</th>\n",
       "      <td>pdffile</td>\n",
       "      <td>True</td>\n",
       "      <td></td>\n",
       "      <td>2018-10-23T19:07:09.839Z</td>\n",
       "      <td>[]</td>\n",
       "      <td>2018-12-17T15:06:52.063Z</td>\n",
       "      <td>Prova anterior (prova 01, 2008.2, turma A5)</td>\n",
       "      <td>39</td>\n",
       "      <td>True</td>\n",
       "      <td>prova-anterior-prova-01-20082-turma-a5</td>\n",
       "      <td>[]</td>\n",
       "      <td>[10, 11, 12, 13, 14, 15, 16, 17]</td>\n",
       "      <td>6</td>\n",
       "      <td>True</td>\n",
       "      <td>topics.resource</td>\n",
       "      <td>12</td>\n",
       "    </tr>\n",
       "    <tr>\n",
       "      <th>120550</th>\n",
       "      <td>pdffile</td>\n",
       "      <td>True</td>\n",
       "      <td></td>\n",
       "      <td>2018-10-23T19:07:53.570Z</td>\n",
       "      <td>[]</td>\n",
       "      <td>2018-12-17T15:06:52.078Z</td>\n",
       "      <td>Prova anterior (prova 01, 2009.2, turma A5)</td>\n",
       "      <td>40</td>\n",
       "      <td>True</td>\n",
       "      <td>prova-anterior-prova-01-20092-turma-a5</td>\n",
       "      <td>[]</td>\n",
       "      <td>[10, 11, 12, 13, 14, 15, 16, 17]</td>\n",
       "      <td>6</td>\n",
       "      <td>True</td>\n",
       "      <td>topics.resource</td>\n",
       "      <td>13</td>\n",
       "    </tr>\n",
       "  </tbody>\n",
       "</table>\n",
       "</div>"
      ],
      "text/plain": [
       "       _my_subclass  all_students  \\\n",
       "120546      webpage          True   \n",
       "120547      pdffile          True   \n",
       "120548      pdffile          True   \n",
       "120549      pdffile          True   \n",
       "120550      pdffile          True   \n",
       "\n",
       "                                        brief_description  \\\n",
       "120546  <div>\\r\\n  <small>Valor: 0,25 ponto (<font col...   \n",
       "120547                                                      \n",
       "120548                                                      \n",
       "120549                                                      \n",
       "120550                                                      \n",
       "\n",
       "                     create_date groups               last_update  \\\n",
       "120546  2018-10-23T03:36:54.806Z     []  2018-11-05T12:08:57.125Z   \n",
       "120547  2018-10-23T19:05:01.720Z     []  2018-12-17T15:06:52.038Z   \n",
       "120548  2018-10-23T19:06:18.936Z     []  2018-12-17T15:06:52.052Z   \n",
       "120549  2018-10-23T19:07:09.839Z     []  2018-12-17T15:06:52.063Z   \n",
       "120550  2018-10-23T19:07:53.570Z     []  2018-12-17T15:06:52.078Z   \n",
       "\n",
       "                                               name  order  show_window  \\\n",
       "120546                        Avaliação Diagnóstica      1        False   \n",
       "120547  Prova anterior (prova 01, 2007.2, turma E6)     37         True   \n",
       "120548  Prova anterior (prova 01, 2008.1, turma 52)     38         True   \n",
       "120549  Prova anterior (prova 01, 2008.2, turma A5)     39         True   \n",
       "120550  Prova anterior (prova 01, 2009.2, turma A5)     40         True   \n",
       "\n",
       "                                          slug students  \\\n",
       "120546                   avaliacao-diagnostica       []   \n",
       "120547  prova-anterior-prova-01-20072-turma-e6       []   \n",
       "120548  prova-anterior-prova-01-20081-turma-52       []   \n",
       "120549  prova-anterior-prova-01-20082-turma-a5       []   \n",
       "120550  prova-anterior-prova-01-20092-turma-a5       []   \n",
       "\n",
       "                                    tags  topic  visible            model  pk  \n",
       "120546                          [62, 63]      5     True  topics.resource   9  \n",
       "120547  [10, 11, 12, 13, 14, 15, 16, 17]      6     True  topics.resource  10  \n",
       "120548  [10, 11, 12, 13, 14, 15, 16, 17]      6     True  topics.resource  11  \n",
       "120549  [10, 11, 12, 13, 14, 15, 16, 17]      6     True  topics.resource  12  \n",
       "120550  [10, 11, 12, 13, 14, 15, 16, 17]      6     True  topics.resource  13  "
      ]
     },
     "execution_count": 15,
     "metadata": {},
     "output_type": "execute_result"
    }
   ],
   "source": [
    "resources_flatten_df = extract_flatten_dataframe(resources_df, \"fields\", resource_meta_list).drop(\"fields\", axis=1)\n",
    "resources_flatten_df.head(5)"
   ]
  },
  {
   "cell_type": "markdown",
   "metadata": {},
   "source": [
    "# Pendências"
   ]
  },
  {
   "cell_type": "code",
   "execution_count": 16,
   "metadata": {},
   "outputs": [
    {
     "data": {
      "text/plain": [
       "{'action': 'view',\n",
       " 'begin_date': '2018-10-28T02:53:00Z',\n",
       " 'end_date': '2018-10-28T02:55:00Z',\n",
       " 'limit_date': None,\n",
       " 'resource': 163}"
      ]
     },
     "execution_count": 16,
     "metadata": {},
     "output_type": "execute_result"
    }
   ],
   "source": [
    "df[df[\"model\"] == \"pendencies.pendencies\"][\"fields\"][120708]"
   ]
  },
  {
   "cell_type": "code",
   "execution_count": 17,
   "metadata": {},
   "outputs": [],
   "source": [
    "pendencies_meta_list = [\"action\", \"begin_date\", \"end_date\", \"limit_date\", \"resource\"]"
   ]
  },
  {
   "cell_type": "code",
   "execution_count": 152,
   "metadata": {},
   "outputs": [],
   "source": [
    "pendencies_df = extract_flatten_dataframe(df[df[\"model\"] == \"pendencies.pendencies\"], \"fields\", pendencies_meta_list)"
   ]
  },
  {
   "cell_type": "code",
   "execution_count": 153,
   "metadata": {},
   "outputs": [
    {
     "data": {
      "text/plain": [
       "action        object\n",
       "begin_date    object\n",
       "end_date      object\n",
       "limit_date    object\n",
       "resource       int64\n",
       "fields        object\n",
       "model         object\n",
       "pk            object\n",
       "dtype: object"
      ]
     },
     "execution_count": 153,
     "metadata": {},
     "output_type": "execute_result"
    }
   ],
   "source": [
    "pendencies_df.dtypes"
   ]
  },
  {
   "cell_type": "code",
   "execution_count": 154,
   "metadata": {},
   "outputs": [
    {
     "data": {
      "text/html": [
       "<div>\n",
       "<style scoped>\n",
       "    .dataframe tbody tr th:only-of-type {\n",
       "        vertical-align: middle;\n",
       "    }\n",
       "\n",
       "    .dataframe tbody tr th {\n",
       "        vertical-align: top;\n",
       "    }\n",
       "\n",
       "    .dataframe thead th {\n",
       "        text-align: right;\n",
       "    }\n",
       "</style>\n",
       "<table border=\"1\" class=\"dataframe\">\n",
       "  <thead>\n",
       "    <tr style=\"text-align: right;\">\n",
       "      <th></th>\n",
       "      <th>action</th>\n",
       "      <th>begin_date</th>\n",
       "      <th>end_date</th>\n",
       "      <th>limit_date</th>\n",
       "      <th>resource</th>\n",
       "      <th>fields</th>\n",
       "      <th>model</th>\n",
       "      <th>pk</th>\n",
       "    </tr>\n",
       "  </thead>\n",
       "  <tbody>\n",
       "    <tr>\n",
       "      <th>120708</th>\n",
       "      <td>view</td>\n",
       "      <td>2018-10-28T02:53:00Z</td>\n",
       "      <td>2018-10-28T02:55:00Z</td>\n",
       "      <td>None</td>\n",
       "      <td>163</td>\n",
       "      <td>{'action': 'view', 'begin_date': '2018-10-28T0...</td>\n",
       "      <td>pendencies.pendencies</td>\n",
       "      <td>1</td>\n",
       "    </tr>\n",
       "    <tr>\n",
       "      <th>120709</th>\n",
       "      <td>view</td>\n",
       "      <td>2018-10-28T02:54:00Z</td>\n",
       "      <td>2018-10-31T02:54:00Z</td>\n",
       "      <td>None</td>\n",
       "      <td>164</td>\n",
       "      <td>{'action': 'view', 'begin_date': '2018-10-28T0...</td>\n",
       "      <td>pendencies.pendencies</td>\n",
       "      <td>2</td>\n",
       "    </tr>\n",
       "  </tbody>\n",
       "</table>\n",
       "</div>"
      ],
      "text/plain": [
       "       action            begin_date              end_date limit_date  \\\n",
       "120708   view  2018-10-28T02:53:00Z  2018-10-28T02:55:00Z       None   \n",
       "120709   view  2018-10-28T02:54:00Z  2018-10-31T02:54:00Z       None   \n",
       "\n",
       "        resource                                             fields  \\\n",
       "120708       163  {'action': 'view', 'begin_date': '2018-10-28T0...   \n",
       "120709       164  {'action': 'view', 'begin_date': '2018-10-28T0...   \n",
       "\n",
       "                        model pk  \n",
       "120708  pendencies.pendencies  1  \n",
       "120709  pendencies.pendencies  2  "
      ]
     },
     "execution_count": 154,
     "metadata": {},
     "output_type": "execute_result"
    }
   ],
   "source": [
    "pendencies_df.head(2)"
   ]
  },
  {
   "cell_type": "code",
   "execution_count": 175,
   "metadata": {},
   "outputs": [],
   "source": [
    "# change pendencies data type to make easier to manipulate data and analyze as well\n",
    "date_columns = [\"begin_date\", \"end_date\", \"limit_date\"]\n",
    "for column in date_columns:\n",
    "    #pendencies_df[column] = pendencies_df[column].apply(lambda date: pd.Timestamp(date, tz=None))\n",
    "    pendencies_df[column] = pd.to_datetime(pendencies_df[column])\n",
    "    pendencies_df[column] = pendencies_df[column].apply(lambda timestamp: timestamp.replace(tzinfo=None))\n",
    "\n",
    "\n",
    "#pendencies_df[date_columns] = pd.to_datetime(pendencies_df[date_columns])\n",
    "#pendencies_df[date_columns] = pd.Timestamp(pendencies_df[date_columns])"
   ]
  },
  {
   "cell_type": "code",
   "execution_count": 176,
   "metadata": {},
   "outputs": [],
   "source": [
    "pendencies_df[\"action\"] = pendencies_df[\"action\"].astype(\"category\")"
   ]
  },
  {
   "cell_type": "code",
   "execution_count": 181,
   "metadata": {},
   "outputs": [
    {
     "data": {
      "text/plain": [
       "action              category\n",
       "begin_date    datetime64[ns]\n",
       "end_date      datetime64[ns]\n",
       "limit_date    datetime64[ns]\n",
       "resource               int64\n",
       "fields                object\n",
       "model                 object\n",
       "pk                    object\n",
       "dtype: object"
      ]
     },
     "execution_count": 181,
     "metadata": {},
     "output_type": "execute_result"
    }
   ],
   "source": [
    "pendencies_df.dtypes"
   ]
  },
  {
   "cell_type": "code",
   "execution_count": 182,
   "metadata": {},
   "outputs": [
    {
     "data": {
      "text/html": [
       "<div>\n",
       "<style scoped>\n",
       "    .dataframe tbody tr th:only-of-type {\n",
       "        vertical-align: middle;\n",
       "    }\n",
       "\n",
       "    .dataframe tbody tr th {\n",
       "        vertical-align: top;\n",
       "    }\n",
       "\n",
       "    .dataframe thead th {\n",
       "        text-align: right;\n",
       "    }\n",
       "</style>\n",
       "<table border=\"1\" class=\"dataframe\">\n",
       "  <thead>\n",
       "    <tr style=\"text-align: right;\">\n",
       "      <th></th>\n",
       "      <th>action</th>\n",
       "      <th>begin_date</th>\n",
       "      <th>end_date</th>\n",
       "      <th>limit_date</th>\n",
       "      <th>resource</th>\n",
       "      <th>fields</th>\n",
       "      <th>model</th>\n",
       "      <th>pk</th>\n",
       "    </tr>\n",
       "  </thead>\n",
       "  <tbody>\n",
       "    <tr>\n",
       "      <th>120708</th>\n",
       "      <td>view</td>\n",
       "      <td>2018-10-28 02:53:00</td>\n",
       "      <td>2018-10-28 02:55:00</td>\n",
       "      <td>NaT</td>\n",
       "      <td>163</td>\n",
       "      <td>{'action': 'view', 'begin_date': '2018-10-28T0...</td>\n",
       "      <td>pendencies.pendencies</td>\n",
       "      <td>1</td>\n",
       "    </tr>\n",
       "    <tr>\n",
       "      <th>120709</th>\n",
       "      <td>view</td>\n",
       "      <td>2018-10-28 02:54:00</td>\n",
       "      <td>2018-10-31 02:54:00</td>\n",
       "      <td>NaT</td>\n",
       "      <td>164</td>\n",
       "      <td>{'action': 'view', 'begin_date': '2018-10-28T0...</td>\n",
       "      <td>pendencies.pendencies</td>\n",
       "      <td>2</td>\n",
       "    </tr>\n",
       "  </tbody>\n",
       "</table>\n",
       "</div>"
      ],
      "text/plain": [
       "       action          begin_date            end_date limit_date  resource  \\\n",
       "120708   view 2018-10-28 02:53:00 2018-10-28 02:55:00        NaT       163   \n",
       "120709   view 2018-10-28 02:54:00 2018-10-31 02:54:00        NaT       164   \n",
       "\n",
       "                                                   fields  \\\n",
       "120708  {'action': 'view', 'begin_date': '2018-10-28T0...   \n",
       "120709  {'action': 'view', 'begin_date': '2018-10-28T0...   \n",
       "\n",
       "                        model pk  \n",
       "120708  pendencies.pendencies  1  \n",
       "120709  pendencies.pendencies  2  "
      ]
     },
     "execution_count": 182,
     "metadata": {},
     "output_type": "execute_result"
    }
   ],
   "source": [
    "pendencies_df.head(2)"
   ]
  },
  {
   "cell_type": "markdown",
   "metadata": {},
   "source": [
    "# Users Data\n",
    "Como os usuários são o principal objeto de pesquisa deste relatório, eu preciso coletar os IDs deles para juntar as notificações e \"dar à um responsável\"."
   ]
  },
  {
   "cell_type": "code",
   "execution_count": 183,
   "metadata": {
    "scrolled": true
   },
   "outputs": [
    {
     "data": {
      "text/html": [
       "<div>\n",
       "<style scoped>\n",
       "    .dataframe tbody tr th:only-of-type {\n",
       "        vertical-align: middle;\n",
       "    }\n",
       "\n",
       "    .dataframe tbody tr th {\n",
       "        vertical-align: top;\n",
       "    }\n",
       "\n",
       "    .dataframe thead th {\n",
       "        text-align: right;\n",
       "    }\n",
       "</style>\n",
       "<table border=\"1\" class=\"dataframe\">\n",
       "  <thead>\n",
       "    <tr style=\"text-align: right;\">\n",
       "      <th></th>\n",
       "      <th>fields</th>\n",
       "      <th>model</th>\n",
       "      <th>pk</th>\n",
       "    </tr>\n",
       "  </thead>\n",
       "  <tbody>\n",
       "    <tr>\n",
       "      <th>34528</th>\n",
       "      <td>{'password': 'pbkdf2_sha256$30000$5DROf4Pf3BPR...</td>\n",
       "      <td>users.user</td>\n",
       "      <td>1</td>\n",
       "    </tr>\n",
       "    <tr>\n",
       "      <th>34529</th>\n",
       "      <td>{'password': 'pbkdf2_sha256$30000$u3Lg5la328P5...</td>\n",
       "      <td>users.user</td>\n",
       "      <td>2</td>\n",
       "    </tr>\n",
       "    <tr>\n",
       "      <th>34530</th>\n",
       "      <td>{'password': 'pbkdf2_sha256$30000$Tg55KDswGl6t...</td>\n",
       "      <td>users.user</td>\n",
       "      <td>3</td>\n",
       "    </tr>\n",
       "    <tr>\n",
       "      <th>34531</th>\n",
       "      <td>{'password': 'pbkdf2_sha256$30000$sN16VkfYDIiS...</td>\n",
       "      <td>users.user</td>\n",
       "      <td>4</td>\n",
       "    </tr>\n",
       "    <tr>\n",
       "      <th>34532</th>\n",
       "      <td>{'password': 'pbkdf2_sha256$30000$x85db28ZviCz...</td>\n",
       "      <td>users.user</td>\n",
       "      <td>6</td>\n",
       "    </tr>\n",
       "    <tr>\n",
       "      <th>34533</th>\n",
       "      <td>{'password': 'pbkdf2_sha256$30000$YuhP7bGSlXwn...</td>\n",
       "      <td>users.user</td>\n",
       "      <td>7</td>\n",
       "    </tr>\n",
       "    <tr>\n",
       "      <th>34534</th>\n",
       "      <td>{'password': 'pbkdf2_sha256$30000$l7WAB2nBwfTg...</td>\n",
       "      <td>users.user</td>\n",
       "      <td>8</td>\n",
       "    </tr>\n",
       "    <tr>\n",
       "      <th>34535</th>\n",
       "      <td>{'password': 'pbkdf2_sha256$30000$DOj6RbuvrpDK...</td>\n",
       "      <td>users.user</td>\n",
       "      <td>9</td>\n",
       "    </tr>\n",
       "    <tr>\n",
       "      <th>34536</th>\n",
       "      <td>{'password': 'pbkdf2_sha256$30000$wbwdFEajjHed...</td>\n",
       "      <td>users.user</td>\n",
       "      <td>10</td>\n",
       "    </tr>\n",
       "    <tr>\n",
       "      <th>34537</th>\n",
       "      <td>{'password': 'pbkdf2_sha256$30000$DOPLvJQYYOz4...</td>\n",
       "      <td>users.user</td>\n",
       "      <td>11</td>\n",
       "    </tr>\n",
       "    <tr>\n",
       "      <th>34538</th>\n",
       "      <td>{'password': 'pbkdf2_sha256$30000$r0DXYWMxRpst...</td>\n",
       "      <td>users.user</td>\n",
       "      <td>12</td>\n",
       "    </tr>\n",
       "    <tr>\n",
       "      <th>34539</th>\n",
       "      <td>{'password': 'pbkdf2_sha256$30000$eVB9yTrSyNoB...</td>\n",
       "      <td>users.user</td>\n",
       "      <td>13</td>\n",
       "    </tr>\n",
       "    <tr>\n",
       "      <th>34540</th>\n",
       "      <td>{'password': 'pbkdf2_sha256$30000$FLXUzVWbEoPS...</td>\n",
       "      <td>users.user</td>\n",
       "      <td>14</td>\n",
       "    </tr>\n",
       "    <tr>\n",
       "      <th>34541</th>\n",
       "      <td>{'password': 'pbkdf2_sha256$30000$fGpIWFIvrMtc...</td>\n",
       "      <td>users.user</td>\n",
       "      <td>15</td>\n",
       "    </tr>\n",
       "    <tr>\n",
       "      <th>34542</th>\n",
       "      <td>{'password': 'pbkdf2_sha256$30000$osUH62JV9a0m...</td>\n",
       "      <td>users.user</td>\n",
       "      <td>16</td>\n",
       "    </tr>\n",
       "    <tr>\n",
       "      <th>34543</th>\n",
       "      <td>{'password': 'pbkdf2_sha256$30000$0XRDrMn982oD...</td>\n",
       "      <td>users.user</td>\n",
       "      <td>17</td>\n",
       "    </tr>\n",
       "    <tr>\n",
       "      <th>34544</th>\n",
       "      <td>{'password': 'pbkdf2_sha256$30000$0fHafKgzVrTL...</td>\n",
       "      <td>users.user</td>\n",
       "      <td>18</td>\n",
       "    </tr>\n",
       "    <tr>\n",
       "      <th>34545</th>\n",
       "      <td>{'password': 'pbkdf2_sha256$30000$GVcBJQIS4Fe2...</td>\n",
       "      <td>users.user</td>\n",
       "      <td>19</td>\n",
       "    </tr>\n",
       "    <tr>\n",
       "      <th>34546</th>\n",
       "      <td>{'password': 'pbkdf2_sha256$30000$Z6rbrmqxe4oB...</td>\n",
       "      <td>users.user</td>\n",
       "      <td>20</td>\n",
       "    </tr>\n",
       "    <tr>\n",
       "      <th>34547</th>\n",
       "      <td>{'password': 'pbkdf2_sha256$30000$xcQ4kVXpvNkK...</td>\n",
       "      <td>users.user</td>\n",
       "      <td>21</td>\n",
       "    </tr>\n",
       "    <tr>\n",
       "      <th>34548</th>\n",
       "      <td>{'password': 'pbkdf2_sha256$30000$bNxNzsqr4UdD...</td>\n",
       "      <td>users.user</td>\n",
       "      <td>22</td>\n",
       "    </tr>\n",
       "    <tr>\n",
       "      <th>34549</th>\n",
       "      <td>{'password': 'pbkdf2_sha256$30000$viYQ4wdkEwvx...</td>\n",
       "      <td>users.user</td>\n",
       "      <td>23</td>\n",
       "    </tr>\n",
       "    <tr>\n",
       "      <th>34550</th>\n",
       "      <td>{'password': 'pbkdf2_sha256$30000$GmDx8dprbKQf...</td>\n",
       "      <td>users.user</td>\n",
       "      <td>24</td>\n",
       "    </tr>\n",
       "    <tr>\n",
       "      <th>34551</th>\n",
       "      <td>{'password': 'pbkdf2_sha256$30000$sPd4PWFJna1K...</td>\n",
       "      <td>users.user</td>\n",
       "      <td>25</td>\n",
       "    </tr>\n",
       "    <tr>\n",
       "      <th>34552</th>\n",
       "      <td>{'password': 'pbkdf2_sha256$30000$AM49R7KvG80v...</td>\n",
       "      <td>users.user</td>\n",
       "      <td>26</td>\n",
       "    </tr>\n",
       "    <tr>\n",
       "      <th>34553</th>\n",
       "      <td>{'password': 'pbkdf2_sha256$30000$pZI3kN2Ap4XY...</td>\n",
       "      <td>users.user</td>\n",
       "      <td>27</td>\n",
       "    </tr>\n",
       "    <tr>\n",
       "      <th>34554</th>\n",
       "      <td>{'password': 'pbkdf2_sha256$30000$zLQr5zTS8TXc...</td>\n",
       "      <td>users.user</td>\n",
       "      <td>28</td>\n",
       "    </tr>\n",
       "    <tr>\n",
       "      <th>34555</th>\n",
       "      <td>{'password': 'pbkdf2_sha256$30000$sfkP4cvWhYT6...</td>\n",
       "      <td>users.user</td>\n",
       "      <td>29</td>\n",
       "    </tr>\n",
       "    <tr>\n",
       "      <th>34556</th>\n",
       "      <td>{'password': 'pbkdf2_sha256$30000$qcZD0jVvUEzm...</td>\n",
       "      <td>users.user</td>\n",
       "      <td>30</td>\n",
       "    </tr>\n",
       "    <tr>\n",
       "      <th>34557</th>\n",
       "      <td>{'password': 'pbkdf2_sha256$30000$ZLpgpSRGCz0f...</td>\n",
       "      <td>users.user</td>\n",
       "      <td>31</td>\n",
       "    </tr>\n",
       "    <tr>\n",
       "      <th>...</th>\n",
       "      <td>...</td>\n",
       "      <td>...</td>\n",
       "      <td>...</td>\n",
       "    </tr>\n",
       "    <tr>\n",
       "      <th>34604</th>\n",
       "      <td>{'password': 'pbkdf2_sha256$30000$n3qyf0P9yiqu...</td>\n",
       "      <td>users.user</td>\n",
       "      <td>78</td>\n",
       "    </tr>\n",
       "    <tr>\n",
       "      <th>34605</th>\n",
       "      <td>{'password': 'pbkdf2_sha256$30000$NFucAhK5qkpr...</td>\n",
       "      <td>users.user</td>\n",
       "      <td>79</td>\n",
       "    </tr>\n",
       "    <tr>\n",
       "      <th>34606</th>\n",
       "      <td>{'password': 'pbkdf2_sha256$30000$1DmTsXGyAda0...</td>\n",
       "      <td>users.user</td>\n",
       "      <td>80</td>\n",
       "    </tr>\n",
       "    <tr>\n",
       "      <th>34607</th>\n",
       "      <td>{'password': 'pbkdf2_sha256$30000$iFkYYPS3z5Ip...</td>\n",
       "      <td>users.user</td>\n",
       "      <td>81</td>\n",
       "    </tr>\n",
       "    <tr>\n",
       "      <th>34608</th>\n",
       "      <td>{'password': 'pbkdf2_sha256$30000$9hHymjJcwzPo...</td>\n",
       "      <td>users.user</td>\n",
       "      <td>82</td>\n",
       "    </tr>\n",
       "    <tr>\n",
       "      <th>34609</th>\n",
       "      <td>{'password': 'pbkdf2_sha256$30000$EUigJkiaLRDM...</td>\n",
       "      <td>users.user</td>\n",
       "      <td>83</td>\n",
       "    </tr>\n",
       "    <tr>\n",
       "      <th>34610</th>\n",
       "      <td>{'password': 'pbkdf2_sha256$30000$TDWS1SMDoXP1...</td>\n",
       "      <td>users.user</td>\n",
       "      <td>84</td>\n",
       "    </tr>\n",
       "    <tr>\n",
       "      <th>34611</th>\n",
       "      <td>{'password': 'pbkdf2_sha256$30000$SmW5LaY5Wunv...</td>\n",
       "      <td>users.user</td>\n",
       "      <td>85</td>\n",
       "    </tr>\n",
       "    <tr>\n",
       "      <th>34612</th>\n",
       "      <td>{'password': 'pbkdf2_sha256$30000$RrmtowHoGDcd...</td>\n",
       "      <td>users.user</td>\n",
       "      <td>86</td>\n",
       "    </tr>\n",
       "    <tr>\n",
       "      <th>34613</th>\n",
       "      <td>{'password': 'pbkdf2_sha256$30000$CtHHWHSWJqgo...</td>\n",
       "      <td>users.user</td>\n",
       "      <td>87</td>\n",
       "    </tr>\n",
       "    <tr>\n",
       "      <th>34614</th>\n",
       "      <td>{'password': 'pbkdf2_sha256$30000$YqYm8rl0dJ1n...</td>\n",
       "      <td>users.user</td>\n",
       "      <td>88</td>\n",
       "    </tr>\n",
       "    <tr>\n",
       "      <th>34615</th>\n",
       "      <td>{'password': 'pbkdf2_sha256$30000$ofQhnT1XHv2Z...</td>\n",
       "      <td>users.user</td>\n",
       "      <td>89</td>\n",
       "    </tr>\n",
       "    <tr>\n",
       "      <th>34616</th>\n",
       "      <td>{'password': 'pbkdf2_sha256$30000$SDoc1KioxQDi...</td>\n",
       "      <td>users.user</td>\n",
       "      <td>91</td>\n",
       "    </tr>\n",
       "    <tr>\n",
       "      <th>34617</th>\n",
       "      <td>{'password': 'pbkdf2_sha256$30000$obD71HLn8A1a...</td>\n",
       "      <td>users.user</td>\n",
       "      <td>92</td>\n",
       "    </tr>\n",
       "    <tr>\n",
       "      <th>34618</th>\n",
       "      <td>{'password': 'pbkdf2_sha256$30000$xJox6dblwiFV...</td>\n",
       "      <td>users.user</td>\n",
       "      <td>93</td>\n",
       "    </tr>\n",
       "    <tr>\n",
       "      <th>34619</th>\n",
       "      <td>{'password': 'pbkdf2_sha256$30000$Tm2neLZXkPL9...</td>\n",
       "      <td>users.user</td>\n",
       "      <td>94</td>\n",
       "    </tr>\n",
       "    <tr>\n",
       "      <th>34620</th>\n",
       "      <td>{'password': 'pbkdf2_sha256$30000$WQYl60EuBoOW...</td>\n",
       "      <td>users.user</td>\n",
       "      <td>95</td>\n",
       "    </tr>\n",
       "    <tr>\n",
       "      <th>34621</th>\n",
       "      <td>{'password': 'pbkdf2_sha256$30000$QQsLwI4nekmi...</td>\n",
       "      <td>users.user</td>\n",
       "      <td>96</td>\n",
       "    </tr>\n",
       "    <tr>\n",
       "      <th>34622</th>\n",
       "      <td>{'password': 'pbkdf2_sha256$30000$8EHPKiZGWGnx...</td>\n",
       "      <td>users.user</td>\n",
       "      <td>97</td>\n",
       "    </tr>\n",
       "    <tr>\n",
       "      <th>34623</th>\n",
       "      <td>{'password': 'pbkdf2_sha256$30000$X7LgoIWgYU7l...</td>\n",
       "      <td>users.user</td>\n",
       "      <td>98</td>\n",
       "    </tr>\n",
       "    <tr>\n",
       "      <th>34624</th>\n",
       "      <td>{'password': 'pbkdf2_sha256$30000$gfNzTHSTr2w1...</td>\n",
       "      <td>users.user</td>\n",
       "      <td>99</td>\n",
       "    </tr>\n",
       "    <tr>\n",
       "      <th>34625</th>\n",
       "      <td>{'password': 'pbkdf2_sha256$30000$BxTfUzhpxx1x...</td>\n",
       "      <td>users.user</td>\n",
       "      <td>100</td>\n",
       "    </tr>\n",
       "    <tr>\n",
       "      <th>34626</th>\n",
       "      <td>{'password': 'pbkdf2_sha256$30000$Q9hO2SYPjd4m...</td>\n",
       "      <td>users.user</td>\n",
       "      <td>101</td>\n",
       "    </tr>\n",
       "    <tr>\n",
       "      <th>34627</th>\n",
       "      <td>{'password': 'pbkdf2_sha256$30000$fzbjlxv7e1O7...</td>\n",
       "      <td>users.user</td>\n",
       "      <td>102</td>\n",
       "    </tr>\n",
       "    <tr>\n",
       "      <th>34628</th>\n",
       "      <td>{'password': 'pbkdf2_sha256$30000$KQpLQoz6YEiQ...</td>\n",
       "      <td>users.user</td>\n",
       "      <td>103</td>\n",
       "    </tr>\n",
       "    <tr>\n",
       "      <th>34629</th>\n",
       "      <td>{'password': 'pbkdf2_sha256$30000$Bb2lEsRqHfUp...</td>\n",
       "      <td>users.user</td>\n",
       "      <td>104</td>\n",
       "    </tr>\n",
       "    <tr>\n",
       "      <th>34630</th>\n",
       "      <td>{'password': 'pbkdf2_sha256$30000$VZV8SvfP7joy...</td>\n",
       "      <td>users.user</td>\n",
       "      <td>105</td>\n",
       "    </tr>\n",
       "    <tr>\n",
       "      <th>34631</th>\n",
       "      <td>{'password': 'pbkdf2_sha256$30000$KyISsPUuJAaw...</td>\n",
       "      <td>users.user</td>\n",
       "      <td>106</td>\n",
       "    </tr>\n",
       "    <tr>\n",
       "      <th>34632</th>\n",
       "      <td>{'password': 'pbkdf2_sha256$30000$smDWDoCrxFpt...</td>\n",
       "      <td>users.user</td>\n",
       "      <td>107</td>\n",
       "    </tr>\n",
       "    <tr>\n",
       "      <th>34633</th>\n",
       "      <td>{'password': 'pbkdf2_sha256$30000$YrGX7hxOaDA2...</td>\n",
       "      <td>users.user</td>\n",
       "      <td>108</td>\n",
       "    </tr>\n",
       "  </tbody>\n",
       "</table>\n",
       "<p>106 rows × 3 columns</p>\n",
       "</div>"
      ],
      "text/plain": [
       "                                                  fields       model   pk\n",
       "34528  {'password': 'pbkdf2_sha256$30000$5DROf4Pf3BPR...  users.user    1\n",
       "34529  {'password': 'pbkdf2_sha256$30000$u3Lg5la328P5...  users.user    2\n",
       "34530  {'password': 'pbkdf2_sha256$30000$Tg55KDswGl6t...  users.user    3\n",
       "34531  {'password': 'pbkdf2_sha256$30000$sN16VkfYDIiS...  users.user    4\n",
       "34532  {'password': 'pbkdf2_sha256$30000$x85db28ZviCz...  users.user    6\n",
       "34533  {'password': 'pbkdf2_sha256$30000$YuhP7bGSlXwn...  users.user    7\n",
       "34534  {'password': 'pbkdf2_sha256$30000$l7WAB2nBwfTg...  users.user    8\n",
       "34535  {'password': 'pbkdf2_sha256$30000$DOj6RbuvrpDK...  users.user    9\n",
       "34536  {'password': 'pbkdf2_sha256$30000$wbwdFEajjHed...  users.user   10\n",
       "34537  {'password': 'pbkdf2_sha256$30000$DOPLvJQYYOz4...  users.user   11\n",
       "34538  {'password': 'pbkdf2_sha256$30000$r0DXYWMxRpst...  users.user   12\n",
       "34539  {'password': 'pbkdf2_sha256$30000$eVB9yTrSyNoB...  users.user   13\n",
       "34540  {'password': 'pbkdf2_sha256$30000$FLXUzVWbEoPS...  users.user   14\n",
       "34541  {'password': 'pbkdf2_sha256$30000$fGpIWFIvrMtc...  users.user   15\n",
       "34542  {'password': 'pbkdf2_sha256$30000$osUH62JV9a0m...  users.user   16\n",
       "34543  {'password': 'pbkdf2_sha256$30000$0XRDrMn982oD...  users.user   17\n",
       "34544  {'password': 'pbkdf2_sha256$30000$0fHafKgzVrTL...  users.user   18\n",
       "34545  {'password': 'pbkdf2_sha256$30000$GVcBJQIS4Fe2...  users.user   19\n",
       "34546  {'password': 'pbkdf2_sha256$30000$Z6rbrmqxe4oB...  users.user   20\n",
       "34547  {'password': 'pbkdf2_sha256$30000$xcQ4kVXpvNkK...  users.user   21\n",
       "34548  {'password': 'pbkdf2_sha256$30000$bNxNzsqr4UdD...  users.user   22\n",
       "34549  {'password': 'pbkdf2_sha256$30000$viYQ4wdkEwvx...  users.user   23\n",
       "34550  {'password': 'pbkdf2_sha256$30000$GmDx8dprbKQf...  users.user   24\n",
       "34551  {'password': 'pbkdf2_sha256$30000$sPd4PWFJna1K...  users.user   25\n",
       "34552  {'password': 'pbkdf2_sha256$30000$AM49R7KvG80v...  users.user   26\n",
       "34553  {'password': 'pbkdf2_sha256$30000$pZI3kN2Ap4XY...  users.user   27\n",
       "34554  {'password': 'pbkdf2_sha256$30000$zLQr5zTS8TXc...  users.user   28\n",
       "34555  {'password': 'pbkdf2_sha256$30000$sfkP4cvWhYT6...  users.user   29\n",
       "34556  {'password': 'pbkdf2_sha256$30000$qcZD0jVvUEzm...  users.user   30\n",
       "34557  {'password': 'pbkdf2_sha256$30000$ZLpgpSRGCz0f...  users.user   31\n",
       "...                                                  ...         ...  ...\n",
       "34604  {'password': 'pbkdf2_sha256$30000$n3qyf0P9yiqu...  users.user   78\n",
       "34605  {'password': 'pbkdf2_sha256$30000$NFucAhK5qkpr...  users.user   79\n",
       "34606  {'password': 'pbkdf2_sha256$30000$1DmTsXGyAda0...  users.user   80\n",
       "34607  {'password': 'pbkdf2_sha256$30000$iFkYYPS3z5Ip...  users.user   81\n",
       "34608  {'password': 'pbkdf2_sha256$30000$9hHymjJcwzPo...  users.user   82\n",
       "34609  {'password': 'pbkdf2_sha256$30000$EUigJkiaLRDM...  users.user   83\n",
       "34610  {'password': 'pbkdf2_sha256$30000$TDWS1SMDoXP1...  users.user   84\n",
       "34611  {'password': 'pbkdf2_sha256$30000$SmW5LaY5Wunv...  users.user   85\n",
       "34612  {'password': 'pbkdf2_sha256$30000$RrmtowHoGDcd...  users.user   86\n",
       "34613  {'password': 'pbkdf2_sha256$30000$CtHHWHSWJqgo...  users.user   87\n",
       "34614  {'password': 'pbkdf2_sha256$30000$YqYm8rl0dJ1n...  users.user   88\n",
       "34615  {'password': 'pbkdf2_sha256$30000$ofQhnT1XHv2Z...  users.user   89\n",
       "34616  {'password': 'pbkdf2_sha256$30000$SDoc1KioxQDi...  users.user   91\n",
       "34617  {'password': 'pbkdf2_sha256$30000$obD71HLn8A1a...  users.user   92\n",
       "34618  {'password': 'pbkdf2_sha256$30000$xJox6dblwiFV...  users.user   93\n",
       "34619  {'password': 'pbkdf2_sha256$30000$Tm2neLZXkPL9...  users.user   94\n",
       "34620  {'password': 'pbkdf2_sha256$30000$WQYl60EuBoOW...  users.user   95\n",
       "34621  {'password': 'pbkdf2_sha256$30000$QQsLwI4nekmi...  users.user   96\n",
       "34622  {'password': 'pbkdf2_sha256$30000$8EHPKiZGWGnx...  users.user   97\n",
       "34623  {'password': 'pbkdf2_sha256$30000$X7LgoIWgYU7l...  users.user   98\n",
       "34624  {'password': 'pbkdf2_sha256$30000$gfNzTHSTr2w1...  users.user   99\n",
       "34625  {'password': 'pbkdf2_sha256$30000$BxTfUzhpxx1x...  users.user  100\n",
       "34626  {'password': 'pbkdf2_sha256$30000$Q9hO2SYPjd4m...  users.user  101\n",
       "34627  {'password': 'pbkdf2_sha256$30000$fzbjlxv7e1O7...  users.user  102\n",
       "34628  {'password': 'pbkdf2_sha256$30000$KQpLQoz6YEiQ...  users.user  103\n",
       "34629  {'password': 'pbkdf2_sha256$30000$Bb2lEsRqHfUp...  users.user  104\n",
       "34630  {'password': 'pbkdf2_sha256$30000$VZV8SvfP7joy...  users.user  105\n",
       "34631  {'password': 'pbkdf2_sha256$30000$KyISsPUuJAaw...  users.user  106\n",
       "34632  {'password': 'pbkdf2_sha256$30000$smDWDoCrxFpt...  users.user  107\n",
       "34633  {'password': 'pbkdf2_sha256$30000$YrGX7hxOaDA2...  users.user  108\n",
       "\n",
       "[106 rows x 3 columns]"
      ]
     },
     "execution_count": 183,
     "metadata": {},
     "output_type": "execute_result"
    }
   ],
   "source": [
    "users_df = df[df[\"model\"] == \"users.user\"]\n",
    "users_df"
   ]
  },
  {
   "cell_type": "code",
   "execution_count": 184,
   "metadata": {
    "scrolled": true
   },
   "outputs": [
    {
     "data": {
      "text/plain": [
       "{'password': 'pbkdf2_sha256$30000$5DROf4Pf3BPR$tPd1JbDlLqrUzoY/JcUSfparBrp7n0ERZKWgpfnbG/Y=',\n",
       " 'last_login': '2019-01-22T12:36:36.447Z',\n",
       " 'is_superuser': True,\n",
       " 'email': 'admin@amadeus.br',\n",
       " 'username': 'Administrador',\n",
       " 'last_name': 'Geral',\n",
       " 'social_name': None,\n",
       " 'description': '',\n",
       " 'image': '',\n",
       " 'date_created': '2018-10-19T16:55:27.084Z',\n",
       " 'last_update': '2018-11-04T03:31:13.036Z',\n",
       " 'show_email': 1,\n",
       " 'is_staff': True,\n",
       " 'is_active': True,\n",
       " 'groups': [],\n",
       " 'user_permissions': []}"
      ]
     },
     "execution_count": 184,
     "metadata": {},
     "output_type": "execute_result"
    }
   ],
   "source": [
    "users_df[\"fields\"][34528]"
   ]
  },
  {
   "cell_type": "markdown",
   "metadata": {},
   "source": [
    "# Dicionário dos dados\n",
    "1. Password: Senha criptografada\n",
    "2. Last_Login: a última vez que o usuário logou no sistema\n",
    "3. is_superuser: Significa que o usuário é um super usuário, tem privilégios ou admin.\n",
    "4. email: e-mail pertecente ao usuário \n",
    "5. username: nome que o usuário quer que outros usuários o vejam\n",
    "6. last_name: Sobrenome do usuário\n",
    "7. social_name: Nome social que o usuário quer escolher para ser demonstrado \n",
    "8. description: ?\n",
    "9. image: Caminho para a imagem do usuário\n",
    "10. date_created: Data em que o usuário foi criado\n",
    "11. last_update: a última vez que os dados do usuário foram modificados\n",
    "12. show_email: Uma booleana que informa se o e-mail é visiível para outros usuários\n",
    "13. is_staff: se ele é do tipo admin\n",
    "14. is_active: Se o usuário está ativo, caso sim, ele pode entrar no sistema, senão, é impossível\n",
    "15. groups: Grupos de permissão ao qual esse usuário pertence (\"professor\", \"estudante\"...)\n",
    "16. user_permissions = permissões individuais que ele possui (\"criar tópico\" , \"deletar tópico\", \"editar tópico\")"
   ]
  },
  {
   "cell_type": "code",
   "execution_count": 185,
   "metadata": {},
   "outputs": [],
   "source": [
    "# fields:  \n",
    "user_fields = [\"password\", \"last_login\", \"is_superuser\", \"email\", \"username\", \"last_name\", \"social_name\", \"description\", \n",
    "               \"imagem\", \"date_created\", \"last_update\", \"show_email\", \"is_staff\", \"is_active\", \"groups\", \"user_permissions\"]"
   ]
  },
  {
   "cell_type": "code",
   "execution_count": 186,
   "metadata": {},
   "outputs": [],
   "source": [
    "user_df_flatten = extract_flatten_dataframe(users_df, column=\"fields\",meta_list=user_fields).astype({\"pk\": \"int64\"})"
   ]
  },
  {
   "cell_type": "code",
   "execution_count": 187,
   "metadata": {},
   "outputs": [
    {
     "data": {
      "text/plain": [
       "date_created        object\n",
       "description         object\n",
       "email               object\n",
       "groups              object\n",
       "image               object\n",
       "is_active             bool\n",
       "is_staff              bool\n",
       "is_superuser          bool\n",
       "last_login          object\n",
       "last_name           object\n",
       "last_update         object\n",
       "password            object\n",
       "show_email           int64\n",
       "social_name         object\n",
       "user_permissions    object\n",
       "username            object\n",
       "fields              object\n",
       "model               object\n",
       "pk                   int64\n",
       "dtype: object"
      ]
     },
     "execution_count": 187,
     "metadata": {},
     "output_type": "execute_result"
    }
   ],
   "source": [
    "user_df_flatten.dtypes"
   ]
  },
  {
   "cell_type": "markdown",
   "metadata": {},
   "source": [
    "# Notas dos alunos"
   ]
  },
  {
   "cell_type": "code",
   "execution_count": 188,
   "metadata": {},
   "outputs": [
    {
     "data": {
      "text/plain": [
       "id_estudante      int64\n",
       "v1              float64\n",
       "v2              float64\n",
       "dtype: object"
      ]
     },
     "execution_count": 188,
     "metadata": {},
     "output_type": "execute_result"
    }
   ],
   "source": [
    "grades_df.dtypes"
   ]
  },
  {
   "cell_type": "code",
   "execution_count": 189,
   "metadata": {},
   "outputs": [
    {
     "data": {
      "text/html": [
       "<div>\n",
       "<style scoped>\n",
       "    .dataframe tbody tr th:only-of-type {\n",
       "        vertical-align: middle;\n",
       "    }\n",
       "\n",
       "    .dataframe tbody tr th {\n",
       "        vertical-align: top;\n",
       "    }\n",
       "\n",
       "    .dataframe thead th {\n",
       "        text-align: right;\n",
       "    }\n",
       "</style>\n",
       "<table border=\"1\" class=\"dataframe\">\n",
       "  <thead>\n",
       "    <tr style=\"text-align: right;\">\n",
       "      <th></th>\n",
       "      <th>id_estudante</th>\n",
       "      <th>v1</th>\n",
       "      <th>v2</th>\n",
       "    </tr>\n",
       "  </thead>\n",
       "  <tbody>\n",
       "    <tr>\n",
       "      <th>0</th>\n",
       "      <td>11</td>\n",
       "      <td>0.0</td>\n",
       "      <td>0.00</td>\n",
       "    </tr>\n",
       "    <tr>\n",
       "      <th>1</th>\n",
       "      <td>12</td>\n",
       "      <td>4.0</td>\n",
       "      <td>7.00</td>\n",
       "    </tr>\n",
       "    <tr>\n",
       "      <th>2</th>\n",
       "      <td>13</td>\n",
       "      <td>6.5</td>\n",
       "      <td>7.50</td>\n",
       "    </tr>\n",
       "    <tr>\n",
       "      <th>3</th>\n",
       "      <td>14</td>\n",
       "      <td>6.5</td>\n",
       "      <td>10.00</td>\n",
       "    </tr>\n",
       "    <tr>\n",
       "      <th>4</th>\n",
       "      <td>15</td>\n",
       "      <td>6.0</td>\n",
       "      <td>8.50</td>\n",
       "    </tr>\n",
       "    <tr>\n",
       "      <th>5</th>\n",
       "      <td>16</td>\n",
       "      <td>6.0</td>\n",
       "      <td>3.50</td>\n",
       "    </tr>\n",
       "    <tr>\n",
       "      <th>6</th>\n",
       "      <td>17</td>\n",
       "      <td>0.5</td>\n",
       "      <td>4.00</td>\n",
       "    </tr>\n",
       "    <tr>\n",
       "      <th>7</th>\n",
       "      <td>18</td>\n",
       "      <td>1.5</td>\n",
       "      <td>7.25</td>\n",
       "    </tr>\n",
       "    <tr>\n",
       "      <th>8</th>\n",
       "      <td>19</td>\n",
       "      <td>7.5</td>\n",
       "      <td>8.50</td>\n",
       "    </tr>\n",
       "    <tr>\n",
       "      <th>9</th>\n",
       "      <td>20</td>\n",
       "      <td>2.0</td>\n",
       "      <td>9.75</td>\n",
       "    </tr>\n",
       "  </tbody>\n",
       "</table>\n",
       "</div>"
      ],
      "text/plain": [
       "   id_estudante   v1     v2\n",
       "0            11  0.0   0.00\n",
       "1            12  4.0   7.00\n",
       "2            13  6.5   7.50\n",
       "3            14  6.5  10.00\n",
       "4            15  6.0   8.50\n",
       "5            16  6.0   3.50\n",
       "6            17  0.5   4.00\n",
       "7            18  1.5   7.25\n",
       "8            19  7.5   8.50\n",
       "9            20  2.0   9.75"
      ]
     },
     "execution_count": 189,
     "metadata": {},
     "output_type": "execute_result"
    }
   ],
   "source": [
    "grades_df.head(10)"
   ]
  },
  {
   "cell_type": "markdown",
   "metadata": {},
   "source": [
    "# Vou remover as seguintes colunas:\n",
    "1. Groups, pois não possui nenhum valor diferente de vazio (ou nulo)."
   ]
  },
  {
   "cell_type": "code",
   "execution_count": 190,
   "metadata": {},
   "outputs": [
    {
     "data": {
      "text/plain": [
       "[]    106\n",
       "Name: groups, dtype: int64"
      ]
     },
     "execution_count": 190,
     "metadata": {},
     "output_type": "execute_result"
    }
   ],
   "source": [
    "user_df_flatten[\"groups\"].value_counts()"
   ]
  },
  {
   "cell_type": "code",
   "execution_count": 191,
   "metadata": {},
   "outputs": [],
   "source": [
    "user_df_flatten_clean = user_df_flatten.drop([\"groups\", \"fields\", \"password\"], axis=1)"
   ]
  },
  {
   "cell_type": "markdown",
   "metadata": {},
   "source": [
    "# Junção entre os datasets\n",
    "Para otimizar, irei coletar somente o username dos usuários durante o join com as notificações, depois eu irei buscar mais informações sobre eles.m"
   ]
  },
  {
   "cell_type": "code",
   "execution_count": 192,
   "metadata": {},
   "outputs": [],
   "source": [
    "notifications_with_user_grades_df = pd.merge(notification_df_flatted, grades_df, left_on=[\"user\"], right_on=[\"id_estudante\"])"
   ]
  },
  {
   "cell_type": "code",
   "execution_count": 193,
   "metadata": {},
   "outputs": [
    {
     "data": {
      "text/html": [
       "<div>\n",
       "<style scoped>\n",
       "    .dataframe tbody tr th:only-of-type {\n",
       "        vertical-align: middle;\n",
       "    }\n",
       "\n",
       "    .dataframe tbody tr th {\n",
       "        vertical-align: top;\n",
       "    }\n",
       "\n",
       "    .dataframe thead th {\n",
       "        text-align: right;\n",
       "    }\n",
       "</style>\n",
       "<table border=\"1\" class=\"dataframe\">\n",
       "  <thead>\n",
       "    <tr style=\"text-align: right;\">\n",
       "      <th></th>\n",
       "      <th>creation_date</th>\n",
       "      <th>level</th>\n",
       "      <th>meta</th>\n",
       "      <th>task</th>\n",
       "      <th>user</th>\n",
       "      <th>viewed</th>\n",
       "      <th>fields</th>\n",
       "      <th>model</th>\n",
       "      <th>pk</th>\n",
       "      <th>id_estudante</th>\n",
       "      <th>v1</th>\n",
       "      <th>v2</th>\n",
       "    </tr>\n",
       "  </thead>\n",
       "  <tbody>\n",
       "    <tr>\n",
       "      <th>0</th>\n",
       "      <td>2018-11-05</td>\n",
       "      <td>1</td>\n",
       "      <td>None</td>\n",
       "      <td>9</td>\n",
       "      <td>11</td>\n",
       "      <td>False</td>\n",
       "      <td>{'meta': None, 'task': 9, 'user': 11, 'level':...</td>\n",
       "      <td>notifications.notification</td>\n",
       "      <td>105</td>\n",
       "      <td>11</td>\n",
       "      <td>0.0</td>\n",
       "      <td>0.0</td>\n",
       "    </tr>\n",
       "    <tr>\n",
       "      <th>1</th>\n",
       "      <td>2018-11-06</td>\n",
       "      <td>1</td>\n",
       "      <td>None</td>\n",
       "      <td>9</td>\n",
       "      <td>11</td>\n",
       "      <td>False</td>\n",
       "      <td>{'meta': None, 'task': 9, 'user': 11, 'level':...</td>\n",
       "      <td>notifications.notification</td>\n",
       "      <td>195</td>\n",
       "      <td>11</td>\n",
       "      <td>0.0</td>\n",
       "      <td>0.0</td>\n",
       "    </tr>\n",
       "    <tr>\n",
       "      <th>2</th>\n",
       "      <td>2018-11-06</td>\n",
       "      <td>1</td>\n",
       "      <td>None</td>\n",
       "      <td>10</td>\n",
       "      <td>11</td>\n",
       "      <td>False</td>\n",
       "      <td>{'meta': None, 'task': 10, 'user': 11, 'level'...</td>\n",
       "      <td>notifications.notification</td>\n",
       "      <td>261</td>\n",
       "      <td>11</td>\n",
       "      <td>0.0</td>\n",
       "      <td>0.0</td>\n",
       "    </tr>\n",
       "    <tr>\n",
       "      <th>3</th>\n",
       "      <td>2018-11-06</td>\n",
       "      <td>1</td>\n",
       "      <td>None</td>\n",
       "      <td>7</td>\n",
       "      <td>11</td>\n",
       "      <td>False</td>\n",
       "      <td>{'meta': None, 'task': 7, 'user': 11, 'level':...</td>\n",
       "      <td>notifications.notification</td>\n",
       "      <td>338</td>\n",
       "      <td>11</td>\n",
       "      <td>0.0</td>\n",
       "      <td>0.0</td>\n",
       "    </tr>\n",
       "    <tr>\n",
       "      <th>4</th>\n",
       "      <td>2018-11-07</td>\n",
       "      <td>1</td>\n",
       "      <td>None</td>\n",
       "      <td>10</td>\n",
       "      <td>11</td>\n",
       "      <td>False</td>\n",
       "      <td>{'meta': None, 'task': 10, 'user': 11, 'level'...</td>\n",
       "      <td>notifications.notification</td>\n",
       "      <td>463</td>\n",
       "      <td>11</td>\n",
       "      <td>0.0</td>\n",
       "      <td>0.0</td>\n",
       "    </tr>\n",
       "    <tr>\n",
       "      <th>5</th>\n",
       "      <td>2018-11-07</td>\n",
       "      <td>1</td>\n",
       "      <td>None</td>\n",
       "      <td>8</td>\n",
       "      <td>11</td>\n",
       "      <td>False</td>\n",
       "      <td>{'meta': None, 'task': 8, 'user': 11, 'level':...</td>\n",
       "      <td>notifications.notification</td>\n",
       "      <td>574</td>\n",
       "      <td>11</td>\n",
       "      <td>0.0</td>\n",
       "      <td>0.0</td>\n",
       "    </tr>\n",
       "    <tr>\n",
       "      <th>6</th>\n",
       "      <td>2018-11-08</td>\n",
       "      <td>1</td>\n",
       "      <td>None</td>\n",
       "      <td>10</td>\n",
       "      <td>11</td>\n",
       "      <td>False</td>\n",
       "      <td>{'meta': None, 'task': 10, 'user': 11, 'level'...</td>\n",
       "      <td>notifications.notification</td>\n",
       "      <td>682</td>\n",
       "      <td>11</td>\n",
       "      <td>0.0</td>\n",
       "      <td>0.0</td>\n",
       "    </tr>\n",
       "    <tr>\n",
       "      <th>7</th>\n",
       "      <td>2018-11-08</td>\n",
       "      <td>1</td>\n",
       "      <td>None</td>\n",
       "      <td>11</td>\n",
       "      <td>11</td>\n",
       "      <td>False</td>\n",
       "      <td>{'meta': None, 'task': 11, 'user': 11, 'level'...</td>\n",
       "      <td>notifications.notification</td>\n",
       "      <td>756</td>\n",
       "      <td>11</td>\n",
       "      <td>0.0</td>\n",
       "      <td>0.0</td>\n",
       "    </tr>\n",
       "    <tr>\n",
       "      <th>8</th>\n",
       "      <td>2018-11-08</td>\n",
       "      <td>1</td>\n",
       "      <td>None</td>\n",
       "      <td>8</td>\n",
       "      <td>11</td>\n",
       "      <td>False</td>\n",
       "      <td>{'meta': None, 'task': 8, 'user': 11, 'level':...</td>\n",
       "      <td>notifications.notification</td>\n",
       "      <td>844</td>\n",
       "      <td>11</td>\n",
       "      <td>0.0</td>\n",
       "      <td>0.0</td>\n",
       "    </tr>\n",
       "    <tr>\n",
       "      <th>9</th>\n",
       "      <td>2018-11-09</td>\n",
       "      <td>3</td>\n",
       "      <td>None</td>\n",
       "      <td>10</td>\n",
       "      <td>11</td>\n",
       "      <td>False</td>\n",
       "      <td>{'meta': None, 'task': 10, 'user': 11, 'level'...</td>\n",
       "      <td>notifications.notification</td>\n",
       "      <td>927</td>\n",
       "      <td>11</td>\n",
       "      <td>0.0</td>\n",
       "      <td>0.0</td>\n",
       "    </tr>\n",
       "  </tbody>\n",
       "</table>\n",
       "</div>"
      ],
      "text/plain": [
       "  creation_date level  meta  task  user  viewed  \\\n",
       "0    2018-11-05     1  None     9    11   False   \n",
       "1    2018-11-06     1  None     9    11   False   \n",
       "2    2018-11-06     1  None    10    11   False   \n",
       "3    2018-11-06     1  None     7    11   False   \n",
       "4    2018-11-07     1  None    10    11   False   \n",
       "5    2018-11-07     1  None     8    11   False   \n",
       "6    2018-11-08     1  None    10    11   False   \n",
       "7    2018-11-08     1  None    11    11   False   \n",
       "8    2018-11-08     1  None     8    11   False   \n",
       "9    2018-11-09     3  None    10    11   False   \n",
       "\n",
       "                                              fields  \\\n",
       "0  {'meta': None, 'task': 9, 'user': 11, 'level':...   \n",
       "1  {'meta': None, 'task': 9, 'user': 11, 'level':...   \n",
       "2  {'meta': None, 'task': 10, 'user': 11, 'level'...   \n",
       "3  {'meta': None, 'task': 7, 'user': 11, 'level':...   \n",
       "4  {'meta': None, 'task': 10, 'user': 11, 'level'...   \n",
       "5  {'meta': None, 'task': 8, 'user': 11, 'level':...   \n",
       "6  {'meta': None, 'task': 10, 'user': 11, 'level'...   \n",
       "7  {'meta': None, 'task': 11, 'user': 11, 'level'...   \n",
       "8  {'meta': None, 'task': 8, 'user': 11, 'level':...   \n",
       "9  {'meta': None, 'task': 10, 'user': 11, 'level'...   \n",
       "\n",
       "                        model   pk  id_estudante   v1   v2  \n",
       "0  notifications.notification  105            11  0.0  0.0  \n",
       "1  notifications.notification  195            11  0.0  0.0  \n",
       "2  notifications.notification  261            11  0.0  0.0  \n",
       "3  notifications.notification  338            11  0.0  0.0  \n",
       "4  notifications.notification  463            11  0.0  0.0  \n",
       "5  notifications.notification  574            11  0.0  0.0  \n",
       "6  notifications.notification  682            11  0.0  0.0  \n",
       "7  notifications.notification  756            11  0.0  0.0  \n",
       "8  notifications.notification  844            11  0.0  0.0  \n",
       "9  notifications.notification  927            11  0.0  0.0  "
      ]
     },
     "execution_count": 193,
     "metadata": {},
     "output_type": "execute_result"
    }
   ],
   "source": [
    "notifications_with_user_grades_df.head(10)"
   ]
  },
  {
   "cell_type": "markdown",
   "metadata": {},
   "source": [
    "# Análise\n",
    "Primeiro eu vou explorar um pouco sobre a distribuição na quantiadde de notificações por usuário."
   ]
  },
  {
   "cell_type": "code",
   "execution_count": 194,
   "metadata": {},
   "outputs": [],
   "source": [
    "students_not_count_series = notifications_with_user_grades_df.groupby(\"user\").size()"
   ]
  },
  {
   "cell_type": "markdown",
   "metadata": {},
   "source": [
    "Com o grupo  de usuários que mais recebeu notificação e o grupo de usuários que menos recebeu notificações, eu vou tentar analisar qual a diferença disso e o rendimento comparado entre eles, irei colocar o 25% de cada. \n",
    "\n",
    "Existe um \"lixo\" nos dados que são os estudantes criados pelos adm, geralmente seu nomes são compostos por \"Estudante X\""
   ]
  },
  {
   "cell_type": "code",
   "execution_count": 195,
   "metadata": {},
   "outputs": [
    {
     "data": {
      "text/plain": [
       "<matplotlib.axes._subplots.AxesSubplot at 0x7f1120743748>"
      ]
     },
     "execution_count": 195,
     "metadata": {},
     "output_type": "execute_result"
    },
    {
     "data": {
      "image/png": "[encoded data removed]",
      "text/plain": [
       "<Figure size 432x288 with 1 Axes>"
      ]
     },
     "metadata": {
      "needs_background": "light"
     },
     "output_type": "display_data"
    }
   ],
   "source": [
    "students_not_count_series.sort_values(ascending=False).hist(bins=15)"
   ]
  },
  {
   "cell_type": "code",
   "execution_count": 196,
   "metadata": {},
   "outputs": [
    {
     "data": {
      "text/plain": [
       "0.10     38.00\n",
       "0.25     62.50\n",
       "0.50    104.00\n",
       "0.75    197.25\n",
       "0.90    321.10\n",
       "dtype: float64"
      ]
     },
     "execution_count": 196,
     "metadata": {},
     "output_type": "execute_result"
    }
   ],
   "source": [
    "students_not_count_series.quantile([.1,.25, .5, .75, .9])"
   ]
  },
  {
   "cell_type": "markdown",
   "metadata": {},
   "source": [
    "Como da pra ver a distância é bem grande entre o 1ª quartil (.25) e o menores 10% assim como a distância é ainda mais grotesca com entre o 3ª quartil e o top 10%, quase o dobro de notificações recebidas."
   ]
  },
  {
   "cell_type": "markdown",
   "metadata": {},
   "source": [
    "## distribuição por nível de pendência\n",
    "Os níveis de pendência variam entre 4 valores, sendo que o valor 1 e 2 representam o mesmo dado,\n",
    "1. O valor 1 e 2 representam tarefas que ainda estão no prazo\n",
    "2. O valor 3 representa tarefas que estão atrasadas\n",
    "3. O valor 4 representa tarefas que não podem mais ser completadas/perdidas"
   ]
  },
  {
   "cell_type": "code",
   "execution_count": 197,
   "metadata": {},
   "outputs": [
    {
     "data": {
      "text/html": [
       "<div>\n",
       "<style scoped>\n",
       "    .dataframe tbody tr th:only-of-type {\n",
       "        vertical-align: middle;\n",
       "    }\n",
       "\n",
       "    .dataframe tbody tr th {\n",
       "        vertical-align: top;\n",
       "    }\n",
       "\n",
       "    .dataframe thead th {\n",
       "        text-align: right;\n",
       "    }\n",
       "</style>\n",
       "<table border=\"1\" class=\"dataframe\">\n",
       "  <thead>\n",
       "    <tr style=\"text-align: right;\">\n",
       "      <th></th>\n",
       "      <th>v1</th>\n",
       "      <th>v2</th>\n",
       "    </tr>\n",
       "  </thead>\n",
       "  <tbody>\n",
       "    <tr>\n",
       "      <th>532</th>\n",
       "      <td>6.5</td>\n",
       "      <td>10.0</td>\n",
       "    </tr>\n",
       "  </tbody>\n",
       "</table>\n",
       "</div>"
      ],
      "text/plain": [
       "      v1    v2\n",
       "532  6.5  10.0"
      ]
     },
     "execution_count": 197,
     "metadata": {},
     "output_type": "execute_result"
    }
   ],
   "source": [
    "notifications_with_user_grades_df.loc[notifications_with_user_grades_df[\"user\"] == 14, [\"v1\", \"v2\"]].head(1)"
   ]
  },
  {
   "cell_type": "code",
   "execution_count": 198,
   "metadata": {},
   "outputs": [],
   "source": [
    "count_notification_level_by_user = notifications_with_user_grades_df.groupby([\"user\", \"level\"]).size()"
   ]
  },
  {
   "cell_type": "code",
   "execution_count": 199,
   "metadata": {},
   "outputs": [
    {
     "data": {
      "text/html": [
       "<div>\n",
       "<style scoped>\n",
       "    .dataframe tbody tr th:only-of-type {\n",
       "        vertical-align: middle;\n",
       "    }\n",
       "\n",
       "    .dataframe tbody tr th {\n",
       "        vertical-align: top;\n",
       "    }\n",
       "\n",
       "    .dataframe thead th {\n",
       "        text-align: right;\n",
       "    }\n",
       "</style>\n",
       "<table border=\"1\" class=\"dataframe\">\n",
       "  <thead>\n",
       "    <tr style=\"text-align: right;\">\n",
       "      <th>level</th>\n",
       "      <th>1</th>\n",
       "      <th>2</th>\n",
       "      <th>3</th>\n",
       "      <th>4</th>\n",
       "    </tr>\n",
       "    <tr>\n",
       "      <th>user</th>\n",
       "      <th></th>\n",
       "      <th></th>\n",
       "      <th></th>\n",
       "      <th></th>\n",
       "    </tr>\n",
       "  </thead>\n",
       "  <tbody>\n",
       "    <tr>\n",
       "      <th>11</th>\n",
       "      <td>71.0</td>\n",
       "      <td>NaN</td>\n",
       "      <td>179.0</td>\n",
       "      <td>95.0</td>\n",
       "    </tr>\n",
       "    <tr>\n",
       "      <th>12</th>\n",
       "      <td>45.0</td>\n",
       "      <td>NaN</td>\n",
       "      <td>2.0</td>\n",
       "      <td>NaN</td>\n",
       "    </tr>\n",
       "    <tr>\n",
       "      <th>13</th>\n",
       "      <td>58.0</td>\n",
       "      <td>NaN</td>\n",
       "      <td>39.0</td>\n",
       "      <td>43.0</td>\n",
       "    </tr>\n",
       "    <tr>\n",
       "      <th>14</th>\n",
       "      <td>23.0</td>\n",
       "      <td>NaN</td>\n",
       "      <td>7.0</td>\n",
       "      <td>43.0</td>\n",
       "    </tr>\n",
       "    <tr>\n",
       "      <th>15</th>\n",
       "      <td>64.0</td>\n",
       "      <td>NaN</td>\n",
       "      <td>76.0</td>\n",
       "      <td>43.0</td>\n",
       "    </tr>\n",
       "  </tbody>\n",
       "</table>\n",
       "</div>"
      ],
      "text/plain": [
       "level     1   2      3     4\n",
       "user                        \n",
       "11     71.0 NaN  179.0  95.0\n",
       "12     45.0 NaN    2.0   NaN\n",
       "13     58.0 NaN   39.0  43.0\n",
       "14     23.0 NaN    7.0  43.0\n",
       "15     64.0 NaN   76.0  43.0"
      ]
     },
     "execution_count": 199,
     "metadata": {},
     "output_type": "execute_result"
    }
   ],
   "source": [
    "count_notification_level_by_user.reset_index().pivot(index=\"user\", columns=\"level\", values=0).head(5)"
   ]
  },
  {
   "cell_type": "markdown",
   "metadata": {},
   "source": [
    "# Indexando as notificações por tempo, análise temporal"
   ]
  },
  {
   "cell_type": "code",
   "execution_count": 200,
   "metadata": {},
   "outputs": [
    {
     "data": {
      "text/plain": [
       "Index(['creation_date', 'level', 'meta', 'task', 'user', 'viewed', 'fields',\n",
       "       'model', 'pk', 'id_estudante', 'v1', 'v2'],\n",
       "      dtype='object')"
      ]
     },
     "execution_count": 200,
     "metadata": {},
     "output_type": "execute_result"
    }
   ],
   "source": [
    "notifications_with_user_grades_df.columns"
   ]
  },
  {
   "cell_type": "code",
   "execution_count": 201,
   "metadata": {},
   "outputs": [],
   "source": [
    "notifications_with_user_grades_df.index = notifications_with_user_grades_df[\"creation_date\"]"
   ]
  },
  {
   "cell_type": "code",
   "execution_count": 202,
   "metadata": {},
   "outputs": [
    {
     "data": {
      "text/plain": [
       "DatetimeIndex(['2018-11-05', '2018-11-06', '2018-11-06', '2018-11-06',\n",
       "               '2018-11-07', '2018-11-07', '2018-11-08', '2018-11-08',\n",
       "               '2018-11-08', '2018-11-09',\n",
       "               ...\n",
       "               '2019-01-04', '2019-01-13', '2019-01-14', '2019-01-16',\n",
       "               '2019-01-17', '2019-01-18', '2019-01-19', '2019-01-20',\n",
       "               '2019-01-21', '2019-01-22'],\n",
       "              dtype='datetime64[ns]', name='creation_date', length=11404, freq=None)"
      ]
     },
     "execution_count": 202,
     "metadata": {},
     "output_type": "execute_result"
    }
   ],
   "source": [
    "notifications_with_user_grades_df.index"
   ]
  },
  {
   "cell_type": "code",
   "execution_count": 203,
   "metadata": {},
   "outputs": [
    {
     "data": {
      "text/html": [
       "<div>\n",
       "<style scoped>\n",
       "    .dataframe tbody tr th:only-of-type {\n",
       "        vertical-align: middle;\n",
       "    }\n",
       "\n",
       "    .dataframe tbody tr th {\n",
       "        vertical-align: top;\n",
       "    }\n",
       "\n",
       "    .dataframe thead th {\n",
       "        text-align: right;\n",
       "    }\n",
       "</style>\n",
       "<table border=\"1\" class=\"dataframe\">\n",
       "  <thead>\n",
       "    <tr style=\"text-align: right;\">\n",
       "      <th></th>\n",
       "      <th>v1</th>\n",
       "      <th>v2</th>\n",
       "    </tr>\n",
       "    <tr>\n",
       "      <th>creation_date</th>\n",
       "      <th></th>\n",
       "      <th></th>\n",
       "    </tr>\n",
       "  </thead>\n",
       "  <tbody>\n",
       "    <tr>\n",
       "      <th>2018-11-30</th>\n",
       "      <td>4.025120</td>\n",
       "      <td>4.690423</td>\n",
       "    </tr>\n",
       "    <tr>\n",
       "      <th>2018-12-31</th>\n",
       "      <td>3.089561</td>\n",
       "      <td>3.603879</td>\n",
       "    </tr>\n",
       "    <tr>\n",
       "      <th>2019-01-31</th>\n",
       "      <td>4.214038</td>\n",
       "      <td>4.814518</td>\n",
       "    </tr>\n",
       "  </tbody>\n",
       "</table>\n",
       "</div>"
      ],
      "text/plain": [
       "                     v1        v2\n",
       "creation_date                    \n",
       "2018-11-30     4.025120  4.690423\n",
       "2018-12-31     3.089561  3.603879\n",
       "2019-01-31     4.214038  4.814518"
      ]
     },
     "execution_count": 203,
     "metadata": {},
     "output_type": "execute_result"
    }
   ],
   "source": [
    "notifications_with_user_grades_df.resample('M').agg({\"v1\": \"mean\", \"v2\": \"mean\"})"
   ]
  },
  {
   "cell_type": "markdown",
   "metadata": {},
   "source": [
    "Dado muito bom: a média de notificações visualizadas e quantidade de notificações visualizadas por semana de cada usuário"
   ]
  },
  {
   "cell_type": "code",
   "execution_count": 204,
   "metadata": {},
   "outputs": [
    {
     "data": {
      "text/html": [
       "<div>\n",
       "<style scoped>\n",
       "    .dataframe tbody tr th:only-of-type {\n",
       "        vertical-align: middle;\n",
       "    }\n",
       "\n",
       "    .dataframe tbody tr th {\n",
       "        vertical-align: top;\n",
       "    }\n",
       "\n",
       "    .dataframe thead tr th {\n",
       "        text-align: left;\n",
       "    }\n",
       "</style>\n",
       "<table border=\"1\" class=\"dataframe\">\n",
       "  <thead>\n",
       "    <tr>\n",
       "      <th></th>\n",
       "      <th>user</th>\n",
       "      <th>creation_date</th>\n",
       "      <th colspan=\"2\" halign=\"left\">viewed</th>\n",
       "    </tr>\n",
       "    <tr>\n",
       "      <th></th>\n",
       "      <th></th>\n",
       "      <th></th>\n",
       "      <th>mean</th>\n",
       "      <th>sum</th>\n",
       "    </tr>\n",
       "  </thead>\n",
       "  <tbody>\n",
       "    <tr>\n",
       "      <th>0</th>\n",
       "      <td>11</td>\n",
       "      <td>2018-11-11</td>\n",
       "      <td>0.0</td>\n",
       "      <td>0.0</td>\n",
       "    </tr>\n",
       "    <tr>\n",
       "      <th>1</th>\n",
       "      <td>11</td>\n",
       "      <td>2018-11-18</td>\n",
       "      <td>0.0</td>\n",
       "      <td>0.0</td>\n",
       "    </tr>\n",
       "  </tbody>\n",
       "</table>\n",
       "</div>"
      ],
      "text/plain": [
       "  user creation_date viewed     \n",
       "                       mean  sum\n",
       "0   11    2018-11-11    0.0  0.0\n",
       "1   11    2018-11-18    0.0  0.0"
      ]
     },
     "execution_count": 204,
     "metadata": {},
     "output_type": "execute_result"
    }
   ],
   "source": [
    "notifications_with_user_grades_df.groupby([\"user\", pd.Grouper(freq=\"W\")])\\\n",
    ".agg({\"viewed\": [\"mean\", \"sum\"]}).reset_index().head(2)"
   ]
  },
  {
   "cell_type": "code",
   "execution_count": 205,
   "metadata": {},
   "outputs": [
    {
     "data": {
      "text/html": [
       "<div>\n",
       "<style scoped>\n",
       "    .dataframe tbody tr th:only-of-type {\n",
       "        vertical-align: middle;\n",
       "    }\n",
       "\n",
       "    .dataframe tbody tr th {\n",
       "        vertical-align: top;\n",
       "    }\n",
       "\n",
       "    .dataframe thead tr th {\n",
       "        text-align: left;\n",
       "    }\n",
       "</style>\n",
       "<table border=\"1\" class=\"dataframe\">\n",
       "  <thead>\n",
       "    <tr>\n",
       "      <th></th>\n",
       "      <th>user</th>\n",
       "      <th>creation_date</th>\n",
       "      <th colspan=\"2\" halign=\"left\">viewed</th>\n",
       "    </tr>\n",
       "    <tr>\n",
       "      <th></th>\n",
       "      <th></th>\n",
       "      <th></th>\n",
       "      <th>mean</th>\n",
       "      <th>sum</th>\n",
       "    </tr>\n",
       "  </thead>\n",
       "  <tbody>\n",
       "    <tr>\n",
       "      <th>0</th>\n",
       "      <td>11</td>\n",
       "      <td>2018-11-30</td>\n",
       "      <td>0.058824</td>\n",
       "      <td>9.0</td>\n",
       "    </tr>\n",
       "    <tr>\n",
       "      <th>1</th>\n",
       "      <td>11</td>\n",
       "      <td>2018-12-31</td>\n",
       "      <td>0.073770</td>\n",
       "      <td>9.0</td>\n",
       "    </tr>\n",
       "  </tbody>\n",
       "</table>\n",
       "</div>"
      ],
      "text/plain": [
       "  user creation_date    viewed     \n",
       "                          mean  sum\n",
       "0   11    2018-11-30  0.058824  9.0\n",
       "1   11    2018-12-31  0.073770  9.0"
      ]
     },
     "execution_count": 205,
     "metadata": {},
     "output_type": "execute_result"
    }
   ],
   "source": [
    "notifications_with_user_grades_df.groupby([\"user\", pd.Grouper(freq=\"M\")])\\\n",
    ".agg({\"viewed\": [\"mean\", \"sum\"]}).reset_index().head(2)"
   ]
  },
  {
   "cell_type": "markdown",
   "metadata": {},
   "source": [
    "# Associar recurso à pendência"
   ]
  },
  {
   "cell_type": "code",
   "execution_count": 206,
   "metadata": {},
   "outputs": [
    {
     "data": {
      "text/plain": [
       "Index(['action', 'begin_date', 'end_date', 'limit_date', 'resource', 'fields',\n",
       "       'model', 'pk'],\n",
       "      dtype='object')"
      ]
     },
     "execution_count": 206,
     "metadata": {},
     "output_type": "execute_result"
    }
   ],
   "source": [
    "pendencies_df.columns"
   ]
  },
  {
   "cell_type": "code",
   "execution_count": 207,
   "metadata": {},
   "outputs": [
    {
     "data": {
      "text/plain": [
       "Index(['_my_subclass', 'all_students', 'brief_description', 'create_date',\n",
       "       'groups', 'last_update', 'name', 'order', 'show_window', 'slug',\n",
       "       'students', 'tags', 'topic', 'visible', 'model', 'pk'],\n",
       "      dtype='object')"
      ]
     },
     "execution_count": 207,
     "metadata": {},
     "output_type": "execute_result"
    }
   ],
   "source": [
    "resources_flatten_df.columns"
   ]
  },
  {
   "cell_type": "code",
   "execution_count": 208,
   "metadata": {},
   "outputs": [
    {
     "data": {
      "text/plain": [
       "Index(['creation_date', 'level', 'meta', 'task', 'user', 'viewed', 'fields',\n",
       "       'model', 'pk', 'id_estudante', 'v1', 'v2'],\n",
       "      dtype='object')"
      ]
     },
     "execution_count": 208,
     "metadata": {},
     "output_type": "execute_result"
    }
   ],
   "source": [
    "notifications_with_user_grades_df.columns"
   ]
  },
  {
   "cell_type": "code",
   "execution_count": 209,
   "metadata": {},
   "outputs": [],
   "source": [
    "pendencies_with_resources = pd.merge(pendencies_df, resources_flatten_df, left_on=[\"resource\"], right_on=[\"pk\"])"
   ]
  },
  {
   "cell_type": "code",
   "execution_count": 210,
   "metadata": {},
   "outputs": [
    {
     "data": {
      "text/plain": [
       "Index(['action', 'begin_date', 'end_date', 'limit_date', 'resource', 'fields',\n",
       "       'model_x', 'pk_x', '_my_subclass', 'all_students', 'brief_description',\n",
       "       'create_date', 'groups', 'last_update', 'name', 'order', 'show_window',\n",
       "       'slug', 'students', 'tags', 'topic', 'visible', 'model_y', 'pk_y'],\n",
       "      dtype='object')"
      ]
     },
     "execution_count": 210,
     "metadata": {},
     "output_type": "execute_result"
    }
   ],
   "source": [
    "pendencies_with_resources.columns"
   ]
  },
  {
   "cell_type": "code",
   "execution_count": 211,
   "metadata": {},
   "outputs": [],
   "source": [
    "notications_with_resources_pendencies = pd.merge(notifications_with_user_grades_df, pendencies_with_resources, left_on=[\"task\"], right_on=[\"pk_x\"])"
   ]
  },
  {
   "cell_type": "code",
   "execution_count": 212,
   "metadata": {},
   "outputs": [
    {
     "data": {
      "text/plain": [
       "(11404, 36)"
      ]
     },
     "execution_count": 212,
     "metadata": {},
     "output_type": "execute_result"
    }
   ],
   "source": [
    "notications_with_resources_pendencies.shape"
   ]
  },
  {
   "cell_type": "code",
   "execution_count": 213,
   "metadata": {},
   "outputs": [
    {
     "data": {
      "text/plain": [
       "creation_date        datetime64[ns]\n",
       "level                      category\n",
       "meta                         object\n",
       "task                         object\n",
       "user                          int64\n",
       "viewed                         bool\n",
       "fields_x                     object\n",
       "model                        object\n",
       "pk                           object\n",
       "id_estudante                  int64\n",
       "v1                          float64\n",
       "v2                          float64\n",
       "action                     category\n",
       "begin_date           datetime64[ns]\n",
       "end_date             datetime64[ns]\n",
       "limit_date           datetime64[ns]\n",
       "resource                     object\n",
       "fields_y                     object\n",
       "model_x                      object\n",
       "pk_x                         object\n",
       "_my_subclass                 object\n",
       "all_students                   bool\n",
       "brief_description            object\n",
       "create_date                  object\n",
       "groups                       object\n",
       "last_update                  object\n",
       "name                         object\n",
       "order                         int64\n",
       "show_window                    bool\n",
       "slug                         object\n",
       "students                     object\n",
       "tags                         object\n",
       "topic                         int64\n",
       "visible                        bool\n",
       "model_y                      object\n",
       "pk_y                         object\n",
       "dtype: object"
      ]
     },
     "execution_count": 213,
     "metadata": {},
     "output_type": "execute_result"
    }
   ],
   "source": [
    "notications_with_resources_pendencies.dtypes"
   ]
  },
  {
   "cell_type": "markdown",
   "metadata": {},
   "source": [
    "# Influência da notificação na V1"
   ]
  },
  {
   "cell_type": "markdown",
   "metadata": {},
   "source": [
    "Para isto, só vou coletar notificações com pendências onde a data limite foi antes da data da v1"
   ]
  },
  {
   "cell_type": "code",
   "execution_count": 228,
   "metadata": {},
   "outputs": [],
   "source": [
    "v1_notifications = notications_with_resources_pendencies[notications_with_resources_pendencies[\"end_date\"] <= date_v1]\\\n",
    ".drop(columns=[\"v2\"])"
   ]
  },
  {
   "cell_type": "code",
   "execution_count": 229,
   "metadata": {},
   "outputs": [
    {
     "data": {
      "text/plain": [
       "(8408, 35)"
      ]
     },
     "execution_count": 229,
     "metadata": {},
     "output_type": "execute_result"
    }
   ],
   "source": [
    "v1_notifications.shape"
   ]
  },
  {
   "cell_type": "markdown",
   "metadata": {},
   "source": [
    "Segundo a informação abaixo, pelo menos 75% possuem no mínimo 30 notificaçoes de pendências, e 50% possuem 71 notificações de pendências ou mais"
   ]
  },
  {
   "cell_type": "code",
   "execution_count": 225,
   "metadata": {},
   "outputs": [
    {
     "data": {
      "text/plain": [
       "0.10     18.00\n",
       "0.25     30.25\n",
       "0.50     71.00\n",
       "0.75    139.25\n",
       "0.90    266.60\n",
       "dtype: float64"
      ]
     },
     "execution_count": 225,
     "metadata": {},
     "output_type": "execute_result"
    }
   ],
   "source": [
    "v1_notifications.groupby(\"user\").size().quantile([.1,.25, .5, .75, .9])"
   ]
  },
  {
   "cell_type": "code",
   "execution_count": null,
   "metadata": {},
   "outputs": [],
   "source": []
  },
  {
   "cell_type": "code",
   "execution_count": null,
   "metadata": {},
   "outputs": [],
   "source": []
  }
 ],
 "metadata": {
  "kernelspec": {
   "display_name": "Python 3",
   "language": "python",
   "name": "python3"
  },
  "language_info": {
   "codemirror_mode": {
    "name": "ipython",
    "version": 3
   },
   "file_extension": ".py",
   "mimetype": "text/x-python",
   "name": "python",
   "nbconvert_exporter": "python",
   "pygments_lexer": "ipython3",
   "version": "3.7.2"
  }
 },
 "nbformat": 4,
 "nbformat_minor": 2
}
