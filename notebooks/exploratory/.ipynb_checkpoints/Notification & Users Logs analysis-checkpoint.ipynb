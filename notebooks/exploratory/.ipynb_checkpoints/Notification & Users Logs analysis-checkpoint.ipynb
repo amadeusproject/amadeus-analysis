{
 "cells": [
  {
   "cell_type": "markdown",
   "metadata": {},
   "source": [
    "Here I'm going to explore the notification moduel and how they work. First, I need to understand their fields"
   ]
  },
  {
   "cell_type": "code",
   "execution_count": 1,
   "metadata": {},
   "outputs": [],
   "source": [
    "import pandas as pd\n",
    "from pandas.io.json import json_normalize\n",
    "%matplotlib inline\n",
    "from datetime import datetime, timedelta"
   ]
  },
  {
   "cell_type": "markdown",
   "metadata": {},
   "source": [
    "# LOAD DOS DADOS"
   ]
  },
  {
   "cell_type": "code",
   "execution_count": 3,
   "metadata": {},
   "outputs": [
    {
     "name": "stderr",
     "output_type": "stream",
     "text": [
      "/home/bormann/anaconda3/envs/amadeus-analysis/lib/python3.7/site-packages/IPython/core/interactiveshell.py:3044: DtypeWarning: Columns (1,2,6,7,8,10,11,12,15,16,18,19,21,22,24,25,27,28,31,32,33,36,37,40,41,42,45,46,48,49,50,51,52,54,55,61,62,68,70,73,74,76,77,78,79,80,81,82,83,84,85,86,87,88,89,90,91,92,93,94,95,96,98,99,100,101,102,103,104,105,107,108,110,111,114,115,117,119,120,121,122,126,127,128,131,133,135,137,138,139,142,144,145,146,149,153,156) have mixed types. Specify dtype option on import or set low_memory=False.\n",
      "  interactivity=interactivity, compiler=compiler, result=result)\n"
     ]
    }
   ],
   "source": [
    "df = pd.read_csv(\"../../data/privacy_protected_data/cleaned_data.csv\")"
   ]
  },
  {
   "cell_type": "code",
   "execution_count": 4,
   "metadata": {},
   "outputs": [],
   "source": [
    "grades_df = pd.read_excel(\"../../data/raw_data/nota_provas.xls\")"
   ]
  },
  {
   "cell_type": "markdown",
   "metadata": {},
   "source": [
    "Estas são as datas onde as avaliação dos alunos que compõe a base ocorreram."
   ]
  },
  {
   "cell_type": "code",
   "execution_count": 5,
   "metadata": {},
   "outputs": [],
   "source": [
    "date_v1 = datetime(day=10, year=2018, month=12)\n",
    "date_v2 = datetime(day=11, month=2, year=2019)\n",
    "date_v3 = datetime(day=18, month=3, year=2019)"
   ]
  },
  {
   "cell_type": "markdown",
   "metadata": {},
   "source": [
    "# EXPLORAÇÃO inicial"
   ]
  },
  {
   "cell_type": "code",
   "execution_count": 65,
   "metadata": {},
   "outputs": [],
   "source": [
    "notifications_df = df[df[\"model\"] == \"notifications.notification\"].dropna(axis=1, how=\"all\")"
   ]
  },
  {
   "cell_type": "code",
   "execution_count": 66,
   "metadata": {
    "scrolled": true
   },
   "outputs": [
    {
     "data": {
      "text/plain": [
       "(61291, 13)"
      ]
     },
     "execution_count": 66,
     "metadata": {},
     "output_type": "execute_result"
    }
   ],
   "source": [
    "notifications_df.shape"
   ]
  },
  {
   "cell_type": "code",
   "execution_count": 17,
   "metadata": {
    "scrolled": true
   },
   "outputs": [
    {
     "data": {
      "text/plain": [
       "log.log                             129228\n",
       "sessions.session                     68970\n",
       "notifications.notification           61291\n",
       "mural.muralvisualizations            14916\n",
       "questionary.useranswer                3638\n",
       "banco_questoes.alternative            2064\n",
       "chat.talkmessages                     1084\n",
       "chat.chatvisualizations               1080\n",
       "goals.mygoals                         1075\n",
       "questionary.userquest                  865\n",
       "fcm_django.fcmdevice                   610\n",
       "banco_questoes.question                516\n",
       "topics.resource                        462\n",
       "pdf_file.pdffile                       409\n",
       "chat.conversation                      273\n",
       "subjects.tag                           240\n",
       "users.user                             227\n",
       "mural.comment                          201\n",
       "django_cron.cronjoblog                 188\n",
       "topics.topic                           154\n",
       "mural.mural                            149\n",
       "mural.subjectpost                      129\n",
       "subjects.subject                       123\n",
       "pendencies.pendencies                   97\n",
       "questionary.specification               47\n",
       "mural.generalpost                       20\n",
       "youtube_video.ytvideo                   18\n",
       "webpage.webpage                         18\n",
       "goals.goalitem                          15\n",
       "questionary.questionary                 12\n",
       "categories.category                      6\n",
       "mural.muralfavorites                     6\n",
       "chat.chatfavorites                       5\n",
       "reports.reportcsv                        3\n",
       "goals.goals                              3\n",
       "bulletin.bulletin                        2\n",
       "students_group.studentsgroup             2\n",
       "reports.reportxls                        2\n",
       "webconference.conferencesettings         1\n",
       "Name: model, dtype: int64"
      ]
     },
     "execution_count": 17,
     "metadata": {},
     "output_type": "execute_result"
    }
   ],
   "source": [
    "df[\"model\"].value_counts()"
   ]
  },
  {
   "cell_type": "markdown",
   "metadata": {},
   "source": [
    "Uma notificação possui os seguintes campos no log:\n",
    "1. meta: \n",
    "2. user: que coleta o id do user para qual a notificação foi enviada\n",
    "3. Level: O nível da notificação está relacionado à tarefa que ela notifica sobre, este campo possui 4 valores mas somente 3 significados\n",
    "    \n",
    "    3.1 1,2: Significam que a tarefa está em dia \n",
    "    \n",
    "    3.2 3: Significa que a tarefa está atrasada\n",
    "    \n",
    "    3.3 4: Significa que o prazo para realizar a tarefa já acabou\n",
    "4. viewed: que possui valor de verdadeiro ou falso indicando se a notifcação foi vista ou não pelo usuário\n",
    "5. creation_date: A data de criação daquela notificação\n",
    "6. task: id da task que aquela notificação está associada"
   ]
  },
  {
   "cell_type": "markdown",
   "metadata": {},
   "source": [
    "# Limpeza dos dados"
   ]
  },
  {
   "cell_type": "markdown",
   "metadata": {},
   "source": [
    "é preciso extrair as colunas existentes dentro da coluna \"fields\", para isso, eu vou utilizar a função json_normalize, nativa do pandas."
   ]
  },
  {
   "cell_type": "code",
   "execution_count": 10,
   "metadata": {},
   "outputs": [],
   "source": [
    "def extract_flatten_dataframe(df, column, meta_list):\n",
    "    df_fields = json_normalize(data=df[column], meta=meta_list)\n",
    "    df_fields.index = df.index\n",
    "    return df_fields.join(df, how=\"outer\")"
   ]
  },
  {
   "cell_type": "code",
   "execution_count": 19,
   "metadata": {},
   "outputs": [
    {
     "data": {
      "text/plain": [
       "True    61291\n",
       "Name: context.is_correct, dtype: int64"
      ]
     },
     "execution_count": 19,
     "metadata": {},
     "output_type": "execute_result"
    }
   ],
   "source": [
    "notifications_df[\"context.is_correct\"].value_counts()"
   ]
  },
  {
   "cell_type": "code",
   "execution_count": 23,
   "metadata": {},
   "outputs": [],
   "source": [
    "#notification_fields = json_normalize(data=notifications_df[\"fields\"], meta=[\"meta\", \"task\", \"user\", \"level\", \"viewed\", \"creation_date\"] )\n",
    "#notification_fields.index = notifications_df.index\n",
    "notifications_df = notifications_df.astype({\"level\": pd.CategoricalDtype()})\n",
    "notifications_df[\"creation_date\"] = pd.to_datetime(notifications_df[\"creation_date\"])\n",
    "#notification_df_flatted = notification_fields.join(notifications_df, how=\"outer\")"
   ]
  },
  {
   "cell_type": "code",
   "execution_count": 24,
   "metadata": {},
   "outputs": [
    {
     "data": {
      "text/plain": [
       "Unnamed: 0                     int64\n",
       "active                          bool\n",
       "all_students                    bool\n",
       "context.is_correct              bool\n",
       "creation_date         datetime64[ns]\n",
       "level                       category\n",
       "show_window                     bool\n",
       "task                         float64\n",
       "viewed                        object\n",
       "visible                         bool\n",
       "model                         object\n",
       "pk                            object\n",
       "dtype: object"
      ]
     },
     "execution_count": 24,
     "metadata": {},
     "output_type": "execute_result"
    }
   ],
   "source": [
    "notifications_df.dtypes"
   ]
  },
  {
   "cell_type": "code",
   "execution_count": 26,
   "metadata": {},
   "outputs": [
    {
     "data": {
      "text/html": [
       "<div>\n",
       "<style scoped>\n",
       "    .dataframe tbody tr th:only-of-type {\n",
       "        vertical-align: middle;\n",
       "    }\n",
       "\n",
       "    .dataframe tbody tr th {\n",
       "        vertical-align: top;\n",
       "    }\n",
       "\n",
       "    .dataframe thead th {\n",
       "        text-align: right;\n",
       "    }\n",
       "</style>\n",
       "<table border=\"1\" class=\"dataframe\">\n",
       "  <thead>\n",
       "    <tr style=\"text-align: right;\">\n",
       "      <th></th>\n",
       "      <th>Unnamed: 0</th>\n",
       "      <th>active</th>\n",
       "      <th>all_students</th>\n",
       "      <th>context.is_correct</th>\n",
       "      <th>creation_date</th>\n",
       "      <th>level</th>\n",
       "      <th>show_window</th>\n",
       "      <th>task</th>\n",
       "      <th>viewed</th>\n",
       "      <th>visible</th>\n",
       "      <th>model</th>\n",
       "      <th>pk</th>\n",
       "    </tr>\n",
       "  </thead>\n",
       "  <tbody>\n",
       "    <tr>\n",
       "      <th>83061</th>\n",
       "      <td>83061</td>\n",
       "      <td>True</td>\n",
       "      <td>True</td>\n",
       "      <td>True</td>\n",
       "      <td>2019-01-25</td>\n",
       "      <td>1.0</td>\n",
       "      <td>True</td>\n",
       "      <td>45.0</td>\n",
       "      <td>False</td>\n",
       "      <td>True</td>\n",
       "      <td>notifications.notification</td>\n",
       "      <td>15323</td>\n",
       "    </tr>\n",
       "    <tr>\n",
       "      <th>100331</th>\n",
       "      <td>100331</td>\n",
       "      <td>True</td>\n",
       "      <td>True</td>\n",
       "      <td>True</td>\n",
       "      <td>2019-02-17</td>\n",
       "      <td>3.0</td>\n",
       "      <td>True</td>\n",
       "      <td>21.0</td>\n",
       "      <td>False</td>\n",
       "      <td>True</td>\n",
       "      <td>notifications.notification</td>\n",
       "      <td>33479</td>\n",
       "    </tr>\n",
       "    <tr>\n",
       "      <th>115340</th>\n",
       "      <td>115340</td>\n",
       "      <td>True</td>\n",
       "      <td>True</td>\n",
       "      <td>True</td>\n",
       "      <td>2019-03-04</td>\n",
       "      <td>3.0</td>\n",
       "      <td>True</td>\n",
       "      <td>54.0</td>\n",
       "      <td>False</td>\n",
       "      <td>True</td>\n",
       "      <td>notifications.notification</td>\n",
       "      <td>48488</td>\n",
       "    </tr>\n",
       "    <tr>\n",
       "      <th>81685</th>\n",
       "      <td>81685</td>\n",
       "      <td>True</td>\n",
       "      <td>True</td>\n",
       "      <td>True</td>\n",
       "      <td>2019-01-23</td>\n",
       "      <td>3.0</td>\n",
       "      <td>True</td>\n",
       "      <td>18.0</td>\n",
       "      <td>True</td>\n",
       "      <td>True</td>\n",
       "      <td>notifications.notification</td>\n",
       "      <td>13871</td>\n",
       "    </tr>\n",
       "    <tr>\n",
       "      <th>92404</th>\n",
       "      <td>92404</td>\n",
       "      <td>True</td>\n",
       "      <td>True</td>\n",
       "      <td>True</td>\n",
       "      <td>2019-02-06</td>\n",
       "      <td>3.0</td>\n",
       "      <td>True</td>\n",
       "      <td>58.0</td>\n",
       "      <td>False</td>\n",
       "      <td>True</td>\n",
       "      <td>notifications.notification</td>\n",
       "      <td>25407</td>\n",
       "    </tr>\n",
       "    <tr>\n",
       "      <th>110369</th>\n",
       "      <td>110369</td>\n",
       "      <td>True</td>\n",
       "      <td>True</td>\n",
       "      <td>True</td>\n",
       "      <td>2019-02-27</td>\n",
       "      <td>3.0</td>\n",
       "      <td>True</td>\n",
       "      <td>125.0</td>\n",
       "      <td>False</td>\n",
       "      <td>True</td>\n",
       "      <td>notifications.notification</td>\n",
       "      <td>43517</td>\n",
       "    </tr>\n",
       "    <tr>\n",
       "      <th>110280</th>\n",
       "      <td>110280</td>\n",
       "      <td>True</td>\n",
       "      <td>True</td>\n",
       "      <td>True</td>\n",
       "      <td>2019-02-27</td>\n",
       "      <td>1.0</td>\n",
       "      <td>True</td>\n",
       "      <td>30.0</td>\n",
       "      <td>False</td>\n",
       "      <td>True</td>\n",
       "      <td>notifications.notification</td>\n",
       "      <td>43428</td>\n",
       "    </tr>\n",
       "    <tr>\n",
       "      <th>113058</th>\n",
       "      <td>113058</td>\n",
       "      <td>True</td>\n",
       "      <td>True</td>\n",
       "      <td>True</td>\n",
       "      <td>2019-03-02</td>\n",
       "      <td>3.0</td>\n",
       "      <td>True</td>\n",
       "      <td>66.0</td>\n",
       "      <td>False</td>\n",
       "      <td>True</td>\n",
       "      <td>notifications.notification</td>\n",
       "      <td>46206</td>\n",
       "    </tr>\n",
       "    <tr>\n",
       "      <th>103701</th>\n",
       "      <td>103701</td>\n",
       "      <td>True</td>\n",
       "      <td>True</td>\n",
       "      <td>True</td>\n",
       "      <td>2019-02-21</td>\n",
       "      <td>3.0</td>\n",
       "      <td>True</td>\n",
       "      <td>66.0</td>\n",
       "      <td>False</td>\n",
       "      <td>True</td>\n",
       "      <td>notifications.notification</td>\n",
       "      <td>36849</td>\n",
       "    </tr>\n",
       "    <tr>\n",
       "      <th>110824</th>\n",
       "      <td>110824</td>\n",
       "      <td>True</td>\n",
       "      <td>True</td>\n",
       "      <td>True</td>\n",
       "      <td>2019-02-28</td>\n",
       "      <td>3.0</td>\n",
       "      <td>True</td>\n",
       "      <td>107.0</td>\n",
       "      <td>False</td>\n",
       "      <td>True</td>\n",
       "      <td>notifications.notification</td>\n",
       "      <td>43972</td>\n",
       "    </tr>\n",
       "  </tbody>\n",
       "</table>\n",
       "</div>"
      ],
      "text/plain": [
       "        Unnamed: 0  active  all_students  context.is_correct creation_date  \\\n",
       "83061        83061    True          True                True    2019-01-25   \n",
       "100331      100331    True          True                True    2019-02-17   \n",
       "115340      115340    True          True                True    2019-03-04   \n",
       "81685        81685    True          True                True    2019-01-23   \n",
       "92404        92404    True          True                True    2019-02-06   \n",
       "110369      110369    True          True                True    2019-02-27   \n",
       "110280      110280    True          True                True    2019-02-27   \n",
       "113058      113058    True          True                True    2019-03-02   \n",
       "103701      103701    True          True                True    2019-02-21   \n",
       "110824      110824    True          True                True    2019-02-28   \n",
       "\n",
       "       level  show_window   task viewed  visible                       model  \\\n",
       "83061    1.0         True   45.0  False     True  notifications.notification   \n",
       "100331   3.0         True   21.0  False     True  notifications.notification   \n",
       "115340   3.0         True   54.0  False     True  notifications.notification   \n",
       "81685    3.0         True   18.0   True     True  notifications.notification   \n",
       "92404    3.0         True   58.0  False     True  notifications.notification   \n",
       "110369   3.0         True  125.0  False     True  notifications.notification   \n",
       "110280   1.0         True   30.0  False     True  notifications.notification   \n",
       "113058   3.0         True   66.0  False     True  notifications.notification   \n",
       "103701   3.0         True   66.0  False     True  notifications.notification   \n",
       "110824   3.0         True  107.0  False     True  notifications.notification   \n",
       "\n",
       "           pk  \n",
       "83061   15323  \n",
       "100331  33479  \n",
       "115340  48488  \n",
       "81685   13871  \n",
       "92404   25407  \n",
       "110369  43517  \n",
       "110280  43428  \n",
       "113058  46206  \n",
       "103701  36849  \n",
       "110824  43972  "
      ]
     },
     "execution_count": 26,
     "metadata": {},
     "output_type": "execute_result"
    }
   ],
   "source": [
    "notifications_df.sample(10)"
   ]
  },
  {
   "cell_type": "code",
   "execution_count": 13,
   "metadata": {},
   "outputs": [
    {
     "data": {
      "text/plain": [
       "creation_date    datetime64[ns]\n",
       "level                  category\n",
       "meta                     object\n",
       "task                      int64\n",
       "user                      int64\n",
       "viewed                     bool\n",
       "dtype: object"
      ]
     },
     "execution_count": 13,
     "metadata": {},
     "output_type": "execute_result"
    }
   ],
   "source": [
    "notification_fields.dtypes"
   ]
  },
  {
   "cell_type": "markdown",
   "metadata": {},
   "source": [
    "Como dá pra ver o pandas não consegue inferir muito bem os data types das colunas, vou utilizar meu conhecimento sobre elas para colocar valores mais baratos e que correspondem melhor aos seus valores.m"
   ]
  },
  {
   "cell_type": "markdown",
   "metadata": {},
   "source": [
    "# Logs"
   ]
  },
  {
   "cell_type": "code",
   "execution_count": 64,
   "metadata": {},
   "outputs": [],
   "source": [
    "logs_df = df.loc[df[\"model\"] == \"log.log\"].dropna(axis=1, how=\"all\")\n",
    "#log_meta_list = [\"component\", \"context\", \"action\", \"resource\", \"user\", \"user_id\", \"user_email\", \"datetime\"]\n",
    "#logs_df = extract_flatten_dataframe(logs_default_df, \"fields\", log_meta_list)"
   ]
  },
  {
   "cell_type": "code",
   "execution_count": 30,
   "metadata": {},
   "outputs": [
    {
     "data": {
      "text/plain": [
       "view                         70763\n",
       "access                       24007\n",
       "watch                        16436\n",
       "logout                        6303\n",
       "answer                        4557\n",
       "finish                        1630\n",
       "create                        1376\n",
       "send                          1209\n",
       "update                         765\n",
       "view_statistics                374\n",
       "start                          316\n",
       "view_history                   263\n",
       "create_comment                 206\n",
       "search                         160\n",
       "submit                         143\n",
       "create_post                    139\n",
       "click                          123\n",
       "cron                           119\n",
       "delete                         101\n",
       "participating                   56\n",
       "participate                     46\n",
       "initwebconference               44\n",
       "delete_post                     35\n",
       "set_goal                        23\n",
       "delete_comment                   9\n",
       "access_difficulties_modal        9\n",
       "edit_post                        4\n",
       "send_difficulties                3\n",
       "edit_comment                     3\n",
       "view_list_of_news                3\n",
       "remove_account                   2\n",
       "view_new                         1\n",
       "Name: action, dtype: int64"
      ]
     },
     "execution_count": 30,
     "metadata": {},
     "output_type": "execute_result"
    }
   ],
   "source": [
    "logs_df[\"action\"].value_counts()"
   ]
  },
  {
   "cell_type": "code",
   "execution_count": 31,
   "metadata": {
    "scrolled": false
   },
   "outputs": [
    {
     "data": {
      "text/plain": [
       "resources             34593\n",
       "topic                 12047\n",
       "subject                8393\n",
       "mural                  3705\n",
       "chat                   3088\n",
       "category               3050\n",
       "pendencies             2954\n",
       "mobile                 2903\n",
       "General_Dashboard        16\n",
       "Category_Dashboard       13\n",
       "admin_log                 1\n",
       "Name: component, dtype: int64"
      ]
     },
     "execution_count": 31,
     "metadata": {},
     "output_type": "execute_result"
    }
   ],
   "source": [
    "logs_df.loc[logs_df[\"action\"] == \"view\"].component.value_counts()"
   ]
  },
  {
   "cell_type": "code",
   "execution_count": 32,
   "metadata": {
    "scrolled": true
   },
   "outputs": [
    {
     "data": {
      "text/plain": [
       "Index(['Unnamed: 0', '_my_subclass', 'action', 'active', 'all_students',\n",
       "       'answer', 'begin_date', 'brief_description', 'categories', 'category',\n",
       "       ...\n",
       "       'user_id', 'user_one', 'user_permissions', 'user_quest', 'user_two',\n",
       "       'value', 'viewed', 'visible', 'model', 'pk'],\n",
       "      dtype='object', length=157)"
      ]
     },
     "execution_count": 32,
     "metadata": {},
     "output_type": "execute_result"
    }
   ],
   "source": [
    "logs_df.columns"
   ]
  },
  {
   "cell_type": "markdown",
   "metadata": {},
   "source": [
    "# View Logs"
   ]
  },
  {
   "cell_type": "code",
   "execution_count": 33,
   "metadata": {},
   "outputs": [],
   "source": [
    "view_logs_df = logs_df.loc[logs_df[\"action\"] == \"view\"].dropna(axis=1, how=\"all\")"
   ]
  },
  {
   "cell_type": "code",
   "execution_count": 34,
   "metadata": {},
   "outputs": [
    {
     "data": {
      "text/plain": [
       "(70763, 57)"
      ]
     },
     "execution_count": 34,
     "metadata": {},
     "output_type": "execute_result"
    }
   ],
   "source": [
    "view_logs_df.shape"
   ]
  },
  {
   "cell_type": "code",
   "execution_count": 35,
   "metadata": {
    "scrolled": true
   },
   "outputs": [
    {
     "data": {
      "text/plain": [
       "Index(['Unnamed: 0', 'action', 'active', 'all_students', 'component',\n",
       "       'context.bulletin_id', 'context.bulletin_name', 'context.bulletin_slug',\n",
       "       'context.category_id', 'context.category_name', 'context.category_slug',\n",
       "       'context.goals_id', 'context.goals_name', 'context.goals_slug',\n",
       "       'context.is_correct', 'context.pdffile_id', 'context.pdffile_name',\n",
       "       'context.pdffile_slug', 'context.post_id', 'context.post_space_id',\n",
       "       'context.post_space_name', 'context.post_space_slug',\n",
       "       'context.questionary_id', 'context.questionary_name',\n",
       "       'context.questionary_slug', 'context.resource_id',\n",
       "       'context.resource_name', 'context.resource_slug', 'context.search_by',\n",
       "       'context.subject_id', 'context.subject_name', 'context.subject_slug',\n",
       "       'context.talk_id', 'context.timestamp_end', 'context.timestamp_start',\n",
       "       'context.topic_id', 'context.topic_name', 'context.topic_slug',\n",
       "       'context.user_id', 'context.view_page', 'context.webconference_id',\n",
       "       'context.webconference_name', 'context.webconference_slug',\n",
       "       'context.webconference_view', 'context.webpage_id',\n",
       "       'context.webpage_name', 'context.webpage_slug', 'context.ytvideo_id',\n",
       "       'context.ytvideo_name', 'context.ytvideo_slug', 'datetime', 'resource',\n",
       "       'show_window', 'user_id', 'visible', 'model', 'pk'],\n",
       "      dtype='object')"
      ]
     },
     "execution_count": 35,
     "metadata": {},
     "output_type": "execute_result"
    }
   ],
   "source": [
    "view_logs_df.columns"
   ]
  },
  {
   "cell_type": "markdown",
   "metadata": {},
   "source": [
    "# Watch Logs"
   ]
  },
  {
   "cell_type": "code",
   "execution_count": 36,
   "metadata": {},
   "outputs": [
    {
     "data": {
      "text/plain": [
       "(16436, 27)"
      ]
     },
     "execution_count": 36,
     "metadata": {},
     "output_type": "execute_result"
    }
   ],
   "source": [
    "watch_logs_df = logs_df.loc[logs_df[\"action\"] == \"watch\"].dropna(axis=1, how=\"all\")\n",
    "watch_logs_df.shape"
   ]
  },
  {
   "cell_type": "markdown",
   "metadata": {},
   "source": [
    "# Answer logs"
   ]
  },
  {
   "cell_type": "code",
   "execution_count": 37,
   "metadata": {},
   "outputs": [
    {
     "data": {
      "text/plain": [
       "(4557, 20)"
      ]
     },
     "execution_count": 37,
     "metadata": {},
     "output_type": "execute_result"
    }
   ],
   "source": [
    "answer_logs_df = logs_df.loc[logs_df[\"action\"] == \"answer\"].dropna(axis=1, how=\"all\")\n",
    "answer_logs_df.shape"
   ]
  },
  {
   "cell_type": "markdown",
   "metadata": {},
   "source": [
    "# Finish logs"
   ]
  },
  {
   "cell_type": "code",
   "execution_count": 38,
   "metadata": {},
   "outputs": [
    {
     "data": {
      "text/plain": [
       "(1630, 30)"
      ]
     },
     "execution_count": 38,
     "metadata": {},
     "output_type": "execute_result"
    }
   ],
   "source": [
    "finish_logs_df = logs_df.loc[logs_df[\"action\"] == \"finish\"].dropna(axis=1, how=\"all\")\n",
    "finish_logs_df.shape"
   ]
  },
  {
   "cell_type": "code",
   "execution_count": 39,
   "metadata": {
    "scrolled": true
   },
   "outputs": [
    {
     "data": {
      "text/plain": [
       "Unnamed: 0                    int64\n",
       "action                       object\n",
       "active                         bool\n",
       "all_students                   bool\n",
       "component                    object\n",
       "context.category_id         float64\n",
       "context.category_name        object\n",
       "context.category_slug        object\n",
       "context.is_correct             bool\n",
       "context.questionary_id      float64\n",
       "context.questionary_name     object\n",
       "context.questionary_slug     object\n",
       "context.subject_id          float64\n",
       "context.subject_name         object\n",
       "context.subject_slug         object\n",
       "context.timestamp_end       float64\n",
       "context.timestamp_start     float64\n",
       "context.topic_id            float64\n",
       "context.topic_name           object\n",
       "context.topic_slug           object\n",
       "context.ytvideo_id          float64\n",
       "context.ytvideo_name         object\n",
       "context.ytvideo_slug         object\n",
       "datetime                     object\n",
       "resource                     object\n",
       "show_window                    bool\n",
       "user_id                     float64\n",
       "visible                        bool\n",
       "model                        object\n",
       "pk                           object\n",
       "dtype: object"
      ]
     },
     "execution_count": 39,
     "metadata": {},
     "output_type": "execute_result"
    }
   ],
   "source": [
    "finish_logs_df.dtypes"
   ]
  },
  {
   "cell_type": "code",
   "execution_count": 40,
   "metadata": {
    "scrolled": true
   },
   "outputs": [
    {
     "data": {
      "text/plain": [
       "ytvideo        974\n",
       "questionary    656\n",
       "Name: resource, dtype: int64"
      ]
     },
     "execution_count": 40,
     "metadata": {},
     "output_type": "execute_result"
    }
   ],
   "source": [
    "finish_logs_df.resource.value_counts()"
   ]
  },
  {
   "cell_type": "markdown",
   "metadata": {},
   "source": [
    "# Send logs"
   ]
  },
  {
   "cell_type": "code",
   "execution_count": 42,
   "metadata": {},
   "outputs": [
    {
     "data": {
      "text/plain": [
       "(1209, 19)"
      ]
     },
     "execution_count": 42,
     "metadata": {},
     "output_type": "execute_result"
    }
   ],
   "source": [
    "send_logs_df = logs_df.loc[logs_df[\"action\"] == \"send\"].dropna(axis=1, how=\"all\")\n",
    "send_logs_df.shape"
   ]
  },
  {
   "cell_type": "code",
   "execution_count": 43,
   "metadata": {},
   "outputs": [
    {
     "data": {
      "text/plain": [
       "Index(['Unnamed: 0', 'action', 'active', 'all_students', 'component',\n",
       "       'context.is_correct', 'context.post_id', 'context.subject_id',\n",
       "       'context.subject_name', 'context.subject_slug', 'context.talk_id',\n",
       "       'context.user_id', 'datetime', 'resource', 'show_window', 'user_id',\n",
       "       'visible', 'model', 'pk'],\n",
       "      dtype='object')"
      ]
     },
     "execution_count": 43,
     "metadata": {},
     "output_type": "execute_result"
    }
   ],
   "source": [
    "send_logs_df.columns"
   ]
  },
  {
   "cell_type": "code",
   "execution_count": 44,
   "metadata": {},
   "outputs": [
    {
     "data": {
      "text/plain": [
       "Index(['id_estudante', 'v1', 'v2'], dtype='object')"
      ]
     },
     "execution_count": 44,
     "metadata": {},
     "output_type": "execute_result"
    }
   ],
   "source": [
    "grades_df.columns"
   ]
  },
  {
   "cell_type": "code",
   "execution_count": 45,
   "metadata": {},
   "outputs": [
    {
     "data": {
      "text/html": [
       "<div>\n",
       "<style scoped>\n",
       "    .dataframe tbody tr th:only-of-type {\n",
       "        vertical-align: middle;\n",
       "    }\n",
       "\n",
       "    .dataframe tbody tr th {\n",
       "        vertical-align: top;\n",
       "    }\n",
       "\n",
       "    .dataframe thead th {\n",
       "        text-align: right;\n",
       "    }\n",
       "</style>\n",
       "<table border=\"1\" class=\"dataframe\">\n",
       "  <thead>\n",
       "    <tr style=\"text-align: right;\">\n",
       "      <th></th>\n",
       "      <th>id_estudante</th>\n",
       "      <th>v1</th>\n",
       "      <th>v2</th>\n",
       "    </tr>\n",
       "  </thead>\n",
       "  <tbody>\n",
       "    <tr>\n",
       "      <th>0</th>\n",
       "      <td>11</td>\n",
       "      <td>0.0</td>\n",
       "      <td>0.0</td>\n",
       "    </tr>\n",
       "  </tbody>\n",
       "</table>\n",
       "</div>"
      ],
      "text/plain": [
       "   id_estudante   v1   v2\n",
       "0            11  0.0  0.0"
      ]
     },
     "execution_count": 45,
     "metadata": {},
     "output_type": "execute_result"
    }
   ],
   "source": [
    "grades_df[grades_df[\"id_estudante\"] == 11]"
   ]
  },
  {
   "cell_type": "code",
   "execution_count": 46,
   "metadata": {},
   "outputs": [
    {
     "data": {
      "text/plain": [
       "Index(['Unnamed: 0', 'action', 'active', 'all_students', 'component',\n",
       "       'context.is_correct', 'context.post_id', 'context.subject_id',\n",
       "       'context.subject_name', 'context.subject_slug', 'context.talk_id',\n",
       "       'context.user_id', 'datetime', 'resource', 'show_window', 'user_id',\n",
       "       'visible', 'model', 'pk'],\n",
       "      dtype='object')"
      ]
     },
     "execution_count": 46,
     "metadata": {},
     "output_type": "execute_result"
    }
   ],
   "source": [
    "send_logs_df.columns"
   ]
  },
  {
   "cell_type": "code",
   "execution_count": 47,
   "metadata": {
    "scrolled": true
   },
   "outputs": [
    {
     "data": {
      "text/html": [
       "<div>\n",
       "<style scoped>\n",
       "    .dataframe tbody tr th:only-of-type {\n",
       "        vertical-align: middle;\n",
       "    }\n",
       "\n",
       "    .dataframe tbody tr th {\n",
       "        vertical-align: top;\n",
       "    }\n",
       "\n",
       "    .dataframe thead th {\n",
       "        text-align: right;\n",
       "    }\n",
       "</style>\n",
       "<table border=\"1\" class=\"dataframe\">\n",
       "  <thead>\n",
       "    <tr style=\"text-align: right;\">\n",
       "      <th></th>\n",
       "      <th>Unnamed: 0</th>\n",
       "      <th>action</th>\n",
       "      <th>active</th>\n",
       "      <th>all_students</th>\n",
       "      <th>component</th>\n",
       "      <th>context.is_correct</th>\n",
       "      <th>context.post_id</th>\n",
       "      <th>context.subject_id</th>\n",
       "      <th>context.subject_name</th>\n",
       "      <th>context.subject_slug</th>\n",
       "      <th>context.talk_id</th>\n",
       "      <th>context.user_id</th>\n",
       "      <th>datetime</th>\n",
       "      <th>resource</th>\n",
       "      <th>show_window</th>\n",
       "      <th>user_id</th>\n",
       "      <th>visible</th>\n",
       "      <th>model</th>\n",
       "      <th>pk</th>\n",
       "    </tr>\n",
       "  </thead>\n",
       "  <tbody>\n",
       "    <tr>\n",
       "      <th>130684</th>\n",
       "      <td>130684</td>\n",
       "      <td>send</td>\n",
       "      <td>True</td>\n",
       "      <td>True</td>\n",
       "      <td>chat</td>\n",
       "      <td>True</td>\n",
       "      <td>NaN</td>\n",
       "      <td>NaN</td>\n",
       "      <td>NaN</td>\n",
       "      <td>NaN</td>\n",
       "      <td>1.0</td>\n",
       "      <td>2.0</td>\n",
       "      <td>2018-10-21T05:33:36.120Z</td>\n",
       "      <td>message</td>\n",
       "      <td>True</td>\n",
       "      <td>1.0</td>\n",
       "      <td>True</td>\n",
       "      <td>log.log</td>\n",
       "      <td>9</td>\n",
       "    </tr>\n",
       "    <tr>\n",
       "      <th>130687</th>\n",
       "      <td>130687</td>\n",
       "      <td>send</td>\n",
       "      <td>True</td>\n",
       "      <td>True</td>\n",
       "      <td>chat</td>\n",
       "      <td>True</td>\n",
       "      <td>NaN</td>\n",
       "      <td>NaN</td>\n",
       "      <td>NaN</td>\n",
       "      <td>NaN</td>\n",
       "      <td>1.0</td>\n",
       "      <td>1.0</td>\n",
       "      <td>2018-10-21T05:33:58.186Z</td>\n",
       "      <td>message</td>\n",
       "      <td>True</td>\n",
       "      <td>2.0</td>\n",
       "      <td>True</td>\n",
       "      <td>log.log</td>\n",
       "      <td>12</td>\n",
       "    </tr>\n",
       "    <tr>\n",
       "      <th>130695</th>\n",
       "      <td>130695</td>\n",
       "      <td>send</td>\n",
       "      <td>True</td>\n",
       "      <td>True</td>\n",
       "      <td>chat</td>\n",
       "      <td>True</td>\n",
       "      <td>NaN</td>\n",
       "      <td>NaN</td>\n",
       "      <td>NaN</td>\n",
       "      <td>NaN</td>\n",
       "      <td>1.0</td>\n",
       "      <td>2.0</td>\n",
       "      <td>2018-10-21T23:03:16.256Z</td>\n",
       "      <td>message</td>\n",
       "      <td>True</td>\n",
       "      <td>1.0</td>\n",
       "      <td>True</td>\n",
       "      <td>log.log</td>\n",
       "      <td>20</td>\n",
       "    </tr>\n",
       "    <tr>\n",
       "      <th>130775</th>\n",
       "      <td>130775</td>\n",
       "      <td>send</td>\n",
       "      <td>True</td>\n",
       "      <td>True</td>\n",
       "      <td>chat</td>\n",
       "      <td>True</td>\n",
       "      <td>NaN</td>\n",
       "      <td>NaN</td>\n",
       "      <td>NaN</td>\n",
       "      <td>NaN</td>\n",
       "      <td>1.0</td>\n",
       "      <td>2.0</td>\n",
       "      <td>2018-10-22T12:22:46.656Z</td>\n",
       "      <td>message</td>\n",
       "      <td>True</td>\n",
       "      <td>1.0</td>\n",
       "      <td>True</td>\n",
       "      <td>log.log</td>\n",
       "      <td>100</td>\n",
       "    </tr>\n",
       "    <tr>\n",
       "      <th>132307</th>\n",
       "      <td>132307</td>\n",
       "      <td>send</td>\n",
       "      <td>True</td>\n",
       "      <td>True</td>\n",
       "      <td>chat</td>\n",
       "      <td>True</td>\n",
       "      <td>NaN</td>\n",
       "      <td>4.0</td>\n",
       "      <td>Resistência dos Materiais I</td>\n",
       "      <td>resistencia-dos-materiais-i</td>\n",
       "      <td>2.0</td>\n",
       "      <td>3.0</td>\n",
       "      <td>2018-10-23T05:00:20.161Z</td>\n",
       "      <td>message</td>\n",
       "      <td>True</td>\n",
       "      <td>4.0</td>\n",
       "      <td>True</td>\n",
       "      <td>log.log</td>\n",
       "      <td>1632</td>\n",
       "    </tr>\n",
       "    <tr>\n",
       "      <th>132360</th>\n",
       "      <td>132360</td>\n",
       "      <td>send</td>\n",
       "      <td>True</td>\n",
       "      <td>True</td>\n",
       "      <td>chat</td>\n",
       "      <td>True</td>\n",
       "      <td>NaN</td>\n",
       "      <td>4.0</td>\n",
       "      <td>Resistência dos Materiais I</td>\n",
       "      <td>resistencia-dos-materiais-i</td>\n",
       "      <td>2.0</td>\n",
       "      <td>3.0</td>\n",
       "      <td>2018-10-23T05:23:03.557Z</td>\n",
       "      <td>message</td>\n",
       "      <td>True</td>\n",
       "      <td>4.0</td>\n",
       "      <td>True</td>\n",
       "      <td>log.log</td>\n",
       "      <td>1685</td>\n",
       "    </tr>\n",
       "    <tr>\n",
       "      <th>135981</th>\n",
       "      <td>135981</td>\n",
       "      <td>send</td>\n",
       "      <td>True</td>\n",
       "      <td>True</td>\n",
       "      <td>chat</td>\n",
       "      <td>True</td>\n",
       "      <td>NaN</td>\n",
       "      <td>4.0</td>\n",
       "      <td>Resistência dos Materiais I</td>\n",
       "      <td>resistencia-dos-materiais-i</td>\n",
       "      <td>2.0</td>\n",
       "      <td>3.0</td>\n",
       "      <td>2018-10-26T18:44:53.758Z</td>\n",
       "      <td>message</td>\n",
       "      <td>True</td>\n",
       "      <td>4.0</td>\n",
       "      <td>True</td>\n",
       "      <td>log.log</td>\n",
       "      <td>5306</td>\n",
       "    </tr>\n",
       "    <tr>\n",
       "      <th>135982</th>\n",
       "      <td>135982</td>\n",
       "      <td>send</td>\n",
       "      <td>True</td>\n",
       "      <td>True</td>\n",
       "      <td>chat</td>\n",
       "      <td>True</td>\n",
       "      <td>NaN</td>\n",
       "      <td>4.0</td>\n",
       "      <td>Resistência dos Materiais I</td>\n",
       "      <td>resistencia-dos-materiais-i</td>\n",
       "      <td>2.0</td>\n",
       "      <td>3.0</td>\n",
       "      <td>2018-10-26T18:44:58.058Z</td>\n",
       "      <td>message</td>\n",
       "      <td>True</td>\n",
       "      <td>4.0</td>\n",
       "      <td>True</td>\n",
       "      <td>log.log</td>\n",
       "      <td>5307</td>\n",
       "    </tr>\n",
       "    <tr>\n",
       "      <th>135983</th>\n",
       "      <td>135983</td>\n",
       "      <td>send</td>\n",
       "      <td>True</td>\n",
       "      <td>True</td>\n",
       "      <td>chat</td>\n",
       "      <td>True</td>\n",
       "      <td>NaN</td>\n",
       "      <td>4.0</td>\n",
       "      <td>Resistência dos Materiais I</td>\n",
       "      <td>resistencia-dos-materiais-i</td>\n",
       "      <td>2.0</td>\n",
       "      <td>3.0</td>\n",
       "      <td>2018-10-26T18:45:20.467Z</td>\n",
       "      <td>message</td>\n",
       "      <td>True</td>\n",
       "      <td>4.0</td>\n",
       "      <td>True</td>\n",
       "      <td>log.log</td>\n",
       "      <td>5308</td>\n",
       "    </tr>\n",
       "    <tr>\n",
       "      <th>136459</th>\n",
       "      <td>136459</td>\n",
       "      <td>send</td>\n",
       "      <td>True</td>\n",
       "      <td>True</td>\n",
       "      <td>chat</td>\n",
       "      <td>True</td>\n",
       "      <td>NaN</td>\n",
       "      <td>NaN</td>\n",
       "      <td>NaN</td>\n",
       "      <td>NaN</td>\n",
       "      <td>1.0</td>\n",
       "      <td>1.0</td>\n",
       "      <td>2018-10-27T02:53:47.018Z</td>\n",
       "      <td>message</td>\n",
       "      <td>True</td>\n",
       "      <td>2.0</td>\n",
       "      <td>True</td>\n",
       "      <td>log.log</td>\n",
       "      <td>5784</td>\n",
       "    </tr>\n",
       "    <tr>\n",
       "      <th>136467</th>\n",
       "      <td>136467</td>\n",
       "      <td>send</td>\n",
       "      <td>True</td>\n",
       "      <td>True</td>\n",
       "      <td>chat</td>\n",
       "      <td>True</td>\n",
       "      <td>NaN</td>\n",
       "      <td>NaN</td>\n",
       "      <td>NaN</td>\n",
       "      <td>NaN</td>\n",
       "      <td>1.0</td>\n",
       "      <td>2.0</td>\n",
       "      <td>2018-10-27T02:54:08.856Z</td>\n",
       "      <td>message</td>\n",
       "      <td>True</td>\n",
       "      <td>1.0</td>\n",
       "      <td>True</td>\n",
       "      <td>log.log</td>\n",
       "      <td>5792</td>\n",
       "    </tr>\n",
       "    <tr>\n",
       "      <th>136468</th>\n",
       "      <td>136468</td>\n",
       "      <td>send</td>\n",
       "      <td>True</td>\n",
       "      <td>True</td>\n",
       "      <td>chat</td>\n",
       "      <td>True</td>\n",
       "      <td>NaN</td>\n",
       "      <td>NaN</td>\n",
       "      <td>NaN</td>\n",
       "      <td>NaN</td>\n",
       "      <td>1.0</td>\n",
       "      <td>1.0</td>\n",
       "      <td>2018-10-27T02:54:23.338Z</td>\n",
       "      <td>message</td>\n",
       "      <td>True</td>\n",
       "      <td>2.0</td>\n",
       "      <td>True</td>\n",
       "      <td>log.log</td>\n",
       "      <td>5793</td>\n",
       "    </tr>\n",
       "    <tr>\n",
       "      <th>136469</th>\n",
       "      <td>136469</td>\n",
       "      <td>send</td>\n",
       "      <td>True</td>\n",
       "      <td>True</td>\n",
       "      <td>chat</td>\n",
       "      <td>True</td>\n",
       "      <td>NaN</td>\n",
       "      <td>NaN</td>\n",
       "      <td>NaN</td>\n",
       "      <td>NaN</td>\n",
       "      <td>1.0</td>\n",
       "      <td>2.0</td>\n",
       "      <td>2018-10-27T02:54:40.265Z</td>\n",
       "      <td>message</td>\n",
       "      <td>True</td>\n",
       "      <td>1.0</td>\n",
       "      <td>True</td>\n",
       "      <td>log.log</td>\n",
       "      <td>5794</td>\n",
       "    </tr>\n",
       "    <tr>\n",
       "      <th>136470</th>\n",
       "      <td>136470</td>\n",
       "      <td>send</td>\n",
       "      <td>True</td>\n",
       "      <td>True</td>\n",
       "      <td>chat</td>\n",
       "      <td>True</td>\n",
       "      <td>NaN</td>\n",
       "      <td>NaN</td>\n",
       "      <td>NaN</td>\n",
       "      <td>NaN</td>\n",
       "      <td>1.0</td>\n",
       "      <td>1.0</td>\n",
       "      <td>2018-10-27T02:54:56.865Z</td>\n",
       "      <td>message</td>\n",
       "      <td>True</td>\n",
       "      <td>2.0</td>\n",
       "      <td>True</td>\n",
       "      <td>log.log</td>\n",
       "      <td>5795</td>\n",
       "    </tr>\n",
       "    <tr>\n",
       "      <th>136471</th>\n",
       "      <td>136471</td>\n",
       "      <td>send</td>\n",
       "      <td>True</td>\n",
       "      <td>True</td>\n",
       "      <td>chat</td>\n",
       "      <td>True</td>\n",
       "      <td>NaN</td>\n",
       "      <td>NaN</td>\n",
       "      <td>NaN</td>\n",
       "      <td>NaN</td>\n",
       "      <td>1.0</td>\n",
       "      <td>2.0</td>\n",
       "      <td>2018-10-27T02:55:24.792Z</td>\n",
       "      <td>message</td>\n",
       "      <td>True</td>\n",
       "      <td>1.0</td>\n",
       "      <td>True</td>\n",
       "      <td>log.log</td>\n",
       "      <td>5796</td>\n",
       "    </tr>\n",
       "    <tr>\n",
       "      <th>136472</th>\n",
       "      <td>136472</td>\n",
       "      <td>send</td>\n",
       "      <td>True</td>\n",
       "      <td>True</td>\n",
       "      <td>chat</td>\n",
       "      <td>True</td>\n",
       "      <td>NaN</td>\n",
       "      <td>NaN</td>\n",
       "      <td>NaN</td>\n",
       "      <td>NaN</td>\n",
       "      <td>1.0</td>\n",
       "      <td>1.0</td>\n",
       "      <td>2018-10-27T02:55:43.716Z</td>\n",
       "      <td>message</td>\n",
       "      <td>True</td>\n",
       "      <td>2.0</td>\n",
       "      <td>True</td>\n",
       "      <td>log.log</td>\n",
       "      <td>5797</td>\n",
       "    </tr>\n",
       "    <tr>\n",
       "      <th>136473</th>\n",
       "      <td>136473</td>\n",
       "      <td>send</td>\n",
       "      <td>True</td>\n",
       "      <td>True</td>\n",
       "      <td>chat</td>\n",
       "      <td>True</td>\n",
       "      <td>NaN</td>\n",
       "      <td>NaN</td>\n",
       "      <td>NaN</td>\n",
       "      <td>NaN</td>\n",
       "      <td>1.0</td>\n",
       "      <td>2.0</td>\n",
       "      <td>2018-10-27T02:55:55.366Z</td>\n",
       "      <td>message</td>\n",
       "      <td>True</td>\n",
       "      <td>1.0</td>\n",
       "      <td>True</td>\n",
       "      <td>log.log</td>\n",
       "      <td>5798</td>\n",
       "    </tr>\n",
       "    <tr>\n",
       "      <th>136474</th>\n",
       "      <td>136474</td>\n",
       "      <td>send</td>\n",
       "      <td>True</td>\n",
       "      <td>True</td>\n",
       "      <td>chat</td>\n",
       "      <td>True</td>\n",
       "      <td>NaN</td>\n",
       "      <td>NaN</td>\n",
       "      <td>NaN</td>\n",
       "      <td>NaN</td>\n",
       "      <td>1.0</td>\n",
       "      <td>1.0</td>\n",
       "      <td>2018-10-27T02:56:15.000Z</td>\n",
       "      <td>message</td>\n",
       "      <td>True</td>\n",
       "      <td>2.0</td>\n",
       "      <td>True</td>\n",
       "      <td>log.log</td>\n",
       "      <td>5799</td>\n",
       "    </tr>\n",
       "    <tr>\n",
       "      <th>136475</th>\n",
       "      <td>136475</td>\n",
       "      <td>send</td>\n",
       "      <td>True</td>\n",
       "      <td>True</td>\n",
       "      <td>chat</td>\n",
       "      <td>True</td>\n",
       "      <td>NaN</td>\n",
       "      <td>NaN</td>\n",
       "      <td>NaN</td>\n",
       "      <td>NaN</td>\n",
       "      <td>1.0</td>\n",
       "      <td>2.0</td>\n",
       "      <td>2018-10-27T02:56:31.955Z</td>\n",
       "      <td>message</td>\n",
       "      <td>True</td>\n",
       "      <td>1.0</td>\n",
       "      <td>True</td>\n",
       "      <td>log.log</td>\n",
       "      <td>5800</td>\n",
       "    </tr>\n",
       "    <tr>\n",
       "      <th>136476</th>\n",
       "      <td>136476</td>\n",
       "      <td>send</td>\n",
       "      <td>True</td>\n",
       "      <td>True</td>\n",
       "      <td>chat</td>\n",
       "      <td>True</td>\n",
       "      <td>NaN</td>\n",
       "      <td>NaN</td>\n",
       "      <td>NaN</td>\n",
       "      <td>NaN</td>\n",
       "      <td>1.0</td>\n",
       "      <td>2.0</td>\n",
       "      <td>2018-10-27T02:56:52.898Z</td>\n",
       "      <td>message</td>\n",
       "      <td>True</td>\n",
       "      <td>1.0</td>\n",
       "      <td>True</td>\n",
       "      <td>log.log</td>\n",
       "      <td>5801</td>\n",
       "    </tr>\n",
       "    <tr>\n",
       "      <th>136477</th>\n",
       "      <td>136477</td>\n",
       "      <td>send</td>\n",
       "      <td>True</td>\n",
       "      <td>True</td>\n",
       "      <td>chat</td>\n",
       "      <td>True</td>\n",
       "      <td>NaN</td>\n",
       "      <td>NaN</td>\n",
       "      <td>NaN</td>\n",
       "      <td>NaN</td>\n",
       "      <td>1.0</td>\n",
       "      <td>2.0</td>\n",
       "      <td>2018-10-27T02:57:02.333Z</td>\n",
       "      <td>message</td>\n",
       "      <td>True</td>\n",
       "      <td>1.0</td>\n",
       "      <td>True</td>\n",
       "      <td>log.log</td>\n",
       "      <td>5802</td>\n",
       "    </tr>\n",
       "    <tr>\n",
       "      <th>136481</th>\n",
       "      <td>136481</td>\n",
       "      <td>send</td>\n",
       "      <td>True</td>\n",
       "      <td>True</td>\n",
       "      <td>chat</td>\n",
       "      <td>True</td>\n",
       "      <td>NaN</td>\n",
       "      <td>NaN</td>\n",
       "      <td>NaN</td>\n",
       "      <td>NaN</td>\n",
       "      <td>1.0</td>\n",
       "      <td>2.0</td>\n",
       "      <td>2018-10-27T02:59:53.719Z</td>\n",
       "      <td>message</td>\n",
       "      <td>True</td>\n",
       "      <td>1.0</td>\n",
       "      <td>True</td>\n",
       "      <td>log.log</td>\n",
       "      <td>5806</td>\n",
       "    </tr>\n",
       "    <tr>\n",
       "      <th>136482</th>\n",
       "      <td>136482</td>\n",
       "      <td>send</td>\n",
       "      <td>True</td>\n",
       "      <td>True</td>\n",
       "      <td>chat</td>\n",
       "      <td>True</td>\n",
       "      <td>NaN</td>\n",
       "      <td>NaN</td>\n",
       "      <td>NaN</td>\n",
       "      <td>NaN</td>\n",
       "      <td>1.0</td>\n",
       "      <td>1.0</td>\n",
       "      <td>2018-10-27T03:00:16.362Z</td>\n",
       "      <td>message</td>\n",
       "      <td>True</td>\n",
       "      <td>2.0</td>\n",
       "      <td>True</td>\n",
       "      <td>log.log</td>\n",
       "      <td>5807</td>\n",
       "    </tr>\n",
       "    <tr>\n",
       "      <th>136483</th>\n",
       "      <td>136483</td>\n",
       "      <td>send</td>\n",
       "      <td>True</td>\n",
       "      <td>True</td>\n",
       "      <td>chat</td>\n",
       "      <td>True</td>\n",
       "      <td>NaN</td>\n",
       "      <td>NaN</td>\n",
       "      <td>NaN</td>\n",
       "      <td>NaN</td>\n",
       "      <td>1.0</td>\n",
       "      <td>2.0</td>\n",
       "      <td>2018-10-27T03:02:21.657Z</td>\n",
       "      <td>message</td>\n",
       "      <td>True</td>\n",
       "      <td>1.0</td>\n",
       "      <td>True</td>\n",
       "      <td>log.log</td>\n",
       "      <td>5808</td>\n",
       "    </tr>\n",
       "    <tr>\n",
       "      <th>136485</th>\n",
       "      <td>136485</td>\n",
       "      <td>send</td>\n",
       "      <td>True</td>\n",
       "      <td>True</td>\n",
       "      <td>chat</td>\n",
       "      <td>True</td>\n",
       "      <td>NaN</td>\n",
       "      <td>NaN</td>\n",
       "      <td>NaN</td>\n",
       "      <td>NaN</td>\n",
       "      <td>1.0</td>\n",
       "      <td>1.0</td>\n",
       "      <td>2018-10-27T03:03:37.609Z</td>\n",
       "      <td>message</td>\n",
       "      <td>True</td>\n",
       "      <td>2.0</td>\n",
       "      <td>True</td>\n",
       "      <td>log.log</td>\n",
       "      <td>5810</td>\n",
       "    </tr>\n",
       "    <tr>\n",
       "      <th>136486</th>\n",
       "      <td>136486</td>\n",
       "      <td>send</td>\n",
       "      <td>True</td>\n",
       "      <td>True</td>\n",
       "      <td>chat</td>\n",
       "      <td>True</td>\n",
       "      <td>NaN</td>\n",
       "      <td>NaN</td>\n",
       "      <td>NaN</td>\n",
       "      <td>NaN</td>\n",
       "      <td>1.0</td>\n",
       "      <td>2.0</td>\n",
       "      <td>2018-10-27T03:03:40.827Z</td>\n",
       "      <td>message</td>\n",
       "      <td>True</td>\n",
       "      <td>1.0</td>\n",
       "      <td>True</td>\n",
       "      <td>log.log</td>\n",
       "      <td>5811</td>\n",
       "    </tr>\n",
       "    <tr>\n",
       "      <th>136493</th>\n",
       "      <td>136493</td>\n",
       "      <td>send</td>\n",
       "      <td>True</td>\n",
       "      <td>True</td>\n",
       "      <td>chat</td>\n",
       "      <td>True</td>\n",
       "      <td>NaN</td>\n",
       "      <td>NaN</td>\n",
       "      <td>NaN</td>\n",
       "      <td>NaN</td>\n",
       "      <td>1.0</td>\n",
       "      <td>1.0</td>\n",
       "      <td>2018-10-27T03:05:58.521Z</td>\n",
       "      <td>message</td>\n",
       "      <td>True</td>\n",
       "      <td>2.0</td>\n",
       "      <td>True</td>\n",
       "      <td>log.log</td>\n",
       "      <td>5818</td>\n",
       "    </tr>\n",
       "    <tr>\n",
       "      <th>136494</th>\n",
       "      <td>136494</td>\n",
       "      <td>send</td>\n",
       "      <td>True</td>\n",
       "      <td>True</td>\n",
       "      <td>chat</td>\n",
       "      <td>True</td>\n",
       "      <td>NaN</td>\n",
       "      <td>NaN</td>\n",
       "      <td>NaN</td>\n",
       "      <td>NaN</td>\n",
       "      <td>1.0</td>\n",
       "      <td>2.0</td>\n",
       "      <td>2018-10-27T03:06:14.276Z</td>\n",
       "      <td>message</td>\n",
       "      <td>True</td>\n",
       "      <td>1.0</td>\n",
       "      <td>True</td>\n",
       "      <td>log.log</td>\n",
       "      <td>5819</td>\n",
       "    </tr>\n",
       "    <tr>\n",
       "      <th>136495</th>\n",
       "      <td>136495</td>\n",
       "      <td>send</td>\n",
       "      <td>True</td>\n",
       "      <td>True</td>\n",
       "      <td>chat</td>\n",
       "      <td>True</td>\n",
       "      <td>NaN</td>\n",
       "      <td>NaN</td>\n",
       "      <td>NaN</td>\n",
       "      <td>NaN</td>\n",
       "      <td>1.0</td>\n",
       "      <td>2.0</td>\n",
       "      <td>2018-10-27T03:06:27.058Z</td>\n",
       "      <td>message</td>\n",
       "      <td>True</td>\n",
       "      <td>1.0</td>\n",
       "      <td>True</td>\n",
       "      <td>log.log</td>\n",
       "      <td>5820</td>\n",
       "    </tr>\n",
       "    <tr>\n",
       "      <th>136496</th>\n",
       "      <td>136496</td>\n",
       "      <td>send</td>\n",
       "      <td>True</td>\n",
       "      <td>True</td>\n",
       "      <td>chat</td>\n",
       "      <td>True</td>\n",
       "      <td>NaN</td>\n",
       "      <td>NaN</td>\n",
       "      <td>NaN</td>\n",
       "      <td>NaN</td>\n",
       "      <td>1.0</td>\n",
       "      <td>2.0</td>\n",
       "      <td>2018-10-27T03:07:02.808Z</td>\n",
       "      <td>message</td>\n",
       "      <td>True</td>\n",
       "      <td>1.0</td>\n",
       "      <td>True</td>\n",
       "      <td>log.log</td>\n",
       "      <td>5821</td>\n",
       "    </tr>\n",
       "    <tr>\n",
       "      <th>...</th>\n",
       "      <td>...</td>\n",
       "      <td>...</td>\n",
       "      <td>...</td>\n",
       "      <td>...</td>\n",
       "      <td>...</td>\n",
       "      <td>...</td>\n",
       "      <td>...</td>\n",
       "      <td>...</td>\n",
       "      <td>...</td>\n",
       "      <td>...</td>\n",
       "      <td>...</td>\n",
       "      <td>...</td>\n",
       "      <td>...</td>\n",
       "      <td>...</td>\n",
       "      <td>...</td>\n",
       "      <td>...</td>\n",
       "      <td>...</td>\n",
       "      <td>...</td>\n",
       "      <td>...</td>\n",
       "    </tr>\n",
       "    <tr>\n",
       "      <th>136729</th>\n",
       "      <td>136729</td>\n",
       "      <td>send</td>\n",
       "      <td>True</td>\n",
       "      <td>True</td>\n",
       "      <td>mobile</td>\n",
       "      <td>True</td>\n",
       "      <td>NaN</td>\n",
       "      <td>5.0</td>\n",
       "      <td>Práticas Empresariais</td>\n",
       "      <td>praticas-empresariais</td>\n",
       "      <td>7.0</td>\n",
       "      <td>3.0</td>\n",
       "      <td>2018-10-27T21:01:05.266Z</td>\n",
       "      <td>message</td>\n",
       "      <td>True</td>\n",
       "      <td>8.0</td>\n",
       "      <td>True</td>\n",
       "      <td>log.log</td>\n",
       "      <td>6054</td>\n",
       "    </tr>\n",
       "    <tr>\n",
       "      <th>136730</th>\n",
       "      <td>136730</td>\n",
       "      <td>send</td>\n",
       "      <td>True</td>\n",
       "      <td>True</td>\n",
       "      <td>mobile</td>\n",
       "      <td>True</td>\n",
       "      <td>NaN</td>\n",
       "      <td>5.0</td>\n",
       "      <td>Práticas Empresariais</td>\n",
       "      <td>praticas-empresariais</td>\n",
       "      <td>7.0</td>\n",
       "      <td>3.0</td>\n",
       "      <td>2018-10-27T21:02:06.388Z</td>\n",
       "      <td>message</td>\n",
       "      <td>True</td>\n",
       "      <td>8.0</td>\n",
       "      <td>True</td>\n",
       "      <td>log.log</td>\n",
       "      <td>6055</td>\n",
       "    </tr>\n",
       "    <tr>\n",
       "      <th>136731</th>\n",
       "      <td>136731</td>\n",
       "      <td>send</td>\n",
       "      <td>True</td>\n",
       "      <td>True</td>\n",
       "      <td>mobile</td>\n",
       "      <td>True</td>\n",
       "      <td>NaN</td>\n",
       "      <td>5.0</td>\n",
       "      <td>Práticas Empresariais</td>\n",
       "      <td>praticas-empresariais</td>\n",
       "      <td>7.0</td>\n",
       "      <td>3.0</td>\n",
       "      <td>2018-10-27T21:03:08.205Z</td>\n",
       "      <td>message</td>\n",
       "      <td>True</td>\n",
       "      <td>8.0</td>\n",
       "      <td>True</td>\n",
       "      <td>log.log</td>\n",
       "      <td>6056</td>\n",
       "    </tr>\n",
       "    <tr>\n",
       "      <th>136737</th>\n",
       "      <td>136737</td>\n",
       "      <td>send</td>\n",
       "      <td>True</td>\n",
       "      <td>True</td>\n",
       "      <td>mobile</td>\n",
       "      <td>True</td>\n",
       "      <td>NaN</td>\n",
       "      <td>5.0</td>\n",
       "      <td>Práticas Empresariais</td>\n",
       "      <td>praticas-empresariais</td>\n",
       "      <td>7.0</td>\n",
       "      <td>3.0</td>\n",
       "      <td>2018-10-27T21:34:54.612Z</td>\n",
       "      <td>message</td>\n",
       "      <td>True</td>\n",
       "      <td>8.0</td>\n",
       "      <td>True</td>\n",
       "      <td>log.log</td>\n",
       "      <td>6062</td>\n",
       "    </tr>\n",
       "    <tr>\n",
       "      <th>136745</th>\n",
       "      <td>136745</td>\n",
       "      <td>send</td>\n",
       "      <td>True</td>\n",
       "      <td>True</td>\n",
       "      <td>mobile</td>\n",
       "      <td>True</td>\n",
       "      <td>NaN</td>\n",
       "      <td>5.0</td>\n",
       "      <td>Práticas Empresariais</td>\n",
       "      <td>praticas-empresariais</td>\n",
       "      <td>7.0</td>\n",
       "      <td>8.0</td>\n",
       "      <td>2018-10-27T21:39:11.469Z</td>\n",
       "      <td>message</td>\n",
       "      <td>True</td>\n",
       "      <td>3.0</td>\n",
       "      <td>True</td>\n",
       "      <td>log.log</td>\n",
       "      <td>6070</td>\n",
       "    </tr>\n",
       "    <tr>\n",
       "      <th>136749</th>\n",
       "      <td>136749</td>\n",
       "      <td>send</td>\n",
       "      <td>True</td>\n",
       "      <td>True</td>\n",
       "      <td>mobile</td>\n",
       "      <td>True</td>\n",
       "      <td>NaN</td>\n",
       "      <td>5.0</td>\n",
       "      <td>Práticas Empresariais</td>\n",
       "      <td>praticas-empresariais</td>\n",
       "      <td>10.0</td>\n",
       "      <td>1.0</td>\n",
       "      <td>2018-10-27T21:41:21.705Z</td>\n",
       "      <td>message</td>\n",
       "      <td>True</td>\n",
       "      <td>3.0</td>\n",
       "      <td>True</td>\n",
       "      <td>log.log</td>\n",
       "      <td>6074</td>\n",
       "    </tr>\n",
       "    <tr>\n",
       "      <th>136750</th>\n",
       "      <td>136750</td>\n",
       "      <td>send</td>\n",
       "      <td>True</td>\n",
       "      <td>True</td>\n",
       "      <td>mobile</td>\n",
       "      <td>True</td>\n",
       "      <td>NaN</td>\n",
       "      <td>5.0</td>\n",
       "      <td>Práticas Empresariais</td>\n",
       "      <td>praticas-empresariais</td>\n",
       "      <td>10.0</td>\n",
       "      <td>1.0</td>\n",
       "      <td>2018-10-27T21:41:54.996Z</td>\n",
       "      <td>message</td>\n",
       "      <td>True</td>\n",
       "      <td>3.0</td>\n",
       "      <td>True</td>\n",
       "      <td>log.log</td>\n",
       "      <td>6075</td>\n",
       "    </tr>\n",
       "    <tr>\n",
       "      <th>136754</th>\n",
       "      <td>136754</td>\n",
       "      <td>send</td>\n",
       "      <td>True</td>\n",
       "      <td>True</td>\n",
       "      <td>mobile</td>\n",
       "      <td>True</td>\n",
       "      <td>NaN</td>\n",
       "      <td>4.0</td>\n",
       "      <td>Resistência dos Materiais I</td>\n",
       "      <td>resistencia-dos-materiais-i</td>\n",
       "      <td>2.0</td>\n",
       "      <td>4.0</td>\n",
       "      <td>2018-10-27T21:52:48.727Z</td>\n",
       "      <td>message</td>\n",
       "      <td>True</td>\n",
       "      <td>3.0</td>\n",
       "      <td>True</td>\n",
       "      <td>log.log</td>\n",
       "      <td>6079</td>\n",
       "    </tr>\n",
       "    <tr>\n",
       "      <th>136756</th>\n",
       "      <td>136756</td>\n",
       "      <td>send</td>\n",
       "      <td>True</td>\n",
       "      <td>True</td>\n",
       "      <td>mobile</td>\n",
       "      <td>True</td>\n",
       "      <td>NaN</td>\n",
       "      <td>4.0</td>\n",
       "      <td>Resistência dos Materiais I</td>\n",
       "      <td>resistencia-dos-materiais-i</td>\n",
       "      <td>10.0</td>\n",
       "      <td>1.0</td>\n",
       "      <td>2018-10-27T21:53:27.059Z</td>\n",
       "      <td>message</td>\n",
       "      <td>True</td>\n",
       "      <td>3.0</td>\n",
       "      <td>True</td>\n",
       "      <td>log.log</td>\n",
       "      <td>6081</td>\n",
       "    </tr>\n",
       "    <tr>\n",
       "      <th>136783</th>\n",
       "      <td>136783</td>\n",
       "      <td>send</td>\n",
       "      <td>True</td>\n",
       "      <td>True</td>\n",
       "      <td>mobile</td>\n",
       "      <td>True</td>\n",
       "      <td>NaN</td>\n",
       "      <td>5.0</td>\n",
       "      <td>Práticas Empresariais</td>\n",
       "      <td>praticas-empresariais</td>\n",
       "      <td>8.0</td>\n",
       "      <td>9.0</td>\n",
       "      <td>2018-10-27T21:57:51.759Z</td>\n",
       "      <td>message</td>\n",
       "      <td>True</td>\n",
       "      <td>3.0</td>\n",
       "      <td>True</td>\n",
       "      <td>log.log</td>\n",
       "      <td>6108</td>\n",
       "    </tr>\n",
       "    <tr>\n",
       "      <th>136792</th>\n",
       "      <td>136792</td>\n",
       "      <td>send</td>\n",
       "      <td>True</td>\n",
       "      <td>True</td>\n",
       "      <td>mobile</td>\n",
       "      <td>True</td>\n",
       "      <td>NaN</td>\n",
       "      <td>5.0</td>\n",
       "      <td>Práticas Empresariais</td>\n",
       "      <td>praticas-empresariais</td>\n",
       "      <td>8.0</td>\n",
       "      <td>3.0</td>\n",
       "      <td>2018-10-27T22:00:18.949Z</td>\n",
       "      <td>message</td>\n",
       "      <td>True</td>\n",
       "      <td>9.0</td>\n",
       "      <td>True</td>\n",
       "      <td>log.log</td>\n",
       "      <td>6117</td>\n",
       "    </tr>\n",
       "    <tr>\n",
       "      <th>136793</th>\n",
       "      <td>136793</td>\n",
       "      <td>send</td>\n",
       "      <td>True</td>\n",
       "      <td>True</td>\n",
       "      <td>mobile</td>\n",
       "      <td>True</td>\n",
       "      <td>NaN</td>\n",
       "      <td>5.0</td>\n",
       "      <td>Práticas Empresariais</td>\n",
       "      <td>praticas-empresariais</td>\n",
       "      <td>8.0</td>\n",
       "      <td>3.0</td>\n",
       "      <td>2018-10-27T22:00:24.746Z</td>\n",
       "      <td>message</td>\n",
       "      <td>True</td>\n",
       "      <td>9.0</td>\n",
       "      <td>True</td>\n",
       "      <td>log.log</td>\n",
       "      <td>6118</td>\n",
       "    </tr>\n",
       "    <tr>\n",
       "      <th>136814</th>\n",
       "      <td>136814</td>\n",
       "      <td>send</td>\n",
       "      <td>True</td>\n",
       "      <td>True</td>\n",
       "      <td>mobile</td>\n",
       "      <td>True</td>\n",
       "      <td>NaN</td>\n",
       "      <td>5.0</td>\n",
       "      <td>Práticas Empresariais</td>\n",
       "      <td>praticas-empresariais</td>\n",
       "      <td>8.0</td>\n",
       "      <td>9.0</td>\n",
       "      <td>2018-10-27T22:01:39.628Z</td>\n",
       "      <td>message</td>\n",
       "      <td>True</td>\n",
       "      <td>3.0</td>\n",
       "      <td>True</td>\n",
       "      <td>log.log</td>\n",
       "      <td>6139</td>\n",
       "    </tr>\n",
       "    <tr>\n",
       "      <th>136821</th>\n",
       "      <td>136821</td>\n",
       "      <td>send</td>\n",
       "      <td>True</td>\n",
       "      <td>True</td>\n",
       "      <td>mobile</td>\n",
       "      <td>True</td>\n",
       "      <td>NaN</td>\n",
       "      <td>5.0</td>\n",
       "      <td>Práticas Empresariais</td>\n",
       "      <td>praticas-empresariais</td>\n",
       "      <td>8.0</td>\n",
       "      <td>3.0</td>\n",
       "      <td>2018-10-27T22:02:15.158Z</td>\n",
       "      <td>message</td>\n",
       "      <td>True</td>\n",
       "      <td>9.0</td>\n",
       "      <td>True</td>\n",
       "      <td>log.log</td>\n",
       "      <td>6146</td>\n",
       "    </tr>\n",
       "    <tr>\n",
       "      <th>136823</th>\n",
       "      <td>136823</td>\n",
       "      <td>send</td>\n",
       "      <td>True</td>\n",
       "      <td>True</td>\n",
       "      <td>mobile</td>\n",
       "      <td>True</td>\n",
       "      <td>NaN</td>\n",
       "      <td>5.0</td>\n",
       "      <td>Práticas Empresariais</td>\n",
       "      <td>praticas-empresariais</td>\n",
       "      <td>8.0</td>\n",
       "      <td>3.0</td>\n",
       "      <td>2018-10-27T22:02:26.350Z</td>\n",
       "      <td>message</td>\n",
       "      <td>True</td>\n",
       "      <td>9.0</td>\n",
       "      <td>True</td>\n",
       "      <td>log.log</td>\n",
       "      <td>6148</td>\n",
       "    </tr>\n",
       "    <tr>\n",
       "      <th>136826</th>\n",
       "      <td>136826</td>\n",
       "      <td>send</td>\n",
       "      <td>True</td>\n",
       "      <td>True</td>\n",
       "      <td>mobile</td>\n",
       "      <td>True</td>\n",
       "      <td>NaN</td>\n",
       "      <td>5.0</td>\n",
       "      <td>Práticas Empresariais</td>\n",
       "      <td>praticas-empresariais</td>\n",
       "      <td>8.0</td>\n",
       "      <td>9.0</td>\n",
       "      <td>2018-10-27T22:02:38.830Z</td>\n",
       "      <td>message</td>\n",
       "      <td>True</td>\n",
       "      <td>3.0</td>\n",
       "      <td>True</td>\n",
       "      <td>log.log</td>\n",
       "      <td>6151</td>\n",
       "    </tr>\n",
       "    <tr>\n",
       "      <th>136827</th>\n",
       "      <td>136827</td>\n",
       "      <td>send</td>\n",
       "      <td>True</td>\n",
       "      <td>True</td>\n",
       "      <td>mobile</td>\n",
       "      <td>True</td>\n",
       "      <td>NaN</td>\n",
       "      <td>5.0</td>\n",
       "      <td>Práticas Empresariais</td>\n",
       "      <td>praticas-empresariais</td>\n",
       "      <td>3.0</td>\n",
       "      <td>10.0</td>\n",
       "      <td>2018-10-27T22:03:02.109Z</td>\n",
       "      <td>message</td>\n",
       "      <td>True</td>\n",
       "      <td>6.0</td>\n",
       "      <td>True</td>\n",
       "      <td>log.log</td>\n",
       "      <td>6152</td>\n",
       "    </tr>\n",
       "    <tr>\n",
       "      <th>136832</th>\n",
       "      <td>136832</td>\n",
       "      <td>send</td>\n",
       "      <td>True</td>\n",
       "      <td>True</td>\n",
       "      <td>mobile</td>\n",
       "      <td>True</td>\n",
       "      <td>NaN</td>\n",
       "      <td>5.0</td>\n",
       "      <td>Práticas Empresariais</td>\n",
       "      <td>praticas-empresariais</td>\n",
       "      <td>8.0</td>\n",
       "      <td>9.0</td>\n",
       "      <td>2018-10-27T22:03:36.609Z</td>\n",
       "      <td>message</td>\n",
       "      <td>True</td>\n",
       "      <td>3.0</td>\n",
       "      <td>True</td>\n",
       "      <td>log.log</td>\n",
       "      <td>6157</td>\n",
       "    </tr>\n",
       "    <tr>\n",
       "      <th>136843</th>\n",
       "      <td>136843</td>\n",
       "      <td>send</td>\n",
       "      <td>True</td>\n",
       "      <td>True</td>\n",
       "      <td>mobile</td>\n",
       "      <td>True</td>\n",
       "      <td>NaN</td>\n",
       "      <td>5.0</td>\n",
       "      <td>Práticas Empresariais</td>\n",
       "      <td>praticas-empresariais</td>\n",
       "      <td>8.0</td>\n",
       "      <td>9.0</td>\n",
       "      <td>2018-10-27T22:04:32.647Z</td>\n",
       "      <td>message</td>\n",
       "      <td>True</td>\n",
       "      <td>3.0</td>\n",
       "      <td>True</td>\n",
       "      <td>log.log</td>\n",
       "      <td>6168</td>\n",
       "    </tr>\n",
       "    <tr>\n",
       "      <th>136849</th>\n",
       "      <td>136849</td>\n",
       "      <td>send</td>\n",
       "      <td>True</td>\n",
       "      <td>True</td>\n",
       "      <td>mobile</td>\n",
       "      <td>True</td>\n",
       "      <td>NaN</td>\n",
       "      <td>5.0</td>\n",
       "      <td>Práticas Empresariais</td>\n",
       "      <td>praticas-empresariais</td>\n",
       "      <td>8.0</td>\n",
       "      <td>9.0</td>\n",
       "      <td>2018-10-27T22:05:17.982Z</td>\n",
       "      <td>message</td>\n",
       "      <td>True</td>\n",
       "      <td>3.0</td>\n",
       "      <td>True</td>\n",
       "      <td>log.log</td>\n",
       "      <td>6174</td>\n",
       "    </tr>\n",
       "    <tr>\n",
       "      <th>136862</th>\n",
       "      <td>136862</td>\n",
       "      <td>send</td>\n",
       "      <td>True</td>\n",
       "      <td>True</td>\n",
       "      <td>mobile</td>\n",
       "      <td>True</td>\n",
       "      <td>NaN</td>\n",
       "      <td>4.0</td>\n",
       "      <td>Resistência dos Materiais I</td>\n",
       "      <td>resistencia-dos-materiais-i</td>\n",
       "      <td>2.0</td>\n",
       "      <td>4.0</td>\n",
       "      <td>2018-10-27T22:06:07.321Z</td>\n",
       "      <td>message</td>\n",
       "      <td>True</td>\n",
       "      <td>3.0</td>\n",
       "      <td>True</td>\n",
       "      <td>log.log</td>\n",
       "      <td>6187</td>\n",
       "    </tr>\n",
       "    <tr>\n",
       "      <th>136869</th>\n",
       "      <td>136869</td>\n",
       "      <td>send</td>\n",
       "      <td>True</td>\n",
       "      <td>True</td>\n",
       "      <td>mobile</td>\n",
       "      <td>True</td>\n",
       "      <td>NaN</td>\n",
       "      <td>4.0</td>\n",
       "      <td>Resistência dos Materiais I</td>\n",
       "      <td>resistencia-dos-materiais-i</td>\n",
       "      <td>2.0</td>\n",
       "      <td>3.0</td>\n",
       "      <td>2018-10-27T22:07:44.673Z</td>\n",
       "      <td>message</td>\n",
       "      <td>True</td>\n",
       "      <td>4.0</td>\n",
       "      <td>True</td>\n",
       "      <td>log.log</td>\n",
       "      <td>6194</td>\n",
       "    </tr>\n",
       "    <tr>\n",
       "      <th>136875</th>\n",
       "      <td>136875</td>\n",
       "      <td>send</td>\n",
       "      <td>True</td>\n",
       "      <td>True</td>\n",
       "      <td>mobile</td>\n",
       "      <td>True</td>\n",
       "      <td>NaN</td>\n",
       "      <td>4.0</td>\n",
       "      <td>Resistência dos Materiais I</td>\n",
       "      <td>resistencia-dos-materiais-i</td>\n",
       "      <td>2.0</td>\n",
       "      <td>4.0</td>\n",
       "      <td>2018-10-27T22:09:02.457Z</td>\n",
       "      <td>message</td>\n",
       "      <td>True</td>\n",
       "      <td>3.0</td>\n",
       "      <td>True</td>\n",
       "      <td>log.log</td>\n",
       "      <td>6200</td>\n",
       "    </tr>\n",
       "    <tr>\n",
       "      <th>136876</th>\n",
       "      <td>136876</td>\n",
       "      <td>send</td>\n",
       "      <td>True</td>\n",
       "      <td>True</td>\n",
       "      <td>mobile</td>\n",
       "      <td>True</td>\n",
       "      <td>NaN</td>\n",
       "      <td>4.0</td>\n",
       "      <td>Resistência dos Materiais I</td>\n",
       "      <td>resistencia-dos-materiais-i</td>\n",
       "      <td>2.0</td>\n",
       "      <td>3.0</td>\n",
       "      <td>2018-10-27T22:09:49.289Z</td>\n",
       "      <td>message</td>\n",
       "      <td>True</td>\n",
       "      <td>4.0</td>\n",
       "      <td>True</td>\n",
       "      <td>log.log</td>\n",
       "      <td>6201</td>\n",
       "    </tr>\n",
       "    <tr>\n",
       "      <th>136883</th>\n",
       "      <td>136883</td>\n",
       "      <td>send</td>\n",
       "      <td>True</td>\n",
       "      <td>True</td>\n",
       "      <td>mobile</td>\n",
       "      <td>True</td>\n",
       "      <td>NaN</td>\n",
       "      <td>4.0</td>\n",
       "      <td>Resistência dos Materiais I</td>\n",
       "      <td>resistencia-dos-materiais-i</td>\n",
       "      <td>2.0</td>\n",
       "      <td>4.0</td>\n",
       "      <td>2018-10-27T22:10:24.789Z</td>\n",
       "      <td>message</td>\n",
       "      <td>True</td>\n",
       "      <td>3.0</td>\n",
       "      <td>True</td>\n",
       "      <td>log.log</td>\n",
       "      <td>6208</td>\n",
       "    </tr>\n",
       "    <tr>\n",
       "      <th>136886</th>\n",
       "      <td>136886</td>\n",
       "      <td>send</td>\n",
       "      <td>True</td>\n",
       "      <td>True</td>\n",
       "      <td>mobile</td>\n",
       "      <td>True</td>\n",
       "      <td>NaN</td>\n",
       "      <td>4.0</td>\n",
       "      <td>Resistência dos Materiais I</td>\n",
       "      <td>resistencia-dos-materiais-i</td>\n",
       "      <td>2.0</td>\n",
       "      <td>4.0</td>\n",
       "      <td>2018-10-27T22:10:58.134Z</td>\n",
       "      <td>message</td>\n",
       "      <td>True</td>\n",
       "      <td>3.0</td>\n",
       "      <td>True</td>\n",
       "      <td>log.log</td>\n",
       "      <td>6211</td>\n",
       "    </tr>\n",
       "    <tr>\n",
       "      <th>136888</th>\n",
       "      <td>136888</td>\n",
       "      <td>send</td>\n",
       "      <td>True</td>\n",
       "      <td>True</td>\n",
       "      <td>mobile</td>\n",
       "      <td>True</td>\n",
       "      <td>NaN</td>\n",
       "      <td>4.0</td>\n",
       "      <td>Resistência dos Materiais I</td>\n",
       "      <td>resistencia-dos-materiais-i</td>\n",
       "      <td>2.0</td>\n",
       "      <td>3.0</td>\n",
       "      <td>2018-10-27T22:11:04.191Z</td>\n",
       "      <td>message</td>\n",
       "      <td>True</td>\n",
       "      <td>4.0</td>\n",
       "      <td>True</td>\n",
       "      <td>log.log</td>\n",
       "      <td>6213</td>\n",
       "    </tr>\n",
       "    <tr>\n",
       "      <th>136890</th>\n",
       "      <td>136890</td>\n",
       "      <td>send</td>\n",
       "      <td>True</td>\n",
       "      <td>True</td>\n",
       "      <td>mobile</td>\n",
       "      <td>True</td>\n",
       "      <td>NaN</td>\n",
       "      <td>4.0</td>\n",
       "      <td>Resistência dos Materiais I</td>\n",
       "      <td>resistencia-dos-materiais-i</td>\n",
       "      <td>2.0</td>\n",
       "      <td>4.0</td>\n",
       "      <td>2018-10-27T22:11:14.201Z</td>\n",
       "      <td>message</td>\n",
       "      <td>True</td>\n",
       "      <td>3.0</td>\n",
       "      <td>True</td>\n",
       "      <td>log.log</td>\n",
       "      <td>6215</td>\n",
       "    </tr>\n",
       "    <tr>\n",
       "      <th>136892</th>\n",
       "      <td>136892</td>\n",
       "      <td>send</td>\n",
       "      <td>True</td>\n",
       "      <td>True</td>\n",
       "      <td>mobile</td>\n",
       "      <td>True</td>\n",
       "      <td>NaN</td>\n",
       "      <td>4.0</td>\n",
       "      <td>Resistência dos Materiais I</td>\n",
       "      <td>resistencia-dos-materiais-i</td>\n",
       "      <td>2.0</td>\n",
       "      <td>3.0</td>\n",
       "      <td>2018-10-27T22:11:17.173Z</td>\n",
       "      <td>message</td>\n",
       "      <td>True</td>\n",
       "      <td>4.0</td>\n",
       "      <td>True</td>\n",
       "      <td>log.log</td>\n",
       "      <td>6217</td>\n",
       "    </tr>\n",
       "    <tr>\n",
       "      <th>136894</th>\n",
       "      <td>136894</td>\n",
       "      <td>send</td>\n",
       "      <td>True</td>\n",
       "      <td>True</td>\n",
       "      <td>mobile</td>\n",
       "      <td>True</td>\n",
       "      <td>NaN</td>\n",
       "      <td>4.0</td>\n",
       "      <td>Resistência dos Materiais I</td>\n",
       "      <td>resistencia-dos-materiais-i</td>\n",
       "      <td>2.0</td>\n",
       "      <td>3.0</td>\n",
       "      <td>2018-10-27T22:11:28.328Z</td>\n",
       "      <td>message</td>\n",
       "      <td>True</td>\n",
       "      <td>4.0</td>\n",
       "      <td>True</td>\n",
       "      <td>log.log</td>\n",
       "      <td>6219</td>\n",
       "    </tr>\n",
       "  </tbody>\n",
       "</table>\n",
       "<p>100 rows × 19 columns</p>\n",
       "</div>"
      ],
      "text/plain": [
       "        Unnamed: 0 action  active  all_students component  context.is_correct  \\\n",
       "130684      130684   send    True          True      chat                True   \n",
       "130687      130687   send    True          True      chat                True   \n",
       "130695      130695   send    True          True      chat                True   \n",
       "130775      130775   send    True          True      chat                True   \n",
       "132307      132307   send    True          True      chat                True   \n",
       "132360      132360   send    True          True      chat                True   \n",
       "135981      135981   send    True          True      chat                True   \n",
       "135982      135982   send    True          True      chat                True   \n",
       "135983      135983   send    True          True      chat                True   \n",
       "136459      136459   send    True          True      chat                True   \n",
       "136467      136467   send    True          True      chat                True   \n",
       "136468      136468   send    True          True      chat                True   \n",
       "136469      136469   send    True          True      chat                True   \n",
       "136470      136470   send    True          True      chat                True   \n",
       "136471      136471   send    True          True      chat                True   \n",
       "136472      136472   send    True          True      chat                True   \n",
       "136473      136473   send    True          True      chat                True   \n",
       "136474      136474   send    True          True      chat                True   \n",
       "136475      136475   send    True          True      chat                True   \n",
       "136476      136476   send    True          True      chat                True   \n",
       "136477      136477   send    True          True      chat                True   \n",
       "136481      136481   send    True          True      chat                True   \n",
       "136482      136482   send    True          True      chat                True   \n",
       "136483      136483   send    True          True      chat                True   \n",
       "136485      136485   send    True          True      chat                True   \n",
       "136486      136486   send    True          True      chat                True   \n",
       "136493      136493   send    True          True      chat                True   \n",
       "136494      136494   send    True          True      chat                True   \n",
       "136495      136495   send    True          True      chat                True   \n",
       "136496      136496   send    True          True      chat                True   \n",
       "...            ...    ...     ...           ...       ...                 ...   \n",
       "136729      136729   send    True          True    mobile                True   \n",
       "136730      136730   send    True          True    mobile                True   \n",
       "136731      136731   send    True          True    mobile                True   \n",
       "136737      136737   send    True          True    mobile                True   \n",
       "136745      136745   send    True          True    mobile                True   \n",
       "136749      136749   send    True          True    mobile                True   \n",
       "136750      136750   send    True          True    mobile                True   \n",
       "136754      136754   send    True          True    mobile                True   \n",
       "136756      136756   send    True          True    mobile                True   \n",
       "136783      136783   send    True          True    mobile                True   \n",
       "136792      136792   send    True          True    mobile                True   \n",
       "136793      136793   send    True          True    mobile                True   \n",
       "136814      136814   send    True          True    mobile                True   \n",
       "136821      136821   send    True          True    mobile                True   \n",
       "136823      136823   send    True          True    mobile                True   \n",
       "136826      136826   send    True          True    mobile                True   \n",
       "136827      136827   send    True          True    mobile                True   \n",
       "136832      136832   send    True          True    mobile                True   \n",
       "136843      136843   send    True          True    mobile                True   \n",
       "136849      136849   send    True          True    mobile                True   \n",
       "136862      136862   send    True          True    mobile                True   \n",
       "136869      136869   send    True          True    mobile                True   \n",
       "136875      136875   send    True          True    mobile                True   \n",
       "136876      136876   send    True          True    mobile                True   \n",
       "136883      136883   send    True          True    mobile                True   \n",
       "136886      136886   send    True          True    mobile                True   \n",
       "136888      136888   send    True          True    mobile                True   \n",
       "136890      136890   send    True          True    mobile                True   \n",
       "136892      136892   send    True          True    mobile                True   \n",
       "136894      136894   send    True          True    mobile                True   \n",
       "\n",
       "        context.post_id  context.subject_id         context.subject_name  \\\n",
       "130684              NaN                 NaN                          NaN   \n",
       "130687              NaN                 NaN                          NaN   \n",
       "130695              NaN                 NaN                          NaN   \n",
       "130775              NaN                 NaN                          NaN   \n",
       "132307              NaN                 4.0  Resistência dos Materiais I   \n",
       "132360              NaN                 4.0  Resistência dos Materiais I   \n",
       "135981              NaN                 4.0  Resistência dos Materiais I   \n",
       "135982              NaN                 4.0  Resistência dos Materiais I   \n",
       "135983              NaN                 4.0  Resistência dos Materiais I   \n",
       "136459              NaN                 NaN                          NaN   \n",
       "136467              NaN                 NaN                          NaN   \n",
       "136468              NaN                 NaN                          NaN   \n",
       "136469              NaN                 NaN                          NaN   \n",
       "136470              NaN                 NaN                          NaN   \n",
       "136471              NaN                 NaN                          NaN   \n",
       "136472              NaN                 NaN                          NaN   \n",
       "136473              NaN                 NaN                          NaN   \n",
       "136474              NaN                 NaN                          NaN   \n",
       "136475              NaN                 NaN                          NaN   \n",
       "136476              NaN                 NaN                          NaN   \n",
       "136477              NaN                 NaN                          NaN   \n",
       "136481              NaN                 NaN                          NaN   \n",
       "136482              NaN                 NaN                          NaN   \n",
       "136483              NaN                 NaN                          NaN   \n",
       "136485              NaN                 NaN                          NaN   \n",
       "136486              NaN                 NaN                          NaN   \n",
       "136493              NaN                 NaN                          NaN   \n",
       "136494              NaN                 NaN                          NaN   \n",
       "136495              NaN                 NaN                          NaN   \n",
       "136496              NaN                 NaN                          NaN   \n",
       "...                 ...                 ...                          ...   \n",
       "136729              NaN                 5.0        Práticas Empresariais   \n",
       "136730              NaN                 5.0        Práticas Empresariais   \n",
       "136731              NaN                 5.0        Práticas Empresariais   \n",
       "136737              NaN                 5.0        Práticas Empresariais   \n",
       "136745              NaN                 5.0        Práticas Empresariais   \n",
       "136749              NaN                 5.0        Práticas Empresariais   \n",
       "136750              NaN                 5.0        Práticas Empresariais   \n",
       "136754              NaN                 4.0  Resistência dos Materiais I   \n",
       "136756              NaN                 4.0  Resistência dos Materiais I   \n",
       "136783              NaN                 5.0        Práticas Empresariais   \n",
       "136792              NaN                 5.0        Práticas Empresariais   \n",
       "136793              NaN                 5.0        Práticas Empresariais   \n",
       "136814              NaN                 5.0        Práticas Empresariais   \n",
       "136821              NaN                 5.0        Práticas Empresariais   \n",
       "136823              NaN                 5.0        Práticas Empresariais   \n",
       "136826              NaN                 5.0        Práticas Empresariais   \n",
       "136827              NaN                 5.0        Práticas Empresariais   \n",
       "136832              NaN                 5.0        Práticas Empresariais   \n",
       "136843              NaN                 5.0        Práticas Empresariais   \n",
       "136849              NaN                 5.0        Práticas Empresariais   \n",
       "136862              NaN                 4.0  Resistência dos Materiais I   \n",
       "136869              NaN                 4.0  Resistência dos Materiais I   \n",
       "136875              NaN                 4.0  Resistência dos Materiais I   \n",
       "136876              NaN                 4.0  Resistência dos Materiais I   \n",
       "136883              NaN                 4.0  Resistência dos Materiais I   \n",
       "136886              NaN                 4.0  Resistência dos Materiais I   \n",
       "136888              NaN                 4.0  Resistência dos Materiais I   \n",
       "136890              NaN                 4.0  Resistência dos Materiais I   \n",
       "136892              NaN                 4.0  Resistência dos Materiais I   \n",
       "136894              NaN                 4.0  Resistência dos Materiais I   \n",
       "\n",
       "               context.subject_slug  context.talk_id  context.user_id  \\\n",
       "130684                          NaN              1.0              2.0   \n",
       "130687                          NaN              1.0              1.0   \n",
       "130695                          NaN              1.0              2.0   \n",
       "130775                          NaN              1.0              2.0   \n",
       "132307  resistencia-dos-materiais-i              2.0              3.0   \n",
       "132360  resistencia-dos-materiais-i              2.0              3.0   \n",
       "135981  resistencia-dos-materiais-i              2.0              3.0   \n",
       "135982  resistencia-dos-materiais-i              2.0              3.0   \n",
       "135983  resistencia-dos-materiais-i              2.0              3.0   \n",
       "136459                          NaN              1.0              1.0   \n",
       "136467                          NaN              1.0              2.0   \n",
       "136468                          NaN              1.0              1.0   \n",
       "136469                          NaN              1.0              2.0   \n",
       "136470                          NaN              1.0              1.0   \n",
       "136471                          NaN              1.0              2.0   \n",
       "136472                          NaN              1.0              1.0   \n",
       "136473                          NaN              1.0              2.0   \n",
       "136474                          NaN              1.0              1.0   \n",
       "136475                          NaN              1.0              2.0   \n",
       "136476                          NaN              1.0              2.0   \n",
       "136477                          NaN              1.0              2.0   \n",
       "136481                          NaN              1.0              2.0   \n",
       "136482                          NaN              1.0              1.0   \n",
       "136483                          NaN              1.0              2.0   \n",
       "136485                          NaN              1.0              1.0   \n",
       "136486                          NaN              1.0              2.0   \n",
       "136493                          NaN              1.0              1.0   \n",
       "136494                          NaN              1.0              2.0   \n",
       "136495                          NaN              1.0              2.0   \n",
       "136496                          NaN              1.0              2.0   \n",
       "...                             ...              ...              ...   \n",
       "136729        praticas-empresariais              7.0              3.0   \n",
       "136730        praticas-empresariais              7.0              3.0   \n",
       "136731        praticas-empresariais              7.0              3.0   \n",
       "136737        praticas-empresariais              7.0              3.0   \n",
       "136745        praticas-empresariais              7.0              8.0   \n",
       "136749        praticas-empresariais             10.0              1.0   \n",
       "136750        praticas-empresariais             10.0              1.0   \n",
       "136754  resistencia-dos-materiais-i              2.0              4.0   \n",
       "136756  resistencia-dos-materiais-i             10.0              1.0   \n",
       "136783        praticas-empresariais              8.0              9.0   \n",
       "136792        praticas-empresariais              8.0              3.0   \n",
       "136793        praticas-empresariais              8.0              3.0   \n",
       "136814        praticas-empresariais              8.0              9.0   \n",
       "136821        praticas-empresariais              8.0              3.0   \n",
       "136823        praticas-empresariais              8.0              3.0   \n",
       "136826        praticas-empresariais              8.0              9.0   \n",
       "136827        praticas-empresariais              3.0             10.0   \n",
       "136832        praticas-empresariais              8.0              9.0   \n",
       "136843        praticas-empresariais              8.0              9.0   \n",
       "136849        praticas-empresariais              8.0              9.0   \n",
       "136862  resistencia-dos-materiais-i              2.0              4.0   \n",
       "136869  resistencia-dos-materiais-i              2.0              3.0   \n",
       "136875  resistencia-dos-materiais-i              2.0              4.0   \n",
       "136876  resistencia-dos-materiais-i              2.0              3.0   \n",
       "136883  resistencia-dos-materiais-i              2.0              4.0   \n",
       "136886  resistencia-dos-materiais-i              2.0              4.0   \n",
       "136888  resistencia-dos-materiais-i              2.0              3.0   \n",
       "136890  resistencia-dos-materiais-i              2.0              4.0   \n",
       "136892  resistencia-dos-materiais-i              2.0              3.0   \n",
       "136894  resistencia-dos-materiais-i              2.0              3.0   \n",
       "\n",
       "                        datetime resource  show_window  user_id  visible  \\\n",
       "130684  2018-10-21T05:33:36.120Z  message         True      1.0     True   \n",
       "130687  2018-10-21T05:33:58.186Z  message         True      2.0     True   \n",
       "130695  2018-10-21T23:03:16.256Z  message         True      1.0     True   \n",
       "130775  2018-10-22T12:22:46.656Z  message         True      1.0     True   \n",
       "132307  2018-10-23T05:00:20.161Z  message         True      4.0     True   \n",
       "132360  2018-10-23T05:23:03.557Z  message         True      4.0     True   \n",
       "135981  2018-10-26T18:44:53.758Z  message         True      4.0     True   \n",
       "135982  2018-10-26T18:44:58.058Z  message         True      4.0     True   \n",
       "135983  2018-10-26T18:45:20.467Z  message         True      4.0     True   \n",
       "136459  2018-10-27T02:53:47.018Z  message         True      2.0     True   \n",
       "136467  2018-10-27T02:54:08.856Z  message         True      1.0     True   \n",
       "136468  2018-10-27T02:54:23.338Z  message         True      2.0     True   \n",
       "136469  2018-10-27T02:54:40.265Z  message         True      1.0     True   \n",
       "136470  2018-10-27T02:54:56.865Z  message         True      2.0     True   \n",
       "136471  2018-10-27T02:55:24.792Z  message         True      1.0     True   \n",
       "136472  2018-10-27T02:55:43.716Z  message         True      2.0     True   \n",
       "136473  2018-10-27T02:55:55.366Z  message         True      1.0     True   \n",
       "136474  2018-10-27T02:56:15.000Z  message         True      2.0     True   \n",
       "136475  2018-10-27T02:56:31.955Z  message         True      1.0     True   \n",
       "136476  2018-10-27T02:56:52.898Z  message         True      1.0     True   \n",
       "136477  2018-10-27T02:57:02.333Z  message         True      1.0     True   \n",
       "136481  2018-10-27T02:59:53.719Z  message         True      1.0     True   \n",
       "136482  2018-10-27T03:00:16.362Z  message         True      2.0     True   \n",
       "136483  2018-10-27T03:02:21.657Z  message         True      1.0     True   \n",
       "136485  2018-10-27T03:03:37.609Z  message         True      2.0     True   \n",
       "136486  2018-10-27T03:03:40.827Z  message         True      1.0     True   \n",
       "136493  2018-10-27T03:05:58.521Z  message         True      2.0     True   \n",
       "136494  2018-10-27T03:06:14.276Z  message         True      1.0     True   \n",
       "136495  2018-10-27T03:06:27.058Z  message         True      1.0     True   \n",
       "136496  2018-10-27T03:07:02.808Z  message         True      1.0     True   \n",
       "...                          ...      ...          ...      ...      ...   \n",
       "136729  2018-10-27T21:01:05.266Z  message         True      8.0     True   \n",
       "136730  2018-10-27T21:02:06.388Z  message         True      8.0     True   \n",
       "136731  2018-10-27T21:03:08.205Z  message         True      8.0     True   \n",
       "136737  2018-10-27T21:34:54.612Z  message         True      8.0     True   \n",
       "136745  2018-10-27T21:39:11.469Z  message         True      3.0     True   \n",
       "136749  2018-10-27T21:41:21.705Z  message         True      3.0     True   \n",
       "136750  2018-10-27T21:41:54.996Z  message         True      3.0     True   \n",
       "136754  2018-10-27T21:52:48.727Z  message         True      3.0     True   \n",
       "136756  2018-10-27T21:53:27.059Z  message         True      3.0     True   \n",
       "136783  2018-10-27T21:57:51.759Z  message         True      3.0     True   \n",
       "136792  2018-10-27T22:00:18.949Z  message         True      9.0     True   \n",
       "136793  2018-10-27T22:00:24.746Z  message         True      9.0     True   \n",
       "136814  2018-10-27T22:01:39.628Z  message         True      3.0     True   \n",
       "136821  2018-10-27T22:02:15.158Z  message         True      9.0     True   \n",
       "136823  2018-10-27T22:02:26.350Z  message         True      9.0     True   \n",
       "136826  2018-10-27T22:02:38.830Z  message         True      3.0     True   \n",
       "136827  2018-10-27T22:03:02.109Z  message         True      6.0     True   \n",
       "136832  2018-10-27T22:03:36.609Z  message         True      3.0     True   \n",
       "136843  2018-10-27T22:04:32.647Z  message         True      3.0     True   \n",
       "136849  2018-10-27T22:05:17.982Z  message         True      3.0     True   \n",
       "136862  2018-10-27T22:06:07.321Z  message         True      3.0     True   \n",
       "136869  2018-10-27T22:07:44.673Z  message         True      4.0     True   \n",
       "136875  2018-10-27T22:09:02.457Z  message         True      3.0     True   \n",
       "136876  2018-10-27T22:09:49.289Z  message         True      4.0     True   \n",
       "136883  2018-10-27T22:10:24.789Z  message         True      3.0     True   \n",
       "136886  2018-10-27T22:10:58.134Z  message         True      3.0     True   \n",
       "136888  2018-10-27T22:11:04.191Z  message         True      4.0     True   \n",
       "136890  2018-10-27T22:11:14.201Z  message         True      3.0     True   \n",
       "136892  2018-10-27T22:11:17.173Z  message         True      4.0     True   \n",
       "136894  2018-10-27T22:11:28.328Z  message         True      4.0     True   \n",
       "\n",
       "          model    pk  \n",
       "130684  log.log     9  \n",
       "130687  log.log    12  \n",
       "130695  log.log    20  \n",
       "130775  log.log   100  \n",
       "132307  log.log  1632  \n",
       "132360  log.log  1685  \n",
       "135981  log.log  5306  \n",
       "135982  log.log  5307  \n",
       "135983  log.log  5308  \n",
       "136459  log.log  5784  \n",
       "136467  log.log  5792  \n",
       "136468  log.log  5793  \n",
       "136469  log.log  5794  \n",
       "136470  log.log  5795  \n",
       "136471  log.log  5796  \n",
       "136472  log.log  5797  \n",
       "136473  log.log  5798  \n",
       "136474  log.log  5799  \n",
       "136475  log.log  5800  \n",
       "136476  log.log  5801  \n",
       "136477  log.log  5802  \n",
       "136481  log.log  5806  \n",
       "136482  log.log  5807  \n",
       "136483  log.log  5808  \n",
       "136485  log.log  5810  \n",
       "136486  log.log  5811  \n",
       "136493  log.log  5818  \n",
       "136494  log.log  5819  \n",
       "136495  log.log  5820  \n",
       "136496  log.log  5821  \n",
       "...         ...   ...  \n",
       "136729  log.log  6054  \n",
       "136730  log.log  6055  \n",
       "136731  log.log  6056  \n",
       "136737  log.log  6062  \n",
       "136745  log.log  6070  \n",
       "136749  log.log  6074  \n",
       "136750  log.log  6075  \n",
       "136754  log.log  6079  \n",
       "136756  log.log  6081  \n",
       "136783  log.log  6108  \n",
       "136792  log.log  6117  \n",
       "136793  log.log  6118  \n",
       "136814  log.log  6139  \n",
       "136821  log.log  6146  \n",
       "136823  log.log  6148  \n",
       "136826  log.log  6151  \n",
       "136827  log.log  6152  \n",
       "136832  log.log  6157  \n",
       "136843  log.log  6168  \n",
       "136849  log.log  6174  \n",
       "136862  log.log  6187  \n",
       "136869  log.log  6194  \n",
       "136875  log.log  6200  \n",
       "136876  log.log  6201  \n",
       "136883  log.log  6208  \n",
       "136886  log.log  6211  \n",
       "136888  log.log  6213  \n",
       "136890  log.log  6215  \n",
       "136892  log.log  6217  \n",
       "136894  log.log  6219  \n",
       "\n",
       "[100 rows x 19 columns]"
      ]
     },
     "execution_count": 47,
     "metadata": {},
     "output_type": "execute_result"
    }
   ],
   "source": [
    "send_logs_df.head(100)"
   ]
  },
  {
   "cell_type": "markdown",
   "metadata": {},
   "source": [
    "# Create logs"
   ]
  },
  {
   "cell_type": "markdown",
   "metadata": {},
   "source": [
    "Create logs won't be useful because they are mostly related to the teacher and administrators."
   ]
  },
  {
   "cell_type": "code",
   "execution_count": 48,
   "metadata": {},
   "outputs": [
    {
     "data": {
      "text/plain": [
       "(1376, 51)"
      ]
     },
     "execution_count": 48,
     "metadata": {},
     "output_type": "execute_result"
    }
   ],
   "source": [
    "create_logs_df = logs_df.loc[logs_df[\"action\"] == \"create\"].dropna(axis=1, how=\"all\")\n",
    "create_logs_df.shape"
   ]
  },
  {
   "cell_type": "markdown",
   "metadata": {},
   "source": [
    "# Resources"
   ]
  },
  {
   "cell_type": "code",
   "execution_count": 62,
   "metadata": {},
   "outputs": [],
   "source": [
    "resources_df = df[df[\"model\"] == \"topics.resource\"].dropna(axis=1, how=\"all\")"
   ]
  },
  {
   "cell_type": "code",
   "execution_count": 63,
   "metadata": {},
   "outputs": [
    {
     "data": {
      "text/plain": [
       "Index(['Unnamed: 0', '_my_subclass', 'active', 'all_students',\n",
       "       'brief_description', 'context.is_correct', 'create_date', 'groups',\n",
       "       'last_update', 'name', 'order', 'show_window', 'slug', 'students',\n",
       "       'tags', 'topic', 'visible', 'model', 'pk'],\n",
       "      dtype='object')"
      ]
     },
     "execution_count": 63,
     "metadata": {},
     "output_type": "execute_result"
    }
   ],
   "source": [
    "resources_df.columns"
   ]
  },
  {
   "cell_type": "code",
   "execution_count": 64,
   "metadata": {
    "scrolled": true
   },
   "outputs": [
    {
     "data": {
      "text/plain": [
       "pdffile          109\n",
       "ytvideo           18\n",
       "webpage           18\n",
       "questionary       11\n",
       "goals              4\n",
       "webconference      1\n",
       "bulletin           1\n",
       "Name: _my_subclass, dtype: int64"
      ]
     },
     "execution_count": 64,
     "metadata": {},
     "output_type": "execute_result"
    }
   ],
   "source": [
    "resources_df._my_subclass.value_counts()"
   ]
  },
  {
   "cell_type": "code",
   "execution_count": 54,
   "metadata": {
    "scrolled": true
   },
   "outputs": [
    {
     "data": {
      "text/plain": [
       "pdffile        409\n",
       "webpage         18\n",
       "ytvideo         18\n",
       "questionary     12\n",
       "goals            3\n",
       "bulletin         2\n",
       "Name: _my_subclass, dtype: int64"
      ]
     },
     "execution_count": 54,
     "metadata": {},
     "output_type": "execute_result"
    }
   ],
   "source": [
    "resources_df._my_subclass.value_counts()"
   ]
  },
  {
   "cell_type": "code",
   "execution_count": null,
   "metadata": {},
   "outputs": [],
   "source": []
  },
  {
   "cell_type": "markdown",
   "metadata": {},
   "source": [
    "# Pendências"
   ]
  },
  {
   "cell_type": "code",
   "execution_count": 60,
   "metadata": {},
   "outputs": [],
   "source": [
    "pendencies_df = df[df[\"model\"] == \"pendencies.pendencies\"].dropna(axis=1, how=\"all\")"
   ]
  },
  {
   "cell_type": "code",
   "execution_count": 61,
   "metadata": {},
   "outputs": [
    {
     "data": {
      "text/plain": [
       "Unnamed: 0             int64\n",
       "action                object\n",
       "active                  bool\n",
       "all_students            bool\n",
       "begin_date            object\n",
       "context.is_correct      bool\n",
       "end_date              object\n",
       "limit_date            object\n",
       "resource              object\n",
       "show_window             bool\n",
       "visible                 bool\n",
       "model                 object\n",
       "pk                    object\n",
       "dtype: object"
      ]
     },
     "execution_count": 61,
     "metadata": {},
     "output_type": "execute_result"
    }
   ],
   "source": [
    "pendencies_df.dtypes"
   ]
  },
  {
   "cell_type": "code",
   "execution_count": 59,
   "metadata": {},
   "outputs": [
    {
     "data": {
      "text/html": [
       "<div>\n",
       "<style scoped>\n",
       "    .dataframe tbody tr th:only-of-type {\n",
       "        vertical-align: middle;\n",
       "    }\n",
       "\n",
       "    .dataframe tbody tr th {\n",
       "        vertical-align: top;\n",
       "    }\n",
       "\n",
       "    .dataframe thead th {\n",
       "        text-align: right;\n",
       "    }\n",
       "</style>\n",
       "<table border=\"1\" class=\"dataframe\">\n",
       "  <thead>\n",
       "    <tr style=\"text-align: right;\">\n",
       "      <th></th>\n",
       "      <th>Unnamed: 0</th>\n",
       "      <th>action</th>\n",
       "      <th>active</th>\n",
       "      <th>all_students</th>\n",
       "      <th>begin_date</th>\n",
       "      <th>context.is_correct</th>\n",
       "      <th>end_date</th>\n",
       "      <th>resource</th>\n",
       "      <th>show_window</th>\n",
       "      <th>visible</th>\n",
       "      <th>model</th>\n",
       "      <th>pk</th>\n",
       "    </tr>\n",
       "  </thead>\n",
       "  <tbody>\n",
       "    <tr>\n",
       "      <th>260891</th>\n",
       "      <td>260891</td>\n",
       "      <td>view</td>\n",
       "      <td>True</td>\n",
       "      <td>True</td>\n",
       "      <td>2018-11-06 03:00:00</td>\n",
       "      <td>True</td>\n",
       "      <td>2018-11-12T02:59:00Z</td>\n",
       "      <td>9</td>\n",
       "      <td>True</td>\n",
       "      <td>True</td>\n",
       "      <td>pendencies.pendencies</td>\n",
       "      <td>7</td>\n",
       "    </tr>\n",
       "    <tr>\n",
       "      <th>260892</th>\n",
       "      <td>260892</td>\n",
       "      <td>submit</td>\n",
       "      <td>True</td>\n",
       "      <td>True</td>\n",
       "      <td>2018-11-07 03:00:00</td>\n",
       "      <td>True</td>\n",
       "      <td>2018-11-12T02:59:00Z</td>\n",
       "      <td>159</td>\n",
       "      <td>True</td>\n",
       "      <td>True</td>\n",
       "      <td>pendencies.pendencies</td>\n",
       "      <td>8</td>\n",
       "    </tr>\n",
       "  </tbody>\n",
       "</table>\n",
       "</div>"
      ],
      "text/plain": [
       "        Unnamed: 0  action  active  all_students           begin_date  \\\n",
       "260891      260891    view    True          True  2018-11-06 03:00:00   \n",
       "260892      260892  submit    True          True  2018-11-07 03:00:00   \n",
       "\n",
       "        context.is_correct              end_date resource  show_window  \\\n",
       "260891                True  2018-11-12T02:59:00Z        9         True   \n",
       "260892                True  2018-11-12T02:59:00Z      159         True   \n",
       "\n",
       "        visible                  model pk  \n",
       "260891     True  pendencies.pendencies  7  \n",
       "260892     True  pendencies.pendencies  8  "
      ]
     },
     "execution_count": 59,
     "metadata": {},
     "output_type": "execute_result"
    }
   ],
   "source": [
    "pendencies_df.head(2)"
   ]
  },
  {
   "cell_type": "code",
   "execution_count": 21,
   "metadata": {},
   "outputs": [],
   "source": [
    "# change pendencies data type to make easier to manipulate data and analyze as well\n",
    "date_columns = [\"begin_date\", \"end_date\", \"limit_date\"]\n",
    "for column in date_columns:\n",
    "    #pendencies_df[column] = pendencies_df[column].apply(lambda date: pd.Timestamp(date, tz=None))\n",
    "    pendencies_df[column] = pd.to_datetime(pendencies_df[column])\n",
    "    pendencies_df[column] = pendencies_df[column].apply(lambda timestamp: timestamp.replace(tzinfo=None))\n",
    "\n",
    "\n",
    "#pendencies_df[date_columns] = pd.to_datetime(pendencies_df[date_columns])\n",
    "#pendencies_df[date_columns] = pd.Timestamp(pendencies_df[date_columns])"
   ]
  },
  {
   "cell_type": "code",
   "execution_count": 22,
   "metadata": {},
   "outputs": [],
   "source": [
    "pendencies_df[\"action\"] = pendencies_df[\"action\"].astype(\"category\")"
   ]
  },
  {
   "cell_type": "code",
   "execution_count": 23,
   "metadata": {},
   "outputs": [
    {
     "data": {
      "text/plain": [
       "action              category\n",
       "begin_date    datetime64[ns]\n",
       "end_date      datetime64[ns]\n",
       "limit_date    datetime64[ns]\n",
       "resource               int64\n",
       "fields                object\n",
       "model                 object\n",
       "pk                    object\n",
       "dtype: object"
      ]
     },
     "execution_count": 23,
     "metadata": {},
     "output_type": "execute_result"
    }
   ],
   "source": [
    "pendencies_df.dtypes"
   ]
  },
  {
   "cell_type": "code",
   "execution_count": 24,
   "metadata": {},
   "outputs": [
    {
     "data": {
      "text/html": [
       "<div>\n",
       "<style scoped>\n",
       "    .dataframe tbody tr th:only-of-type {\n",
       "        vertical-align: middle;\n",
       "    }\n",
       "\n",
       "    .dataframe tbody tr th {\n",
       "        vertical-align: top;\n",
       "    }\n",
       "\n",
       "    .dataframe thead th {\n",
       "        text-align: right;\n",
       "    }\n",
       "</style>\n",
       "<table border=\"1\" class=\"dataframe\">\n",
       "  <thead>\n",
       "    <tr style=\"text-align: right;\">\n",
       "      <th></th>\n",
       "      <th>action</th>\n",
       "      <th>begin_date</th>\n",
       "      <th>end_date</th>\n",
       "      <th>limit_date</th>\n",
       "      <th>resource</th>\n",
       "      <th>fields</th>\n",
       "      <th>model</th>\n",
       "      <th>pk</th>\n",
       "    </tr>\n",
       "  </thead>\n",
       "  <tbody>\n",
       "    <tr>\n",
       "      <th>120708</th>\n",
       "      <td>view</td>\n",
       "      <td>2018-10-28 02:53:00</td>\n",
       "      <td>2018-10-28 02:55:00</td>\n",
       "      <td>NaT</td>\n",
       "      <td>163</td>\n",
       "      <td>{'action': 'view', 'begin_date': '2018-10-28T0...</td>\n",
       "      <td>pendencies.pendencies</td>\n",
       "      <td>1</td>\n",
       "    </tr>\n",
       "    <tr>\n",
       "      <th>120709</th>\n",
       "      <td>view</td>\n",
       "      <td>2018-10-28 02:54:00</td>\n",
       "      <td>2018-10-31 02:54:00</td>\n",
       "      <td>NaT</td>\n",
       "      <td>164</td>\n",
       "      <td>{'action': 'view', 'begin_date': '2018-10-28T0...</td>\n",
       "      <td>pendencies.pendencies</td>\n",
       "      <td>2</td>\n",
       "    </tr>\n",
       "  </tbody>\n",
       "</table>\n",
       "</div>"
      ],
      "text/plain": [
       "       action          begin_date            end_date limit_date  resource  \\\n",
       "120708   view 2018-10-28 02:53:00 2018-10-28 02:55:00        NaT       163   \n",
       "120709   view 2018-10-28 02:54:00 2018-10-31 02:54:00        NaT       164   \n",
       "\n",
       "                                                   fields  \\\n",
       "120708  {'action': 'view', 'begin_date': '2018-10-28T0...   \n",
       "120709  {'action': 'view', 'begin_date': '2018-10-28T0...   \n",
       "\n",
       "                        model pk  \n",
       "120708  pendencies.pendencies  1  \n",
       "120709  pendencies.pendencies  2  "
      ]
     },
     "execution_count": 24,
     "metadata": {},
     "output_type": "execute_result"
    }
   ],
   "source": [
    "pendencies_df.head(2)"
   ]
  },
  {
   "cell_type": "markdown",
   "metadata": {},
   "source": [
    "# Users Data\n",
    "Como os usuários são o principal objeto de pesquisa deste relatório, eu preciso coletar os IDs deles para juntar as notificações e \"dar à um responsável\"."
   ]
  },
  {
   "cell_type": "code",
   "execution_count": 25,
   "metadata": {
    "scrolled": true
   },
   "outputs": [
    {
     "data": {
      "text/html": [
       "<div>\n",
       "<style scoped>\n",
       "    .dataframe tbody tr th:only-of-type {\n",
       "        vertical-align: middle;\n",
       "    }\n",
       "\n",
       "    .dataframe tbody tr th {\n",
       "        vertical-align: top;\n",
       "    }\n",
       "\n",
       "    .dataframe thead th {\n",
       "        text-align: right;\n",
       "    }\n",
       "</style>\n",
       "<table border=\"1\" class=\"dataframe\">\n",
       "  <thead>\n",
       "    <tr style=\"text-align: right;\">\n",
       "      <th></th>\n",
       "      <th>fields</th>\n",
       "      <th>model</th>\n",
       "      <th>pk</th>\n",
       "    </tr>\n",
       "  </thead>\n",
       "  <tbody>\n",
       "    <tr>\n",
       "      <th>34528</th>\n",
       "      <td>{'password': 'pbkdf2_sha256$30000$5DROf4Pf3BPR...</td>\n",
       "      <td>users.user</td>\n",
       "      <td>1</td>\n",
       "    </tr>\n",
       "    <tr>\n",
       "      <th>34529</th>\n",
       "      <td>{'password': 'pbkdf2_sha256$30000$u3Lg5la328P5...</td>\n",
       "      <td>users.user</td>\n",
       "      <td>2</td>\n",
       "    </tr>\n",
       "  </tbody>\n",
       "</table>\n",
       "</div>"
      ],
      "text/plain": [
       "                                                  fields       model pk\n",
       "34528  {'password': 'pbkdf2_sha256$30000$5DROf4Pf3BPR...  users.user  1\n",
       "34529  {'password': 'pbkdf2_sha256$30000$u3Lg5la328P5...  users.user  2"
      ]
     },
     "execution_count": 25,
     "metadata": {},
     "output_type": "execute_result"
    }
   ],
   "source": [
    "users_df = df[df[\"model\"] == \"users.user\"]\n",
    "users_df.head(2)"
   ]
  },
  {
   "cell_type": "code",
   "execution_count": 26,
   "metadata": {
    "scrolled": true
   },
   "outputs": [
    {
     "data": {
      "text/plain": [
       "{'password': 'pbkdf2_sha256$30000$5DROf4Pf3BPR$tPd1JbDlLqrUzoY/JcUSfparBrp7n0ERZKWgpfnbG/Y=',\n",
       " 'last_login': '2019-01-22T12:36:36.447Z',\n",
       " 'is_superuser': True,\n",
       " 'email': 'admin@amadeus.br',\n",
       " 'username': 'Administrador',\n",
       " 'last_name': 'Geral',\n",
       " 'social_name': None,\n",
       " 'description': '',\n",
       " 'image': '',\n",
       " 'date_created': '2018-10-19T16:55:27.084Z',\n",
       " 'last_update': '2018-11-04T03:31:13.036Z',\n",
       " 'show_email': 1,\n",
       " 'is_staff': True,\n",
       " 'is_active': True,\n",
       " 'groups': [],\n",
       " 'user_permissions': []}"
      ]
     },
     "execution_count": 26,
     "metadata": {},
     "output_type": "execute_result"
    }
   ],
   "source": [
    "users_df[\"fields\"][34528]"
   ]
  },
  {
   "cell_type": "markdown",
   "metadata": {},
   "source": [
    "# Dicionário dos dados\n",
    "1. Password: Senha criptografada\n",
    "2. Last_Login: a última vez que o usuário logou no sistema\n",
    "3. is_superuser: Significa que o usuário é um super usuário, tem privilégios ou admin.\n",
    "4. email: e-mail pertecente ao usuário \n",
    "5. username: nome que o usuário quer que outros usuários o vejam\n",
    "6. last_name: Sobrenome do usuário\n",
    "7. social_name: Nome social que o usuário quer escolher para ser demonstrado \n",
    "8. description: ?\n",
    "9. image: Caminho para a imagem do usuário\n",
    "10. date_created: Data em que o usuário foi criado\n",
    "11. last_update: a última vez que os dados do usuário foram modificados\n",
    "12. show_email: Uma booleana que informa se o e-mail é visiível para outros usuários\n",
    "13. is_staff: se ele é do tipo admin\n",
    "14. is_active: Se o usuário está ativo, caso sim, ele pode entrar no sistema, senão, é impossível\n",
    "15. groups: Grupos de permissão ao qual esse usuário pertence (\"professor\", \"estudante\"...)\n",
    "16. user_permissions = permissões individuais que ele possui (\"criar tópico\" , \"deletar tópico\", \"editar tópico\")"
   ]
  },
  {
   "cell_type": "code",
   "execution_count": 27,
   "metadata": {},
   "outputs": [],
   "source": [
    "# fields:  \n",
    "user_fields = [\"password\", \"last_login\", \"is_superuser\", \"email\", \"username\", \"last_name\", \"social_name\", \"description\", \n",
    "               \"imagem\", \"date_created\", \"last_update\", \"show_email\", \"is_staff\", \"is_active\", \"groups\", \"user_permissions\"]"
   ]
  },
  {
   "cell_type": "code",
   "execution_count": 28,
   "metadata": {},
   "outputs": [],
   "source": [
    "user_df_flatten = extract_flatten_dataframe(users_df, column=\"fields\",meta_list=user_fields).astype({\"pk\": \"int64\"})"
   ]
  },
  {
   "cell_type": "code",
   "execution_count": 29,
   "metadata": {},
   "outputs": [
    {
     "data": {
      "text/plain": [
       "date_created        object\n",
       "description         object\n",
       "email               object\n",
       "groups              object\n",
       "image               object\n",
       "is_active             bool\n",
       "is_staff              bool\n",
       "is_superuser          bool\n",
       "last_login          object\n",
       "last_name           object\n",
       "last_update         object\n",
       "password            object\n",
       "show_email           int64\n",
       "social_name         object\n",
       "user_permissions    object\n",
       "username            object\n",
       "fields              object\n",
       "model               object\n",
       "pk                   int64\n",
       "dtype: object"
      ]
     },
     "execution_count": 29,
     "metadata": {},
     "output_type": "execute_result"
    }
   ],
   "source": [
    "user_df_flatten.dtypes"
   ]
  },
  {
   "cell_type": "markdown",
   "metadata": {},
   "source": [
    "# Notas dos alunos"
   ]
  },
  {
   "cell_type": "code",
   "execution_count": 30,
   "metadata": {},
   "outputs": [
    {
     "data": {
      "text/plain": [
       "id_estudante      int64\n",
       "v1              float64\n",
       "v2              float64\n",
       "dtype: object"
      ]
     },
     "execution_count": 30,
     "metadata": {},
     "output_type": "execute_result"
    }
   ],
   "source": [
    "grades_df.dtypes"
   ]
  },
  {
   "cell_type": "code",
   "execution_count": 31,
   "metadata": {},
   "outputs": [
    {
     "data": {
      "text/html": [
       "<div>\n",
       "<style scoped>\n",
       "    .dataframe tbody tr th:only-of-type {\n",
       "        vertical-align: middle;\n",
       "    }\n",
       "\n",
       "    .dataframe tbody tr th {\n",
       "        vertical-align: top;\n",
       "    }\n",
       "\n",
       "    .dataframe thead th {\n",
       "        text-align: right;\n",
       "    }\n",
       "</style>\n",
       "<table border=\"1\" class=\"dataframe\">\n",
       "  <thead>\n",
       "    <tr style=\"text-align: right;\">\n",
       "      <th></th>\n",
       "      <th>id_estudante</th>\n",
       "      <th>v1</th>\n",
       "      <th>v2</th>\n",
       "    </tr>\n",
       "  </thead>\n",
       "  <tbody>\n",
       "    <tr>\n",
       "      <th>0</th>\n",
       "      <td>11</td>\n",
       "      <td>0.0</td>\n",
       "      <td>0.00</td>\n",
       "    </tr>\n",
       "    <tr>\n",
       "      <th>1</th>\n",
       "      <td>12</td>\n",
       "      <td>4.0</td>\n",
       "      <td>7.00</td>\n",
       "    </tr>\n",
       "    <tr>\n",
       "      <th>2</th>\n",
       "      <td>13</td>\n",
       "      <td>6.5</td>\n",
       "      <td>7.50</td>\n",
       "    </tr>\n",
       "    <tr>\n",
       "      <th>3</th>\n",
       "      <td>14</td>\n",
       "      <td>6.5</td>\n",
       "      <td>10.00</td>\n",
       "    </tr>\n",
       "    <tr>\n",
       "      <th>4</th>\n",
       "      <td>15</td>\n",
       "      <td>6.0</td>\n",
       "      <td>8.50</td>\n",
       "    </tr>\n",
       "    <tr>\n",
       "      <th>5</th>\n",
       "      <td>16</td>\n",
       "      <td>6.0</td>\n",
       "      <td>3.50</td>\n",
       "    </tr>\n",
       "    <tr>\n",
       "      <th>6</th>\n",
       "      <td>17</td>\n",
       "      <td>0.5</td>\n",
       "      <td>4.00</td>\n",
       "    </tr>\n",
       "    <tr>\n",
       "      <th>7</th>\n",
       "      <td>18</td>\n",
       "      <td>1.5</td>\n",
       "      <td>7.25</td>\n",
       "    </tr>\n",
       "    <tr>\n",
       "      <th>8</th>\n",
       "      <td>19</td>\n",
       "      <td>7.5</td>\n",
       "      <td>8.50</td>\n",
       "    </tr>\n",
       "    <tr>\n",
       "      <th>9</th>\n",
       "      <td>20</td>\n",
       "      <td>2.0</td>\n",
       "      <td>9.75</td>\n",
       "    </tr>\n",
       "  </tbody>\n",
       "</table>\n",
       "</div>"
      ],
      "text/plain": [
       "   id_estudante   v1     v2\n",
       "0            11  0.0   0.00\n",
       "1            12  4.0   7.00\n",
       "2            13  6.5   7.50\n",
       "3            14  6.5  10.00\n",
       "4            15  6.0   8.50\n",
       "5            16  6.0   3.50\n",
       "6            17  0.5   4.00\n",
       "7            18  1.5   7.25\n",
       "8            19  7.5   8.50\n",
       "9            20  2.0   9.75"
      ]
     },
     "execution_count": 31,
     "metadata": {},
     "output_type": "execute_result"
    }
   ],
   "source": [
    "grades_df.head(10)"
   ]
  },
  {
   "cell_type": "markdown",
   "metadata": {},
   "source": [
    "# Vou remover as seguintes colunas:\n",
    "1. Groups, pois não possui nenhum valor diferente de vazio (ou nulo)."
   ]
  },
  {
   "cell_type": "code",
   "execution_count": 32,
   "metadata": {},
   "outputs": [
    {
     "data": {
      "text/plain": [
       "[]    106\n",
       "Name: groups, dtype: int64"
      ]
     },
     "execution_count": 32,
     "metadata": {},
     "output_type": "execute_result"
    }
   ],
   "source": [
    "user_df_flatten[\"groups\"].value_counts()"
   ]
  },
  {
   "cell_type": "code",
   "execution_count": 33,
   "metadata": {},
   "outputs": [],
   "source": [
    "user_df_flatten_clean = user_df_flatten.drop([\"groups\", \"fields\", \"password\"], axis=1)"
   ]
  },
  {
   "cell_type": "markdown",
   "metadata": {},
   "source": [
    "# Junção entre os datasets\n",
    "Para otimizar, irei coletar somente o username dos usuários durante o join com as notificações, depois eu irei buscar mais informações sobre eles.m"
   ]
  },
  {
   "cell_type": "code",
   "execution_count": 34,
   "metadata": {},
   "outputs": [],
   "source": [
    "notifications_with_user_grades_df = pd.merge(notification_df_flatted, grades_df, left_on=[\"user\"], right_on=[\"id_estudante\"])"
   ]
  },
  {
   "cell_type": "code",
   "execution_count": 35,
   "metadata": {},
   "outputs": [
    {
     "data": {
      "text/html": [
       "<div>\n",
       "<style scoped>\n",
       "    .dataframe tbody tr th:only-of-type {\n",
       "        vertical-align: middle;\n",
       "    }\n",
       "\n",
       "    .dataframe tbody tr th {\n",
       "        vertical-align: top;\n",
       "    }\n",
       "\n",
       "    .dataframe thead th {\n",
       "        text-align: right;\n",
       "    }\n",
       "</style>\n",
       "<table border=\"1\" class=\"dataframe\">\n",
       "  <thead>\n",
       "    <tr style=\"text-align: right;\">\n",
       "      <th></th>\n",
       "      <th>creation_date</th>\n",
       "      <th>level</th>\n",
       "      <th>meta</th>\n",
       "      <th>task</th>\n",
       "      <th>user</th>\n",
       "      <th>viewed</th>\n",
       "      <th>fields</th>\n",
       "      <th>model</th>\n",
       "      <th>pk</th>\n",
       "      <th>id_estudante</th>\n",
       "      <th>v1</th>\n",
       "      <th>v2</th>\n",
       "    </tr>\n",
       "  </thead>\n",
       "  <tbody>\n",
       "    <tr>\n",
       "      <th>0</th>\n",
       "      <td>2018-11-05</td>\n",
       "      <td>1</td>\n",
       "      <td>None</td>\n",
       "      <td>9</td>\n",
       "      <td>11</td>\n",
       "      <td>False</td>\n",
       "      <td>{'meta': None, 'task': 9, 'user': 11, 'level':...</td>\n",
       "      <td>notifications.notification</td>\n",
       "      <td>105</td>\n",
       "      <td>11</td>\n",
       "      <td>0.0</td>\n",
       "      <td>0.0</td>\n",
       "    </tr>\n",
       "    <tr>\n",
       "      <th>1</th>\n",
       "      <td>2018-11-06</td>\n",
       "      <td>1</td>\n",
       "      <td>None</td>\n",
       "      <td>9</td>\n",
       "      <td>11</td>\n",
       "      <td>False</td>\n",
       "      <td>{'meta': None, 'task': 9, 'user': 11, 'level':...</td>\n",
       "      <td>notifications.notification</td>\n",
       "      <td>195</td>\n",
       "      <td>11</td>\n",
       "      <td>0.0</td>\n",
       "      <td>0.0</td>\n",
       "    </tr>\n",
       "    <tr>\n",
       "      <th>2</th>\n",
       "      <td>2018-11-06</td>\n",
       "      <td>1</td>\n",
       "      <td>None</td>\n",
       "      <td>10</td>\n",
       "      <td>11</td>\n",
       "      <td>False</td>\n",
       "      <td>{'meta': None, 'task': 10, 'user': 11, 'level'...</td>\n",
       "      <td>notifications.notification</td>\n",
       "      <td>261</td>\n",
       "      <td>11</td>\n",
       "      <td>0.0</td>\n",
       "      <td>0.0</td>\n",
       "    </tr>\n",
       "    <tr>\n",
       "      <th>3</th>\n",
       "      <td>2018-11-06</td>\n",
       "      <td>1</td>\n",
       "      <td>None</td>\n",
       "      <td>7</td>\n",
       "      <td>11</td>\n",
       "      <td>False</td>\n",
       "      <td>{'meta': None, 'task': 7, 'user': 11, 'level':...</td>\n",
       "      <td>notifications.notification</td>\n",
       "      <td>338</td>\n",
       "      <td>11</td>\n",
       "      <td>0.0</td>\n",
       "      <td>0.0</td>\n",
       "    </tr>\n",
       "    <tr>\n",
       "      <th>4</th>\n",
       "      <td>2018-11-07</td>\n",
       "      <td>1</td>\n",
       "      <td>None</td>\n",
       "      <td>10</td>\n",
       "      <td>11</td>\n",
       "      <td>False</td>\n",
       "      <td>{'meta': None, 'task': 10, 'user': 11, 'level'...</td>\n",
       "      <td>notifications.notification</td>\n",
       "      <td>463</td>\n",
       "      <td>11</td>\n",
       "      <td>0.0</td>\n",
       "      <td>0.0</td>\n",
       "    </tr>\n",
       "    <tr>\n",
       "      <th>5</th>\n",
       "      <td>2018-11-07</td>\n",
       "      <td>1</td>\n",
       "      <td>None</td>\n",
       "      <td>8</td>\n",
       "      <td>11</td>\n",
       "      <td>False</td>\n",
       "      <td>{'meta': None, 'task': 8, 'user': 11, 'level':...</td>\n",
       "      <td>notifications.notification</td>\n",
       "      <td>574</td>\n",
       "      <td>11</td>\n",
       "      <td>0.0</td>\n",
       "      <td>0.0</td>\n",
       "    </tr>\n",
       "    <tr>\n",
       "      <th>6</th>\n",
       "      <td>2018-11-08</td>\n",
       "      <td>1</td>\n",
       "      <td>None</td>\n",
       "      <td>10</td>\n",
       "      <td>11</td>\n",
       "      <td>False</td>\n",
       "      <td>{'meta': None, 'task': 10, 'user': 11, 'level'...</td>\n",
       "      <td>notifications.notification</td>\n",
       "      <td>682</td>\n",
       "      <td>11</td>\n",
       "      <td>0.0</td>\n",
       "      <td>0.0</td>\n",
       "    </tr>\n",
       "    <tr>\n",
       "      <th>7</th>\n",
       "      <td>2018-11-08</td>\n",
       "      <td>1</td>\n",
       "      <td>None</td>\n",
       "      <td>11</td>\n",
       "      <td>11</td>\n",
       "      <td>False</td>\n",
       "      <td>{'meta': None, 'task': 11, 'user': 11, 'level'...</td>\n",
       "      <td>notifications.notification</td>\n",
       "      <td>756</td>\n",
       "      <td>11</td>\n",
       "      <td>0.0</td>\n",
       "      <td>0.0</td>\n",
       "    </tr>\n",
       "    <tr>\n",
       "      <th>8</th>\n",
       "      <td>2018-11-08</td>\n",
       "      <td>1</td>\n",
       "      <td>None</td>\n",
       "      <td>8</td>\n",
       "      <td>11</td>\n",
       "      <td>False</td>\n",
       "      <td>{'meta': None, 'task': 8, 'user': 11, 'level':...</td>\n",
       "      <td>notifications.notification</td>\n",
       "      <td>844</td>\n",
       "      <td>11</td>\n",
       "      <td>0.0</td>\n",
       "      <td>0.0</td>\n",
       "    </tr>\n",
       "    <tr>\n",
       "      <th>9</th>\n",
       "      <td>2018-11-09</td>\n",
       "      <td>3</td>\n",
       "      <td>None</td>\n",
       "      <td>10</td>\n",
       "      <td>11</td>\n",
       "      <td>False</td>\n",
       "      <td>{'meta': None, 'task': 10, 'user': 11, 'level'...</td>\n",
       "      <td>notifications.notification</td>\n",
       "      <td>927</td>\n",
       "      <td>11</td>\n",
       "      <td>0.0</td>\n",
       "      <td>0.0</td>\n",
       "    </tr>\n",
       "  </tbody>\n",
       "</table>\n",
       "</div>"
      ],
      "text/plain": [
       "  creation_date level  meta  task  user  viewed  \\\n",
       "0    2018-11-05     1  None     9    11   False   \n",
       "1    2018-11-06     1  None     9    11   False   \n",
       "2    2018-11-06     1  None    10    11   False   \n",
       "3    2018-11-06     1  None     7    11   False   \n",
       "4    2018-11-07     1  None    10    11   False   \n",
       "5    2018-11-07     1  None     8    11   False   \n",
       "6    2018-11-08     1  None    10    11   False   \n",
       "7    2018-11-08     1  None    11    11   False   \n",
       "8    2018-11-08     1  None     8    11   False   \n",
       "9    2018-11-09     3  None    10    11   False   \n",
       "\n",
       "                                              fields  \\\n",
       "0  {'meta': None, 'task': 9, 'user': 11, 'level':...   \n",
       "1  {'meta': None, 'task': 9, 'user': 11, 'level':...   \n",
       "2  {'meta': None, 'task': 10, 'user': 11, 'level'...   \n",
       "3  {'meta': None, 'task': 7, 'user': 11, 'level':...   \n",
       "4  {'meta': None, 'task': 10, 'user': 11, 'level'...   \n",
       "5  {'meta': None, 'task': 8, 'user': 11, 'level':...   \n",
       "6  {'meta': None, 'task': 10, 'user': 11, 'level'...   \n",
       "7  {'meta': None, 'task': 11, 'user': 11, 'level'...   \n",
       "8  {'meta': None, 'task': 8, 'user': 11, 'level':...   \n",
       "9  {'meta': None, 'task': 10, 'user': 11, 'level'...   \n",
       "\n",
       "                        model   pk  id_estudante   v1   v2  \n",
       "0  notifications.notification  105            11  0.0  0.0  \n",
       "1  notifications.notification  195            11  0.0  0.0  \n",
       "2  notifications.notification  261            11  0.0  0.0  \n",
       "3  notifications.notification  338            11  0.0  0.0  \n",
       "4  notifications.notification  463            11  0.0  0.0  \n",
       "5  notifications.notification  574            11  0.0  0.0  \n",
       "6  notifications.notification  682            11  0.0  0.0  \n",
       "7  notifications.notification  756            11  0.0  0.0  \n",
       "8  notifications.notification  844            11  0.0  0.0  \n",
       "9  notifications.notification  927            11  0.0  0.0  "
      ]
     },
     "execution_count": 35,
     "metadata": {},
     "output_type": "execute_result"
    }
   ],
   "source": [
    "notifications_with_user_grades_df.head(10)"
   ]
  },
  {
   "cell_type": "markdown",
   "metadata": {},
   "source": [
    "# Análise\n",
    "Primeiro eu vou explorar um pouco sobre a distribuição na quantiadde de notificações por usuário."
   ]
  },
  {
   "cell_type": "code",
   "execution_count": 36,
   "metadata": {},
   "outputs": [],
   "source": [
    "students_not_count_series = notifications_with_user_grades_df.groupby(\"user\").size()"
   ]
  },
  {
   "cell_type": "markdown",
   "metadata": {},
   "source": [
    "Com o grupo  de usuários que mais recebeu notificação e o grupo de usuários que menos recebeu notificações, eu vou tentar analisar qual a diferença disso e o rendimento comparado entre eles, irei colocar o 25% de cada. \n",
    "\n",
    "Existe um \"lixo\" nos dados que são os estudantes criados pelos adm, geralmente seu nomes são compostos por \"Estudante X\""
   ]
  },
  {
   "cell_type": "code",
   "execution_count": 37,
   "metadata": {},
   "outputs": [
    {
     "data": {
      "text/plain": [
       "<matplotlib.axes._subplots.AxesSubplot at 0x7f0af8a72710>"
      ]
     },
     "execution_count": 37,
     "metadata": {},
     "output_type": "execute_result"
    },
    {
     "data": {
      "image/png": "[encoded data removed]",
      "text/plain": [
       "<Figure size 432x288 with 1 Axes>"
      ]
     },
     "metadata": {
      "needs_background": "light"
     },
     "output_type": "display_data"
    }
   ],
   "source": [
    "students_not_count_series.sort_values(ascending=False).hist(bins=15)"
   ]
  },
  {
   "cell_type": "code",
   "execution_count": 38,
   "metadata": {},
   "outputs": [
    {
     "data": {
      "text/plain": [
       "0.10     38.00\n",
       "0.25     62.50\n",
       "0.50    104.00\n",
       "0.75    197.25\n",
       "0.90    321.10\n",
       "dtype: float64"
      ]
     },
     "execution_count": 38,
     "metadata": {},
     "output_type": "execute_result"
    }
   ],
   "source": [
    "students_not_count_series.quantile([.1,.25, .5, .75, .9])"
   ]
  },
  {
   "cell_type": "markdown",
   "metadata": {},
   "source": [
    "Como da pra ver a distância é bem grande entre o 1ª quartil (.25) e o menores 10% assim como a distância é ainda mais grotesca com entre o 3ª quartil e o top 10%, quase o dobro de notificações recebidas."
   ]
  },
  {
   "cell_type": "markdown",
   "metadata": {},
   "source": [
    "## distribuição por nível de pendência\n",
    "Os níveis de pendência variam entre 4 valores, sendo que o valor 1 e 2 representam o mesmo dado,\n",
    "1. O valor 1 e 2 representam tarefas que ainda estão no prazo\n",
    "2. O valor 3 representa tarefas que estão atrasadas\n",
    "3. O valor 4 representa tarefas que não podem mais ser completadas/perdidas"
   ]
  },
  {
   "cell_type": "code",
   "execution_count": 39,
   "metadata": {},
   "outputs": [
    {
     "data": {
      "text/html": [
       "<div>\n",
       "<style scoped>\n",
       "    .dataframe tbody tr th:only-of-type {\n",
       "        vertical-align: middle;\n",
       "    }\n",
       "\n",
       "    .dataframe tbody tr th {\n",
       "        vertical-align: top;\n",
       "    }\n",
       "\n",
       "    .dataframe thead th {\n",
       "        text-align: right;\n",
       "    }\n",
       "</style>\n",
       "<table border=\"1\" class=\"dataframe\">\n",
       "  <thead>\n",
       "    <tr style=\"text-align: right;\">\n",
       "      <th></th>\n",
       "      <th>v1</th>\n",
       "      <th>v2</th>\n",
       "    </tr>\n",
       "  </thead>\n",
       "  <tbody>\n",
       "    <tr>\n",
       "      <th>532</th>\n",
       "      <td>6.5</td>\n",
       "      <td>10.0</td>\n",
       "    </tr>\n",
       "  </tbody>\n",
       "</table>\n",
       "</div>"
      ],
      "text/plain": [
       "      v1    v2\n",
       "532  6.5  10.0"
      ]
     },
     "execution_count": 39,
     "metadata": {},
     "output_type": "execute_result"
    }
   ],
   "source": [
    "notifications_with_user_grades_df.loc[notifications_with_user_grades_df[\"user\"] == 14, [\"v1\", \"v2\"]].head(1)"
   ]
  },
  {
   "cell_type": "code",
   "execution_count": 40,
   "metadata": {},
   "outputs": [],
   "source": [
    "count_notification_level_by_user = notifications_with_user_grades_df.groupby([\"user\", \"level\"]).size()"
   ]
  },
  {
   "cell_type": "code",
   "execution_count": 41,
   "metadata": {},
   "outputs": [
    {
     "data": {
      "text/html": [
       "<div>\n",
       "<style scoped>\n",
       "    .dataframe tbody tr th:only-of-type {\n",
       "        vertical-align: middle;\n",
       "    }\n",
       "\n",
       "    .dataframe tbody tr th {\n",
       "        vertical-align: top;\n",
       "    }\n",
       "\n",
       "    .dataframe thead th {\n",
       "        text-align: right;\n",
       "    }\n",
       "</style>\n",
       "<table border=\"1\" class=\"dataframe\">\n",
       "  <thead>\n",
       "    <tr style=\"text-align: right;\">\n",
       "      <th>level</th>\n",
       "      <th>1</th>\n",
       "      <th>2</th>\n",
       "      <th>3</th>\n",
       "      <th>4</th>\n",
       "    </tr>\n",
       "    <tr>\n",
       "      <th>user</th>\n",
       "      <th></th>\n",
       "      <th></th>\n",
       "      <th></th>\n",
       "      <th></th>\n",
       "    </tr>\n",
       "  </thead>\n",
       "  <tbody>\n",
       "    <tr>\n",
       "      <th>11</th>\n",
       "      <td>71.0</td>\n",
       "      <td>NaN</td>\n",
       "      <td>179.0</td>\n",
       "      <td>95.0</td>\n",
       "    </tr>\n",
       "    <tr>\n",
       "      <th>12</th>\n",
       "      <td>45.0</td>\n",
       "      <td>NaN</td>\n",
       "      <td>2.0</td>\n",
       "      <td>NaN</td>\n",
       "    </tr>\n",
       "    <tr>\n",
       "      <th>13</th>\n",
       "      <td>58.0</td>\n",
       "      <td>NaN</td>\n",
       "      <td>39.0</td>\n",
       "      <td>43.0</td>\n",
       "    </tr>\n",
       "    <tr>\n",
       "      <th>14</th>\n",
       "      <td>23.0</td>\n",
       "      <td>NaN</td>\n",
       "      <td>7.0</td>\n",
       "      <td>43.0</td>\n",
       "    </tr>\n",
       "    <tr>\n",
       "      <th>15</th>\n",
       "      <td>64.0</td>\n",
       "      <td>NaN</td>\n",
       "      <td>76.0</td>\n",
       "      <td>43.0</td>\n",
       "    </tr>\n",
       "  </tbody>\n",
       "</table>\n",
       "</div>"
      ],
      "text/plain": [
       "level     1   2      3     4\n",
       "user                        \n",
       "11     71.0 NaN  179.0  95.0\n",
       "12     45.0 NaN    2.0   NaN\n",
       "13     58.0 NaN   39.0  43.0\n",
       "14     23.0 NaN    7.0  43.0\n",
       "15     64.0 NaN   76.0  43.0"
      ]
     },
     "execution_count": 41,
     "metadata": {},
     "output_type": "execute_result"
    }
   ],
   "source": [
    "count_notification_level_by_user.reset_index().pivot(index=\"user\", columns=\"level\", values=0).head(5)"
   ]
  },
  {
   "cell_type": "markdown",
   "metadata": {},
   "source": [
    "# Indexando as notificações por tempo, análise temporal"
   ]
  },
  {
   "cell_type": "code",
   "execution_count": 42,
   "metadata": {},
   "outputs": [
    {
     "data": {
      "text/plain": [
       "Index(['creation_date', 'level', 'meta', 'task', 'user', 'viewed', 'fields',\n",
       "       'model', 'pk', 'id_estudante', 'v1', 'v2'],\n",
       "      dtype='object')"
      ]
     },
     "execution_count": 42,
     "metadata": {},
     "output_type": "execute_result"
    }
   ],
   "source": [
    "notifications_with_user_grades_df.columns"
   ]
  },
  {
   "cell_type": "code",
   "execution_count": 43,
   "metadata": {},
   "outputs": [],
   "source": [
    "notifications_with_user_grades_df.index = notifications_with_user_grades_df[\"creation_date\"]"
   ]
  },
  {
   "cell_type": "code",
   "execution_count": 44,
   "metadata": {},
   "outputs": [
    {
     "data": {
      "text/plain": [
       "DatetimeIndex(['2018-11-05', '2018-11-06', '2018-11-06', '2018-11-06',\n",
       "               '2018-11-07', '2018-11-07', '2018-11-08', '2018-11-08',\n",
       "               '2018-11-08', '2018-11-09',\n",
       "               ...\n",
       "               '2019-01-04', '2019-01-13', '2019-01-14', '2019-01-16',\n",
       "               '2019-01-17', '2019-01-18', '2019-01-19', '2019-01-20',\n",
       "               '2019-01-21', '2019-01-22'],\n",
       "              dtype='datetime64[ns]', name='creation_date', length=11404, freq=None)"
      ]
     },
     "execution_count": 44,
     "metadata": {},
     "output_type": "execute_result"
    }
   ],
   "source": [
    "notifications_with_user_grades_df.index"
   ]
  },
  {
   "cell_type": "code",
   "execution_count": 45,
   "metadata": {},
   "outputs": [
    {
     "data": {
      "text/html": [
       "<div>\n",
       "<style scoped>\n",
       "    .dataframe tbody tr th:only-of-type {\n",
       "        vertical-align: middle;\n",
       "    }\n",
       "\n",
       "    .dataframe tbody tr th {\n",
       "        vertical-align: top;\n",
       "    }\n",
       "\n",
       "    .dataframe thead th {\n",
       "        text-align: right;\n",
       "    }\n",
       "</style>\n",
       "<table border=\"1\" class=\"dataframe\">\n",
       "  <thead>\n",
       "    <tr style=\"text-align: right;\">\n",
       "      <th></th>\n",
       "      <th>v1</th>\n",
       "      <th>v2</th>\n",
       "    </tr>\n",
       "    <tr>\n",
       "      <th>creation_date</th>\n",
       "      <th></th>\n",
       "      <th></th>\n",
       "    </tr>\n",
       "  </thead>\n",
       "  <tbody>\n",
       "    <tr>\n",
       "      <th>2018-11-30</th>\n",
       "      <td>4.025120</td>\n",
       "      <td>4.690423</td>\n",
       "    </tr>\n",
       "    <tr>\n",
       "      <th>2018-12-31</th>\n",
       "      <td>3.089561</td>\n",
       "      <td>3.603879</td>\n",
       "    </tr>\n",
       "    <tr>\n",
       "      <th>2019-01-31</th>\n",
       "      <td>4.214038</td>\n",
       "      <td>4.814518</td>\n",
       "    </tr>\n",
       "  </tbody>\n",
       "</table>\n",
       "</div>"
      ],
      "text/plain": [
       "                     v1        v2\n",
       "creation_date                    \n",
       "2018-11-30     4.025120  4.690423\n",
       "2018-12-31     3.089561  3.603879\n",
       "2019-01-31     4.214038  4.814518"
      ]
     },
     "execution_count": 45,
     "metadata": {},
     "output_type": "execute_result"
    }
   ],
   "source": [
    "notifications_with_user_grades_df.resample('M').agg({\"v1\": \"mean\", \"v2\": \"mean\"})"
   ]
  },
  {
   "cell_type": "markdown",
   "metadata": {},
   "source": [
    "Dado muito bom: a média de notificações visualizadas e quantidade de notificações visualizadas por semana de cada usuário"
   ]
  },
  {
   "cell_type": "code",
   "execution_count": 46,
   "metadata": {},
   "outputs": [
    {
     "data": {
      "text/html": [
       "<div>\n",
       "<style scoped>\n",
       "    .dataframe tbody tr th:only-of-type {\n",
       "        vertical-align: middle;\n",
       "    }\n",
       "\n",
       "    .dataframe tbody tr th {\n",
       "        vertical-align: top;\n",
       "    }\n",
       "\n",
       "    .dataframe thead tr th {\n",
       "        text-align: left;\n",
       "    }\n",
       "</style>\n",
       "<table border=\"1\" class=\"dataframe\">\n",
       "  <thead>\n",
       "    <tr>\n",
       "      <th></th>\n",
       "      <th>user</th>\n",
       "      <th>creation_date</th>\n",
       "      <th colspan=\"2\" halign=\"left\">viewed</th>\n",
       "    </tr>\n",
       "    <tr>\n",
       "      <th></th>\n",
       "      <th></th>\n",
       "      <th></th>\n",
       "      <th>mean</th>\n",
       "      <th>sum</th>\n",
       "    </tr>\n",
       "  </thead>\n",
       "  <tbody>\n",
       "    <tr>\n",
       "      <th>0</th>\n",
       "      <td>11</td>\n",
       "      <td>2018-11-11</td>\n",
       "      <td>0.0</td>\n",
       "      <td>0.0</td>\n",
       "    </tr>\n",
       "    <tr>\n",
       "      <th>1</th>\n",
       "      <td>11</td>\n",
       "      <td>2018-11-18</td>\n",
       "      <td>0.0</td>\n",
       "      <td>0.0</td>\n",
       "    </tr>\n",
       "  </tbody>\n",
       "</table>\n",
       "</div>"
      ],
      "text/plain": [
       "  user creation_date viewed     \n",
       "                       mean  sum\n",
       "0   11    2018-11-11    0.0  0.0\n",
       "1   11    2018-11-18    0.0  0.0"
      ]
     },
     "execution_count": 46,
     "metadata": {},
     "output_type": "execute_result"
    }
   ],
   "source": [
    "notifications_with_user_grades_df.groupby([\"user\", pd.Grouper(freq=\"W\")])\\\n",
    ".agg({\"viewed\": [\"mean\", \"sum\"]}).reset_index().head(2)"
   ]
  },
  {
   "cell_type": "code",
   "execution_count": 47,
   "metadata": {},
   "outputs": [
    {
     "data": {
      "text/html": [
       "<div>\n",
       "<style scoped>\n",
       "    .dataframe tbody tr th:only-of-type {\n",
       "        vertical-align: middle;\n",
       "    }\n",
       "\n",
       "    .dataframe tbody tr th {\n",
       "        vertical-align: top;\n",
       "    }\n",
       "\n",
       "    .dataframe thead tr th {\n",
       "        text-align: left;\n",
       "    }\n",
       "</style>\n",
       "<table border=\"1\" class=\"dataframe\">\n",
       "  <thead>\n",
       "    <tr>\n",
       "      <th></th>\n",
       "      <th>user</th>\n",
       "      <th>creation_date</th>\n",
       "      <th colspan=\"2\" halign=\"left\">viewed</th>\n",
       "    </tr>\n",
       "    <tr>\n",
       "      <th></th>\n",
       "      <th></th>\n",
       "      <th></th>\n",
       "      <th>mean</th>\n",
       "      <th>sum</th>\n",
       "    </tr>\n",
       "  </thead>\n",
       "  <tbody>\n",
       "    <tr>\n",
       "      <th>0</th>\n",
       "      <td>11</td>\n",
       "      <td>2018-11-30</td>\n",
       "      <td>0.058824</td>\n",
       "      <td>9.0</td>\n",
       "    </tr>\n",
       "    <tr>\n",
       "      <th>1</th>\n",
       "      <td>11</td>\n",
       "      <td>2018-12-31</td>\n",
       "      <td>0.073770</td>\n",
       "      <td>9.0</td>\n",
       "    </tr>\n",
       "  </tbody>\n",
       "</table>\n",
       "</div>"
      ],
      "text/plain": [
       "  user creation_date    viewed     \n",
       "                          mean  sum\n",
       "0   11    2018-11-30  0.058824  9.0\n",
       "1   11    2018-12-31  0.073770  9.0"
      ]
     },
     "execution_count": 47,
     "metadata": {},
     "output_type": "execute_result"
    }
   ],
   "source": [
    "notifications_with_user_grades_df.groupby([\"user\", pd.Grouper(freq=\"M\")])\\\n",
    ".agg({\"viewed\": [\"mean\", \"sum\"]}).reset_index().head(2)"
   ]
  },
  {
   "cell_type": "markdown",
   "metadata": {},
   "source": [
    "# Associar recurso à pendência"
   ]
  },
  {
   "cell_type": "code",
   "execution_count": 48,
   "metadata": {},
   "outputs": [
    {
     "data": {
      "text/plain": [
       "Index(['action', 'begin_date', 'end_date', 'limit_date', 'resource', 'fields',\n",
       "       'model', 'pk'],\n",
       "      dtype='object')"
      ]
     },
     "execution_count": 48,
     "metadata": {},
     "output_type": "execute_result"
    }
   ],
   "source": [
    "pendencies_df.columns"
   ]
  },
  {
   "cell_type": "code",
   "execution_count": 49,
   "metadata": {},
   "outputs": [
    {
     "data": {
      "text/plain": [
       "Index(['_my_subclass', 'all_students', 'brief_description', 'create_date',\n",
       "       'groups', 'last_update', 'name', 'order', 'show_window', 'slug',\n",
       "       'students', 'tags', 'topic', 'visible', 'model', 'pk'],\n",
       "      dtype='object')"
      ]
     },
     "execution_count": 49,
     "metadata": {},
     "output_type": "execute_result"
    }
   ],
   "source": [
    "resources_flatten_df.columns"
   ]
  },
  {
   "cell_type": "code",
   "execution_count": 50,
   "metadata": {},
   "outputs": [
    {
     "data": {
      "text/plain": [
       "Index(['creation_date', 'level', 'meta', 'task', 'user', 'viewed', 'fields',\n",
       "       'model', 'pk', 'id_estudante', 'v1', 'v2'],\n",
       "      dtype='object')"
      ]
     },
     "execution_count": 50,
     "metadata": {},
     "output_type": "execute_result"
    }
   ],
   "source": [
    "notifications_with_user_grades_df.columns"
   ]
  },
  {
   "cell_type": "code",
   "execution_count": 51,
   "metadata": {},
   "outputs": [],
   "source": [
    "pendencies_with_resources = pd.merge(pendencies_df, resources_flatten_df, left_on=[\"resource\"], right_on=[\"pk\"])"
   ]
  },
  {
   "cell_type": "code",
   "execution_count": 52,
   "metadata": {},
   "outputs": [
    {
     "data": {
      "text/plain": [
       "Index(['action', 'begin_date', 'end_date', 'limit_date', 'resource', 'fields',\n",
       "       'model_x', 'pk_x', '_my_subclass', 'all_students', 'brief_description',\n",
       "       'create_date', 'groups', 'last_update', 'name', 'order', 'show_window',\n",
       "       'slug', 'students', 'tags', 'topic', 'visible', 'model_y', 'pk_y'],\n",
       "      dtype='object')"
      ]
     },
     "execution_count": 52,
     "metadata": {},
     "output_type": "execute_result"
    }
   ],
   "source": [
    "pendencies_with_resources.columns"
   ]
  },
  {
   "cell_type": "code",
   "execution_count": 53,
   "metadata": {},
   "outputs": [],
   "source": [
    "notications_with_resources_pendencies = pd.merge(notifications_with_user_grades_df, pendencies_with_resources, left_on=[\"task\"], right_on=[\"pk_x\"])"
   ]
  },
  {
   "cell_type": "code",
   "execution_count": 54,
   "metadata": {},
   "outputs": [
    {
     "data": {
      "text/plain": [
       "(11404, 36)"
      ]
     },
     "execution_count": 54,
     "metadata": {},
     "output_type": "execute_result"
    }
   ],
   "source": [
    "notications_with_resources_pendencies.shape"
   ]
  },
  {
   "cell_type": "code",
   "execution_count": 55,
   "metadata": {},
   "outputs": [
    {
     "data": {
      "text/plain": [
       "creation_date        datetime64[ns]\n",
       "level                      category\n",
       "meta                         object\n",
       "task                         object\n",
       "user                          int64\n",
       "viewed                         bool\n",
       "fields_x                     object\n",
       "model                        object\n",
       "pk                           object\n",
       "id_estudante                  int64\n",
       "v1                          float64\n",
       "v2                          float64\n",
       "action                     category\n",
       "begin_date           datetime64[ns]\n",
       "end_date             datetime64[ns]\n",
       "limit_date           datetime64[ns]\n",
       "resource                     object\n",
       "fields_y                     object\n",
       "model_x                      object\n",
       "pk_x                         object\n",
       "_my_subclass                 object\n",
       "all_students                   bool\n",
       "brief_description            object\n",
       "create_date                  object\n",
       "groups                       object\n",
       "last_update                  object\n",
       "name                         object\n",
       "order                         int64\n",
       "show_window                    bool\n",
       "slug                         object\n",
       "students                     object\n",
       "tags                         object\n",
       "topic                         int64\n",
       "visible                        bool\n",
       "model_y                      object\n",
       "pk_y                         object\n",
       "dtype: object"
      ]
     },
     "execution_count": 55,
     "metadata": {},
     "output_type": "execute_result"
    }
   ],
   "source": [
    "notications_with_resources_pendencies.dtypes"
   ]
  },
  {
   "cell_type": "markdown",
   "metadata": {},
   "source": [
    "# Influência da notificação na V1"
   ]
  },
  {
   "cell_type": "markdown",
   "metadata": {},
   "source": [
    "Para isto, só vou coletar notificações com pendências onde a data limite foi antes da data da v1"
   ]
  },
  {
   "cell_type": "code",
   "execution_count": 56,
   "metadata": {},
   "outputs": [],
   "source": [
    "v1_notifications = notications_with_resources_pendencies[notications_with_resources_pendencies[\"end_date\"] <= date_v1]\\\n",
    ".drop(columns=[\"v2\"])\n",
    "v1_notifications.index = v1_notifications[\"creation_date\"]"
   ]
  },
  {
   "cell_type": "code",
   "execution_count": 57,
   "metadata": {},
   "outputs": [
    {
     "data": {
      "text/plain": [
       "(8408, 35)"
      ]
     },
     "execution_count": 57,
     "metadata": {},
     "output_type": "execute_result"
    }
   ],
   "source": [
    "v1_notifications.shape"
   ]
  },
  {
   "cell_type": "markdown",
   "metadata": {},
   "source": [
    "Segundo a informação abaixo, pelo menos 75% possuem no mínimo 30 notificaçoes de pendências, e 50% possuem 71 notificações de pendências ou mais"
   ]
  },
  {
   "cell_type": "code",
   "execution_count": 58,
   "metadata": {},
   "outputs": [
    {
     "data": {
      "text/plain": [
       "0.10     18.00\n",
       "0.25     30.25\n",
       "0.50     71.00\n",
       "0.75    139.25\n",
       "0.90    266.60\n",
       "dtype: float64"
      ]
     },
     "execution_count": 58,
     "metadata": {},
     "output_type": "execute_result"
    }
   ],
   "source": [
    "v1_notifications.groupby(\"user\").size().quantile([.1,.25, .5, .75, .9])"
   ]
  },
  {
   "cell_type": "code",
   "execution_count": 59,
   "metadata": {},
   "outputs": [
    {
     "data": {
      "text/html": [
       "<div>\n",
       "<style scoped>\n",
       "    .dataframe tbody tr th:only-of-type {\n",
       "        vertical-align: middle;\n",
       "    }\n",
       "\n",
       "    .dataframe tbody tr th {\n",
       "        vertical-align: top;\n",
       "    }\n",
       "\n",
       "    .dataframe thead tr th {\n",
       "        text-align: left;\n",
       "    }\n",
       "</style>\n",
       "<table border=\"1\" class=\"dataframe\">\n",
       "  <thead>\n",
       "    <tr>\n",
       "      <th></th>\n",
       "      <th>user</th>\n",
       "      <th>creation_date</th>\n",
       "      <th colspan=\"2\" halign=\"left\">viewed</th>\n",
       "    </tr>\n",
       "    <tr>\n",
       "      <th></th>\n",
       "      <th></th>\n",
       "      <th></th>\n",
       "      <th>mean</th>\n",
       "      <th>sum</th>\n",
       "    </tr>\n",
       "  </thead>\n",
       "  <tbody>\n",
       "    <tr>\n",
       "      <th>0</th>\n",
       "      <td>11</td>\n",
       "      <td>2018-11-30</td>\n",
       "      <td>0.058824</td>\n",
       "      <td>9.0</td>\n",
       "    </tr>\n",
       "    <tr>\n",
       "      <th>1</th>\n",
       "      <td>11</td>\n",
       "      <td>2018-12-31</td>\n",
       "      <td>0.076923</td>\n",
       "      <td>9.0</td>\n",
       "    </tr>\n",
       "  </tbody>\n",
       "</table>\n",
       "</div>"
      ],
      "text/plain": [
       "  user creation_date    viewed     \n",
       "                          mean  sum\n",
       "0   11    2018-11-30  0.058824  9.0\n",
       "1   11    2018-12-31  0.076923  9.0"
      ]
     },
     "execution_count": 59,
     "metadata": {},
     "output_type": "execute_result"
    }
   ],
   "source": [
    "v1_notifications.groupby([\"user\", pd.Grouper(freq=\"M\")])\\\n",
    ".agg({\"viewed\": [\"mean\", \"sum\"]}).reset_index().head(2)"
   ]
  },
  {
   "cell_type": "code",
   "execution_count": 60,
   "metadata": {},
   "outputs": [],
   "source": [
    "test_df = v1_notifications.groupby([\"user\", pd.Grouper(freq=\"W\")])\\\n",
    ".agg({\"viewed\": [\"mean\", \"sum\"]}).reset_index().head(10)"
   ]
  },
  {
   "cell_type": "code",
   "execution_count": 61,
   "metadata": {},
   "outputs": [],
   "source": [
    "v1_notifications_viewed_date = v1_notifications.groupby([\"user\", pd.Grouper(freq=\"W\")])\\\n",
    ".agg({\"viewed\": [\"mean\", \"sum\"]}).reset_index()"
   ]
  },
  {
   "cell_type": "code",
   "execution_count": 62,
   "metadata": {
    "scrolled": true
   },
   "outputs": [
    {
     "name": "stderr",
     "output_type": "stream",
     "text": [
      "/home/bormann/anaconda3/envs/amadeus-analysis/lib/python3.7/site-packages/ipykernel_launcher.py:2: SettingWithCopyWarning: \n",
      "A value is trying to be set on a copy of a slice from a DataFrame.\n",
      "Try using .loc[row_indexer,col_indexer] = value instead\n",
      "\n",
      "See the caveats in the documentation: http://pandas.pydata.org/pandas-docs/stable/indexing.html#indexing-view-versus-copy\n",
      "  \n"
     ]
    }
   ],
   "source": [
    "viewed_df = v1_notifications_viewed_date[[\"user\", \"creation_date\"]]\n",
    "viewed_df[\"mean\"] = v1_notifications_viewed_date[\"viewed\"][\"mean\"]\n",
    "viewed_df[\"count\"] = v1_notifications_viewed_date[\"viewed\"][\"sum\"]"
   ]
  },
  {
   "cell_type": "code",
   "execution_count": 63,
   "metadata": {},
   "outputs": [],
   "source": [
    "def set_weeks_apart(df, date, date_column, week_diff_column):\n",
    "    \"\"\"\n",
    "        Create a new column week_diff_column that contains the amount of weeks between the dates on the date_column\n",
    "        of a given df to a related date\n",
    "    \"\"\"\n",
    "    return df[date_column].apply(lambda dt: (dt - date).days//7)"
   ]
  },
  {
   "cell_type": "code",
   "execution_count": 64,
   "metadata": {},
   "outputs": [
    {
     "data": {
      "text/plain": [
       "0     -5\n",
       "1     -4\n",
       "2     -3\n",
       "3     -2\n",
       "4     -1\n",
       "5      0\n",
       "6      1\n",
       "7      3\n",
       "8      4\n",
       "9      5\n",
       "10     6\n",
       "11    -5\n",
       "12    -4\n",
       "13    -3\n",
       "14    -2\n",
       "15    -5\n",
       "16    -4\n",
       "17    -3\n",
       "18    -2\n",
       "19    -1\n",
       "20     0\n",
       "21     1\n",
       "22     3\n",
       "23     4\n",
       "24     5\n",
       "25     6\n",
       "26    -5\n",
       "27    -4\n",
       "28    -3\n",
       "29    -2\n",
       "      ..\n",
       "549   -5\n",
       "550   -4\n",
       "551   -3\n",
       "552   -2\n",
       "553   -1\n",
       "554    0\n",
       "555    1\n",
       "556    3\n",
       "557    4\n",
       "558    5\n",
       "559    6\n",
       "560   -5\n",
       "561   -4\n",
       "562   -3\n",
       "563   -2\n",
       "564   -1\n",
       "565    0\n",
       "566    1\n",
       "567    3\n",
       "568    4\n",
       "569    5\n",
       "570    6\n",
       "571   -5\n",
       "572   -4\n",
       "573   -5\n",
       "574   -4\n",
       "575   -3\n",
       "576   -2\n",
       "577   -5\n",
       "578   -4\n",
       "Name: creation_date, Length: 579, dtype: int64"
      ]
     },
     "execution_count": 64,
     "metadata": {},
     "output_type": "execute_result"
    }
   ],
   "source": [
    "set_weeks_apart(viewed_df, date_v1, \"creation_date\", \"test\")"
   ]
  },
  {
   "cell_type": "code",
   "execution_count": 65,
   "metadata": {},
   "outputs": [
    {
     "data": {
      "text/html": [
       "<div>\n",
       "<style scoped>\n",
       "    .dataframe tbody tr th:only-of-type {\n",
       "        vertical-align: middle;\n",
       "    }\n",
       "\n",
       "    .dataframe tbody tr th {\n",
       "        vertical-align: top;\n",
       "    }\n",
       "\n",
       "    .dataframe thead tr th {\n",
       "        text-align: left;\n",
       "    }\n",
       "</style>\n",
       "<table border=\"1\" class=\"dataframe\">\n",
       "  <thead>\n",
       "    <tr>\n",
       "      <th></th>\n",
       "      <th>user</th>\n",
       "      <th>creation_date</th>\n",
       "      <th>mean</th>\n",
       "      <th>count</th>\n",
       "    </tr>\n",
       "    <tr>\n",
       "      <th></th>\n",
       "      <th></th>\n",
       "      <th></th>\n",
       "      <th></th>\n",
       "      <th></th>\n",
       "    </tr>\n",
       "  </thead>\n",
       "  <tbody>\n",
       "    <tr>\n",
       "      <th>0</th>\n",
       "      <td>11</td>\n",
       "      <td>2018-11-11</td>\n",
       "      <td>0.000000</td>\n",
       "      <td>0.0</td>\n",
       "    </tr>\n",
       "    <tr>\n",
       "      <th>1</th>\n",
       "      <td>11</td>\n",
       "      <td>2018-11-18</td>\n",
       "      <td>0.000000</td>\n",
       "      <td>0.0</td>\n",
       "    </tr>\n",
       "    <tr>\n",
       "      <th>2</th>\n",
       "      <td>11</td>\n",
       "      <td>2018-11-25</td>\n",
       "      <td>0.147541</td>\n",
       "      <td>9.0</td>\n",
       "    </tr>\n",
       "    <tr>\n",
       "      <th>3</th>\n",
       "      <td>11</td>\n",
       "      <td>2018-12-02</td>\n",
       "      <td>0.000000</td>\n",
       "      <td>0.0</td>\n",
       "    </tr>\n",
       "    <tr>\n",
       "      <th>4</th>\n",
       "      <td>11</td>\n",
       "      <td>2018-12-09</td>\n",
       "      <td>0.157895</td>\n",
       "      <td>9.0</td>\n",
       "    </tr>\n",
       "    <tr>\n",
       "      <th>5</th>\n",
       "      <td>11</td>\n",
       "      <td>2018-12-16</td>\n",
       "      <td>0.000000</td>\n",
       "      <td>0.0</td>\n",
       "    </tr>\n",
       "    <tr>\n",
       "      <th>6</th>\n",
       "      <td>11</td>\n",
       "      <td>2018-12-23</td>\n",
       "      <td>0.000000</td>\n",
       "      <td>0.0</td>\n",
       "    </tr>\n",
       "    <tr>\n",
       "      <th>7</th>\n",
       "      <td>11</td>\n",
       "      <td>2019-01-06</td>\n",
       "      <td>0.000000</td>\n",
       "      <td>0.0</td>\n",
       "    </tr>\n",
       "    <tr>\n",
       "      <th>8</th>\n",
       "      <td>11</td>\n",
       "      <td>2019-01-13</td>\n",
       "      <td>0.000000</td>\n",
       "      <td>0.0</td>\n",
       "    </tr>\n",
       "    <tr>\n",
       "      <th>9</th>\n",
       "      <td>11</td>\n",
       "      <td>2019-01-20</td>\n",
       "      <td>0.000000</td>\n",
       "      <td>0.0</td>\n",
       "    </tr>\n",
       "  </tbody>\n",
       "</table>\n",
       "</div>"
      ],
      "text/plain": [
       "  user creation_date      mean count\n",
       "                                    \n",
       "0   11    2018-11-11  0.000000   0.0\n",
       "1   11    2018-11-18  0.000000   0.0\n",
       "2   11    2018-11-25  0.147541   9.0\n",
       "3   11    2018-12-02  0.000000   0.0\n",
       "4   11    2018-12-09  0.157895   9.0\n",
       "5   11    2018-12-16  0.000000   0.0\n",
       "6   11    2018-12-23  0.000000   0.0\n",
       "7   11    2019-01-06  0.000000   0.0\n",
       "8   11    2019-01-13  0.000000   0.0\n",
       "9   11    2019-01-20  0.000000   0.0"
      ]
     },
     "execution_count": 65,
     "metadata": {},
     "output_type": "execute_result"
    }
   ],
   "source": [
    "viewed_df.head(10)"
   ]
  },
  {
   "cell_type": "code",
   "execution_count": 66,
   "metadata": {},
   "outputs": [
    {
     "data": {
      "text/plain": [
       "0      0.000000\n",
       "1      0.000000\n",
       "2      0.147541\n",
       "3      0.000000\n",
       "4      0.157895\n",
       "5      0.000000\n",
       "6      0.000000\n",
       "7      0.000000\n",
       "8      0.000000\n",
       "9      0.000000\n",
       "10     0.000000\n",
       "11     0.625000\n",
       "12     0.714286\n",
       "13     0.142857\n",
       "14     0.200000\n",
       "15     0.444444\n",
       "16     0.562500\n",
       "17     0.083333\n",
       "18     0.545455\n",
       "19     0.142857\n",
       "20     0.000000\n",
       "21     0.000000\n",
       "22     0.000000\n",
       "23     0.000000\n",
       "24     0.000000\n",
       "25     0.500000\n",
       "26     0.333333\n",
       "27     0.666667\n",
       "28     0.600000\n",
       "29     0.142857\n",
       "         ...   \n",
       "549    0.000000\n",
       "550    0.000000\n",
       "551    0.230769\n",
       "552    0.000000\n",
       "553    0.000000\n",
       "554    0.000000\n",
       "555    0.000000\n",
       "556    0.000000\n",
       "557    0.000000\n",
       "558    0.000000\n",
       "559    0.000000\n",
       "560    0.285714\n",
       "561    0.666667\n",
       "562    0.571429\n",
       "563    0.285714\n",
       "564    0.428571\n",
       "565    0.000000\n",
       "566    1.000000\n",
       "567    0.000000\n",
       "568    0.000000\n",
       "569    0.428571\n",
       "570    0.000000\n",
       "571    0.100000\n",
       "572    0.625000\n",
       "573    0.357143\n",
       "574    0.687500\n",
       "575    0.043478\n",
       "576    0.266667\n",
       "577    0.875000\n",
       "578    0.333333\n",
       "Name: (viewed, mean), Length: 579, dtype: float64"
      ]
     },
     "execution_count": 66,
     "metadata": {},
     "output_type": "execute_result"
    }
   ],
   "source": [
    "v1_notifications_viewed_date[[\"user\", \"viewed\"]][\"viewed\", \"mean\"]"
   ]
  },
  {
   "cell_type": "code",
   "execution_count": 67,
   "metadata": {
    "scrolled": false
   },
   "outputs": [
    {
     "data": {
      "text/plain": [
       "MultiIndex(levels=[['viewed', 'creation_date', 'user'], ['mean', 'sum', '']],\n",
       "           codes=[[2, 1, 0, 0], [2, 2, 0, 1]])"
      ]
     },
     "execution_count": 67,
     "metadata": {},
     "output_type": "execute_result"
    }
   ],
   "source": [
    "v1_notifications_viewed_date.columns"
   ]
  },
  {
   "cell_type": "code",
   "execution_count": 68,
   "metadata": {},
   "outputs": [
    {
     "data": {
      "text/plain": [
       "Index(['', '', 'mean', 'sum'], dtype='object')"
      ]
     },
     "execution_count": 68,
     "metadata": {},
     "output_type": "execute_result"
    }
   ],
   "source": [
    "v1_notifications_viewed_date.columns.get_level_values(1)"
   ]
  },
  {
   "cell_type": "code",
   "execution_count": 69,
   "metadata": {},
   "outputs": [
    {
     "data": {
      "text/plain": [
       "Definição de metas da 1ª Etapa    1624\n",
       "Aula 09 (Resumo)                   901\n",
       "Aula 07 (Resumo)                   756\n",
       "Aula 08 (Resumo)                   655\n",
       "Simulado 02                        612\n",
       "Aula 03                            594\n",
       "Aula 06                            591\n",
       "Aula 02                            577\n",
       "Aula 05 (Resumo)                   517\n",
       "Aula 04 (Resumo)                   493\n",
       "Aula 01                            443\n",
       "Simulado 01                        350\n",
       "Avaliação Diagnóstica              295\n",
       "Name: name, dtype: int64"
      ]
     },
     "execution_count": 69,
     "metadata": {},
     "output_type": "execute_result"
    }
   ],
   "source": [
    "v1_notifications[\"name\"].value_counts()"
   ]
  },
  {
   "cell_type": "code",
   "execution_count": 70,
   "metadata": {},
   "outputs": [
    {
     "data": {
      "text/plain": [
       "(877, 35)"
      ]
     },
     "execution_count": 70,
     "metadata": {},
     "output_type": "execute_result"
    }
   ],
   "source": [
    "v1_notifications[v1_notifications[\"name\"].str.contains(\"Aula\") & v1_notifications[\"viewed\"]].shape"
   ]
  },
  {
   "cell_type": "code",
   "execution_count": 71,
   "metadata": {},
   "outputs": [
    {
     "data": {
      "text/plain": [
       "(962, 35)"
      ]
     },
     "execution_count": 71,
     "metadata": {},
     "output_type": "execute_result"
    }
   ],
   "source": [
    "v1_notifications[v1_notifications[\"name\"].str.contains(\"Simulado\")].shape"
   ]
  },
  {
   "cell_type": "code",
   "execution_count": 72,
   "metadata": {
    "scrolled": true
   },
   "outputs": [
    {
     "data": {
      "text/plain": [
       "3    4183\n",
       "1    2472\n",
       "4    1747\n",
       "2       6\n",
       "Name: level, dtype: int64"
      ]
     },
     "execution_count": 72,
     "metadata": {},
     "output_type": "execute_result"
    }
   ],
   "source": [
    "v1_notifications[\"level\"].value_counts()"
   ]
  },
  {
   "cell_type": "code",
   "execution_count": 97,
   "metadata": {},
   "outputs": [],
   "source": [
    "v1_notifications[\"simulado_delayed\"] = v1_notifications[\"name\"].str.contains(\"Simulado\") & (v1_notifications[\"level\"] == 3)\n",
    "v1_notifications[\"simulado_incompleted\"] = v1_notifications[\"name\"].str.contains(\"Simulado\") & (v1_notifications[\"level\"] == 4)\n",
    "v1_notifications[\"notes_delayed\"] = v1_notifications[\"name\"].str.contains(\"Aula\") & (v1_notifications[\"level\"] == 3)"
   ]
  },
  {
   "cell_type": "code",
   "execution_count": null,
   "metadata": {},
   "outputs": [],
   "source": [
    "v1_notifications.groupby(\"user\")"
   ]
  },
  {
   "cell_type": "code",
   "execution_count": 73,
   "metadata": {},
   "outputs": [
    {
     "data": {
      "text/plain": [
       "(63, 35)"
      ]
     },
     "execution_count": 73,
     "metadata": {},
     "output_type": "execute_result"
    }
   ],
   "source": [
    "v1_notifications[v1_notifications[\"name\"].str.contains(\"Simulado\") & (v1_notifications[\"level\"] == 3)].shape"
   ]
  },
  {
   "cell_type": "code",
   "execution_count": 74,
   "metadata": {},
   "outputs": [
    {
     "data": {
      "text/plain": [
       "(328, 35)"
      ]
     },
     "execution_count": 74,
     "metadata": {},
     "output_type": "execute_result"
    }
   ],
   "source": [
    "v1_notifications[v1_notifications[\"name\"].str.contains(\"Simulado\") & (v1_notifications[\"level\"] == 4)].shape"
   ]
  },
  {
   "cell_type": "code",
   "execution_count": 75,
   "metadata": {},
   "outputs": [
    {
     "data": {
      "text/plain": [
       "(568, 35)"
      ]
     },
     "execution_count": 75,
     "metadata": {},
     "output_type": "execute_result"
    }
   ],
   "source": [
    "v1_notifications[v1_notifications[\"name\"].str.contains(\"Simulado\") & (v1_notifications[\"level\"] == 1)].shape"
   ]
  },
  {
   "cell_type": "code",
   "execution_count": 76,
   "metadata": {
    "scrolled": true
   },
   "outputs": [
    {
     "data": {
      "text/plain": [
       "(3964, 35)"
      ]
     },
     "execution_count": 76,
     "metadata": {},
     "output_type": "execute_result"
    }
   ],
   "source": [
    "v1_notifications[v1_notifications[\"name\"].str.contains(\"Aula\") & (v1_notifications[\"level\"] == 3)].shape"
   ]
  },
  {
   "cell_type": "code",
   "execution_count": 96,
   "metadata": {
    "scrolled": true
   },
   "outputs": [
    {
     "data": {
      "text/plain": [
       "(1560, 37)"
      ]
     },
     "execution_count": 96,
     "metadata": {},
     "output_type": "execute_result"
    }
   ],
   "source": [
    "v1_notifications[v1_notifications[\"name\"].str.contains(\"Aula\") & (v1_notifications[\"level\"] == 1)].shape"
   ]
  },
  {
   "cell_type": "code",
   "execution_count": null,
   "metadata": {},
   "outputs": [],
   "source": []
  }
 ],
 "metadata": {
  "kernelspec": {
   "display_name": "Python 3",
   "language": "python",
   "name": "python3"
  },
  "language_info": {
   "codemirror_mode": {
    "name": "ipython",
    "version": 3
   },
   "file_extension": ".py",
   "mimetype": "text/x-python",
   "name": "python",
   "nbconvert_exporter": "python",
   "pygments_lexer": "ipython3",
   "version": "3.7.1"
  }
 },
 "nbformat": 4,
 "nbformat_minor": 2
}
